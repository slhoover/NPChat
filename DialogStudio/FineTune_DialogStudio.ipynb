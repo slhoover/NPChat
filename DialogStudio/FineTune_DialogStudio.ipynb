{
 "cells": [
  {
   "cell_type": "code",
   "execution_count": 1,
   "metadata": {
    "colab": {
     "base_uri": "https://localhost:8080/"
    },
    "id": "hnhQOYJ2ZN_v",
    "outputId": "b58c1617-34bd-4621-89ef-c0aaa25b5bcc"
   },
   "outputs": [
    {
     "name": "stdout",
     "output_type": "stream",
     "text": [
      "Requirement already satisfied: accelerate in /opt/conda/envs/pytorch/lib/python3.10/site-packages (0.24.1)\n",
      "Requirement already satisfied: numpy>=1.17 in /opt/conda/envs/pytorch/lib/python3.10/site-packages (from accelerate) (1.25.2)\n",
      "Requirement already satisfied: packaging>=20.0 in /opt/conda/envs/pytorch/lib/python3.10/site-packages (from accelerate) (21.3)\n",
      "Requirement already satisfied: psutil in /opt/conda/envs/pytorch/lib/python3.10/site-packages (from accelerate) (5.9.5)\n",
      "Requirement already satisfied: pyyaml in /opt/conda/envs/pytorch/lib/python3.10/site-packages (from accelerate) (6.0.1)\n",
      "Requirement already satisfied: torch>=1.10.0 in /opt/conda/envs/pytorch/lib/python3.10/site-packages (from accelerate) (2.0.1)\n",
      "Requirement already satisfied: huggingface-hub in /opt/conda/envs/pytorch/lib/python3.10/site-packages (from accelerate) (0.17.3)\n",
      "Requirement already satisfied: pyparsing!=3.0.5,>=2.0.2 in /opt/conda/envs/pytorch/lib/python3.10/site-packages (from packaging>=20.0->accelerate) (3.1.1)\n",
      "Requirement already satisfied: filelock in /opt/conda/envs/pytorch/lib/python3.10/site-packages (from torch>=1.10.0->accelerate) (3.12.4)\n",
      "Requirement already satisfied: typing-extensions in /opt/conda/envs/pytorch/lib/python3.10/site-packages (from torch>=1.10.0->accelerate) (4.8.0)\n",
      "Requirement already satisfied: sympy in /opt/conda/envs/pytorch/lib/python3.10/site-packages (from torch>=1.10.0->accelerate) (1.12)\n",
      "Requirement already satisfied: networkx in /opt/conda/envs/pytorch/lib/python3.10/site-packages (from torch>=1.10.0->accelerate) (3.1)\n",
      "Requirement already satisfied: jinja2 in /opt/conda/envs/pytorch/lib/python3.10/site-packages (from torch>=1.10.0->accelerate) (3.1.2)\n",
      "Requirement already satisfied: fsspec in /opt/conda/envs/pytorch/lib/python3.10/site-packages (from huggingface-hub->accelerate) (2023.9.2)\n",
      "Requirement already satisfied: requests in /opt/conda/envs/pytorch/lib/python3.10/site-packages (from huggingface-hub->accelerate) (2.31.0)\n",
      "Requirement already satisfied: tqdm>=4.42.1 in /opt/conda/envs/pytorch/lib/python3.10/site-packages (from huggingface-hub->accelerate) (4.66.1)\n",
      "Requirement already satisfied: MarkupSafe>=2.0 in /opt/conda/envs/pytorch/lib/python3.10/site-packages (from jinja2->torch>=1.10.0->accelerate) (2.1.3)\n",
      "Requirement already satisfied: charset-normalizer<4,>=2 in /opt/conda/envs/pytorch/lib/python3.10/site-packages (from requests->huggingface-hub->accelerate) (3.2.0)\n",
      "Requirement already satisfied: idna<4,>=2.5 in /opt/conda/envs/pytorch/lib/python3.10/site-packages (from requests->huggingface-hub->accelerate) (3.4)\n",
      "Requirement already satisfied: urllib3<3,>=1.21.1 in /opt/conda/envs/pytorch/lib/python3.10/site-packages (from requests->huggingface-hub->accelerate) (1.26.16)\n",
      "Requirement already satisfied: certifi>=2017.4.17 in /opt/conda/envs/pytorch/lib/python3.10/site-packages (from requests->huggingface-hub->accelerate) (2023.7.22)\n",
      "Requirement already satisfied: mpmath>=0.19 in /opt/conda/envs/pytorch/lib/python3.10/site-packages (from sympy->torch>=1.10.0->accelerate) (1.3.0)\n",
      "Requirement already satisfied: transformers in /opt/conda/envs/pytorch/lib/python3.10/site-packages (4.34.1)\n",
      "Requirement already satisfied: filelock in /opt/conda/envs/pytorch/lib/python3.10/site-packages (from transformers) (3.12.4)\n",
      "Requirement already satisfied: huggingface-hub<1.0,>=0.16.4 in /opt/conda/envs/pytorch/lib/python3.10/site-packages (from transformers) (0.17.3)\n",
      "Requirement already satisfied: numpy>=1.17 in /opt/conda/envs/pytorch/lib/python3.10/site-packages (from transformers) (1.25.2)\n",
      "Requirement already satisfied: packaging>=20.0 in /opt/conda/envs/pytorch/lib/python3.10/site-packages (from transformers) (21.3)\n",
      "Requirement already satisfied: pyyaml>=5.1 in /opt/conda/envs/pytorch/lib/python3.10/site-packages (from transformers) (6.0.1)\n",
      "Requirement already satisfied: regex!=2019.12.17 in /opt/conda/envs/pytorch/lib/python3.10/site-packages (from transformers) (2023.10.3)\n",
      "Requirement already satisfied: requests in /opt/conda/envs/pytorch/lib/python3.10/site-packages (from transformers) (2.31.0)\n",
      "Requirement already satisfied: tokenizers<0.15,>=0.14 in /opt/conda/envs/pytorch/lib/python3.10/site-packages (from transformers) (0.14.1)\n",
      "Requirement already satisfied: safetensors>=0.3.1 in /opt/conda/envs/pytorch/lib/python3.10/site-packages (from transformers) (0.4.0)\n",
      "Requirement already satisfied: tqdm>=4.27 in /opt/conda/envs/pytorch/lib/python3.10/site-packages (from transformers) (4.66.1)\n",
      "Requirement already satisfied: fsspec in /opt/conda/envs/pytorch/lib/python3.10/site-packages (from huggingface-hub<1.0,>=0.16.4->transformers) (2023.9.2)\n",
      "Requirement already satisfied: typing-extensions>=3.7.4.3 in /opt/conda/envs/pytorch/lib/python3.10/site-packages (from huggingface-hub<1.0,>=0.16.4->transformers) (4.8.0)\n",
      "Requirement already satisfied: pyparsing!=3.0.5,>=2.0.2 in /opt/conda/envs/pytorch/lib/python3.10/site-packages (from packaging>=20.0->transformers) (3.1.1)\n",
      "Requirement already satisfied: charset-normalizer<4,>=2 in /opt/conda/envs/pytorch/lib/python3.10/site-packages (from requests->transformers) (3.2.0)\n",
      "Requirement already satisfied: idna<4,>=2.5 in /opt/conda/envs/pytorch/lib/python3.10/site-packages (from requests->transformers) (3.4)\n",
      "Requirement already satisfied: urllib3<3,>=1.21.1 in /opt/conda/envs/pytorch/lib/python3.10/site-packages (from requests->transformers) (1.26.16)\n",
      "Requirement already satisfied: certifi>=2017.4.17 in /opt/conda/envs/pytorch/lib/python3.10/site-packages (from requests->transformers) (2023.7.22)\n"
     ]
    }
   ],
   "source": [
    "! pip install -U accelerate\n",
    "! pip install -U transformers"
   ]
  },
  {
   "cell_type": "code",
   "execution_count": 2,
   "metadata": {
    "colab": {
     "base_uri": "https://localhost:8080/"
    },
    "id": "Woj3qBt1Zcdk",
    "outputId": "5e63072c-8ae1-4dfe-a02b-f5ba43b509bd"
   },
   "outputs": [
    {
     "name": "stdout",
     "output_type": "stream",
     "text": [
      "Requirement already satisfied: evaluate in /opt/conda/envs/pytorch/lib/python3.10/site-packages (0.4.1)\n",
      "Requirement already satisfied: datasets>=2.0.0 in /opt/conda/envs/pytorch/lib/python3.10/site-packages (from evaluate) (2.14.6)\n",
      "Requirement already satisfied: numpy>=1.17 in /opt/conda/envs/pytorch/lib/python3.10/site-packages (from evaluate) (1.25.2)\n",
      "Requirement already satisfied: dill in /opt/conda/envs/pytorch/lib/python3.10/site-packages (from evaluate) (0.3.7)\n",
      "Requirement already satisfied: pandas in /opt/conda/envs/pytorch/lib/python3.10/site-packages (from evaluate) (2.1.1)\n",
      "Requirement already satisfied: requests>=2.19.0 in /opt/conda/envs/pytorch/lib/python3.10/site-packages (from evaluate) (2.31.0)\n",
      "Requirement already satisfied: tqdm>=4.62.1 in /opt/conda/envs/pytorch/lib/python3.10/site-packages (from evaluate) (4.66.1)\n",
      "Requirement already satisfied: xxhash in /opt/conda/envs/pytorch/lib/python3.10/site-packages (from evaluate) (3.4.1)\n",
      "Requirement already satisfied: multiprocess in /opt/conda/envs/pytorch/lib/python3.10/site-packages (from evaluate) (0.70.15)\n",
      "Requirement already satisfied: fsspec[http]>=2021.05.0 in /opt/conda/envs/pytorch/lib/python3.10/site-packages (from evaluate) (2023.9.2)\n",
      "Requirement already satisfied: huggingface-hub>=0.7.0 in /opt/conda/envs/pytorch/lib/python3.10/site-packages (from evaluate) (0.17.3)\n",
      "Requirement already satisfied: packaging in /opt/conda/envs/pytorch/lib/python3.10/site-packages (from evaluate) (21.3)\n",
      "Requirement already satisfied: responses<0.19 in /opt/conda/envs/pytorch/lib/python3.10/site-packages (from evaluate) (0.18.0)\n",
      "Requirement already satisfied: pyarrow>=8.0.0 in /opt/conda/envs/pytorch/lib/python3.10/site-packages (from datasets>=2.0.0->evaluate) (13.0.0)\n",
      "Requirement already satisfied: aiohttp in /opt/conda/envs/pytorch/lib/python3.10/site-packages (from datasets>=2.0.0->evaluate) (3.8.6)\n",
      "Requirement already satisfied: pyyaml>=5.1 in /opt/conda/envs/pytorch/lib/python3.10/site-packages (from datasets>=2.0.0->evaluate) (6.0.1)\n",
      "Requirement already satisfied: filelock in /opt/conda/envs/pytorch/lib/python3.10/site-packages (from huggingface-hub>=0.7.0->evaluate) (3.12.4)\n",
      "Requirement already satisfied: typing-extensions>=3.7.4.3 in /opt/conda/envs/pytorch/lib/python3.10/site-packages (from huggingface-hub>=0.7.0->evaluate) (4.8.0)\n",
      "Requirement already satisfied: pyparsing!=3.0.5,>=2.0.2 in /opt/conda/envs/pytorch/lib/python3.10/site-packages (from packaging->evaluate) (3.1.1)\n",
      "Requirement already satisfied: charset-normalizer<4,>=2 in /opt/conda/envs/pytorch/lib/python3.10/site-packages (from requests>=2.19.0->evaluate) (3.2.0)\n",
      "Requirement already satisfied: idna<4,>=2.5 in /opt/conda/envs/pytorch/lib/python3.10/site-packages (from requests>=2.19.0->evaluate) (3.4)\n",
      "Requirement already satisfied: urllib3<3,>=1.21.1 in /opt/conda/envs/pytorch/lib/python3.10/site-packages (from requests>=2.19.0->evaluate) (1.26.16)\n",
      "Requirement already satisfied: certifi>=2017.4.17 in /opt/conda/envs/pytorch/lib/python3.10/site-packages (from requests>=2.19.0->evaluate) (2023.7.22)\n",
      "Requirement already satisfied: python-dateutil>=2.8.2 in /opt/conda/envs/pytorch/lib/python3.10/site-packages (from pandas->evaluate) (2.8.2)\n",
      "Requirement already satisfied: pytz>=2020.1 in /opt/conda/envs/pytorch/lib/python3.10/site-packages (from pandas->evaluate) (2023.3.post1)\n",
      "Requirement already satisfied: tzdata>=2022.1 in /opt/conda/envs/pytorch/lib/python3.10/site-packages (from pandas->evaluate) (2023.3)\n",
      "Requirement already satisfied: attrs>=17.3.0 in /opt/conda/envs/pytorch/lib/python3.10/site-packages (from aiohttp->datasets>=2.0.0->evaluate) (23.1.0)\n",
      "Requirement already satisfied: multidict<7.0,>=4.5 in /opt/conda/envs/pytorch/lib/python3.10/site-packages (from aiohttp->datasets>=2.0.0->evaluate) (6.0.4)\n",
      "Requirement already satisfied: async-timeout<5.0,>=4.0.0a3 in /opt/conda/envs/pytorch/lib/python3.10/site-packages (from aiohttp->datasets>=2.0.0->evaluate) (4.0.3)\n",
      "Requirement already satisfied: yarl<2.0,>=1.0 in /opt/conda/envs/pytorch/lib/python3.10/site-packages (from aiohttp->datasets>=2.0.0->evaluate) (1.9.2)\n",
      "Requirement already satisfied: frozenlist>=1.1.1 in /opt/conda/envs/pytorch/lib/python3.10/site-packages (from aiohttp->datasets>=2.0.0->evaluate) (1.4.0)\n",
      "Requirement already satisfied: aiosignal>=1.1.2 in /opt/conda/envs/pytorch/lib/python3.10/site-packages (from aiohttp->datasets>=2.0.0->evaluate) (1.3.1)\n",
      "Requirement already satisfied: six>=1.5 in /opt/conda/envs/pytorch/lib/python3.10/site-packages (from python-dateutil>=2.8.2->pandas->evaluate) (1.16.0)\n"
     ]
    }
   ],
   "source": [
    "!pip install evaluate"
   ]
  },
  {
   "cell_type": "code",
   "execution_count": 3,
   "metadata": {
    "id": "yp1FSrJ9Z2L4"
   },
   "outputs": [],
   "source": [
    "import torch\n",
    "import json\n",
    "from tqdm import tqdm\n",
    "import torch.nn as nn\n",
    "from torch.optim import Adam\n",
    "import nltk\n",
    "import spacy\n",
    "import string\n",
    "import evaluate  # Bleu\n",
    "from torch.utils.data import Dataset, DataLoader, RandomSampler\n",
    "import pandas as pd\n",
    "import numpy as np\n",
    "import transformers\n",
    "from sklearn.model_selection import train_test_split\n",
    "import matplotlib.pyplot as plt\n",
    "from transformers import T5Tokenizer, T5Model, T5ForConditionalGeneration, T5TokenizerFast\n",
    "\n",
    "import warnings\n",
    "warnings.filterwarnings(\"ignore\")"
   ]
  },
  {
   "cell_type": "code",
   "execution_count": 4,
   "metadata": {
    "id": "LR3GF13iZ6-D"
   },
   "outputs": [],
   "source": [
    "DEVICE = \"cuda:0\""
   ]
  },
  {
   "cell_type": "code",
   "execution_count": 5,
   "metadata": {
    "colab": {
     "base_uri": "https://localhost:8080/",
     "height": 290,
     "referenced_widgets": [
      "efef45425f8241f39c68a3db9a4cb9a4",
      "1b8339e81668476f8ae92add476eb0cc",
      "2b199872fad44e27b349b9936c91a1b9",
      "6a504b73c2484dd3a4c5cd44fccfbc79",
      "c5dfc4f33a9340a094843e88f60faa69",
      "d36ed9086fa5440b8d20197a91808043",
      "3257c57604dc48b2bf2a044e68a143ab",
      "58f6d174857f4824b3e16fb56d3e41f1",
      "a750598bb6864fb481a08018c411f6d1",
      "cfeeaafe40df48c9af01a27aebcbcf6a",
      "e3c9bd4f17f3418d8f47cc3f0412bad1",
      "95edc8bbbac44d7a8b174cda2002bec5",
      "e5848efa411b4833855a4edbdc2ea0cd",
      "43ac54e9540147e8ab371792c60d0fa9",
      "659156721c794a5bbc5d447cf75c0425",
      "f688fee526634e5a8f3feb986284b387",
      "406af557de9c45d982e3b0dc545f860a",
      "7aa7054a209d4057abab6e9ba39fd441",
      "a6188ae077884dd89fc34e131ffd9244",
      "b808f60f0aa24482a53889a4663d509a",
      "4aab16b273974232aa674d522b77e817",
      "4f6be19cea3d448ba52b54d1b70e6e31",
      "8bf34382a31e4ded935deae1389f35c6",
      "ed14c311d9f845329e8544633a35667e",
      "96f76c42eed64caa9461299293183a70",
      "d60dc630bc934c59946604028fab07db",
      "a3077cb4f53a4ae49dbd682109bebddb",
      "d6ad660d06bd4036adc6727b497107f9",
      "8a1dd77358594cd2bb54daee4ca69c53",
      "6455ca6d461d4e66839b6539246108ff",
      "61431c23d7b942da9004b74f78f9d4fe",
      "ce36c0cd24d74b52afc1c461881f6856",
      "283ac4bfb9644c50853173e5fe021773",
      "8c4b2cdf56f145caa090eeb780d8984d",
      "8369c04fce2e4a1e8f7a704d7b46f83b",
      "ae6f86c35afa45cab4cb2acecc0995da",
      "33c93f5a50c049969eaa2d83cf330453",
      "fa5703c615e74447a545c4e99974e86e",
      "1c9dbc37addf4078975f157507ca1fba",
      "b9d8eef8bed740068e2d00bc26095048",
      "57ca840acbfa42049bdd6fbbc8d52755",
      "cc63ad3540d949feb63ea1a7c1490816",
      "53c54721b1ff46c98330a8a5ce257a73",
      "50a892bd8b1a43d3ae1ab53302142e20",
      "80d56e3f7400471785a06b562721668f",
      "80ef672351324237ad6ba9fa38543b51",
      "b210f6994c484801b19a7ecceb6a20c8",
      "1cd1f13eb5804d07ac6b15c85c3569bb",
      "490223f6e75e41de936be695fdd3ac47",
      "fc42f8fb88de472aae7dce509c3608d6",
      "641b46dff6dc4b53b94db90023817c96",
      "594aa0ff107c4cbea850b046362df62b",
      "93c7ca5af7034e49a15d4ce2ecdb366c",
      "b10b7ab2c60b4ac389d40dd001ff0463",
      "0db520f2677749e2875bf7a6965e3785",
      "2ee39d8a7b0547b2aec28338f965c33c",
      "abca497869374c559309c3a18ac857e5",
      "3034cefbce3247ddb7a8e7c7c2929eab",
      "b4bd889101ec464795180c192cc05183",
      "e6fdb7e08d194a83a3d71bd421b45a5f",
      "fbc115982c0943a1924b98a13f51f340",
      "ffda1fb6bdaa4aff97b6188cd5d23e5d",
      "99d2dfeca5414409b210e7433baca529",
      "b2a6e6064e3b42ccb9e1548bb60c4af3",
      "a6534313cb6647b1b743e9204deb43dd",
      "78704bca2f094dc2a4af6afe7184c3bd",
      "5b489f24b8bd4156b7d3dede7a3c8f8b",
      "ce5ae24c01794afa85b3d4895063a7be",
      "2b6eb614650847bc89a1e1b866065864",
      "8b3b5733fc2145e7b20e69c2555ba760",
      "4b41540685db41c78e0319b8771b0d99",
      "b7194e787ad54906aa499a02ee0fe9ef",
      "895842fb0b5a47eb8dee2f6a805f97c6",
      "9dc3fc232f684e449991e162a971d288",
      "3240325935c74d69bc5b0184faec0f04",
      "440e10e105cd425c8a079d05191126ca",
      "7e4347862aab4cdfafc9a045a01522c0",
      "8a017a50eff2470986a7b2bfb950065a",
      "2e6f9bea248040239b4aecf0155f3b20",
      "6148e6f61e1944809ba740eea0d64899",
      "5d09fedbd58d43f7b521fa2aa93987c0",
      "39db8c459c8c4dc389ab6f5834fe5bb5",
      "145f24f64a544484ab326381e7f105c6",
      "7d79a9a1c93d4a549211ca41d4d7dc6b",
      "953a60bf71a34cc6ab853977fd578834",
      "f5a0fa4e05004f1c90ddadeefa4c0919",
      "2e6903d1bef045dea5e8d7eb28eb7e28",
      "1d506b75563a40d7bcc9e38a5b040cd6"
     ]
    },
    "id": "Wji5sZJCavv9",
    "outputId": "71f279d8-32b3-4721-d6ef-11c8472ea75c"
   },
   "outputs": [
    {
     "name": "stdout",
     "output_type": "stream",
     "text": [
      "It is not possible to write 200 words in a tweet. Therefore, the final answer is no.\n"
     ]
    }
   ],
   "source": [
    "from transformers import AutoTokenizer, AutoModelForSeq2SeqLM\n",
    "\n",
    "tokenizer = AutoTokenizer.from_pretrained(\"Salesforce/dialogstudio-t5-base-v1.0\")\n",
    "model = AutoModelForSeq2SeqLM.from_pretrained(\"Salesforce/dialogstudio-t5-base-v1.0\")\n",
    "\n",
    "input_text = \"Answer the following yes/no question by reasoning step-by-step. Can you write 200 words in a single tweet?\"\n",
    "input_ids = tokenizer(input_text, return_tensors=\"pt\").input_ids\n",
    "\n",
    "outputs = model.generate(input_ids, max_new_tokens=256)\n",
    "print(tokenizer.decode(outputs[0], skip_special_tokens=True))"
   ]
  },
  {
   "cell_type": "code",
   "execution_count": 6,
   "metadata": {
    "id": "GsOf4068aqHE"
   },
   "outputs": [],
   "source": [
    "OPTIMIZER = Adam(model.parameters(), lr=0.00001)\n",
    "Q_LEN = 256   # Question Length\n",
    "T_LEN = 32    # Target Length\n",
    "BATCH_SIZE = 4"
   ]
  },
  {
   "cell_type": "code",
   "execution_count": 7,
   "metadata": {
    "colab": {
     "base_uri": "https://localhost:8080/",
     "height": 241,
     "referenced_widgets": [
      "b8ab6f5b116c4494b40c41ad8730a6e9",
      "917846a88d32494e8de2be2469649615",
      "388a113a27204108be7f581b5e6e0398",
      "112a2ea418644fdeb82e432cd50bfef2",
      "2dd65fbcd5564839bf14ab5d30585188",
      "aff76ab884e949fe9a3b1f9653897b43",
      "ea55653ec8864e6c8f218e68d90a4df6",
      "29e0b298294448408423c9943ff8983b",
      "7f2ad0f8647f4a17be718bd9b30291c1",
      "52abacaa40f1414c90fb566cd6bb7c38",
      "0e698f259fb54888be3635bd9fc29ed6",
      "50852fbff5d3425a848e1ff795f6dc6d",
      "88bd54e0759141c69b7abc8e22380a00",
      "a26eae761f2740b18ac01b8940c03158",
      "a5352ebb6d92498a942edd871bc89fcf",
      "ed978ff06e894721a14ceb789675c6f0",
      "bbcbd8187ae14de5a7166008b9a049c1",
      "3e13d9b36e0244c3aada616a1d7d4cd5",
      "3837cb52768e40e18110504628b85d7c",
      "bbfe563d903742cfbbe4610802726d31",
      "f484bd240c2140eaae7af9ba090e1d2d",
      "712d2fee6b9840c2aaeff315e376b03e",
      "bf63a5e5923444ebb5c08ce7c78c1ba3",
      "c4e242921b294e1d91823e904f384cab",
      "3ac039758c7346debbf0a87d5bcbc8aa",
      "bad13f03cb6e4ae59e81bbaba1022022",
      "b12bf2d5fcce42509d4168c2b5e012a4",
      "1153e1c551fa4adc9547902357832cb6",
      "c2f92c58de944321a2774251848d8fbc",
      "97680d33688c4bcc8829d02fce7de9e4",
      "2f5af1c41f8f431da7194e8e02ac0f1a",
      "8466d9be51304647a7f40b54e36d077d",
      "e1e0856c6d0142ad9a0895e6ff6b4f39",
      "0930fc1a776c4fc0bda024fe15f82cfe",
      "de9a482c2e544590b685b39259267d0d",
      "641048a7c9e64c65b8d71bda353199b6",
      "c6c3071b4af64ffdad6284729e75f9d5",
      "f7f2c42a055b43aeb8aea78ca7d03417",
      "38d16501f40141fa8ce3a8b794313c44",
      "cc888f4d12714695a1b880eeb59bad63",
      "82732efe91ed4db9b45d9be8d321adb9",
      "cabb11bc14604d308021214c2715cecd",
      "585af7f9e38d497197a371d0ebb9840a",
      "14d8c54878d0481fbc956c003218a36b",
      "2cdaec2980074527b5a068de1070e455",
      "d6a9c258d6fc4efeafd6dd86b40cb6cb",
      "581c674d6a594261b10a28e1409442b7",
      "43d0bca6e1984533be86e8a3cf0ad22e",
      "9863a1dcda5f43d69125b76ce80d6ce9",
      "085c8c0ee3374c9995ffd7d2fd4dbe6b",
      "1af2989c54704fbf9f7fc0f2bbfa8fbd",
      "11dc804922a64e7aa5a0549c2988a231",
      "b17a098269bf4becbed5c64b467a6b3f",
      "00073899677d4a25865fa07f0bcd4509",
      "3f9fddd038f84f9e9b02ced4f1f6dd92",
      "1be8f4726a4d4b96ad1214250801f007",
      "db2a88ef2dee4f13ab91f207d60b9566",
      "10a9d1055c8f43c0aa58d19671013290",
      "8520b656c8084744bf01ef4a6582961b",
      "674bcd5d674e438489a44cea7a3fb517",
      "27172230bd324928a0eefb0f5dc730c7",
      "56f2a57d0eea4491980b281a55e5d04e",
      "eb78d926a86c4a0781d596e8e8115de5",
      "346117ec988743289fa6f1a7d009f87b",
      "dbff0b490cd94510baecb5a3a603d072",
      "682662d4c830421db331a32d5e929841",
      "a9683e675e9b47599a68065aa9da3e50",
      "5e8fff729296479c8ffea7ea67c9875b",
      "268e257aba9a405da9017970e7d4026d",
      "822b42ffb70f45668e2e043a4911dcec",
      "9866eb15aab14f9c952794dbf819e01f",
      "4c90f28ef8484d5aa6ba1ef96e25265d",
      "9292febefa154b6598d4710639c9a05d",
      "95ff9fda0ec44d18a2fbc4cade898bda",
      "a4b1eb31e71544968702af008ff57e92",
      "20fb1bc55bc147c3a2c64505a7c076f9",
      "7acbd56b38134b109d899d440bae747c"
     ]
    },
    "id": "WL3bWsKEayae",
    "outputId": "f0f5c69c-0c39-4850-871f-dd4a35629d08"
   },
   "outputs": [],
   "source": [
    "from datasets import load_dataset\n",
    "dataset = load_dataset(\"amaydle/npc-dialogue\")"
   ]
  },
  {
   "cell_type": "code",
   "execution_count": 8,
   "metadata": {
    "id": "xOuU4sfIa1QP"
   },
   "outputs": [],
   "source": [
    "def prepare_data(data):\n",
    "    articles = []\n",
    "    for i in range(len(dataset['train']['Query'])):\n",
    "      context = dataset['train'][\"Name\"][i] + \":\" + dataset['train'][\"Biography\"][i]\n",
    "      question = dataset['train'][\"Query\"][i]\n",
    "      answer = dataset['train'][\"Response\"][i]\n",
    "      #context = dataset['context']\n",
    "      #question = dataset['question']\n",
    "      #answers = dataset['answers']\n",
    "      inputs = {\"context\": context, \"question\": question, \"answer\": answer}\n",
    "\n",
    "      articles.append(inputs)\n",
    "\n",
    "    return articles"
   ]
  },
  {
   "cell_type": "code",
   "execution_count": 9,
   "metadata": {
    "id": "MApM7RZMa7IR"
   },
   "outputs": [],
   "source": [
    "data = prepare_data(dataset)"
   ]
  },
  {
   "cell_type": "code",
   "execution_count": 10,
   "metadata": {
    "id": "r0-SLqO-a9yK"
   },
   "outputs": [],
   "source": [
    "data = pd.DataFrame(data)"
   ]
  },
  {
   "cell_type": "code",
   "execution_count": 11,
   "metadata": {
    "colab": {
     "base_uri": "https://localhost:8080/",
     "height": 81
    },
    "id": "q9gVJv1A2oDM",
    "outputId": "497f961c-ab78-4ebf-a657-c580400b6832"
   },
   "outputs": [
    {
     "data": {
      "text/html": [
       "<div>\n",
       "<style scoped>\n",
       "    .dataframe tbody tr th:only-of-type {\n",
       "        vertical-align: middle;\n",
       "    }\n",
       "\n",
       "    .dataframe tbody tr th {\n",
       "        vertical-align: top;\n",
       "    }\n",
       "\n",
       "    .dataframe thead th {\n",
       "        text-align: right;\n",
       "    }\n",
       "</style>\n",
       "<table border=\"1\" class=\"dataframe\">\n",
       "  <thead>\n",
       "    <tr style=\"text-align: right;\">\n",
       "      <th></th>\n",
       "      <th>context</th>\n",
       "      <th>question</th>\n",
       "      <th>answer</th>\n",
       "    </tr>\n",
       "  </thead>\n",
       "  <tbody>\n",
       "    <tr>\n",
       "      <th>0</th>\n",
       "      <td>Bikram:Bikram is a rough and tough smuggler fr...</td>\n",
       "      <td>What is your opinion on friendship?</td>\n",
       "      <td>Friendship is a bond stronger than blood.</td>\n",
       "    </tr>\n",
       "  </tbody>\n",
       "</table>\n",
       "</div>"
      ],
      "text/plain": [
       "                                             context  \\\n",
       "0  Bikram:Bikram is a rough and tough smuggler fr...   \n",
       "\n",
       "                              question  \\\n",
       "0  What is your opinion on friendship?   \n",
       "\n",
       "                                      answer  \n",
       "0  Friendship is a bond stronger than blood.  "
      ]
     },
     "execution_count": 11,
     "metadata": {},
     "output_type": "execute_result"
    }
   ],
   "source": [
    "data.head(1)"
   ]
  },
  {
   "cell_type": "code",
   "execution_count": 12,
   "metadata": {
    "id": "gIZ8UbTdMwy7"
   },
   "outputs": [],
   "source": [
    "class QA_Dataset(Dataset):\n",
    "    def __init__(self, tokenizer, dataframe, q_len, t_len):\n",
    "        self.tokenizer = tokenizer\n",
    "        self.q_len = q_len\n",
    "        self.t_len = t_len\n",
    "        self.data = dataframe\n",
    "        self.questions = self.data[\"question\"]\n",
    "        self.context = self.data[\"context\"]\n",
    "        self.answer = self.data['answer']\n",
    "\n",
    "    def __len__(self):\n",
    "        return len(self.questions)\n",
    "\n",
    "    def __getitem__(self, idx):\n",
    "        question = self.questions[idx]\n",
    "        context = self.context[idx]\n",
    "        answer = self.answer[idx]\n",
    "\n",
    "        question_tokenized = self.tokenizer(question, context, max_length=self.q_len, padding=\"max_length\",\n",
    "                                                    truncation=True, pad_to_max_length=True, add_special_tokens=True)\n",
    "        answer_tokenized = self.tokenizer(answer, max_length=self.t_len, padding=\"max_length\",\n",
    "                                          truncation=True, pad_to_max_length=True, add_special_tokens=True)\n",
    "\n",
    "        labels = torch.tensor(answer_tokenized[\"input_ids\"], dtype=torch.long)\n",
    "        labels[labels == 0] = -100\n",
    "\n",
    "        return {\n",
    "            \"input_ids\": torch.tensor(question_tokenized[\"input_ids\"], dtype=torch.long),\n",
    "            \"attention_mask\": torch.tensor(question_tokenized[\"attention_mask\"], dtype=torch.long),\n",
    "            \"labels\": labels,\n",
    "            \"decoder_attention_mask\": torch.tensor(answer_tokenized[\"attention_mask\"], dtype=torch.long)\n",
    "        }"
   ]
  },
  {
   "cell_type": "code",
   "execution_count": 13,
   "metadata": {
    "id": "pddTGHm1bHiN"
   },
   "outputs": [],
   "source": [
    "# Dataloader\n",
    "\n",
    "train_data, val_data = train_test_split(data, test_size=0.2, random_state=42)\n",
    "\n",
    "#train_sampler = RandomSampler(train_data.index)\n",
    "#val_sampler = RandomSampler(val_data.index)\n",
    "\n",
    "train_sampler = train_data.index\n",
    "val_sampler = val_data.index\n",
    "\n",
    "qa_dataset = QA_Dataset(tokenizer, data, Q_LEN, T_LEN)\n",
    "\n",
    "train_loader = DataLoader(qa_dataset, batch_size=BATCH_SIZE, sampler=train_sampler)\n",
    "val_loader = DataLoader(qa_dataset, batch_size=BATCH_SIZE, sampler=val_sampler)"
   ]
  },
  {
   "cell_type": "code",
   "execution_count": 14,
   "metadata": {
    "colab": {
     "background_save": true,
     "base_uri": "https://localhost:8080/"
    },
    "id": "QgHoqW-obdGk",
    "outputId": "5b29b7c1-db27-4c53-8b6a-cee0379eb0c3",
    "scrolled": true
   },
   "outputs": [
    {
     "name": "stderr",
     "output_type": "stream",
     "text": [
      "Training batches: 100%|█████████████████████████████████████████████████████████████████████████| 345/345 [00:52<00:00,  6.59it/s]\n",
      "Validation batches: 100%|█████████████████████████████████████████████████████████████████████████| 87/87 [00:12<00:00,  7.22it/s]\n"
     ]
    },
    {
     "name": "stdout",
     "output_type": "stream",
     "text": [
      "\n",
      "1/2 -> Train loss: 2.7310888553011243\tValidation loss: 2.3547704315733635\n"
     ]
    },
    {
     "name": "stderr",
     "output_type": "stream",
     "text": [
      "Training batches: 100%|█████████████████████████████████████████████████████████████████████████| 345/345 [00:50<00:00,  6.78it/s]\n",
      "Validation batches: 100%|█████████████████████████████████████████████████████████████████████████| 87/87 [00:12<00:00,  7.23it/s]\n"
     ]
    },
    {
     "name": "stdout",
     "output_type": "stream",
     "text": [
      "\n",
      "2/2 -> Train loss: 2.6128623988317408\tValidation loss: 2.2500726217511056\n"
     ]
    },
    {
     "name": "stderr",
     "output_type": "stream",
     "text": [
      "Training batches: 100%|█████████████████████████████████████████████████████████████████████████| 345/345 [00:50<00:00,  6.78it/s]\n",
      "Validation batches: 100%|█████████████████████████████████████████████████████████████████████████| 87/87 [00:12<00:00,  7.21it/s]\n"
     ]
    },
    {
     "name": "stdout",
     "output_type": "stream",
     "text": [
      "\n",
      "3/2 -> Train loss: 2.5261465430835597\tValidation loss: 2.159116081807805\n"
     ]
    },
    {
     "name": "stderr",
     "output_type": "stream",
     "text": [
      "Training batches: 100%|█████████████████████████████████████████████████████████████████████████| 345/345 [00:51<00:00,  6.76it/s]\n",
      "Validation batches: 100%|█████████████████████████████████████████████████████████████████████████| 87/87 [00:12<00:00,  7.23it/s]\n"
     ]
    },
    {
     "name": "stdout",
     "output_type": "stream",
     "text": [
      "\n",
      "4/2 -> Train loss: 2.45727800493655\tValidation loss: 2.0777363506541855\n"
     ]
    },
    {
     "name": "stderr",
     "output_type": "stream",
     "text": [
      "Training batches: 100%|█████████████████████████████████████████████████████████████████████████| 345/345 [00:50<00:00,  6.78it/s]\n",
      "Validation batches: 100%|█████████████████████████████████████████████████████████████████████████| 87/87 [00:12<00:00,  7.24it/s]\n"
     ]
    },
    {
     "name": "stdout",
     "output_type": "stream",
     "text": [
      "\n",
      "5/2 -> Train loss: 2.399112464103146\tValidation loss: 2.0026875072512134\n"
     ]
    },
    {
     "name": "stderr",
     "output_type": "stream",
     "text": [
      "Training batches: 100%|█████████████████████████████████████████████████████████████████████████| 345/345 [00:50<00:00,  6.78it/s]\n",
      "Validation batches: 100%|█████████████████████████████████████████████████████████████████████████| 87/87 [00:12<00:00,  7.22it/s]\n"
     ]
    },
    {
     "name": "stdout",
     "output_type": "stream",
     "text": [
      "\n",
      "6/2 -> Train loss: 2.346206003398711\tValidation loss: 1.9328626853296127\n"
     ]
    },
    {
     "name": "stderr",
     "output_type": "stream",
     "text": [
      "Training batches: 100%|█████████████████████████████████████████████████████████████████████████| 345/345 [00:50<00:00,  6.78it/s]\n",
      "Validation batches: 100%|█████████████████████████████████████████████████████████████████████████| 87/87 [00:12<00:00,  7.23it/s]\n"
     ]
    },
    {
     "name": "stdout",
     "output_type": "stream",
     "text": [
      "\n",
      "7/2 -> Train loss: 2.2977843065439543\tValidation loss: 1.8669024207713374\n"
     ]
    },
    {
     "name": "stderr",
     "output_type": "stream",
     "text": [
      "Training batches: 100%|█████████████████████████████████████████████████████████████████████████| 345/345 [00:50<00:00,  6.77it/s]\n",
      "Validation batches: 100%|█████████████████████████████████████████████████████████████████████████| 87/87 [00:12<00:00,  7.23it/s]\n"
     ]
    },
    {
     "name": "stdout",
     "output_type": "stream",
     "text": [
      "\n",
      "8/2 -> Train loss: 2.2528095802103265\tValidation loss: 1.805131350097985\n"
     ]
    },
    {
     "name": "stderr",
     "output_type": "stream",
     "text": [
      "Training batches: 100%|█████████████████████████████████████████████████████████████████████████| 345/345 [00:50<00:00,  6.78it/s]\n",
      "Validation batches: 100%|█████████████████████████████████████████████████████████████████████████| 87/87 [00:12<00:00,  7.23it/s]\n"
     ]
    },
    {
     "name": "stdout",
     "output_type": "stream",
     "text": [
      "\n",
      "9/2 -> Train loss: 2.2109059855173943\tValidation loss: 1.747043968883663\n"
     ]
    },
    {
     "name": "stderr",
     "output_type": "stream",
     "text": [
      "Training batches: 100%|█████████████████████████████████████████████████████████████████████████| 345/345 [00:50<00:00,  6.78it/s]\n",
      "Validation batches: 100%|█████████████████████████████████████████████████████████████████████████| 87/87 [00:12<00:00,  7.20it/s]\n"
     ]
    },
    {
     "name": "stdout",
     "output_type": "stream",
     "text": [
      "\n",
      "10/2 -> Train loss: 2.1704769216758617\tValidation loss: 1.6912362654318756\n"
     ]
    },
    {
     "name": "stderr",
     "output_type": "stream",
     "text": [
      "Training batches: 100%|█████████████████████████████████████████████████████████████████████████| 345/345 [00:51<00:00,  6.75it/s]\n",
      "Validation batches: 100%|█████████████████████████████████████████████████████████████████████████| 87/87 [00:12<00:00,  7.23it/s]\n"
     ]
    },
    {
     "name": "stdout",
     "output_type": "stream",
     "text": [
      "\n",
      "11/2 -> Train loss: 2.1336155892360824\tValidation loss: 1.6378526482088813\n"
     ]
    },
    {
     "name": "stderr",
     "output_type": "stream",
     "text": [
      "Training batches: 100%|█████████████████████████████████████████████████████████████████████████| 345/345 [00:50<00:00,  6.77it/s]\n",
      "Validation batches: 100%|█████████████████████████████████████████████████████████████████████████| 87/87 [00:12<00:00,  7.23it/s]\n"
     ]
    },
    {
     "name": "stdout",
     "output_type": "stream",
     "text": [
      "\n",
      "12/2 -> Train loss: 2.099084125135256\tValidation loss: 1.5862979192672104\n"
     ]
    },
    {
     "name": "stderr",
     "output_type": "stream",
     "text": [
      "Training batches: 100%|█████████████████████████████████████████████████████████████████████████| 345/345 [00:50<00:00,  6.77it/s]\n",
      "Validation batches: 100%|█████████████████████████████████████████████████████████████████████████| 87/87 [00:12<00:00,  7.21it/s]\n"
     ]
    },
    {
     "name": "stdout",
     "output_type": "stream",
     "text": [
      "\n",
      "13/2 -> Train loss: 2.066539722023202\tValidation loss: 1.5367937898913862\n"
     ]
    },
    {
     "name": "stderr",
     "output_type": "stream",
     "text": [
      "Training batches: 100%|█████████████████████████████████████████████████████████████████████████| 345/345 [00:50<00:00,  6.77it/s]\n",
      "Validation batches: 100%|█████████████████████████████████████████████████████████████████████████| 87/87 [00:12<00:00,  7.24it/s]\n"
     ]
    },
    {
     "name": "stdout",
     "output_type": "stream",
     "text": [
      "\n",
      "14/2 -> Train loss: 2.035797380784037\tValidation loss: 1.4887521277672697\n"
     ]
    },
    {
     "name": "stderr",
     "output_type": "stream",
     "text": [
      "Training batches: 100%|█████████████████████████████████████████████████████████████████████████| 345/345 [00:51<00:00,  6.76it/s]\n",
      "Validation batches: 100%|█████████████████████████████████████████████████████████████████████████| 87/87 [00:12<00:00,  7.22it/s]\n"
     ]
    },
    {
     "name": "stdout",
     "output_type": "stream",
     "text": [
      "\n",
      "15/2 -> Train loss: 2.005415075389659\tValidation loss: 1.4417487263972104\n"
     ]
    },
    {
     "name": "stderr",
     "output_type": "stream",
     "text": [
      "Training batches: 100%|█████████████████████████████████████████████████████████████████████████| 345/345 [00:50<00:00,  6.78it/s]\n",
      "Validation batches: 100%|█████████████████████████████████████████████████████████████████████████| 87/87 [00:12<00:00,  7.21it/s]\n"
     ]
    },
    {
     "name": "stdout",
     "output_type": "stream",
     "text": [
      "\n",
      "16/2 -> Train loss: 1.9771444425526736\tValidation loss: 1.3963128598176087\n"
     ]
    },
    {
     "name": "stderr",
     "output_type": "stream",
     "text": [
      "Training batches: 100%|█████████████████████████████████████████████████████████████████████████| 345/345 [00:50<00:00,  6.78it/s]\n",
      "Validation batches: 100%|█████████████████████████████████████████████████████████████████████████| 87/87 [00:12<00:00,  7.22it/s]\n"
     ]
    },
    {
     "name": "stdout",
     "output_type": "stream",
     "text": [
      "\n",
      "17/2 -> Train loss: 1.9493001274237345\tValidation loss: 1.3520048643069429\n"
     ]
    },
    {
     "name": "stderr",
     "output_type": "stream",
     "text": [
      "Training batches: 100%|█████████████████████████████████████████████████████████████████████████| 345/345 [00:50<00:00,  6.78it/s]\n",
      "Validation batches: 100%|█████████████████████████████████████████████████████████████████████████| 87/87 [00:12<00:00,  7.21it/s]\n"
     ]
    },
    {
     "name": "stdout",
     "output_type": "stream",
     "text": [
      "\n",
      "18/2 -> Train loss: 1.9225167708216466\tValidation loss: 1.3091620117405698\n"
     ]
    },
    {
     "name": "stderr",
     "output_type": "stream",
     "text": [
      "Training batches: 100%|█████████████████████████████████████████████████████████████████████████| 345/345 [00:51<00:00,  6.76it/s]\n",
      "Validation batches: 100%|█████████████████████████████████████████████████████████████████████████| 87/87 [00:12<00:00,  7.23it/s]\n"
     ]
    },
    {
     "name": "stdout",
     "output_type": "stream",
     "text": [
      "\n",
      "19/2 -> Train loss: 1.896784109781936\tValidation loss: 1.2671591297318259\n"
     ]
    },
    {
     "name": "stderr",
     "output_type": "stream",
     "text": [
      "Training batches: 100%|█████████████████████████████████████████████████████████████████████████| 345/345 [00:50<00:00,  6.79it/s]\n",
      "Validation batches: 100%|█████████████████████████████████████████████████████████████████████████| 87/87 [00:12<00:00,  7.21it/s]\n"
     ]
    },
    {
     "name": "stdout",
     "output_type": "stream",
     "text": [
      "\n",
      "20/2 -> Train loss: 1.8722504267398863\tValidation loss: 1.226344364963943\n"
     ]
    },
    {
     "name": "stderr",
     "output_type": "stream",
     "text": [
      "Training batches: 100%|█████████████████████████████████████████████████████████████████████████| 345/345 [00:50<00:00,  6.78it/s]\n",
      "Validation batches: 100%|█████████████████████████████████████████████████████████████████████████| 87/87 [00:12<00:00,  7.24it/s]\n"
     ]
    },
    {
     "name": "stdout",
     "output_type": "stream",
     "text": [
      "\n",
      "21/2 -> Train loss: 1.847904089954987\tValidation loss: 1.18679238012347\n"
     ]
    },
    {
     "name": "stderr",
     "output_type": "stream",
     "text": [
      "Training batches: 100%|█████████████████████████████████████████████████████████████████████████| 345/345 [00:51<00:00,  6.76it/s]\n",
      "Validation batches: 100%|█████████████████████████████████████████████████████████████████████████| 87/87 [00:12<00:00,  7.22it/s]\n"
     ]
    },
    {
     "name": "stdout",
     "output_type": "stream",
     "text": [
      "\n",
      "22/2 -> Train loss: 1.8237121333011055\tValidation loss: 1.1482952261657933\n"
     ]
    },
    {
     "name": "stderr",
     "output_type": "stream",
     "text": [
      "Training batches: 100%|█████████████████████████████████████████████████████████████████████████| 345/345 [00:50<00:00,  6.78it/s]\n",
      "Validation batches: 100%|█████████████████████████████████████████████████████████████████████████| 87/87 [00:12<00:00,  7.24it/s]\n"
     ]
    },
    {
     "name": "stdout",
     "output_type": "stream",
     "text": [
      "\n",
      "23/2 -> Train loss: 1.80098046239773\tValidation loss: 1.1112191434330616\n"
     ]
    },
    {
     "name": "stderr",
     "output_type": "stream",
     "text": [
      "Training batches: 100%|█████████████████████████████████████████████████████████████████████████| 345/345 [00:50<00:00,  6.78it/s]\n",
      "Validation batches: 100%|█████████████████████████████████████████████████████████████████████████| 87/87 [00:12<00:00,  7.22it/s]\n"
     ]
    },
    {
     "name": "stdout",
     "output_type": "stream",
     "text": [
      "\n",
      "24/2 -> Train loss: 1.778678872540665\tValidation loss: 1.0757164954363059\n"
     ]
    },
    {
     "name": "stderr",
     "output_type": "stream",
     "text": [
      "Training batches: 100%|█████████████████████████████████████████████████████████████████████████| 345/345 [00:50<00:00,  6.78it/s]\n",
      "Validation batches: 100%|█████████████████████████████████████████████████████████████████████████| 87/87 [00:12<00:00,  7.20it/s]\n"
     ]
    },
    {
     "name": "stdout",
     "output_type": "stream",
     "text": [
      "\n",
      "25/2 -> Train loss: 1.75708398189752\tValidation loss: 1.0417037898670325\n"
     ]
    },
    {
     "name": "stderr",
     "output_type": "stream",
     "text": [
      "Training batches: 100%|█████████████████████████████████████████████████████████████████████████| 345/345 [00:51<00:00,  6.74it/s]\n",
      "Validation batches: 100%|█████████████████████████████████████████████████████████████████████████| 87/87 [00:12<00:00,  7.23it/s]\n"
     ]
    },
    {
     "name": "stdout",
     "output_type": "stream",
     "text": [
      "\n",
      "26/2 -> Train loss: 1.735829377732548\tValidation loss: 1.0091924548818574\n"
     ]
    },
    {
     "name": "stderr",
     "output_type": "stream",
     "text": [
      "Training batches: 100%|█████████████████████████████████████████████████████████████████████████| 345/345 [00:50<00:00,  6.78it/s]\n",
      "Validation batches: 100%|█████████████████████████████████████████████████████████████████████████| 87/87 [00:12<00:00,  7.20it/s]\n"
     ]
    },
    {
     "name": "stdout",
     "output_type": "stream",
     "text": [
      "\n",
      "27/2 -> Train loss: 1.7155476137699777\tValidation loss: 0.9782474885400101\n"
     ]
    },
    {
     "name": "stderr",
     "output_type": "stream",
     "text": [
      "Training batches: 100%|█████████████████████████████████████████████████████████████████████████| 345/345 [00:50<00:00,  6.77it/s]\n",
      "Validation batches: 100%|█████████████████████████████████████████████████████████████████████████| 87/87 [00:12<00:00,  7.21it/s]\n"
     ]
    },
    {
     "name": "stdout",
     "output_type": "stream",
     "text": [
      "\n",
      "28/2 -> Train loss: 1.6950655188743124\tValidation loss: 0.9487465125789991\n"
     ]
    },
    {
     "name": "stderr",
     "output_type": "stream",
     "text": [
      "Training batches: 100%|█████████████████████████████████████████████████████████████████████████| 345/345 [00:51<00:00,  6.76it/s]\n",
      "Validation batches: 100%|█████████████████████████████████████████████████████████████████████████| 87/87 [00:12<00:00,  7.22it/s]\n"
     ]
    },
    {
     "name": "stdout",
     "output_type": "stream",
     "text": [
      "\n",
      "29/2 -> Train loss: 1.6751799249100958\tValidation loss: 0.9206731362311518\n"
     ]
    },
    {
     "name": "stderr",
     "output_type": "stream",
     "text": [
      "Training batches: 100%|█████████████████████████████████████████████████████████████████████████| 345/345 [00:51<00:00,  6.76it/s]\n",
      "Validation batches: 100%|█████████████████████████████████████████████████████████████████████████| 87/87 [00:12<00:00,  7.22it/s]\n"
     ]
    },
    {
     "name": "stdout",
     "output_type": "stream",
     "text": [
      "\n",
      "30/2 -> Train loss: 1.655856943792767\tValidation loss: 0.8938719357119452\n"
     ]
    },
    {
     "name": "stderr",
     "output_type": "stream",
     "text": [
      "Training batches: 100%|█████████████████████████████████████████████████████████████████████████| 345/345 [00:50<00:00,  6.77it/s]\n",
      "Validation batches: 100%|█████████████████████████████████████████████████████████████████████████| 87/87 [00:12<00:00,  7.20it/s]\n"
     ]
    },
    {
     "name": "stdout",
     "output_type": "stream",
     "text": [
      "\n",
      "31/2 -> Train loss: 1.6368143537212834\tValidation loss: 0.8683906913925588\n"
     ]
    },
    {
     "name": "stderr",
     "output_type": "stream",
     "text": [
      "Training batches: 100%|█████████████████████████████████████████████████████████████████████████| 345/345 [00:51<00:00,  6.76it/s]\n",
      "Validation batches: 100%|█████████████████████████████████████████████████████████████████████████| 87/87 [00:12<00:00,  7.23it/s]\n"
     ]
    },
    {
     "name": "stdout",
     "output_type": "stream",
     "text": [
      "\n",
      "32/2 -> Train loss: 1.6182410457616916\tValidation loss: 0.8441124646947853\n"
     ]
    },
    {
     "name": "stderr",
     "output_type": "stream",
     "text": [
      "Training batches: 100%|█████████████████████████████████████████████████████████████████████████| 345/345 [00:51<00:00,  6.75it/s]\n",
      "Validation batches: 100%|█████████████████████████████████████████████████████████████████████████| 87/87 [00:12<00:00,  7.21it/s]\n"
     ]
    },
    {
     "name": "stdout",
     "output_type": "stream",
     "text": [
      "\n",
      "33/2 -> Train loss: 1.6001525498347478\tValidation loss: 0.8210433156695703\n"
     ]
    },
    {
     "name": "stderr",
     "output_type": "stream",
     "text": [
      "Training batches: 100%|█████████████████████████████████████████████████████████████████████████| 345/345 [00:50<00:00,  6.77it/s]\n",
      "Validation batches: 100%|█████████████████████████████████████████████████████████████████████████| 87/87 [00:12<00:00,  7.23it/s]\n"
     ]
    },
    {
     "name": "stdout",
     "output_type": "stream",
     "text": [
      "\n",
      "34/2 -> Train loss: 1.5822780697724805\tValidation loss: 0.7990553528139717\n"
     ]
    },
    {
     "name": "stderr",
     "output_type": "stream",
     "text": [
      "Training batches: 100%|█████████████████████████████████████████████████████████████████████████| 345/345 [00:50<00:00,  6.78it/s]\n",
      "Validation batches: 100%|█████████████████████████████████████████████████████████████████████████| 87/87 [00:12<00:00,  7.22it/s]\n"
     ]
    },
    {
     "name": "stdout",
     "output_type": "stream",
     "text": [
      "\n",
      "35/2 -> Train loss: 1.5645969010633465\tValidation loss: 0.7780757739115354\n"
     ]
    },
    {
     "name": "stderr",
     "output_type": "stream",
     "text": [
      "Training batches: 100%|█████████████████████████████████████████████████████████████████████████| 345/345 [00:50<00:00,  6.78it/s]\n",
      "Validation batches: 100%|█████████████████████████████████████████████████████████████████████████| 87/87 [00:12<00:00,  7.21it/s]\n"
     ]
    },
    {
     "name": "stdout",
     "output_type": "stream",
     "text": [
      "\n",
      "36/2 -> Train loss: 1.5474249323713032\tValidation loss: 0.758146563672733\n"
     ]
    },
    {
     "name": "stderr",
     "output_type": "stream",
     "text": [
      "Training batches: 100%|█████████████████████████████████████████████████████████████████████████| 345/345 [00:51<00:00,  6.74it/s]\n",
      "Validation batches: 100%|█████████████████████████████████████████████████████████████████████████| 87/87 [00:12<00:00,  7.21it/s]\n"
     ]
    },
    {
     "name": "stdout",
     "output_type": "stream",
     "text": [
      "\n",
      "37/2 -> Train loss: 1.5301481752712214\tValidation loss: 0.7391888624108962\n"
     ]
    },
    {
     "name": "stderr",
     "output_type": "stream",
     "text": [
      "Training batches: 100%|█████████████████████████████████████████████████████████████████████████| 345/345 [00:50<00:00,  6.77it/s]\n",
      "Validation batches: 100%|█████████████████████████████████████████████████████████████████████████| 87/87 [00:12<00:00,  7.22it/s]\n"
     ]
    },
    {
     "name": "stdout",
     "output_type": "stream",
     "text": [
      "\n",
      "38/2 -> Train loss: 1.5135287569984963\tValidation loss: 0.7210524398037692\n"
     ]
    },
    {
     "name": "stderr",
     "output_type": "stream",
     "text": [
      "Training batches: 100%|█████████████████████████████████████████████████████████████████████████| 345/345 [00:50<00:00,  6.77it/s]\n",
      "Validation batches: 100%|█████████████████████████████████████████████████████████████████████████| 87/87 [00:12<00:00,  7.21it/s]\n"
     ]
    },
    {
     "name": "stdout",
     "output_type": "stream",
     "text": [
      "\n",
      "39/2 -> Train loss: 1.497183991931531\tValidation loss: 0.7037631177172288\n"
     ]
    },
    {
     "name": "stderr",
     "output_type": "stream",
     "text": [
      "Training batches: 100%|█████████████████████████████████████████████████████████████████████████| 345/345 [00:50<00:00,  6.77it/s]\n",
      "Validation batches: 100%|█████████████████████████████████████████████████████████████████████████| 87/87 [00:12<00:00,  7.22it/s]\n"
     ]
    },
    {
     "name": "stdout",
     "output_type": "stream",
     "text": [
      "\n",
      "40/2 -> Train loss: 1.480764558173824\tValidation loss: 0.6872292048948142\n"
     ]
    },
    {
     "name": "stderr",
     "output_type": "stream",
     "text": [
      "Training batches: 100%|█████████████████████████████████████████████████████████████████████████| 345/345 [00:51<00:00,  6.76it/s]\n",
      "Validation batches: 100%|█████████████████████████████████████████████████████████████████████████| 87/87 [00:12<00:00,  7.23it/s]\n"
     ]
    },
    {
     "name": "stdout",
     "output_type": "stream",
     "text": [
      "\n",
      "41/2 -> Train loss: 1.4648780557493222\tValidation loss: 0.6714282678858616\n"
     ]
    },
    {
     "name": "stderr",
     "output_type": "stream",
     "text": [
      "Training batches: 100%|█████████████████████████████████████████████████████████████████████████| 345/345 [00:50<00:00,  6.78it/s]\n",
      "Validation batches: 100%|█████████████████████████████████████████████████████████████████████████| 87/87 [00:12<00:00,  7.22it/s]\n"
     ]
    },
    {
     "name": "stdout",
     "output_type": "stream",
     "text": [
      "\n",
      "42/2 -> Train loss: 1.4491849987341503\tValidation loss: 0.656334385035555\n"
     ]
    },
    {
     "name": "stderr",
     "output_type": "stream",
     "text": [
      "Training batches: 100%|█████████████████████████████████████████████████████████████████████████| 345/345 [00:50<00:00,  6.77it/s]\n",
      "Validation batches: 100%|█████████████████████████████████████████████████████████████████████████| 87/87 [00:12<00:00,  7.20it/s]\n"
     ]
    },
    {
     "name": "stdout",
     "output_type": "stream",
     "text": [
      "\n",
      "43/2 -> Train loss: 1.4337014068235723\tValidation loss: 0.641872639989329\n"
     ]
    },
    {
     "name": "stderr",
     "output_type": "stream",
     "text": [
      "Training batches: 100%|█████████████████████████████████████████████████████████████████████████| 345/345 [00:51<00:00,  6.76it/s]\n",
      "Validation batches: 100%|█████████████████████████████████████████████████████████████████████████| 87/87 [00:12<00:00,  7.24it/s]\n"
     ]
    },
    {
     "name": "stdout",
     "output_type": "stream",
     "text": [
      "\n",
      "44/2 -> Train loss: 1.418547063633034\tValidation loss: 0.6279938087512543\n"
     ]
    },
    {
     "name": "stderr",
     "output_type": "stream",
     "text": [
      "Training batches: 100%|█████████████████████████████████████████████████████████████████████████| 345/345 [00:50<00:00,  6.78it/s]\n",
      "Validation batches: 100%|█████████████████████████████████████████████████████████████████████████| 87/87 [00:12<00:00,  7.21it/s]\n"
     ]
    },
    {
     "name": "stdout",
     "output_type": "stream",
     "text": [
      "\n",
      "45/2 -> Train loss: 1.4039128384123678\tValidation loss: 0.6146958659663511\n"
     ]
    },
    {
     "name": "stderr",
     "output_type": "stream",
     "text": [
      "Training batches: 100%|█████████████████████████████████████████████████████████████████████████| 345/345 [00:50<00:00,  6.78it/s]\n",
      "Validation batches: 100%|█████████████████████████████████████████████████████████████████████████| 87/87 [00:12<00:00,  7.22it/s]\n"
     ]
    },
    {
     "name": "stdout",
     "output_type": "stream",
     "text": [
      "\n",
      "46/2 -> Train loss: 1.3892471120709808\tValidation loss: 0.6019488870474472\n"
     ]
    },
    {
     "name": "stderr",
     "output_type": "stream",
     "text": [
      "Training batches: 100%|█████████████████████████████████████████████████████████████████████████| 345/345 [00:50<00:00,  6.77it/s]\n",
      "Validation batches: 100%|█████████████████████████████████████████████████████████████████████████| 87/87 [00:12<00:00,  7.21it/s]\n"
     ]
    },
    {
     "name": "stdout",
     "output_type": "stream",
     "text": [
      "\n",
      "47/2 -> Train loss: 1.375006328366474\tValidation loss: 0.5896947592602554\n"
     ]
    },
    {
     "name": "stderr",
     "output_type": "stream",
     "text": [
      "Training batches: 100%|█████████████████████████████████████████████████████████████████████████| 345/345 [00:51<00:00,  6.75it/s]\n",
      "Validation batches: 100%|█████████████████████████████████████████████████████████████████████████| 87/87 [00:12<00:00,  7.21it/s]\n"
     ]
    },
    {
     "name": "stdout",
     "output_type": "stream",
     "text": [
      "\n",
      "48/2 -> Train loss: 1.3610728706327686\tValidation loss: 0.5779284701841081\n"
     ]
    },
    {
     "name": "stderr",
     "output_type": "stream",
     "text": [
      "Training batches: 100%|█████████████████████████████████████████████████████████████████████████| 345/345 [00:50<00:00,  6.77it/s]\n",
      "Validation batches: 100%|█████████████████████████████████████████████████████████████████████████| 87/87 [00:12<00:00,  7.22it/s]\n"
     ]
    },
    {
     "name": "stdout",
     "output_type": "stream",
     "text": [
      "\n",
      "49/2 -> Train loss: 1.3472638458665818\tValidation loss: 0.5666087795515488\n"
     ]
    },
    {
     "name": "stderr",
     "output_type": "stream",
     "text": [
      "Training batches: 100%|█████████████████████████████████████████████████████████████████████████| 345/345 [00:51<00:00,  6.76it/s]\n",
      "Validation batches: 100%|█████████████████████████████████████████████████████████████████████████| 87/87 [00:12<00:00,  7.20it/s]\n"
     ]
    },
    {
     "name": "stdout",
     "output_type": "stream",
     "text": [
      "\n",
      "50/2 -> Train loss: 1.3334617585060389\tValidation loss: 0.555708307258667\n"
     ]
    },
    {
     "name": "stderr",
     "output_type": "stream",
     "text": [
      "Training batches: 100%|█████████████████████████████████████████████████████████████████████████| 345/345 [00:50<00:00,  6.77it/s]\n",
      "Validation batches: 100%|█████████████████████████████████████████████████████████████████████████| 87/87 [00:12<00:00,  7.21it/s]\n"
     ]
    },
    {
     "name": "stdout",
     "output_type": "stream",
     "text": [
      "\n",
      "51/2 -> Train loss: 1.3200337246149296\tValidation loss: 0.545200787136633\n"
     ]
    },
    {
     "name": "stderr",
     "output_type": "stream",
     "text": [
      "Training batches: 100%|█████████████████████████████████████████████████████████████████████████| 345/345 [00:50<00:00,  6.77it/s]\n",
      "Validation batches: 100%|█████████████████████████████████████████████████████████████████████████| 87/87 [00:12<00:00,  7.21it/s]\n"
     ]
    },
    {
     "name": "stdout",
     "output_type": "stream",
     "text": [
      "\n",
      "52/2 -> Train loss: 1.3068320195789687\tValidation loss: 0.5350855458278967\n"
     ]
    },
    {
     "name": "stderr",
     "output_type": "stream",
     "text": [
      "Training batches: 100%|█████████████████████████████████████████████████████████████████████████| 345/345 [00:50<00:00,  6.77it/s]\n",
      "Validation batches: 100%|█████████████████████████████████████████████████████████████████████████| 87/87 [00:12<00:00,  7.20it/s]\n"
     ]
    },
    {
     "name": "stdout",
     "output_type": "stream",
     "text": [
      "\n",
      "53/2 -> Train loss: 1.293897647529816\tValidation loss: 0.525334827662074\n"
     ]
    },
    {
     "name": "stderr",
     "output_type": "stream",
     "text": [
      "Training batches: 100%|█████████████████████████████████████████████████████████████████████████| 345/345 [00:51<00:00,  6.75it/s]\n",
      "Validation batches: 100%|█████████████████████████████████████████████████████████████████████████| 87/87 [00:12<00:00,  7.21it/s]\n"
     ]
    },
    {
     "name": "stdout",
     "output_type": "stream",
     "text": [
      "\n",
      "54/2 -> Train loss: 1.2810786630652378\tValidation loss: 0.5159460454270045\n"
     ]
    },
    {
     "name": "stderr",
     "output_type": "stream",
     "text": [
      "Training batches: 100%|█████████████████████████████████████████████████████████████████████████| 345/345 [00:51<00:00,  6.74it/s]\n",
      "Validation batches: 100%|█████████████████████████████████████████████████████████████████████████| 87/87 [00:12<00:00,  7.21it/s]\n"
     ]
    },
    {
     "name": "stdout",
     "output_type": "stream",
     "text": [
      "\n",
      "55/2 -> Train loss: 1.2685468273860192\tValidation loss: 0.5068665432784358\n"
     ]
    },
    {
     "name": "stderr",
     "output_type": "stream",
     "text": [
      "Training batches: 100%|█████████████████████████████████████████████████████████████████████████| 345/345 [00:50<00:00,  6.77it/s]\n",
      "Validation batches: 100%|█████████████████████████████████████████████████████████████████████████| 87/87 [00:12<00:00,  7.22it/s]\n"
     ]
    },
    {
     "name": "stdout",
     "output_type": "stream",
     "text": [
      "\n",
      "56/2 -> Train loss: 1.2560402684688845\tValidation loss: 0.49810453203488797\n"
     ]
    },
    {
     "name": "stderr",
     "output_type": "stream",
     "text": [
      "Training batches: 100%|█████████████████████████████████████████████████████████████████████████| 345/345 [00:50<00:00,  6.78it/s]\n",
      "Validation batches: 100%|█████████████████████████████████████████████████████████████████████████| 87/87 [00:12<00:00,  7.22it/s]\n"
     ]
    },
    {
     "name": "stdout",
     "output_type": "stream",
     "text": [
      "\n",
      "57/2 -> Train loss: 1.2437578177140651\tValidation loss: 0.48964117885747355\n"
     ]
    },
    {
     "name": "stderr",
     "output_type": "stream",
     "text": [
      "Training batches: 100%|█████████████████████████████████████████████████████████████████████████| 345/345 [00:50<00:00,  6.77it/s]\n",
      "Validation batches: 100%|█████████████████████████████████████████████████████████████████████████| 87/87 [00:12<00:00,  7.20it/s]\n"
     ]
    },
    {
     "name": "stdout",
     "output_type": "stream",
     "text": [
      "\n",
      "58/2 -> Train loss: 1.2316493638008759\tValidation loss: 0.48145579094428226\n"
     ]
    },
    {
     "name": "stderr",
     "output_type": "stream",
     "text": [
      "Training batches: 100%|█████████████████████████████████████████████████████████████████████████| 345/345 [00:51<00:00,  6.76it/s]\n",
      "Validation batches: 100%|█████████████████████████████████████████████████████████████████████████| 87/87 [00:12<00:00,  7.19it/s]\n"
     ]
    },
    {
     "name": "stdout",
     "output_type": "stream",
     "text": [
      "\n",
      "59/2 -> Train loss: 1.2198886528731974\tValidation loss: 0.47354178354580456\n"
     ]
    },
    {
     "name": "stderr",
     "output_type": "stream",
     "text": [
      "Training batches: 100%|█████████████████████████████████████████████████████████████████████████| 345/345 [00:51<00:00,  6.76it/s]\n",
      "Validation batches: 100%|█████████████████████████████████████████████████████████████████████████| 87/87 [00:12<00:00,  7.23it/s]\n"
     ]
    },
    {
     "name": "stdout",
     "output_type": "stream",
     "text": [
      "\n",
      "60/2 -> Train loss: 1.20804613535027\tValidation loss: 0.4658928282103962\n"
     ]
    },
    {
     "name": "stderr",
     "output_type": "stream",
     "text": [
      "Training batches: 100%|█████████████████████████████████████████████████████████████████████████| 345/345 [00:50<00:00,  6.77it/s]\n",
      "Validation batches: 100%|█████████████████████████████████████████████████████████████████████████| 87/87 [00:12<00:00,  7.21it/s]\n"
     ]
    },
    {
     "name": "stdout",
     "output_type": "stream",
     "text": [
      "\n",
      "61/2 -> Train loss: 1.1964582040537761\tValidation loss: 0.45847708857702507\n"
     ]
    },
    {
     "name": "stderr",
     "output_type": "stream",
     "text": [
      "Training batches: 100%|█████████████████████████████████████████████████████████████████████████| 345/345 [00:50<00:00,  6.77it/s]\n",
      "Validation batches: 100%|█████████████████████████████████████████████████████████████████████████| 87/87 [00:12<00:00,  7.16it/s]\n"
     ]
    },
    {
     "name": "stdout",
     "output_type": "stream",
     "text": [
      "\n",
      "62/2 -> Train loss: 1.1851442072202651\tValidation loss: 0.45129937751541205\n"
     ]
    },
    {
     "name": "stderr",
     "output_type": "stream",
     "text": [
      "Training batches: 100%|█████████████████████████████████████████████████████████████████████████| 345/345 [00:50<00:00,  6.77it/s]\n",
      "Validation batches: 100%|█████████████████████████████████████████████████████████████████████████| 87/87 [00:12<00:00,  7.22it/s]\n"
     ]
    },
    {
     "name": "stdout",
     "output_type": "stream",
     "text": [
      "\n",
      "63/2 -> Train loss: 1.1740341880044458\tValidation loss: 0.4443353860661295\n"
     ]
    },
    {
     "name": "stderr",
     "output_type": "stream",
     "text": [
      "Training batches: 100%|█████████████████████████████████████████████████████████████████████████| 345/345 [00:51<00:00,  6.76it/s]\n",
      "Validation batches: 100%|█████████████████████████████████████████████████████████████████████████| 87/87 [00:12<00:00,  7.21it/s]\n"
     ]
    },
    {
     "name": "stdout",
     "output_type": "stream",
     "text": [
      "\n",
      "64/2 -> Train loss: 1.1630087465167627\tValidation loss: 0.43759797782373405\n"
     ]
    },
    {
     "name": "stderr",
     "output_type": "stream",
     "text": [
      "Training batches: 100%|█████████████████████████████████████████████████████████████████████████| 345/345 [00:50<00:00,  6.77it/s]\n",
      "Validation batches: 100%|█████████████████████████████████████████████████████████████████████████| 87/87 [00:12<00:00,  7.21it/s]\n"
     ]
    },
    {
     "name": "stdout",
     "output_type": "stream",
     "text": [
      "\n",
      "65/2 -> Train loss: 1.1520680812114192\tValidation loss: 0.43106163354217103\n"
     ]
    },
    {
     "name": "stderr",
     "output_type": "stream",
     "text": [
      "Training batches: 100%|█████████████████████████████████████████████████████████████████████████| 345/345 [00:51<00:00,  6.76it/s]\n",
      "Validation batches: 100%|█████████████████████████████████████████████████████████████████████████| 87/87 [00:12<00:00,  7.21it/s]\n"
     ]
    },
    {
     "name": "stdout",
     "output_type": "stream",
     "text": [
      "\n",
      "66/2 -> Train loss: 1.1413253008880844\tValidation loss: 0.42471940407733594\n"
     ]
    },
    {
     "name": "stderr",
     "output_type": "stream",
     "text": [
      "Training batches: 100%|█████████████████████████████████████████████████████████████████████████| 345/345 [00:51<00:00,  6.76it/s]\n",
      "Validation batches: 100%|█████████████████████████████████████████████████████████████████████████| 87/87 [00:12<00:00,  7.24it/s]\n"
     ]
    },
    {
     "name": "stdout",
     "output_type": "stream",
     "text": [
      "\n",
      "67/2 -> Train loss: 1.130692360483927\tValidation loss: 0.4185613467132612\n"
     ]
    },
    {
     "name": "stderr",
     "output_type": "stream",
     "text": [
      "Training batches: 100%|█████████████████████████████████████████████████████████████████████████| 345/345 [00:50<00:00,  6.78it/s]\n",
      "Validation batches: 100%|█████████████████████████████████████████████████████████████████████████| 87/87 [00:12<00:00,  7.22it/s]\n"
     ]
    },
    {
     "name": "stdout",
     "output_type": "stream",
     "text": [
      "\n",
      "68/2 -> Train loss: 1.1201951994461412\tValidation loss: 0.4125717238355134\n"
     ]
    },
    {
     "name": "stderr",
     "output_type": "stream",
     "text": [
      "Training batches: 100%|█████████████████████████████████████████████████████████████████████████| 345/345 [00:50<00:00,  6.78it/s]\n",
      "Validation batches: 100%|█████████████████████████████████████████████████████████████████████████| 87/87 [00:12<00:00,  7.22it/s]\n"
     ]
    },
    {
     "name": "stdout",
     "output_type": "stream",
     "text": [
      "\n",
      "69/2 -> Train loss: 1.1098683145600654\tValidation loss: 0.40677054963614057\n"
     ]
    },
    {
     "name": "stderr",
     "output_type": "stream",
     "text": [
      "Training batches: 100%|█████████████████████████████████████████████████████████████████████████| 345/345 [00:51<00:00,  6.75it/s]\n",
      "Validation batches: 100%|█████████████████████████████████████████████████████████████████████████| 87/87 [00:12<00:00,  7.21it/s]\n"
     ]
    },
    {
     "name": "stdout",
     "output_type": "stream",
     "text": [
      "\n",
      "70/2 -> Train loss: 1.0996229839656602\tValidation loss: 0.40110903604438586\n"
     ]
    },
    {
     "name": "stderr",
     "output_type": "stream",
     "text": [
      "Training batches: 100%|█████████████████████████████████████████████████████████████████████████| 345/345 [00:50<00:00,  6.77it/s]\n",
      "Validation batches: 100%|█████████████████████████████████████████████████████████████████████████| 87/87 [00:12<00:00,  7.21it/s]\n"
     ]
    },
    {
     "name": "stdout",
     "output_type": "stream",
     "text": [
      "\n",
      "71/2 -> Train loss: 1.0894959091472551\tValidation loss: 0.39561645338475454\n"
     ]
    },
    {
     "name": "stderr",
     "output_type": "stream",
     "text": [
      "Training batches: 100%|█████████████████████████████████████████████████████████████████████████| 345/345 [00:50<00:00,  6.77it/s]\n",
      "Validation batches: 100%|█████████████████████████████████████████████████████████████████████████| 87/87 [00:12<00:00,  7.21it/s]\n"
     ]
    },
    {
     "name": "stdout",
     "output_type": "stream",
     "text": [
      "\n",
      "72/2 -> Train loss: 1.0797965601415054\tValidation loss: 0.3902658153177793\n"
     ]
    },
    {
     "name": "stderr",
     "output_type": "stream",
     "text": [
      "Training batches: 100%|█████████████████████████████████████████████████████████████████████████| 345/345 [00:51<00:00,  6.76it/s]\n",
      "Validation batches: 100%|█████████████████████████████████████████████████████████████████████████| 87/87 [00:12<00:00,  7.15it/s]\n"
     ]
    },
    {
     "name": "stdout",
     "output_type": "stream",
     "text": [
      "\n",
      "73/2 -> Train loss: 1.0700418039650488\tValidation loss: 0.3850555682297924\n"
     ]
    },
    {
     "name": "stderr",
     "output_type": "stream",
     "text": [
      "Training batches: 100%|█████████████████████████████████████████████████████████████████████████| 345/345 [00:50<00:00,  6.78it/s]\n",
      "Validation batches: 100%|█████████████████████████████████████████████████████████████████████████| 87/87 [00:12<00:00,  7.24it/s]\n"
     ]
    },
    {
     "name": "stdout",
     "output_type": "stream",
     "text": [
      "\n",
      "74/2 -> Train loss: 1.0604457832182674\tValidation loss: 0.3799839083031151\n"
     ]
    },
    {
     "name": "stderr",
     "output_type": "stream",
     "text": [
      "Training batches: 100%|█████████████████████████████████████████████████████████████████████████| 345/345 [00:50<00:00,  6.79it/s]\n",
      "Validation batches: 100%|█████████████████████████████████████████████████████████████████████████| 87/87 [00:12<00:00,  7.22it/s]\n"
     ]
    },
    {
     "name": "stdout",
     "output_type": "stream",
     "text": [
      "\n",
      "75/2 -> Train loss: 1.0510618215348697\tValidation loss: 0.37504915961713825\n"
     ]
    },
    {
     "name": "stderr",
     "output_type": "stream",
     "text": [
      "Training batches: 100%|█████████████████████████████████████████████████████████████████████████| 345/345 [00:50<00:00,  6.77it/s]\n",
      "Validation batches: 100%|█████████████████████████████████████████████████████████████████████████| 87/87 [00:12<00:00,  7.23it/s]\n"
     ]
    },
    {
     "name": "stdout",
     "output_type": "stream",
     "text": [
      "\n",
      "76/2 -> Train loss: 1.0417721854504354\tValidation loss: 0.37024473569907557\n"
     ]
    },
    {
     "name": "stderr",
     "output_type": "stream",
     "text": [
      "Training batches: 100%|█████████████████████████████████████████████████████████████████████████| 345/345 [00:50<00:00,  6.77it/s]\n",
      "Validation batches: 100%|█████████████████████████████████████████████████████████████████████████| 87/87 [00:12<00:00,  7.24it/s]\n"
     ]
    },
    {
     "name": "stdout",
     "output_type": "stream",
     "text": [
      "\n",
      "77/2 -> Train loss: 1.0325984912712192\tValidation loss: 0.36556755452945683\n"
     ]
    },
    {
     "name": "stderr",
     "output_type": "stream",
     "text": [
      "Training batches: 100%|█████████████████████████████████████████████████████████████████████████| 345/345 [00:50<00:00,  6.77it/s]\n",
      "Validation batches: 100%|█████████████████████████████████████████████████████████████████████████| 87/87 [00:12<00:00,  7.21it/s]\n"
     ]
    },
    {
     "name": "stdout",
     "output_type": "stream",
     "text": [
      "\n",
      "78/2 -> Train loss: 1.0235728653080676\tValidation loss: 0.3609975987766288\n"
     ]
    },
    {
     "name": "stderr",
     "output_type": "stream",
     "text": [
      "Training batches: 100%|█████████████████████████████████████████████████████████████████████████| 345/345 [00:51<00:00,  6.76it/s]\n",
      "Validation batches: 100%|█████████████████████████████████████████████████████████████████████████| 87/87 [00:12<00:00,  7.20it/s]\n"
     ]
    },
    {
     "name": "stdout",
     "output_type": "stream",
     "text": [
      "\n",
      "79/2 -> Train loss: 1.0146138119870611\tValidation loss: 0.3565480910657535\n"
     ]
    },
    {
     "name": "stderr",
     "output_type": "stream",
     "text": [
      "Training batches: 100%|█████████████████████████████████████████████████████████████████████████| 345/345 [00:51<00:00,  6.76it/s]\n",
      "Validation batches: 100%|█████████████████████████████████████████████████████████████████████████| 87/87 [00:12<00:00,  7.19it/s]\n"
     ]
    },
    {
     "name": "stdout",
     "output_type": "stream",
     "text": [
      "\n",
      "80/2 -> Train loss: 1.0058299548540641\tValidation loss: 0.3521972476062666\n"
     ]
    },
    {
     "name": "stderr",
     "output_type": "stream",
     "text": [
      "Training batches: 100%|█████████████████████████████████████████████████████████████████████████| 345/345 [00:51<00:00,  6.73it/s]\n",
      "Validation batches: 100%|█████████████████████████████████████████████████████████████████████████| 87/87 [00:12<00:00,  7.20it/s]\n"
     ]
    },
    {
     "name": "stdout",
     "output_type": "stream",
     "text": [
      "\n",
      "81/2 -> Train loss: 0.997265151271183\tValidation loss: 0.34796365487317044\n"
     ]
    },
    {
     "name": "stderr",
     "output_type": "stream",
     "text": [
      "Training batches: 100%|█████████████████████████████████████████████████████████████████████████| 345/345 [00:51<00:00,  6.75it/s]\n",
      "Validation batches: 100%|█████████████████████████████████████████████████████████████████████████| 87/87 [00:12<00:00,  7.21it/s]\n"
     ]
    },
    {
     "name": "stdout",
     "output_type": "stream",
     "text": [
      "\n",
      "82/2 -> Train loss: 0.9887064113215497\tValidation loss: 0.3438292103021254\n"
     ]
    },
    {
     "name": "stderr",
     "output_type": "stream",
     "text": [
      "Training batches: 100%|█████████████████████████████████████████████████████████████████████████| 345/345 [00:50<00:00,  6.77it/s]\n",
      "Validation batches: 100%|█████████████████████████████████████████████████████████████████████████| 87/87 [00:12<00:00,  7.21it/s]\n"
     ]
    },
    {
     "name": "stdout",
     "output_type": "stream",
     "text": [
      "\n",
      "83/2 -> Train loss: 0.9804088743225648\tValidation loss: 0.33978627662040206\n"
     ]
    },
    {
     "name": "stderr",
     "output_type": "stream",
     "text": [
      "Training batches: 100%|█████████████████████████████████████████████████████████████████████████| 345/345 [00:50<00:00,  6.77it/s]\n",
      "Validation batches: 100%|█████████████████████████████████████████████████████████████████████████| 87/87 [00:12<00:00,  7.16it/s]\n"
     ]
    },
    {
     "name": "stdout",
     "output_type": "stream",
     "text": [
      "\n",
      "84/2 -> Train loss: 0.9722343678043074\tValidation loss: 0.33584875226261734\n"
     ]
    },
    {
     "name": "stderr",
     "output_type": "stream",
     "text": [
      "Training batches: 100%|█████████████████████████████████████████████████████████████████████████| 345/345 [00:50<00:00,  6.77it/s]\n",
      "Validation batches: 100%|█████████████████████████████████████████████████████████████████████████| 87/87 [00:12<00:00,  7.23it/s]\n"
     ]
    },
    {
     "name": "stdout",
     "output_type": "stream",
     "text": [
      "\n",
      "85/2 -> Train loss: 0.9641852134631316\tValidation loss: 0.33199309257247644\n"
     ]
    },
    {
     "name": "stderr",
     "output_type": "stream",
     "text": [
      "Training batches: 100%|█████████████████████████████████████████████████████████████████████████| 345/345 [00:50<00:00,  6.77it/s]\n",
      "Validation batches: 100%|█████████████████████████████████████████████████████████████████████████| 87/87 [00:12<00:00,  7.21it/s]\n"
     ]
    },
    {
     "name": "stdout",
     "output_type": "stream",
     "text": [
      "\n",
      "86/2 -> Train loss: 0.9561690111982002\tValidation loss: 0.3282204789300255\n"
     ]
    },
    {
     "name": "stderr",
     "output_type": "stream",
     "text": [
      "Training batches: 100%|█████████████████████████████████████████████████████████████████████████| 345/345 [00:50<00:00,  6.79it/s]\n",
      "Validation batches: 100%|█████████████████████████████████████████████████████████████████████████| 87/87 [00:12<00:00,  7.23it/s]\n"
     ]
    },
    {
     "name": "stdout",
     "output_type": "stream",
     "text": [
      "\n",
      "87/2 -> Train loss: 0.9482595126748249\tValidation loss: 0.3245400953221967\n"
     ]
    },
    {
     "name": "stderr",
     "output_type": "stream",
     "text": [
      "Training batches: 100%|█████████████████████████████████████████████████████████████████████████| 345/345 [00:50<00:00,  6.78it/s]\n",
      "Validation batches: 100%|█████████████████████████████████████████████████████████████████████████| 87/87 [00:12<00:00,  7.23it/s]\n"
     ]
    },
    {
     "name": "stdout",
     "output_type": "stream",
     "text": [
      "\n",
      "88/2 -> Train loss: 0.9405558730333882\tValidation loss: 0.3209424049816364\n"
     ]
    },
    {
     "name": "stderr",
     "output_type": "stream",
     "text": [
      "Training batches: 100%|█████████████████████████████████████████████████████████████████████████| 345/345 [00:50<00:00,  6.78it/s]\n",
      "Validation batches: 100%|█████████████████████████████████████████████████████████████████████████| 87/87 [00:12<00:00,  7.20it/s]\n"
     ]
    },
    {
     "name": "stdout",
     "output_type": "stream",
     "text": [
      "\n",
      "89/2 -> Train loss: 0.9328074411791017\tValidation loss: 0.3174205743514668\n"
     ]
    },
    {
     "name": "stderr",
     "output_type": "stream",
     "text": [
      "Training batches: 100%|█████████████████████████████████████████████████████████████████████████| 345/345 [00:50<00:00,  6.77it/s]\n",
      "Validation batches: 100%|█████████████████████████████████████████████████████████████████████████| 87/87 [00:12<00:00,  7.22it/s]\n"
     ]
    },
    {
     "name": "stdout",
     "output_type": "stream",
     "text": [
      "\n",
      "90/2 -> Train loss: 0.9251772269730467\tValidation loss: 0.313984989772502\n"
     ]
    },
    {
     "name": "stderr",
     "output_type": "stream",
     "text": [
      "Training batches: 100%|█████████████████████████████████████████████████████████████████████████| 345/345 [00:50<00:00,  6.78it/s]\n",
      "Validation batches: 100%|█████████████████████████████████████████████████████████████████████████| 87/87 [00:12<00:00,  7.21it/s]\n"
     ]
    },
    {
     "name": "stdout",
     "output_type": "stream",
     "text": [
      "\n",
      "91/2 -> Train loss: 0.9177110170635233\tValidation loss: 0.31061834966437063\n"
     ]
    },
    {
     "name": "stderr",
     "output_type": "stream",
     "text": [
      "Training batches: 100%|█████████████████████████████████████████████████████████████████████████| 345/345 [00:50<00:00,  6.77it/s]\n",
      "Validation batches: 100%|█████████████████████████████████████████████████████████████████████████| 87/87 [00:12<00:00,  7.23it/s]\n"
     ]
    },
    {
     "name": "stdout",
     "output_type": "stream",
     "text": [
      "\n",
      "92/2 -> Train loss: 0.9102969771918031\tValidation loss: 0.30731809270896726\n"
     ]
    },
    {
     "name": "stderr",
     "output_type": "stream",
     "text": [
      "Training batches: 100%|█████████████████████████████████████████████████████████████████████████| 345/345 [00:50<00:00,  6.77it/s]\n",
      "Validation batches: 100%|█████████████████████████████████████████████████████████████████████████| 87/87 [00:12<00:00,  7.19it/s]\n"
     ]
    },
    {
     "name": "stdout",
     "output_type": "stream",
     "text": [
      "\n",
      "93/2 -> Train loss: 0.9029975374733157\tValidation loss: 0.3040931549669515\n"
     ]
    },
    {
     "name": "stderr",
     "output_type": "stream",
     "text": [
      "Training batches: 100%|█████████████████████████████████████████████████████████████████████████| 345/345 [00:50<00:00,  6.77it/s]\n",
      "Validation batches: 100%|█████████████████████████████████████████████████████████████████████████| 87/87 [00:12<00:00,  7.20it/s]\n"
     ]
    },
    {
     "name": "stdout",
     "output_type": "stream",
     "text": [
      "\n",
      "94/2 -> Train loss: 0.8958026444426422\tValidation loss: 0.3009300321110179\n"
     ]
    },
    {
     "name": "stderr",
     "output_type": "stream",
     "text": [
      "Training batches: 100%|█████████████████████████████████████████████████████████████████████████| 345/345 [00:50<00:00,  6.78it/s]\n",
      "Validation batches: 100%|█████████████████████████████████████████████████████████████████████████| 87/87 [00:12<00:00,  7.18it/s]\n"
     ]
    },
    {
     "name": "stdout",
     "output_type": "stream",
     "text": [
      "\n",
      "95/2 -> Train loss: 0.888748886156742\tValidation loss: 0.29783705630582935\n"
     ]
    },
    {
     "name": "stderr",
     "output_type": "stream",
     "text": [
      "Training batches: 100%|█████████████████████████████████████████████████████████████████████████| 345/345 [00:50<00:00,  6.78it/s]\n",
      "Validation batches: 100%|█████████████████████████████████████████████████████████████████████████| 87/87 [00:12<00:00,  7.23it/s]\n"
     ]
    },
    {
     "name": "stdout",
     "output_type": "stream",
     "text": [
      "\n",
      "96/2 -> Train loss: 0.8817626238939636\tValidation loss: 0.294805115860288\n"
     ]
    },
    {
     "name": "stderr",
     "output_type": "stream",
     "text": [
      "Training batches: 100%|█████████████████████████████████████████████████████████████████████████| 345/345 [00:51<00:00,  6.76it/s]\n",
      "Validation batches: 100%|█████████████████████████████████████████████████████████████████████████| 87/87 [00:12<00:00,  7.20it/s]\n"
     ]
    },
    {
     "name": "stdout",
     "output_type": "stream",
     "text": [
      "\n",
      "97/2 -> Train loss: 0.8748501153520173\tValidation loss: 0.29183747347407796\n"
     ]
    },
    {
     "name": "stderr",
     "output_type": "stream",
     "text": [
      "Training batches: 100%|█████████████████████████████████████████████████████████████████████████| 345/345 [00:50<00:00,  6.78it/s]\n",
      "Validation batches: 100%|█████████████████████████████████████████████████████████████████████████| 87/87 [00:12<00:00,  7.21it/s]\n"
     ]
    },
    {
     "name": "stdout",
     "output_type": "stream",
     "text": [
      "\n",
      "98/2 -> Train loss: 0.8680800292719016\tValidation loss: 0.28893165853785496\n"
     ]
    },
    {
     "name": "stderr",
     "output_type": "stream",
     "text": [
      "Training batches: 100%|█████████████████████████████████████████████████████████████████████████| 345/345 [00:51<00:00,  6.76it/s]\n",
      "Validation batches: 100%|█████████████████████████████████████████████████████████████████████████| 87/87 [00:12<00:00,  7.22it/s]\n"
     ]
    },
    {
     "name": "stdout",
     "output_type": "stream",
     "text": [
      "\n",
      "99/2 -> Train loss: 0.8613694637930265\tValidation loss: 0.28609536217997883\n"
     ]
    },
    {
     "name": "stderr",
     "output_type": "stream",
     "text": [
      "Training batches: 100%|█████████████████████████████████████████████████████████████████████████| 345/345 [00:50<00:00,  6.79it/s]\n",
      "Validation batches: 100%|█████████████████████████████████████████████████████████████████████████| 87/87 [00:12<00:00,  7.24it/s]\n"
     ]
    },
    {
     "name": "stdout",
     "output_type": "stream",
     "text": [
      "\n",
      "100/2 -> Train loss: 0.8548060291000655\tValidation loss: 0.2832987254421125\n"
     ]
    },
    {
     "name": "stderr",
     "output_type": "stream",
     "text": [
      "Training batches: 100%|█████████████████████████████████████████████████████████████████████████| 345/345 [00:50<00:00,  6.79it/s]\n",
      "Validation batches: 100%|█████████████████████████████████████████████████████████████████████████| 87/87 [00:12<00:00,  7.22it/s]\n"
     ]
    },
    {
     "name": "stdout",
     "output_type": "stream",
     "text": [
      "\n",
      "101/2 -> Train loss: 0.8483451585737596\tValidation loss: 0.2805529988267139\n"
     ]
    },
    {
     "name": "stderr",
     "output_type": "stream",
     "text": [
      "Training batches: 100%|█████████████████████████████████████████████████████████████████████████| 345/345 [00:50<00:00,  6.78it/s]\n",
      "Validation batches: 100%|█████████████████████████████████████████████████████████████████████████| 87/87 [00:12<00:00,  7.21it/s]\n"
     ]
    },
    {
     "name": "stdout",
     "output_type": "stream",
     "text": [
      "\n",
      "102/2 -> Train loss: 0.8419603814576965\tValidation loss: 0.27786435000536774\n"
     ]
    },
    {
     "name": "stderr",
     "output_type": "stream",
     "text": [
      "Training batches: 100%|█████████████████████████████████████████████████████████████████████████| 345/345 [00:51<00:00,  6.75it/s]\n",
      "Validation batches: 100%|█████████████████████████████████████████████████████████████████████████| 87/87 [00:12<00:00,  7.21it/s]\n"
     ]
    },
    {
     "name": "stdout",
     "output_type": "stream",
     "text": [
      "\n",
      "103/2 -> Train loss: 0.8356027967645246\tValidation loss: 0.27522788760646716\n"
     ]
    },
    {
     "name": "stderr",
     "output_type": "stream",
     "text": [
      "Training batches: 100%|█████████████████████████████████████████████████████████████████████████| 345/345 [00:50<00:00,  6.77it/s]\n",
      "Validation batches: 100%|█████████████████████████████████████████████████████████████████████████| 87/87 [00:12<00:00,  7.21it/s]\n"
     ]
    },
    {
     "name": "stdout",
     "output_type": "stream",
     "text": [
      "\n",
      "104/2 -> Train loss: 0.8294035609319148\tValidation loss: 0.2726407751529034\n"
     ]
    },
    {
     "name": "stderr",
     "output_type": "stream",
     "text": [
      "Training batches: 100%|█████████████████████████████████████████████████████████████████████████| 345/345 [00:51<00:00,  6.76it/s]\n",
      "Validation batches: 100%|█████████████████████████████████████████████████████████████████████████| 87/87 [00:12<00:00,  7.20it/s]\n"
     ]
    },
    {
     "name": "stdout",
     "output_type": "stream",
     "text": [
      "\n",
      "105/2 -> Train loss: 0.8231824274347637\tValidation loss: 0.27010120693988643\n"
     ]
    },
    {
     "name": "stderr",
     "output_type": "stream",
     "text": [
      "Training batches: 100%|█████████████████████████████████████████████████████████████████████████| 345/345 [00:50<00:00,  6.77it/s]\n",
      "Validation batches: 100%|█████████████████████████████████████████████████████████████████████████| 87/87 [00:12<00:00,  7.15it/s]\n"
     ]
    },
    {
     "name": "stdout",
     "output_type": "stream",
     "text": [
      "\n",
      "106/2 -> Train loss: 0.8170669169996304\tValidation loss: 0.2676079962312134\n"
     ]
    },
    {
     "name": "stderr",
     "output_type": "stream",
     "text": [
      "Training batches: 100%|█████████████████████████████████████████████████████████████████████████| 345/345 [00:50<00:00,  6.77it/s]\n",
      "Validation batches: 100%|█████████████████████████████████████████████████████████████████████████| 87/87 [00:12<00:00,  7.21it/s]\n"
     ]
    },
    {
     "name": "stdout",
     "output_type": "stream",
     "text": [
      "\n",
      "107/2 -> Train loss: 0.8110602650069988\tValidation loss: 0.26515744521979007\n"
     ]
    },
    {
     "name": "stderr",
     "output_type": "stream",
     "text": [
      "Training batches: 100%|█████████████████████████████████████████████████████████████████████████| 345/345 [00:50<00:00,  6.77it/s]\n",
      "Validation batches: 100%|█████████████████████████████████████████████████████████████████████████| 87/87 [00:12<00:00,  7.20it/s]\n"
     ]
    },
    {
     "name": "stdout",
     "output_type": "stream",
     "text": [
      "\n",
      "108/2 -> Train loss: 0.8051272196691834\tValidation loss: 0.2627528791831942\n"
     ]
    },
    {
     "name": "stderr",
     "output_type": "stream",
     "text": [
      "Training batches: 100%|█████████████████████████████████████████████████████████████████████████| 345/345 [00:51<00:00,  6.75it/s]\n",
      "Validation batches: 100%|█████████████████████████████████████████████████████████████████████████| 87/87 [00:12<00:00,  7.21it/s]\n"
     ]
    },
    {
     "name": "stdout",
     "output_type": "stream",
     "text": [
      "\n",
      "109/2 -> Train loss: 0.7992456641954502\tValidation loss: 0.26040090890591333\n"
     ]
    },
    {
     "name": "stderr",
     "output_type": "stream",
     "text": [
      "Training batches: 100%|█████████████████████████████████████████████████████████████████████████| 345/345 [00:51<00:00,  6.76it/s]\n",
      "Validation batches: 100%|█████████████████████████████████████████████████████████████████████████| 87/87 [00:12<00:00,  7.23it/s]\n"
     ]
    },
    {
     "name": "stdout",
     "output_type": "stream",
     "text": [
      "\n",
      "110/2 -> Train loss: 0.7934569720234182\tValidation loss: 0.2580786842021197\n"
     ]
    },
    {
     "name": "stderr",
     "output_type": "stream",
     "text": [
      "Training batches: 100%|█████████████████████████████████████████████████████████████████████████| 345/345 [00:50<00:00,  6.78it/s]\n",
      "Validation batches: 100%|█████████████████████████████████████████████████████████████████████████| 87/87 [00:12<00:00,  7.22it/s]\n"
     ]
    },
    {
     "name": "stdout",
     "output_type": "stream",
     "text": [
      "\n",
      "111/2 -> Train loss: 0.7877267629455958\tValidation loss: 0.2558013385955062\n"
     ]
    },
    {
     "name": "stderr",
     "output_type": "stream",
     "text": [
      "Training batches: 100%|█████████████████████████████████████████████████████████████████████████| 345/345 [00:50<00:00,  6.78it/s]\n",
      "Validation batches: 100%|█████████████████████████████████████████████████████████████████████████| 87/87 [00:12<00:00,  7.21it/s]\n"
     ]
    },
    {
     "name": "stdout",
     "output_type": "stream",
     "text": [
      "\n",
      "112/2 -> Train loss: 0.7821074472465644\tValidation loss: 0.25356335257245294\n"
     ]
    },
    {
     "name": "stderr",
     "output_type": "stream",
     "text": [
      "Training batches: 100%|█████████████████████████████████████████████████████████████████████████| 345/345 [00:50<00:00,  6.77it/s]\n",
      "Validation batches: 100%|█████████████████████████████████████████████████████████████████████████| 87/87 [00:12<00:00,  7.23it/s]\n"
     ]
    },
    {
     "name": "stdout",
     "output_type": "stream",
     "text": [
      "\n",
      "113/2 -> Train loss: 0.7765468716263418\tValidation loss: 0.25136485654158075\n"
     ]
    },
    {
     "name": "stderr",
     "output_type": "stream",
     "text": [
      "Training batches: 100%|█████████████████████████████████████████████████████████████████████████| 345/345 [00:51<00:00,  6.76it/s]\n",
      "Validation batches: 100%|█████████████████████████████████████████████████████████████████████████| 87/87 [00:12<00:00,  7.21it/s]\n"
     ]
    },
    {
     "name": "stdout",
     "output_type": "stream",
     "text": [
      "\n",
      "114/2 -> Train loss: 0.7710518638793182\tValidation loss: 0.24920267431632798\n"
     ]
    },
    {
     "name": "stderr",
     "output_type": "stream",
     "text": [
      "Training batches: 100%|█████████████████████████████████████████████████████████████████████████| 345/345 [00:50<00:00,  6.78it/s]\n",
      "Validation batches: 100%|█████████████████████████████████████████████████████████████████████████| 87/87 [00:12<00:00,  7.24it/s]\n"
     ]
    },
    {
     "name": "stdout",
     "output_type": "stream",
     "text": [
      "\n",
      "115/2 -> Train loss: 0.7656319976622437\tValidation loss: 0.24707442707843383\n"
     ]
    },
    {
     "name": "stderr",
     "output_type": "stream",
     "text": [
      "Training batches: 100%|█████████████████████████████████████████████████████████████████████████| 345/345 [00:50<00:00,  6.78it/s]\n",
      "Validation batches: 100%|█████████████████████████████████████████████████████████████████████████| 87/87 [00:12<00:00,  7.22it/s]\n"
     ]
    },
    {
     "name": "stdout",
     "output_type": "stream",
     "text": [
      "\n",
      "116/2 -> Train loss: 0.7602818608428745\tValidation loss: 0.24498597074118506\n"
     ]
    },
    {
     "name": "stderr",
     "output_type": "stream",
     "text": [
      "Training batches: 100%|█████████████████████████████████████████████████████████████████████████| 345/345 [00:50<00:00,  6.77it/s]\n",
      "Validation batches: 100%|█████████████████████████████████████████████████████████████████████████| 87/87 [00:12<00:00,  7.15it/s]\n"
     ]
    },
    {
     "name": "stdout",
     "output_type": "stream",
     "text": [
      "\n",
      "117/2 -> Train loss: 0.7549724082899137\tValidation loss: 0.24293301671923112\n"
     ]
    },
    {
     "name": "stderr",
     "output_type": "stream",
     "text": [
      "Training batches: 100%|█████████████████████████████████████████████████████████████████████████| 345/345 [00:50<00:00,  6.78it/s]\n",
      "Validation batches: 100%|█████████████████████████████████████████████████████████████████████████| 87/87 [00:12<00:00,  7.22it/s]\n"
     ]
    },
    {
     "name": "stdout",
     "output_type": "stream",
     "text": [
      "\n",
      "118/2 -> Train loss: 0.7497927176402582\tValidation loss: 0.240916823242113\n"
     ]
    },
    {
     "name": "stderr",
     "output_type": "stream",
     "text": [
      "Training batches: 100%|█████████████████████████████████████████████████████████████████████████| 345/345 [00:50<00:00,  6.77it/s]\n",
      "Validation batches: 100%|█████████████████████████████████████████████████████████████████████████| 87/87 [00:12<00:00,  7.22it/s]\n"
     ]
    },
    {
     "name": "stdout",
     "output_type": "stream",
     "text": [
      "\n",
      "119/2 -> Train loss: 0.7446192645690922\tValidation loss: 0.23894696691019324\n"
     ]
    },
    {
     "name": "stderr",
     "output_type": "stream",
     "text": [
      "Training batches: 100%|█████████████████████████████████████████████████████████████████████████| 345/345 [00:50<00:00,  6.77it/s]\n",
      "Validation batches: 100%|█████████████████████████████████████████████████████████████████████████| 87/87 [00:12<00:00,  7.21it/s]\n"
     ]
    },
    {
     "name": "stdout",
     "output_type": "stream",
     "text": [
      "\n",
      "120/2 -> Train loss: 0.7395064726229903\tValidation loss: 0.2369943840991192\n"
     ]
    },
    {
     "name": "stderr",
     "output_type": "stream",
     "text": [
      "Training batches: 100%|█████████████████████████████████████████████████████████████████████████| 345/345 [00:51<00:00,  6.76it/s]\n",
      "Validation batches: 100%|█████████████████████████████████████████████████████████████████████████| 87/87 [00:12<00:00,  7.22it/s]\n"
     ]
    },
    {
     "name": "stdout",
     "output_type": "stream",
     "text": [
      "\n",
      "121/2 -> Train loss: 0.7344690781481399\tValidation loss: 0.23507192601754168\n"
     ]
    },
    {
     "name": "stderr",
     "output_type": "stream",
     "text": [
      "Training batches: 100%|█████████████████████████████████████████████████████████████████████████| 345/345 [00:50<00:00,  6.78it/s]\n",
      "Validation batches: 100%|█████████████████████████████████████████████████████████████████████████| 87/87 [00:12<00:00,  7.23it/s]\n"
     ]
    },
    {
     "name": "stdout",
     "output_type": "stream",
     "text": [
      "\n",
      "122/2 -> Train loss: 0.7295259517201703\tValidation loss: 0.2331782628267679\n"
     ]
    },
    {
     "name": "stderr",
     "output_type": "stream",
     "text": [
      "Training batches: 100%|█████████████████████████████████████████████████████████████████████████| 345/345 [00:50<00:00,  6.78it/s]\n",
      "Validation batches: 100%|█████████████████████████████████████████████████████████████████████████| 87/87 [00:12<00:00,  7.22it/s]\n"
     ]
    },
    {
     "name": "stdout",
     "output_type": "stream",
     "text": [
      "\n",
      "123/2 -> Train loss: 0.7246049271383963\tValidation loss: 0.23131489482432255\n"
     ]
    },
    {
     "name": "stderr",
     "output_type": "stream",
     "text": [
      "Training batches: 100%|█████████████████████████████████████████████████████████████████████████| 345/345 [00:50<00:00,  6.78it/s]\n",
      "Validation batches: 100%|█████████████████████████████████████████████████████████████████████████| 87/87 [00:12<00:00,  7.23it/s]\n"
     ]
    },
    {
     "name": "stdout",
     "output_type": "stream",
     "text": [
      "\n",
      "124/2 -> Train loss: 0.7197492835238699\tValidation loss: 0.229489401070001\n"
     ]
    },
    {
     "name": "stderr",
     "output_type": "stream",
     "text": [
      "Training batches: 100%|█████████████████████████████████████████████████████████████████████████| 345/345 [00:51<00:00,  6.75it/s]\n",
      "Validation batches: 100%|█████████████████████████████████████████████████████████████████████████| 87/87 [00:12<00:00,  7.22it/s]\n"
     ]
    },
    {
     "name": "stdout",
     "output_type": "stream",
     "text": [
      "\n",
      "125/2 -> Train loss: 0.7149890909344039\tValidation loss: 0.22769959726919495\n"
     ]
    },
    {
     "name": "stderr",
     "output_type": "stream",
     "text": [
      "Training batches: 100%|█████████████████████████████████████████████████████████████████████████| 345/345 [00:50<00:00,  6.77it/s]\n",
      "Validation batches: 100%|█████████████████████████████████████████████████████████████████████████| 87/87 [00:12<00:00,  7.21it/s]\n"
     ]
    },
    {
     "name": "stdout",
     "output_type": "stream",
     "text": [
      "\n",
      "126/2 -> Train loss: 0.7102776014030061\tValidation loss: 0.2259275190870568\n"
     ]
    },
    {
     "name": "stderr",
     "output_type": "stream",
     "text": [
      "Training batches: 100%|█████████████████████████████████████████████████████████████████████████| 345/345 [00:50<00:00,  6.77it/s]\n",
      "Validation batches: 100%|█████████████████████████████████████████████████████████████████████████| 87/87 [00:12<00:00,  7.22it/s]\n"
     ]
    },
    {
     "name": "stdout",
     "output_type": "stream",
     "text": [
      "\n",
      "127/2 -> Train loss: 0.7055698020088446\tValidation loss: 0.2241790828212806\n"
     ]
    },
    {
     "name": "stderr",
     "output_type": "stream",
     "text": [
      "Training batches: 100%|█████████████████████████████████████████████████████████████████████████| 345/345 [00:50<00:00,  6.78it/s]\n",
      "Validation batches: 100%|█████████████████████████████████████████████████████████████████████████| 87/87 [00:12<00:00,  7.14it/s]\n"
     ]
    },
    {
     "name": "stdout",
     "output_type": "stream",
     "text": [
      "\n",
      "128/2 -> Train loss: 0.7009578789480972\tValidation loss: 0.22245691953626245\n"
     ]
    },
    {
     "name": "stderr",
     "output_type": "stream",
     "text": [
      "Training batches: 100%|█████████████████████████████████████████████████████████████████████████| 345/345 [00:50<00:00,  6.78it/s]\n",
      "Validation batches: 100%|█████████████████████████████████████████████████████████████████████████| 87/87 [00:12<00:00,  7.21it/s]\n"
     ]
    },
    {
     "name": "stdout",
     "output_type": "stream",
     "text": [
      "\n",
      "129/2 -> Train loss: 0.696395429196611\tValidation loss: 0.22076521513238292\n"
     ]
    },
    {
     "name": "stderr",
     "output_type": "stream",
     "text": [
      "Training batches: 100%|█████████████████████████████████████████████████████████████████████████| 345/345 [00:51<00:00,  6.76it/s]\n",
      "Validation batches: 100%|█████████████████████████████████████████████████████████████████████████| 87/87 [00:12<00:00,  7.22it/s]\n"
     ]
    },
    {
     "name": "stdout",
     "output_type": "stream",
     "text": [
      "\n",
      "130/2 -> Train loss: 0.6919149781771522\tValidation loss: 0.21909938309208168\n"
     ]
    },
    {
     "name": "stderr",
     "output_type": "stream",
     "text": [
      "Training batches: 100%|█████████████████████████████████████████████████████████████████████████| 345/345 [00:50<00:00,  6.77it/s]\n",
      "Validation batches: 100%|█████████████████████████████████████████████████████████████████████████| 87/87 [00:12<00:00,  7.22it/s]\n"
     ]
    },
    {
     "name": "stdout",
     "output_type": "stream",
     "text": [
      "\n",
      "131/2 -> Train loss: 0.6874579046369839\tValidation loss: 0.21745535241263747\n"
     ]
    },
    {
     "name": "stderr",
     "output_type": "stream",
     "text": [
      "Training batches: 100%|█████████████████████████████████████████████████████████████████████████| 345/345 [00:51<00:00,  6.75it/s]\n",
      "Validation batches: 100%|█████████████████████████████████████████████████████████████████████████| 87/87 [00:12<00:00,  7.23it/s]\n"
     ]
    },
    {
     "name": "stdout",
     "output_type": "stream",
     "text": [
      "\n",
      "132/2 -> Train loss: 0.683035073654362\tValidation loss: 0.2158417809554862\n"
     ]
    },
    {
     "name": "stderr",
     "output_type": "stream",
     "text": [
      "Training batches: 100%|█████████████████████████████████████████████████████████████████████████| 345/345 [00:50<00:00,  6.78it/s]\n",
      "Validation batches: 100%|█████████████████████████████████████████████████████████████████████████| 87/87 [00:12<00:00,  7.21it/s]\n"
     ]
    },
    {
     "name": "stdout",
     "output_type": "stream",
     "text": [
      "\n",
      "133/2 -> Train loss: 0.6786918580766681\tValidation loss: 0.21425203493617234\n"
     ]
    },
    {
     "name": "stderr",
     "output_type": "stream",
     "text": [
      "Training batches: 100%|█████████████████████████████████████████████████████████████████████████| 345/345 [00:50<00:00,  6.77it/s]\n",
      "Validation batches: 100%|█████████████████████████████████████████████████████████████████████████| 87/87 [00:12<00:00,  7.22it/s]\n"
     ]
    },
    {
     "name": "stdout",
     "output_type": "stream",
     "text": [
      "\n",
      "134/2 -> Train loss: 0.674364045859263\tValidation loss: 0.21268058284095404\n"
     ]
    },
    {
     "name": "stderr",
     "output_type": "stream",
     "text": [
      "Training batches: 100%|█████████████████████████████████████████████████████████████████████████| 345/345 [00:50<00:00,  6.78it/s]\n",
      "Validation batches: 100%|█████████████████████████████████████████████████████████████████████████| 87/87 [00:12<00:00,  7.22it/s]\n"
     ]
    },
    {
     "name": "stdout",
     "output_type": "stream",
     "text": [
      "\n",
      "135/2 -> Train loss: 0.6700960670847579\tValidation loss: 0.21113383266408\n"
     ]
    },
    {
     "name": "stderr",
     "output_type": "stream",
     "text": [
      "Training batches: 100%|█████████████████████████████████████████████████████████████████████████| 345/345 [00:51<00:00,  6.76it/s]\n",
      "Validation batches: 100%|█████████████████████████████████████████████████████████████████████████| 87/87 [00:12<00:00,  7.23it/s]\n"
     ]
    },
    {
     "name": "stdout",
     "output_type": "stream",
     "text": [
      "\n",
      "136/2 -> Train loss: 0.6659215274303496\tValidation loss: 0.20961721553588136\n"
     ]
    },
    {
     "name": "stderr",
     "output_type": "stream",
     "text": [
      "Training batches: 100%|█████████████████████████████████████████████████████████████████████████| 345/345 [00:50<00:00,  6.77it/s]\n",
      "Validation batches: 100%|█████████████████████████████████████████████████████████████████████████| 87/87 [00:12<00:00,  7.22it/s]\n"
     ]
    },
    {
     "name": "stdout",
     "output_type": "stream",
     "text": [
      "\n",
      "137/2 -> Train loss: 0.6617871526275312\tValidation loss: 0.20811249094965162\n"
     ]
    },
    {
     "name": "stderr",
     "output_type": "stream",
     "text": [
      "Training batches: 100%|█████████████████████████████████████████████████████████████████████████| 345/345 [00:50<00:00,  6.78it/s]\n",
      "Validation batches: 100%|█████████████████████████████████████████████████████████████████████████| 87/87 [00:12<00:00,  7.22it/s]\n"
     ]
    },
    {
     "name": "stdout",
     "output_type": "stream",
     "text": [
      "\n",
      "138/2 -> Train loss: 0.6576857876161183\tValidation loss: 0.20662769261054906\n"
     ]
    },
    {
     "name": "stderr",
     "output_type": "stream",
     "text": [
      "Training batches: 100%|█████████████████████████████████████████████████████████████████████████| 345/345 [00:51<00:00,  6.74it/s]\n",
      "Validation batches: 100%|█████████████████████████████████████████████████████████████████████████| 87/87 [00:12<00:00,  7.22it/s]\n"
     ]
    },
    {
     "name": "stdout",
     "output_type": "stream",
     "text": [
      "\n",
      "139/2 -> Train loss: 0.6536148396907839\tValidation loss: 0.2051649821912407\n"
     ]
    },
    {
     "name": "stderr",
     "output_type": "stream",
     "text": [
      "Training batches: 100%|█████████████████████████████████████████████████████████████████████████| 345/345 [00:50<00:00,  6.77it/s]\n",
      "Validation batches: 100%|█████████████████████████████████████████████████████████████████████████| 87/87 [00:12<00:00,  7.21it/s]\n"
     ]
    },
    {
     "name": "stdout",
     "output_type": "stream",
     "text": [
      "\n",
      "140/2 -> Train loss: 0.6496138447748151\tValidation loss: 0.20372350885636165\n"
     ]
    },
    {
     "name": "stderr",
     "output_type": "stream",
     "text": [
      "Training batches: 100%|█████████████████████████████████████████████████████████████████████████| 345/345 [00:50<00:00,  6.77it/s]\n",
      "Validation batches: 100%|█████████████████████████████████████████████████████████████████████████| 87/87 [00:12<00:00,  7.23it/s]\n"
     ]
    },
    {
     "name": "stdout",
     "output_type": "stream",
     "text": [
      "\n",
      "141/2 -> Train loss: 0.6456647085658574\tValidation loss: 0.20229958324730998\n"
     ]
    },
    {
     "name": "stderr",
     "output_type": "stream",
     "text": [
      "Training batches: 100%|█████████████████████████████████████████████████████████████████████████| 345/345 [00:50<00:00,  6.78it/s]\n",
      "Validation batches: 100%|█████████████████████████████████████████████████████████████████████████| 87/87 [00:12<00:00,  7.23it/s]\n"
     ]
    },
    {
     "name": "stdout",
     "output_type": "stream",
     "text": [
      "\n",
      "142/2 -> Train loss: 0.6417201206646866\tValidation loss: 0.20089723057630898\n"
     ]
    },
    {
     "name": "stderr",
     "output_type": "stream",
     "text": [
      "Training batches: 100%|█████████████████████████████████████████████████████████████████████████| 345/345 [00:51<00:00,  6.76it/s]\n",
      "Validation batches: 100%|█████████████████████████████████████████████████████████████████████████| 87/87 [00:12<00:00,  7.23it/s]\n"
     ]
    },
    {
     "name": "stdout",
     "output_type": "stream",
     "text": [
      "\n",
      "143/2 -> Train loss: 0.6378584118911916\tValidation loss: 0.1995157290495353\n"
     ]
    },
    {
     "name": "stderr",
     "output_type": "stream",
     "text": [
      "Training batches: 100%|█████████████████████████████████████████████████████████████████████████| 345/345 [00:50<00:00,  6.78it/s]\n",
      "Validation batches: 100%|█████████████████████████████████████████████████████████████████████████| 87/87 [00:12<00:00,  7.22it/s]\n"
     ]
    },
    {
     "name": "stdout",
     "output_type": "stream",
     "text": [
      "\n",
      "144/2 -> Train loss: 0.6340399005162679\tValidation loss: 0.19815184438885083\n"
     ]
    },
    {
     "name": "stderr",
     "output_type": "stream",
     "text": [
      "Training batches: 100%|█████████████████████████████████████████████████████████████████████████| 345/345 [00:50<00:00,  6.78it/s]\n",
      "Validation batches: 100%|█████████████████████████████████████████████████████████████████████████| 87/87 [00:12<00:00,  7.22it/s]\n"
     ]
    },
    {
     "name": "stdout",
     "output_type": "stream",
     "text": [
      "\n",
      "145/2 -> Train loss: 0.6302446715965639\tValidation loss: 0.196807638986458\n"
     ]
    },
    {
     "name": "stderr",
     "output_type": "stream",
     "text": [
      "Training batches: 100%|█████████████████████████████████████████████████████████████████████████| 345/345 [00:50<00:00,  6.77it/s]\n",
      "Validation batches: 100%|█████████████████████████████████████████████████████████████████████████| 87/87 [00:12<00:00,  7.20it/s]\n"
     ]
    },
    {
     "name": "stdout",
     "output_type": "stream",
     "text": [
      "\n",
      "146/2 -> Train loss: 0.6264739076982164\tValidation loss: 0.19547847807446928\n"
     ]
    },
    {
     "name": "stderr",
     "output_type": "stream",
     "text": [
      "Training batches: 100%|█████████████████████████████████████████████████████████████████████████| 345/345 [00:51<00:00,  6.76it/s]\n",
      "Validation batches: 100%|█████████████████████████████████████████████████████████████████████████| 87/87 [00:12<00:00,  7.23it/s]\n"
     ]
    },
    {
     "name": "stdout",
     "output_type": "stream",
     "text": [
      "\n",
      "147/2 -> Train loss: 0.6227792031790844\tValidation loss: 0.1941707323465645\n"
     ]
    },
    {
     "name": "stderr",
     "output_type": "stream",
     "text": [
      "Training batches: 100%|█████████████████████████████████████████████████████████████████████████| 345/345 [00:50<00:00,  6.77it/s]\n",
      "Validation batches: 100%|█████████████████████████████████████████████████████████████████████████| 87/87 [00:12<00:00,  7.21it/s]\n"
     ]
    },
    {
     "name": "stdout",
     "output_type": "stream",
     "text": [
      "\n",
      "148/2 -> Train loss: 0.6191217929858379\tValidation loss: 0.19287611353551418\n"
     ]
    },
    {
     "name": "stderr",
     "output_type": "stream",
     "text": [
      "Training batches: 100%|█████████████████████████████████████████████████████████████████████████| 345/345 [00:50<00:00,  6.77it/s]\n",
      "Validation batches: 100%|█████████████████████████████████████████████████████████████████████████| 87/87 [00:12<00:00,  7.20it/s]\n"
     ]
    },
    {
     "name": "stdout",
     "output_type": "stream",
     "text": [
      "\n",
      "149/2 -> Train loss: 0.6155238425546452\tValidation loss: 0.1916026364425377\n"
     ]
    },
    {
     "name": "stderr",
     "output_type": "stream",
     "text": [
      "Training batches: 100%|█████████████████████████████████████████████████████████████████████████| 345/345 [00:51<00:00,  6.76it/s]\n",
      "Validation batches: 100%|█████████████████████████████████████████████████████████████████████████| 87/87 [00:12<00:00,  7.23it/s]\n"
     ]
    },
    {
     "name": "stdout",
     "output_type": "stream",
     "text": [
      "\n",
      "150/2 -> Train loss: 0.6119534962156209\tValidation loss: 0.19034842014187184\n"
     ]
    },
    {
     "name": "stderr",
     "output_type": "stream",
     "text": [
      "Training batches: 100%|█████████████████████████████████████████████████████████████████████████| 345/345 [00:50<00:00,  6.78it/s]\n",
      "Validation batches: 100%|█████████████████████████████████████████████████████████████████████████| 87/87 [00:12<00:00,  7.22it/s]\n"
     ]
    },
    {
     "name": "stdout",
     "output_type": "stream",
     "text": [
      "\n",
      "151/2 -> Train loss: 0.6083983009107274\tValidation loss: 0.18910643951370926\n"
     ]
    },
    {
     "name": "stderr",
     "output_type": "stream",
     "text": [
      "Training batches: 100%|█████████████████████████████████████████████████████████████████████████| 345/345 [00:50<00:00,  6.79it/s]\n",
      "Validation batches: 100%|█████████████████████████████████████████████████████████████████████████| 87/87 [00:12<00:00,  7.22it/s]\n"
     ]
    },
    {
     "name": "stdout",
     "output_type": "stream",
     "text": [
      "\n",
      "152/2 -> Train loss: 0.6049013231564118\tValidation loss: 0.18787853687991324\n"
     ]
    },
    {
     "name": "stderr",
     "output_type": "stream",
     "text": [
      "Training batches: 100%|█████████████████████████████████████████████████████████████████████████| 345/345 [00:50<00:00,  6.78it/s]\n",
      "Validation batches: 100%|█████████████████████████████████████████████████████████████████████████| 87/87 [00:12<00:00,  7.22it/s]\n"
     ]
    },
    {
     "name": "stdout",
     "output_type": "stream",
     "text": [
      "\n",
      "153/2 -> Train loss: 0.601487252256302\tValidation loss: 0.18667419189814713\n"
     ]
    },
    {
     "name": "stderr",
     "output_type": "stream",
     "text": [
      "Training batches: 100%|█████████████████████████████████████████████████████████████████████████| 345/345 [00:51<00:00,  6.76it/s]\n",
      "Validation batches: 100%|█████████████████████████████████████████████████████████████████████████| 87/87 [00:12<00:00,  7.23it/s]\n"
     ]
    },
    {
     "name": "stdout",
     "output_type": "stream",
     "text": [
      "\n",
      "154/2 -> Train loss: 0.5980711210456398\tValidation loss: 0.18548051785242317\n"
     ]
    },
    {
     "name": "stderr",
     "output_type": "stream",
     "text": [
      "Training batches: 100%|█████████████████████████████████████████████████████████████████████████| 345/345 [00:50<00:00,  6.77it/s]\n",
      "Validation batches: 100%|█████████████████████████████████████████████████████████████████████████| 87/87 [00:12<00:00,  7.23it/s]\n"
     ]
    },
    {
     "name": "stdout",
     "output_type": "stream",
     "text": [
      "\n",
      "155/2 -> Train loss: 0.5946694928815541\tValidation loss: 0.18429994296409563\n"
     ]
    },
    {
     "name": "stderr",
     "output_type": "stream",
     "text": [
      "Training batches: 100%|█████████████████████████████████████████████████████████████████████████| 345/345 [00:50<00:00,  6.77it/s]\n",
      "Validation batches: 100%|█████████████████████████████████████████████████████████████████████████| 87/87 [00:12<00:00,  7.21it/s]\n"
     ]
    },
    {
     "name": "stdout",
     "output_type": "stream",
     "text": [
      "\n",
      "156/2 -> Train loss: 0.5913307122811675\tValidation loss: 0.18313372069668443\n"
     ]
    },
    {
     "name": "stderr",
     "output_type": "stream",
     "text": [
      "Training batches: 100%|█████████████████████████████████████████████████████████████████████████| 345/345 [00:51<00:00,  6.76it/s]\n",
      "Validation batches: 100%|█████████████████████████████████████████████████████████████████████████| 87/87 [00:12<00:00,  7.21it/s]\n"
     ]
    },
    {
     "name": "stdout",
     "output_type": "stream",
     "text": [
      "\n",
      "157/2 -> Train loss: 0.5880078528813514\tValidation loss: 0.1819843671173681\n"
     ]
    },
    {
     "name": "stderr",
     "output_type": "stream",
     "text": [
      "Training batches: 100%|█████████████████████████████████████████████████████████████████████████| 345/345 [00:51<00:00,  6.76it/s]\n",
      "Validation batches: 100%|█████████████████████████████████████████████████████████████████████████| 87/87 [00:12<00:00,  7.18it/s]\n"
     ]
    },
    {
     "name": "stdout",
     "output_type": "stream",
     "text": [
      "\n",
      "158/2 -> Train loss: 0.5847292136432877\tValidation loss: 0.18085192849178314\n"
     ]
    },
    {
     "name": "stderr",
     "output_type": "stream",
     "text": [
      "Training batches: 100%|█████████████████████████████████████████████████████████████████████████| 345/345 [00:51<00:00,  6.76it/s]\n",
      "Validation batches: 100%|█████████████████████████████████████████████████████████████████████████| 87/87 [00:12<00:00,  7.20it/s]\n"
     ]
    },
    {
     "name": "stdout",
     "output_type": "stream",
     "text": [
      "\n",
      "159/2 -> Train loss: 0.5814993462529202\tValidation loss: 0.1797305228956859\n"
     ]
    },
    {
     "name": "stderr",
     "output_type": "stream",
     "text": [
      "Training batches: 100%|█████████████████████████████████████████████████████████████████████████| 345/345 [00:50<00:00,  6.77it/s]\n",
      "Validation batches: 100%|█████████████████████████████████████████████████████████████████████████| 87/87 [00:12<00:00,  7.22it/s]\n"
     ]
    },
    {
     "name": "stdout",
     "output_type": "stream",
     "text": [
      "\n",
      "160/2 -> Train loss: 0.5782669059133004\tValidation loss: 0.1786204116622831\n"
     ]
    },
    {
     "name": "stderr",
     "output_type": "stream",
     "text": [
      "Training batches: 100%|█████████████████████████████████████████████████████████████████████████| 345/345 [00:51<00:00,  6.76it/s]\n",
      "Validation batches: 100%|█████████████████████████████████████████████████████████████████████████| 87/87 [00:12<00:00,  7.22it/s]\n"
     ]
    },
    {
     "name": "stdout",
     "output_type": "stream",
     "text": [
      "\n",
      "161/2 -> Train loss: 0.575076016533927\tValidation loss: 0.17752504325420082\n"
     ]
    },
    {
     "name": "stderr",
     "output_type": "stream",
     "text": [
      "Training batches: 100%|█████████████████████████████████████████████████████████████████████████| 345/345 [00:50<00:00,  6.77it/s]\n",
      "Validation batches: 100%|█████████████████████████████████████████████████████████████████████████| 87/87 [00:12<00:00,  7.23it/s]\n"
     ]
    },
    {
     "name": "stdout",
     "output_type": "stream",
     "text": [
      "\n",
      "162/2 -> Train loss: 0.5719379242377389\tValidation loss: 0.17644225227095528\n"
     ]
    },
    {
     "name": "stderr",
     "output_type": "stream",
     "text": [
      "Training batches: 100%|█████████████████████████████████████████████████████████████████████████| 345/345 [00:50<00:00,  6.77it/s]\n",
      "Validation batches: 100%|█████████████████████████████████████████████████████████████████████████| 87/87 [00:12<00:00,  7.22it/s]\n"
     ]
    },
    {
     "name": "stdout",
     "output_type": "stream",
     "text": [
      "\n",
      "163/2 -> Train loss: 0.5688298909576859\tValidation loss: 0.1753806280449711\n"
     ]
    },
    {
     "name": "stderr",
     "output_type": "stream",
     "text": [
      "Training batches: 100%|█████████████████████████████████████████████████████████████████████████| 345/345 [00:51<00:00,  6.76it/s]\n",
      "Validation batches: 100%|█████████████████████████████████████████████████████████████████████████| 87/87 [00:12<00:00,  7.22it/s]\n"
     ]
    },
    {
     "name": "stdout",
     "output_type": "stream",
     "text": [
      "\n",
      "164/2 -> Train loss: 0.5657409140474744\tValidation loss: 0.17432647961042227\n"
     ]
    },
    {
     "name": "stderr",
     "output_type": "stream",
     "text": [
      "Training batches: 100%|█████████████████████████████████████████████████████████████████████████| 345/345 [00:51<00:00,  6.74it/s]\n",
      "Validation batches: 100%|█████████████████████████████████████████████████████████████████████████| 87/87 [00:12<00:00,  7.23it/s]\n"
     ]
    },
    {
     "name": "stdout",
     "output_type": "stream",
     "text": [
      "\n",
      "165/2 -> Train loss: 0.5626912372541466\tValidation loss: 0.17328372915730028\n"
     ]
    },
    {
     "name": "stderr",
     "output_type": "stream",
     "text": [
      "Training batches: 100%|█████████████████████████████████████████████████████████████████████████| 345/345 [00:50<00:00,  6.77it/s]\n",
      "Validation batches: 100%|█████████████████████████████████████████████████████████████████████████| 87/87 [00:12<00:00,  7.23it/s]\n"
     ]
    },
    {
     "name": "stdout",
     "output_type": "stream",
     "text": [
      "\n",
      "166/2 -> Train loss: 0.5596812174453717\tValidation loss: 0.17225495463834897\n"
     ]
    },
    {
     "name": "stderr",
     "output_type": "stream",
     "text": [
      "Training batches: 100%|█████████████████████████████████████████████████████████████████████████| 345/345 [00:50<00:00,  6.78it/s]\n",
      "Validation batches: 100%|█████████████████████████████████████████████████████████████████████████| 87/87 [00:12<00:00,  7.23it/s]\n"
     ]
    },
    {
     "name": "stdout",
     "output_type": "stream",
     "text": [
      "\n",
      "167/2 -> Train loss: 0.5566821110867385\tValidation loss: 0.17123655162105889\n"
     ]
    },
    {
     "name": "stderr",
     "output_type": "stream",
     "text": [
      "Training batches: 100%|█████████████████████████████████████████████████████████████████████████| 345/345 [00:50<00:00,  6.78it/s]\n",
      "Validation batches: 100%|█████████████████████████████████████████████████████████████████████████| 87/87 [00:12<00:00,  7.24it/s]\n"
     ]
    },
    {
     "name": "stdout",
     "output_type": "stream",
     "text": [
      "\n",
      "168/2 -> Train loss: 0.5537140053538205\tValidation loss: 0.17023046964062302\n"
     ]
    },
    {
     "name": "stderr",
     "output_type": "stream",
     "text": [
      "Training batches: 100%|█████████████████████████████████████████████████████████████████████████| 345/345 [00:51<00:00,  6.76it/s]\n",
      "Validation batches: 100%|█████████████████████████████████████████████████████████████████████████| 87/87 [00:12<00:00,  7.21it/s]\n"
     ]
    },
    {
     "name": "stdout",
     "output_type": "stream",
     "text": [
      "\n",
      "169/2 -> Train loss: 0.5507704094355078\tValidation loss: 0.16923576544160862\n"
     ]
    },
    {
     "name": "stderr",
     "output_type": "stream",
     "text": [
      "Training batches: 100%|█████████████████████████████████████████████████████████████████████████| 345/345 [00:51<00:00,  6.76it/s]\n",
      "Validation batches: 100%|█████████████████████████████████████████████████████████████████████████| 87/87 [00:12<00:00,  7.21it/s]\n"
     ]
    },
    {
     "name": "stdout",
     "output_type": "stream",
     "text": [
      "\n",
      "170/2 -> Train loss: 0.5478728184545798\tValidation loss: 0.1682515134860099\n"
     ]
    },
    {
     "name": "stderr",
     "output_type": "stream",
     "text": [
      "Training batches: 100%|█████████████████████████████████████████████████████████████████████████| 345/345 [00:50<00:00,  6.78it/s]\n",
      "Validation batches: 100%|█████████████████████████████████████████████████████████████████████████| 87/87 [00:12<00:00,  7.21it/s]\n"
     ]
    },
    {
     "name": "stdout",
     "output_type": "stream",
     "text": [
      "\n",
      "171/2 -> Train loss: 0.545017601352266\tValidation loss: 0.16728358965435447\n"
     ]
    },
    {
     "name": "stderr",
     "output_type": "stream",
     "text": [
      "Training batches: 100%|█████████████████████████████████████████████████████████████████████████| 345/345 [00:51<00:00,  6.75it/s]\n",
      "Validation batches: 100%|█████████████████████████████████████████████████████████████████████████| 87/87 [00:12<00:00,  7.21it/s]\n"
     ]
    },
    {
     "name": "stdout",
     "output_type": "stream",
     "text": [
      "\n",
      "172/2 -> Train loss: 0.5421746295946888\tValidation loss: 0.16632156806711515\n"
     ]
    },
    {
     "name": "stderr",
     "output_type": "stream",
     "text": [
      "Training batches: 100%|█████████████████████████████████████████████████████████████████████████| 345/345 [00:50<00:00,  6.78it/s]\n",
      "Validation batches: 100%|█████████████████████████████████████████████████████████████████████████| 87/87 [00:12<00:00,  7.23it/s]\n"
     ]
    },
    {
     "name": "stdout",
     "output_type": "stream",
     "text": [
      "\n",
      "173/2 -> Train loss: 0.539351193740161\tValidation loss: 0.16537088958974475\n"
     ]
    },
    {
     "name": "stderr",
     "output_type": "stream",
     "text": [
      "Training batches: 100%|█████████████████████████████████████████████████████████████████████████| 345/345 [00:50<00:00,  6.78it/s]\n",
      "Validation batches: 100%|█████████████████████████████████████████████████████████████████████████| 87/87 [00:12<00:00,  7.22it/s]\n"
     ]
    },
    {
     "name": "stdout",
     "output_type": "stream",
     "text": [
      "\n",
      "174/2 -> Train loss: 0.5365712714845616\tValidation loss: 0.16443180988076414\n"
     ]
    },
    {
     "name": "stderr",
     "output_type": "stream",
     "text": [
      "Training batches: 100%|█████████████████████████████████████████████████████████████████████████| 345/345 [00:50<00:00,  6.77it/s]\n",
      "Validation batches: 100%|█████████████████████████████████████████████████████████████████████████| 87/87 [00:12<00:00,  7.21it/s]\n"
     ]
    },
    {
     "name": "stdout",
     "output_type": "stream",
     "text": [
      "\n",
      "175/2 -> Train loss: 0.5338312034233315\tValidation loss: 0.16350496246897514\n"
     ]
    },
    {
     "name": "stderr",
     "output_type": "stream",
     "text": [
      "Training batches: 100%|█████████████████████████████████████████████████████████████████████████| 345/345 [00:50<00:00,  6.77it/s]\n",
      "Validation batches: 100%|█████████████████████████████████████████████████████████████████████████| 87/87 [00:12<00:00,  7.22it/s]\n"
     ]
    },
    {
     "name": "stdout",
     "output_type": "stream",
     "text": [
      "\n",
      "176/2 -> Train loss: 0.5311045370319488\tValidation loss: 0.16258765831114197\n"
     ]
    },
    {
     "name": "stderr",
     "output_type": "stream",
     "text": [
      "Training batches: 100%|█████████████████████████████████████████████████████████████████████████| 345/345 [00:50<00:00,  6.78it/s]\n",
      "Validation batches: 100%|█████████████████████████████████████████████████████████████████████████| 87/87 [00:12<00:00,  7.22it/s]\n"
     ]
    },
    {
     "name": "stdout",
     "output_type": "stream",
     "text": [
      "\n",
      "177/2 -> Train loss: 0.5283938677179971\tValidation loss: 0.16167863114309067\n"
     ]
    },
    {
     "name": "stderr",
     "output_type": "stream",
     "text": [
      "Training batches: 100%|█████████████████████████████████████████████████████████████████████████| 345/345 [00:50<00:00,  6.78it/s]\n",
      "Validation batches: 100%|█████████████████████████████████████████████████████████████████████████| 87/87 [00:12<00:00,  7.23it/s]\n"
     ]
    },
    {
     "name": "stdout",
     "output_type": "stream",
     "text": [
      "\n",
      "178/2 -> Train loss: 0.5257038101849543\tValidation loss: 0.16077954799513952\n"
     ]
    },
    {
     "name": "stderr",
     "output_type": "stream",
     "text": [
      "Training batches: 100%|█████████████████████████████████████████████████████████████████████████| 345/345 [00:50<00:00,  6.78it/s]\n",
      "Validation batches: 100%|█████████████████████████████████████████████████████████████████████████| 87/87 [00:12<00:00,  7.22it/s]\n"
     ]
    },
    {
     "name": "stdout",
     "output_type": "stream",
     "text": [
      "\n",
      "179/2 -> Train loss: 0.5230466804061851\tValidation loss: 0.15989089120366065\n"
     ]
    },
    {
     "name": "stderr",
     "output_type": "stream",
     "text": [
      "Training batches: 100%|█████████████████████████████████████████████████████████████████████████| 345/345 [00:51<00:00,  6.75it/s]\n",
      "Validation batches: 100%|█████████████████████████████████████████████████████████████████████████| 87/87 [00:12<00:00,  7.21it/s]\n"
     ]
    },
    {
     "name": "stdout",
     "output_type": "stream",
     "text": [
      "\n",
      "180/2 -> Train loss: 0.5204185013373838\tValidation loss: 0.15901174564602083\n"
     ]
    },
    {
     "name": "stderr",
     "output_type": "stream",
     "text": [
      "Training batches: 100%|█████████████████████████████████████████████████████████████████████████| 345/345 [00:51<00:00,  6.76it/s]\n",
      "Validation batches: 100%|█████████████████████████████████████████████████████████████████████████| 87/87 [00:12<00:00,  7.23it/s]\n"
     ]
    },
    {
     "name": "stdout",
     "output_type": "stream",
     "text": [
      "\n",
      "181/2 -> Train loss: 0.5178063332906374\tValidation loss: 0.15814553978190915\n"
     ]
    },
    {
     "name": "stderr",
     "output_type": "stream",
     "text": [
      "Training batches: 100%|█████████████████████████████████████████████████████████████████████████| 345/345 [00:50<00:00,  6.77it/s]\n",
      "Validation batches: 100%|█████████████████████████████████████████████████████████████████████████| 87/87 [00:12<00:00,  7.21it/s]\n"
     ]
    },
    {
     "name": "stdout",
     "output_type": "stream",
     "text": [
      "\n",
      "182/2 -> Train loss: 0.5152261984383911\tValidation loss: 0.15728602182073034\n"
     ]
    },
    {
     "name": "stderr",
     "output_type": "stream",
     "text": [
      "Training batches: 100%|█████████████████████████████████████████████████████████████████████████| 345/345 [00:51<00:00,  6.75it/s]\n",
      "Validation batches: 100%|█████████████████████████████████████████████████████████████████████████| 87/87 [00:12<00:00,  7.22it/s]\n"
     ]
    },
    {
     "name": "stdout",
     "output_type": "stream",
     "text": [
      "\n",
      "183/2 -> Train loss: 0.5126731768731975\tValidation loss: 0.1564380415936034\n"
     ]
    },
    {
     "name": "stderr",
     "output_type": "stream",
     "text": [
      "Training batches: 100%|█████████████████████████████████████████████████████████████████████████| 345/345 [00:50<00:00,  6.77it/s]\n",
      "Validation batches: 100%|█████████████████████████████████████████████████████████████████████████| 87/87 [00:12<00:00,  7.20it/s]\n"
     ]
    },
    {
     "name": "stdout",
     "output_type": "stream",
     "text": [
      "\n",
      "184/2 -> Train loss: 0.5101374242862047\tValidation loss: 0.15559753458000977\n"
     ]
    },
    {
     "name": "stderr",
     "output_type": "stream",
     "text": [
      "Training batches: 100%|█████████████████████████████████████████████████████████████████████████| 345/345 [00:50<00:00,  6.78it/s]\n",
      "Validation batches: 100%|█████████████████████████████████████████████████████████████████████████| 87/87 [00:12<00:00,  7.21it/s]\n"
     ]
    },
    {
     "name": "stdout",
     "output_type": "stream",
     "text": [
      "\n",
      "185/2 -> Train loss: 0.5076444198785135\tValidation loss: 0.15476531808813773\n"
     ]
    },
    {
     "name": "stderr",
     "output_type": "stream",
     "text": [
      "Training batches: 100%|█████████████████████████████████████████████████████████████████████████| 345/345 [00:50<00:00,  6.77it/s]\n",
      "Validation batches: 100%|█████████████████████████████████████████████████████████████████████████| 87/87 [00:12<00:00,  7.21it/s]\n"
     ]
    },
    {
     "name": "stdout",
     "output_type": "stream",
     "text": [
      "\n",
      "186/2 -> Train loss: 0.5051528017033777\tValidation loss: 0.15394314738652873\n"
     ]
    },
    {
     "name": "stderr",
     "output_type": "stream",
     "text": [
      "Training batches: 100%|█████████████████████████████████████████████████████████████████████████| 345/345 [00:51<00:00,  6.76it/s]\n",
      "Validation batches: 100%|█████████████████████████████████████████████████████████████████████████| 87/87 [00:12<00:00,  7.23it/s]\n"
     ]
    },
    {
     "name": "stdout",
     "output_type": "stream",
     "text": [
      "\n",
      "187/2 -> Train loss: 0.5026850945385501\tValidation loss: 0.15312946586961174\n"
     ]
    },
    {
     "name": "stderr",
     "output_type": "stream",
     "text": [
      "Training batches: 100%|█████████████████████████████████████████████████████████████████████████| 345/345 [00:50<00:00,  6.77it/s]\n",
      "Validation batches: 100%|█████████████████████████████████████████████████████████████████████████| 87/87 [00:12<00:00,  7.21it/s]\n"
     ]
    },
    {
     "name": "stdout",
     "output_type": "stream",
     "text": [
      "\n",
      "188/2 -> Train loss: 0.5002600399769683\tValidation loss: 0.15232423993358019\n"
     ]
    },
    {
     "name": "stderr",
     "output_type": "stream",
     "text": [
      "Training batches: 100%|█████████████████████████████████████████████████████████████████████████| 345/345 [00:50<00:00,  6.77it/s]\n",
      "Validation batches: 100%|█████████████████████████████████████████████████████████████████████████| 87/87 [00:12<00:00,  7.22it/s]\n"
     ]
    },
    {
     "name": "stdout",
     "output_type": "stream",
     "text": [
      "\n",
      "189/2 -> Train loss: 0.4978661453820932\tValidation loss: 0.15153016555476126\n"
     ]
    },
    {
     "name": "stderr",
     "output_type": "stream",
     "text": [
      "Training batches: 100%|█████████████████████████████████████████████████████████████████████████| 345/345 [00:50<00:00,  6.79it/s]\n",
      "Validation batches: 100%|█████████████████████████████████████████████████████████████████████████| 87/87 [00:12<00:00,  7.23it/s]\n"
     ]
    },
    {
     "name": "stdout",
     "output_type": "stream",
     "text": [
      "\n",
      "190/2 -> Train loss: 0.49547569284443604\tValidation loss: 0.15074064373769563\n"
     ]
    },
    {
     "name": "stderr",
     "output_type": "stream",
     "text": [
      "Training batches: 100%|█████████████████████████████████████████████████████████████████████████| 345/345 [00:50<00:00,  6.77it/s]\n",
      "Validation batches: 100%|█████████████████████████████████████████████████████████████████████████| 87/87 [00:12<00:00,  7.23it/s]\n"
     ]
    },
    {
     "name": "stdout",
     "output_type": "stream",
     "text": [
      "\n",
      "191/2 -> Train loss: 0.4931220153800438\tValidation loss: 0.14995947871181128\n"
     ]
    },
    {
     "name": "stderr",
     "output_type": "stream",
     "text": [
      "Training batches: 100%|█████████████████████████████████████████████████████████████████████████| 345/345 [00:51<00:00,  6.76it/s]\n",
      "Validation batches: 100%|█████████████████████████████████████████████████████████████████████████| 87/87 [00:12<00:00,  7.21it/s]\n"
     ]
    },
    {
     "name": "stdout",
     "output_type": "stream",
     "text": [
      "\n",
      "192/2 -> Train loss: 0.49075907750778236\tValidation loss: 0.14918863294272663\n"
     ]
    },
    {
     "name": "stderr",
     "output_type": "stream",
     "text": [
      "Training batches: 100%|█████████████████████████████████████████████████████████████████████████| 345/345 [00:50<00:00,  6.78it/s]\n",
      "Validation batches: 100%|█████████████████████████████████████████████████████████████████████████| 87/87 [00:12<00:00,  7.22it/s]\n"
     ]
    },
    {
     "name": "stdout",
     "output_type": "stream",
     "text": [
      "\n",
      "193/2 -> Train loss: 0.4884335887340809\tValidation loss: 0.14843089568921466\n"
     ]
    },
    {
     "name": "stderr",
     "output_type": "stream",
     "text": [
      "Training batches: 100%|█████████████████████████████████████████████████████████████████████████| 345/345 [00:50<00:00,  6.77it/s]\n",
      "Validation batches: 100%|█████████████████████████████████████████████████████████████████████████| 87/87 [00:12<00:00,  7.21it/s]\n"
     ]
    },
    {
     "name": "stdout",
     "output_type": "stream",
     "text": [
      "\n",
      "194/2 -> Train loss: 0.4861294356791796\tValidation loss: 0.14767321964574603\n"
     ]
    },
    {
     "name": "stderr",
     "output_type": "stream",
     "text": [
      "Training batches: 100%|█████████████████████████████████████████████████████████████████████████| 345/345 [00:50<00:00,  6.77it/s]\n",
      "Validation batches: 100%|█████████████████████████████████████████████████████████████████████████| 87/87 [00:12<00:00,  7.20it/s]\n"
     ]
    },
    {
     "name": "stdout",
     "output_type": "stream",
     "text": [
      "\n",
      "195/2 -> Train loss: 0.48384613170642377\tValidation loss: 0.14692285728378404\n"
     ]
    },
    {
     "name": "stderr",
     "output_type": "stream",
     "text": [
      "Training batches: 100%|█████████████████████████████████████████████████████████████████████████| 345/345 [00:50<00:00,  6.77it/s]\n",
      "Validation batches: 100%|█████████████████████████████████████████████████████████████████████████| 87/87 [00:12<00:00,  7.21it/s]\n"
     ]
    },
    {
     "name": "stdout",
     "output_type": "stream",
     "text": [
      "\n",
      "196/2 -> Train loss: 0.4815807603758169\tValidation loss: 0.14618006630855934\n"
     ]
    },
    {
     "name": "stderr",
     "output_type": "stream",
     "text": [
      "Training batches: 100%|█████████████████████████████████████████████████████████████████████████| 345/345 [00:50<00:00,  6.77it/s]\n",
      "Validation batches: 100%|█████████████████████████████████████████████████████████████████████████| 87/87 [00:12<00:00,  7.21it/s]\n"
     ]
    },
    {
     "name": "stdout",
     "output_type": "stream",
     "text": [
      "\n",
      "197/2 -> Train loss: 0.4793514806498349\tValidation loss: 0.14544563055870188\n"
     ]
    },
    {
     "name": "stderr",
     "output_type": "stream",
     "text": [
      "Training batches: 100%|█████████████████████████████████████████████████████████████████████████| 345/345 [00:51<00:00,  6.76it/s]\n",
      "Validation batches: 100%|█████████████████████████████████████████████████████████████████████████| 87/87 [00:12<00:00,  7.23it/s]\n"
     ]
    },
    {
     "name": "stdout",
     "output_type": "stream",
     "text": [
      "\n",
      "198/2 -> Train loss: 0.4771342044371217\tValidation loss: 0.14472077265345648\n"
     ]
    },
    {
     "name": "stderr",
     "output_type": "stream",
     "text": [
      "Training batches: 100%|█████████████████████████████████████████████████████████████████████████| 345/345 [00:50<00:00,  6.78it/s]\n",
      "Validation batches: 100%|█████████████████████████████████████████████████████████████████████████| 87/87 [00:12<00:00,  7.22it/s]\n"
     ]
    },
    {
     "name": "stdout",
     "output_type": "stream",
     "text": [
      "\n",
      "199/2 -> Train loss: 0.4749326194043947\tValidation loss: 0.1440054288706212\n"
     ]
    },
    {
     "name": "stderr",
     "output_type": "stream",
     "text": [
      "Training batches: 100%|█████████████████████████████████████████████████████████████████████████| 345/345 [00:50<00:00,  6.77it/s]\n",
      "Validation batches: 100%|█████████████████████████████████████████████████████████████████████████| 87/87 [00:12<00:00,  7.20it/s]\n"
     ]
    },
    {
     "name": "stdout",
     "output_type": "stream",
     "text": [
      "\n",
      "200/2 -> Train loss: 0.47277578961311384\tValidation loss: 0.14330842936557814\n"
     ]
    },
    {
     "name": "stderr",
     "output_type": "stream",
     "text": [
      "Training batches: 100%|█████████████████████████████████████████████████████████████████████████| 345/345 [00:50<00:00,  6.78it/s]\n",
      "Validation batches: 100%|█████████████████████████████████████████████████████████████████████████| 87/87 [00:12<00:00,  7.16it/s]\n"
     ]
    },
    {
     "name": "stdout",
     "output_type": "stream",
     "text": [
      "\n",
      "201/2 -> Train loss: 0.4706147947541551\tValidation loss: 0.14260322784119714\n"
     ]
    },
    {
     "name": "stderr",
     "output_type": "stream",
     "text": [
      "Training batches: 100%|█████████████████████████████████████████████████████████████████████████| 345/345 [00:50<00:00,  6.78it/s]\n",
      "Validation batches: 100%|█████████████████████████████████████████████████████████████████████████| 87/87 [00:12<00:00,  7.22it/s]\n"
     ]
    },
    {
     "name": "stdout",
     "output_type": "stream",
     "text": [
      "\n",
      "202/2 -> Train loss: 0.46847084296697505\tValidation loss: 0.14190838629590857\n"
     ]
    },
    {
     "name": "stderr",
     "output_type": "stream",
     "text": [
      "Training batches: 100%|█████████████████████████████████████████████████████████████████████████| 345/345 [00:50<00:00,  6.78it/s]\n",
      "Validation batches: 100%|█████████████████████████████████████████████████████████████████████████| 87/87 [00:12<00:00,  7.23it/s]\n"
     ]
    },
    {
     "name": "stdout",
     "output_type": "stream",
     "text": [
      "\n",
      "203/2 -> Train loss: 0.46634288027548026\tValidation loss: 0.14121524172498678\n"
     ]
    },
    {
     "name": "stderr",
     "output_type": "stream",
     "text": [
      "Training batches: 100%|█████████████████████████████████████████████████████████████████████████| 345/345 [00:50<00:00,  6.78it/s]\n",
      "Validation batches: 100%|█████████████████████████████████████████████████████████████████████████| 87/87 [00:12<00:00,  7.21it/s]\n"
     ]
    },
    {
     "name": "stdout",
     "output_type": "stream",
     "text": [
      "\n",
      "204/2 -> Train loss: 0.4642459043937092\tValidation loss: 0.14053530449033708\n"
     ]
    },
    {
     "name": "stderr",
     "output_type": "stream",
     "text": [
      "Training batches: 100%|█████████████████████████████████████████████████████████████████████████| 345/345 [00:51<00:00,  6.76it/s]\n",
      "Validation batches: 100%|█████████████████████████████████████████████████████████████████████████| 87/87 [00:12<00:00,  7.21it/s]\n"
     ]
    },
    {
     "name": "stdout",
     "output_type": "stream",
     "text": [
      "\n",
      "205/2 -> Train loss: 0.46217735124199477\tValidation loss: 0.13985664499704145\n"
     ]
    },
    {
     "name": "stderr",
     "output_type": "stream",
     "text": [
      "Training batches: 100%|█████████████████████████████████████████████████████████████████████████| 345/345 [00:50<00:00,  6.77it/s]\n",
      "Validation batches: 100%|█████████████████████████████████████████████████████████████████████████| 87/87 [00:12<00:00,  7.21it/s]\n"
     ]
    },
    {
     "name": "stdout",
     "output_type": "stream",
     "text": [
      "\n",
      "206/2 -> Train loss: 0.46011814861678324\tValidation loss: 0.13918433716373704\n"
     ]
    },
    {
     "name": "stderr",
     "output_type": "stream",
     "text": [
      "Training batches: 100%|█████████████████████████████████████████████████████████████████████████| 345/345 [00:50<00:00,  6.77it/s]\n",
      "Validation batches: 100%|█████████████████████████████████████████████████████████████████████████| 87/87 [00:12<00:00,  7.20it/s]\n"
     ]
    },
    {
     "name": "stdout",
     "output_type": "stream",
     "text": [
      "\n",
      "207/2 -> Train loss: 0.45807148438647755\tValidation loss: 0.1385236767520457\n"
     ]
    },
    {
     "name": "stderr",
     "output_type": "stream",
     "text": [
      "Training batches: 100%|█████████████████████████████████████████████████████████████████████████| 345/345 [00:50<00:00,  6.77it/s]\n",
      "Validation batches: 100%|█████████████████████████████████████████████████████████████████████████| 87/87 [00:12<00:00,  7.20it/s]\n"
     ]
    },
    {
     "name": "stdout",
     "output_type": "stream",
     "text": [
      "\n",
      "208/2 -> Train loss: 0.4560449161352056\tValidation loss: 0.13787086556009898\n"
     ]
    },
    {
     "name": "stderr",
     "output_type": "stream",
     "text": [
      "Training batches: 100%|█████████████████████████████████████████████████████████████████████████| 345/345 [00:51<00:00,  6.75it/s]\n",
      "Validation batches: 100%|█████████████████████████████████████████████████████████████████████████| 87/87 [00:12<00:00,  7.21it/s]\n"
     ]
    },
    {
     "name": "stdout",
     "output_type": "stream",
     "text": [
      "\n",
      "209/2 -> Train loss: 0.4540255256589288\tValidation loss: 0.13721906685249396\n"
     ]
    },
    {
     "name": "stderr",
     "output_type": "stream",
     "text": [
      "Training batches: 100%|█████████████████████████████████████████████████████████████████████████| 345/345 [00:51<00:00,  6.76it/s]\n",
      "Validation batches: 100%|█████████████████████████████████████████████████████████████████████████| 87/87 [00:12<00:00,  7.22it/s]\n"
     ]
    },
    {
     "name": "stdout",
     "output_type": "stream",
     "text": [
      "\n",
      "210/2 -> Train loss: 0.45201683675496346\tValidation loss: 0.13657920782563598\n"
     ]
    },
    {
     "name": "stderr",
     "output_type": "stream",
     "text": [
      "Training batches: 100%|█████████████████████████████████████████████████████████████████████████| 345/345 [00:50<00:00,  6.77it/s]\n",
      "Validation batches: 100%|█████████████████████████████████████████████████████████████████████████| 87/87 [00:12<00:00,  7.21it/s]\n"
     ]
    },
    {
     "name": "stdout",
     "output_type": "stream",
     "text": [
      "\n",
      "211/2 -> Train loss: 0.45003136956991713\tValidation loss: 0.1359399684730444\n"
     ]
    },
    {
     "name": "stderr",
     "output_type": "stream",
     "text": [
      "Training batches: 100%|█████████████████████████████████████████████████████████████████████████| 345/345 [00:51<00:00,  6.76it/s]\n",
      "Validation batches: 100%|█████████████████████████████████████████████████████████████████████████| 87/87 [00:12<00:00,  7.15it/s]\n"
     ]
    },
    {
     "name": "stdout",
     "output_type": "stream",
     "text": [
      "\n",
      "212/2 -> Train loss: 0.4480682602601137\tValidation loss: 0.1353039916930808\n"
     ]
    },
    {
     "name": "stderr",
     "output_type": "stream",
     "text": [
      "Training batches: 100%|█████████████████████████████████████████████████████████████████████████| 345/345 [00:50<00:00,  6.78it/s]\n",
      "Validation batches: 100%|█████████████████████████████████████████████████████████████████████████| 87/87 [00:12<00:00,  7.22it/s]\n"
     ]
    },
    {
     "name": "stdout",
     "output_type": "stream",
     "text": [
      "\n",
      "213/2 -> Train loss: 0.44611883100499755\tValidation loss: 0.1346749835047862\n"
     ]
    },
    {
     "name": "stderr",
     "output_type": "stream",
     "text": [
      "Training batches: 100%|█████████████████████████████████████████████████████████████████████████| 345/345 [00:50<00:00,  6.77it/s]\n",
      "Validation batches: 100%|█████████████████████████████████████████████████████████████████████████| 87/87 [00:12<00:00,  7.22it/s]\n"
     ]
    },
    {
     "name": "stdout",
     "output_type": "stream",
     "text": [
      "\n",
      "214/2 -> Train loss: 0.44420005368842214\tValidation loss: 0.13405532763372172\n"
     ]
    },
    {
     "name": "stderr",
     "output_type": "stream",
     "text": [
      "Training batches: 100%|█████████████████████████████████████████████████████████████████████████| 345/345 [00:50<00:00,  6.78it/s]\n",
      "Validation batches: 100%|█████████████████████████████████████████████████████████████████████████| 87/87 [00:12<00:00,  7.22it/s]\n"
     ]
    },
    {
     "name": "stdout",
     "output_type": "stream",
     "text": [
      "\n",
      "215/2 -> Train loss: 0.44228770792524735\tValidation loss: 0.13344182795815604\n"
     ]
    },
    {
     "name": "stderr",
     "output_type": "stream",
     "text": [
      "Training batches: 100%|█████████████████████████████████████████████████████████████████████████| 345/345 [00:51<00:00,  6.76it/s]\n",
      "Validation batches: 100%|█████████████████████████████████████████████████████████████████████████| 87/87 [00:12<00:00,  7.22it/s]\n"
     ]
    },
    {
     "name": "stdout",
     "output_type": "stream",
     "text": [
      "\n",
      "216/2 -> Train loss: 0.44038976561808746\tValidation loss: 0.1328358583043326\n"
     ]
    },
    {
     "name": "stderr",
     "output_type": "stream",
     "text": [
      "Training batches: 100%|█████████████████████████████████████████████████████████████████████████| 345/345 [00:50<00:00,  6.77it/s]\n",
      "Validation batches: 100%|█████████████████████████████████████████████████████████████████████████| 87/87 [00:12<00:00,  7.23it/s]\n"
     ]
    },
    {
     "name": "stdout",
     "output_type": "stream",
     "text": [
      "\n",
      "217/2 -> Train loss: 0.43852565227843954\tValidation loss: 0.13223490981726727\n"
     ]
    },
    {
     "name": "stderr",
     "output_type": "stream",
     "text": [
      "Training batches: 100%|█████████████████████████████████████████████████████████████████████████| 345/345 [00:51<00:00,  6.76it/s]\n",
      "Validation batches: 100%|█████████████████████████████████████████████████████████████████████████| 87/87 [00:12<00:00,  7.21it/s]\n"
     ]
    },
    {
     "name": "stdout",
     "output_type": "stream",
     "text": [
      "\n",
      "218/2 -> Train loss: 0.4366650577187057\tValidation loss: 0.1316338371227517\n"
     ]
    },
    {
     "name": "stderr",
     "output_type": "stream",
     "text": [
      "Training batches: 100%|█████████████████████████████████████████████████████████████████████████| 345/345 [00:51<00:00,  6.76it/s]\n",
      "Validation batches: 100%|█████████████████████████████████████████████████████████████████████████| 87/87 [00:12<00:00,  7.21it/s]\n"
     ]
    },
    {
     "name": "stdout",
     "output_type": "stream",
     "text": [
      "\n",
      "219/2 -> Train loss: 0.434819112676639\tValidation loss: 0.13104091607413598\n"
     ]
    },
    {
     "name": "stderr",
     "output_type": "stream",
     "text": [
      "Training batches: 100%|█████████████████████████████████████████████████████████████████████████| 345/345 [00:51<00:00,  6.75it/s]\n",
      "Validation batches: 100%|█████████████████████████████████████████████████████████████████████████| 87/87 [00:12<00:00,  7.21it/s]\n"
     ]
    },
    {
     "name": "stdout",
     "output_type": "stream",
     "text": [
      "\n",
      "220/2 -> Train loss: 0.43298507333764324\tValidation loss: 0.1304616090317673\n"
     ]
    },
    {
     "name": "stderr",
     "output_type": "stream",
     "text": [
      "Training batches: 100%|█████████████████████████████████████████████████████████████████████████| 345/345 [00:50<00:00,  6.78it/s]\n",
      "Validation batches: 100%|█████████████████████████████████████████████████████████████████████████| 87/87 [00:12<00:00,  7.23it/s]\n"
     ]
    },
    {
     "name": "stdout",
     "output_type": "stream",
     "text": [
      "\n",
      "221/2 -> Train loss: 0.43116925469555\tValidation loss: 0.1298764686703931\n"
     ]
    },
    {
     "name": "stderr",
     "output_type": "stream",
     "text": [
      "Training batches: 100%|█████████████████████████████████████████████████████████████████████████| 345/345 [00:50<00:00,  6.77it/s]\n",
      "Validation batches: 100%|█████████████████████████████████████████████████████████████████████████| 87/87 [00:12<00:00,  7.23it/s]\n"
     ]
    },
    {
     "name": "stdout",
     "output_type": "stream",
     "text": [
      "\n",
      "222/2 -> Train loss: 0.4293741126161508\tValidation loss: 0.12929683942433678\n"
     ]
    },
    {
     "name": "stderr",
     "output_type": "stream",
     "text": [
      "Training batches: 100%|█████████████████████████████████████████████████████████████████████████| 345/345 [00:50<00:00,  6.77it/s]\n",
      "Validation batches: 100%|█████████████████████████████████████████████████████████████████████████| 87/87 [00:12<00:00,  7.15it/s]\n"
     ]
    },
    {
     "name": "stdout",
     "output_type": "stream",
     "text": [
      "\n",
      "223/2 -> Train loss: 0.42758943940244126\tValidation loss: 0.12872201715740716\n"
     ]
    },
    {
     "name": "stderr",
     "output_type": "stream",
     "text": [
      "Training batches: 100%|█████████████████████████████████████████████████████████████████████████| 345/345 [00:50<00:00,  6.78it/s]\n",
      "Validation batches: 100%|█████████████████████████████████████████████████████████████████████████| 87/87 [00:12<00:00,  7.21it/s]\n"
     ]
    },
    {
     "name": "stdout",
     "output_type": "stream",
     "text": [
      "\n",
      "224/2 -> Train loss: 0.4258104412015053\tValidation loss: 0.12816091694962561\n"
     ]
    },
    {
     "name": "stderr",
     "output_type": "stream",
     "text": [
      "Training batches: 100%|█████████████████████████████████████████████████████████████████████████| 345/345 [00:50<00:00,  6.77it/s]\n",
      "Validation batches: 100%|█████████████████████████████████████████████████████████████████████████| 87/87 [00:12<00:00,  7.23it/s]\n"
     ]
    },
    {
     "name": "stdout",
     "output_type": "stream",
     "text": [
      "\n",
      "225/2 -> Train loss: 0.4240600140443671\tValidation loss: 0.12759718278799406\n"
     ]
    },
    {
     "name": "stderr",
     "output_type": "stream",
     "text": [
      "Training batches: 100%|█████████████████████████████████████████████████████████████████████████| 345/345 [00:50<00:00,  6.77it/s]\n",
      "Validation batches: 100%|█████████████████████████████████████████████████████████████████████████| 87/87 [00:12<00:00,  7.22it/s]\n"
     ]
    },
    {
     "name": "stdout",
     "output_type": "stream",
     "text": [
      "\n",
      "226/2 -> Train loss: 0.42230957224128357\tValidation loss: 0.12703942751182537\n"
     ]
    },
    {
     "name": "stderr",
     "output_type": "stream",
     "text": [
      "Training batches: 100%|█████████████████████████████████████████████████████████████████████████| 345/345 [00:51<00:00,  6.73it/s]\n",
      "Validation batches: 100%|█████████████████████████████████████████████████████████████████████████| 87/87 [00:12<00:00,  7.21it/s]\n"
     ]
    },
    {
     "name": "stdout",
     "output_type": "stream",
     "text": [
      "\n",
      "227/2 -> Train loss: 0.4205857161485333\tValidation loss: 0.12649843070402741\n"
     ]
    },
    {
     "name": "stderr",
     "output_type": "stream",
     "text": [
      "Training batches: 100%|█████████████████████████████████████████████████████████████████████████| 345/345 [00:51<00:00,  6.75it/s]\n",
      "Validation batches: 100%|█████████████████████████████████████████████████████████████████████████| 87/87 [00:12<00:00,  7.19it/s]\n"
     ]
    },
    {
     "name": "stdout",
     "output_type": "stream",
     "text": [
      "\n",
      "228/2 -> Train loss: 0.4188706406972323\tValidation loss: 0.12594882654279177\n"
     ]
    },
    {
     "name": "stderr",
     "output_type": "stream",
     "text": [
      "Training batches: 100%|█████████████████████████████████████████████████████████████████████████| 345/345 [00:50<00:00,  6.77it/s]\n",
      "Validation batches: 100%|█████████████████████████████████████████████████████████████████████████| 87/87 [00:12<00:00,  7.21it/s]\n"
     ]
    },
    {
     "name": "stdout",
     "output_type": "stream",
     "text": [
      "\n",
      "229/2 -> Train loss: 0.41717944523516093\tValidation loss: 0.12540371261612845\n"
     ]
    },
    {
     "name": "stderr",
     "output_type": "stream",
     "text": [
      "Training batches: 100%|█████████████████████████████████████████████████████████████████████████| 345/345 [00:50<00:00,  6.77it/s]\n",
      "Validation batches: 100%|█████████████████████████████████████████████████████████████████████████| 87/87 [00:12<00:00,  7.22it/s]\n"
     ]
    },
    {
     "name": "stdout",
     "output_type": "stream",
     "text": [
      "\n",
      "230/2 -> Train loss: 0.4154958821109292\tValidation loss: 0.12486290804577117\n"
     ]
    },
    {
     "name": "stderr",
     "output_type": "stream",
     "text": [
      "Training batches: 100%|█████████████████████████████████████████████████████████████████████████| 345/345 [00:51<00:00,  6.76it/s]\n",
      "Validation batches: 100%|█████████████████████████████████████████████████████████████████████████| 87/87 [00:12<00:00,  7.22it/s]\n"
     ]
    },
    {
     "name": "stdout",
     "output_type": "stream",
     "text": [
      "\n",
      "231/2 -> Train loss: 0.4138119141520371\tValidation loss: 0.12432593117152729\n"
     ]
    },
    {
     "name": "stderr",
     "output_type": "stream",
     "text": [
      "Training batches: 100%|█████████████████████████████████████████████████████████████████████████| 345/345 [00:50<00:00,  6.77it/s]\n",
      "Validation batches: 100%|█████████████████████████████████████████████████████████████████████████| 87/87 [00:12<00:00,  7.22it/s]\n"
     ]
    },
    {
     "name": "stdout",
     "output_type": "stream",
     "text": [
      "\n",
      "232/2 -> Train loss: 0.41215357863616664\tValidation loss: 0.12379488591692575\n"
     ]
    },
    {
     "name": "stderr",
     "output_type": "stream",
     "text": [
      "Training batches: 100%|█████████████████████████████████████████████████████████████████████████| 345/345 [00:50<00:00,  6.77it/s]\n",
      "Validation batches: 100%|█████████████████████████████████████████████████████████████████████████| 87/87 [00:12<00:00,  7.23it/s]\n"
     ]
    },
    {
     "name": "stdout",
     "output_type": "stream",
     "text": [
      "\n",
      "233/2 -> Train loss: 0.410496731080866\tValidation loss: 0.1232679518899681\n"
     ]
    },
    {
     "name": "stderr",
     "output_type": "stream",
     "text": [
      "Training batches: 100%|█████████████████████████████████████████████████████████████████████████| 345/345 [00:50<00:00,  6.77it/s]\n",
      "Validation batches: 100%|█████████████████████████████████████████████████████████████████████████| 87/87 [00:12<00:00,  7.17it/s]\n"
     ]
    },
    {
     "name": "stdout",
     "output_type": "stream",
     "text": [
      "\n",
      "234/2 -> Train loss: 0.40885495557654417\tValidation loss: 0.12274558628344345\n"
     ]
    },
    {
     "name": "stderr",
     "output_type": "stream",
     "text": [
      "Training batches: 100%|█████████████████████████████████████████████████████████████████████████| 345/345 [00:50<00:00,  6.77it/s]\n",
      "Validation batches: 100%|█████████████████████████████████████████████████████████████████████████| 87/87 [00:12<00:00,  7.24it/s]\n"
     ]
    },
    {
     "name": "stdout",
     "output_type": "stream",
     "text": [
      "\n",
      "235/2 -> Train loss: 0.40722789728923975\tValidation loss: 0.12222947355832159\n"
     ]
    },
    {
     "name": "stderr",
     "output_type": "stream",
     "text": [
      "Training batches: 100%|█████████████████████████████████████████████████████████████████████████| 345/345 [00:50<00:00,  6.78it/s]\n",
      "Validation batches: 100%|█████████████████████████████████████████████████████████████████████████| 87/87 [00:12<00:00,  7.20it/s]\n"
     ]
    },
    {
     "name": "stdout",
     "output_type": "stream",
     "text": [
      "\n",
      "236/2 -> Train loss: 0.40560767806119113\tValidation loss: 0.12171683185207371\n"
     ]
    },
    {
     "name": "stderr",
     "output_type": "stream",
     "text": [
      "Training batches: 100%|█████████████████████████████████████████████████████████████████████████| 345/345 [00:51<00:00,  6.76it/s]\n",
      "Validation batches: 100%|█████████████████████████████████████████████████████████████████████████| 87/87 [00:12<00:00,  7.23it/s]\n"
     ]
    },
    {
     "name": "stdout",
     "output_type": "stream",
     "text": [
      "\n",
      "237/2 -> Train loss: 0.40400852805876564\tValidation loss: 0.12120812945283843\n"
     ]
    },
    {
     "name": "stderr",
     "output_type": "stream",
     "text": [
      "Training batches: 100%|█████████████████████████████████████████████████████████████████████████| 345/345 [00:51<00:00,  6.76it/s]\n",
      "Validation batches: 100%|█████████████████████████████████████████████████████████████████████████| 87/87 [00:12<00:00,  7.23it/s]\n"
     ]
    },
    {
     "name": "stdout",
     "output_type": "stream",
     "text": [
      "\n",
      "238/2 -> Train loss: 0.4024216184862603\tValidation loss: 0.12070306918890136\n"
     ]
    },
    {
     "name": "stderr",
     "output_type": "stream",
     "text": [
      "Training batches: 100%|█████████████████████████████████████████████████████████████████████████| 345/345 [00:51<00:00,  6.76it/s]\n",
      "Validation batches: 100%|█████████████████████████████████████████████████████████████████████████| 87/87 [00:12<00:00,  7.22it/s]\n"
     ]
    },
    {
     "name": "stdout",
     "output_type": "stream",
     "text": [
      "\n",
      "239/2 -> Train loss: 0.40085264360161726\tValidation loss: 0.12020161324954595\n"
     ]
    },
    {
     "name": "stderr",
     "output_type": "stream",
     "text": [
      "Training batches: 100%|█████████████████████████████████████████████████████████████████████████| 345/345 [00:50<00:00,  6.78it/s]\n",
      "Validation batches: 100%|█████████████████████████████████████████████████████████████████████████| 87/87 [00:12<00:00,  7.22it/s]\n"
     ]
    },
    {
     "name": "stdout",
     "output_type": "stream",
     "text": [
      "\n",
      "240/2 -> Train loss: 0.39929870723849126\tValidation loss: 0.11970905838138518\n"
     ]
    },
    {
     "name": "stderr",
     "output_type": "stream",
     "text": [
      "Training batches: 100%|█████████████████████████████████████████████████████████████████████████| 345/345 [00:50<00:00,  6.78it/s]\n",
      "Validation batches: 100%|█████████████████████████████████████████████████████████████████████████| 87/87 [00:12<00:00,  7.21it/s]\n"
     ]
    },
    {
     "name": "stdout",
     "output_type": "stream",
     "text": [
      "\n",
      "241/2 -> Train loss: 0.39775801743058603\tValidation loss: 0.11921700298926698\n"
     ]
    },
    {
     "name": "stderr",
     "output_type": "stream",
     "text": [
      "Training batches: 100%|█████████████████████████████████████████████████████████████████████████| 345/345 [00:51<00:00,  6.75it/s]\n",
      "Validation batches: 100%|█████████████████████████████████████████████████████████████████████████| 87/87 [00:12<00:00,  7.23it/s]\n"
     ]
    },
    {
     "name": "stdout",
     "output_type": "stream",
     "text": [
      "\n",
      "242/2 -> Train loss: 0.3962087127201236\tValidation loss: 0.11872773660062673\n"
     ]
    },
    {
     "name": "stderr",
     "output_type": "stream",
     "text": [
      "Training batches: 100%|█████████████████████████████████████████████████████████████████████████| 345/345 [00:50<00:00,  6.77it/s]\n",
      "Validation batches: 100%|█████████████████████████████████████████████████████████████████████████| 87/87 [00:12<00:00,  7.22it/s]\n"
     ]
    },
    {
     "name": "stdout",
     "output_type": "stream",
     "text": [
      "\n",
      "243/2 -> Train loss: 0.39468026212139456\tValidation loss: 0.1182424690741364\n"
     ]
    },
    {
     "name": "stderr",
     "output_type": "stream",
     "text": [
      "Training batches: 100%|█████████████████████████████████████████████████████████████████████████| 345/345 [00:50<00:00,  6.77it/s]\n",
      "Validation batches: 100%|█████████████████████████████████████████████████████████████████████████| 87/87 [00:12<00:00,  7.23it/s]\n"
     ]
    },
    {
     "name": "stdout",
     "output_type": "stream",
     "text": [
      "\n",
      "244/2 -> Train loss: 0.39316647718513387\tValidation loss: 0.1177609544990549\n"
     ]
    },
    {
     "name": "stderr",
     "output_type": "stream",
     "text": [
      "Training batches: 100%|█████████████████████████████████████████████████████████████████████████| 345/345 [00:50<00:00,  6.77it/s]\n",
      "Validation batches: 100%|█████████████████████████████████████████████████████████████████████████| 87/87 [00:12<00:00,  7.14it/s]\n"
     ]
    },
    {
     "name": "stdout",
     "output_type": "stream",
     "text": [
      "\n",
      "245/2 -> Train loss: 0.391662060307217\tValidation loss: 0.11728418252298807\n"
     ]
    },
    {
     "name": "stderr",
     "output_type": "stream",
     "text": [
      "Training batches: 100%|█████████████████████████████████████████████████████████████████████████| 345/345 [00:51<00:00,  6.76it/s]\n",
      "Validation batches: 100%|█████████████████████████████████████████████████████████████████████████| 87/87 [00:12<00:00,  7.21it/s]\n"
     ]
    },
    {
     "name": "stdout",
     "output_type": "stream",
     "text": [
      "\n",
      "246/2 -> Train loss: 0.3901632442079098\tValidation loss: 0.11681315243423974\n"
     ]
    },
    {
     "name": "stderr",
     "output_type": "stream",
     "text": [
      "Training batches: 100%|█████████████████████████████████████████████████████████████████████████| 345/345 [00:50<00:00,  6.78it/s]\n",
      "Validation batches: 100%|█████████████████████████████████████████████████████████████████████████| 87/87 [00:12<00:00,  7.22it/s]\n"
     ]
    },
    {
     "name": "stdout",
     "output_type": "stream",
     "text": [
      "\n",
      "247/2 -> Train loss: 0.3886849572621461\tValidation loss: 0.11634311643604808\n"
     ]
    },
    {
     "name": "stderr",
     "output_type": "stream",
     "text": [
      "Training batches: 100%|█████████████████████████████████████████████████████████████████████████| 345/345 [00:50<00:00,  6.78it/s]\n",
      "Validation batches: 100%|█████████████████████████████████████████████████████████████████████████| 87/87 [00:12<00:00,  7.21it/s]\n"
     ]
    },
    {
     "name": "stdout",
     "output_type": "stream",
     "text": [
      "\n",
      "248/2 -> Train loss: 0.3872094988354675\tValidation loss: 0.11587754797582918\n"
     ]
    },
    {
     "name": "stderr",
     "output_type": "stream",
     "text": [
      "Training batches: 100%|█████████████████████████████████████████████████████████████████████████| 345/345 [00:51<00:00,  6.75it/s]\n",
      "Validation batches: 100%|█████████████████████████████████████████████████████████████████████████| 87/87 [00:12<00:00,  7.21it/s]\n"
     ]
    },
    {
     "name": "stdout",
     "output_type": "stream",
     "text": [
      "\n",
      "249/2 -> Train loss: 0.385752303027387\tValidation loss: 0.11541710979902373\n"
     ]
    },
    {
     "name": "stderr",
     "output_type": "stream",
     "text": [
      "Training batches: 100%|█████████████████████████████████████████████████████████████████████████| 345/345 [00:50<00:00,  6.77it/s]\n",
      "Validation batches: 100%|█████████████████████████████████████████████████████████████████████████| 87/87 [00:12<00:00,  7.22it/s]\n"
     ]
    },
    {
     "name": "stdout",
     "output_type": "stream",
     "text": [
      "\n",
      "250/2 -> Train loss: 0.38430964014751423\tValidation loss: 0.11496612506610476\n"
     ]
    },
    {
     "name": "stderr",
     "output_type": "stream",
     "text": [
      "Training batches: 100%|█████████████████████████████████████████████████████████████████████████| 345/345 [00:51<00:00,  6.76it/s]\n",
      "Validation batches: 100%|█████████████████████████████████████████████████████████████████████████| 87/87 [00:12<00:00,  7.22it/s]\n"
     ]
    },
    {
     "name": "stdout",
     "output_type": "stream",
     "text": [
      "\n",
      "251/2 -> Train loss: 0.3828802086214023\tValidation loss: 0.11452357499295059\n"
     ]
    },
    {
     "name": "stderr",
     "output_type": "stream",
     "text": [
      "Training batches: 100%|█████████████████████████████████████████████████████████████████████████| 345/345 [00:50<00:00,  6.77it/s]\n",
      "Validation batches: 100%|█████████████████████████████████████████████████████████████████████████| 87/87 [00:12<00:00,  7.22it/s]\n"
     ]
    },
    {
     "name": "stdout",
     "output_type": "stream",
     "text": [
      "\n",
      "252/2 -> Train loss: 0.3814501737787135\tValidation loss: 0.11407453424272454\n"
     ]
    },
    {
     "name": "stderr",
     "output_type": "stream",
     "text": [
      "Training batches: 100%|█████████████████████████████████████████████████████████████████████████| 345/345 [00:51<00:00,  6.76it/s]\n",
      "Validation batches: 100%|█████████████████████████████████████████████████████████████████████████| 87/87 [00:12<00:00,  7.21it/s]\n"
     ]
    },
    {
     "name": "stdout",
     "output_type": "stream",
     "text": [
      "\n",
      "253/2 -> Train loss: 0.3800364806007979\tValidation loss: 0.11362735504378886\n"
     ]
    },
    {
     "name": "stderr",
     "output_type": "stream",
     "text": [
      "Training batches: 100%|█████████████████████████████████████████████████████████████████████████| 345/345 [00:50<00:00,  6.77it/s]\n",
      "Validation batches: 100%|█████████████████████████████████████████████████████████████████████████| 87/87 [00:12<00:00,  7.22it/s]\n"
     ]
    },
    {
     "name": "stdout",
     "output_type": "stream",
     "text": [
      "\n",
      "254/2 -> Train loss: 0.3786289792003906\tValidation loss: 0.1131832139363163\n"
     ]
    },
    {
     "name": "stderr",
     "output_type": "stream",
     "text": [
      "Training batches: 100%|█████████████████████████████████████████████████████████████████████████| 345/345 [00:50<00:00,  6.78it/s]\n",
      "Validation batches: 100%|█████████████████████████████████████████████████████████████████████████| 87/87 [00:12<00:00,  7.22it/s]\n"
     ]
    },
    {
     "name": "stdout",
     "output_type": "stream",
     "text": [
      "\n",
      "255/2 -> Train loss: 0.3772339335092382\tValidation loss: 0.1127425339454723\n"
     ]
    },
    {
     "name": "stderr",
     "output_type": "stream",
     "text": [
      "Training batches: 100%|█████████████████████████████████████████████████████████████████████████| 345/345 [00:50<00:00,  6.78it/s]\n",
      "Validation batches: 100%|█████████████████████████████████████████████████████████████████████████| 87/87 [00:12<00:00,  7.14it/s]\n"
     ]
    },
    {
     "name": "stdout",
     "output_type": "stream",
     "text": [
      "\n",
      "256/2 -> Train loss: 0.3758608665777621\tValidation loss: 0.1123062555741072\n"
     ]
    },
    {
     "name": "stderr",
     "output_type": "stream",
     "text": [
      "Training batches: 100%|█████████████████████████████████████████████████████████████████████████| 345/345 [00:50<00:00,  6.78it/s]\n",
      "Validation batches: 100%|█████████████████████████████████████████████████████████████████████████| 87/87 [00:12<00:00,  7.21it/s]\n"
     ]
    },
    {
     "name": "stdout",
     "output_type": "stream",
     "text": [
      "\n",
      "257/2 -> Train loss: 0.3744911134174071\tValidation loss: 0.11187836457155813\n"
     ]
    },
    {
     "name": "stderr",
     "output_type": "stream",
     "text": [
      "Training batches: 100%|█████████████████████████████████████████████████████████████████████████| 345/345 [00:50<00:00,  6.77it/s]\n",
      "Validation batches: 100%|█████████████████████████████████████████████████████████████████████████| 87/87 [00:12<00:00,  7.21it/s]\n"
     ]
    },
    {
     "name": "stdout",
     "output_type": "stream",
     "text": [
      "\n",
      "258/2 -> Train loss: 0.37311516342356654\tValidation loss: 0.11144910624305987\n"
     ]
    },
    {
     "name": "stderr",
     "output_type": "stream",
     "text": [
      "Training batches: 100%|█████████████████████████████████████████████████████████████████████████| 345/345 [00:51<00:00,  6.76it/s]\n",
      "Validation batches: 100%|█████████████████████████████████████████████████████████████████████████| 87/87 [00:12<00:00,  7.20it/s]\n"
     ]
    },
    {
     "name": "stdout",
     "output_type": "stream",
     "text": [
      "\n",
      "259/2 -> Train loss: 0.3717549202563579\tValidation loss: 0.11102257523098445\n"
     ]
    },
    {
     "name": "stderr",
     "output_type": "stream",
     "text": [
      "Training batches: 100%|█████████████████████████████████████████████████████████████████████████| 345/345 [00:51<00:00,  6.74it/s]\n",
      "Validation batches: 100%|█████████████████████████████████████████████████████████████████████████| 87/87 [00:12<00:00,  7.22it/s]\n"
     ]
    },
    {
     "name": "stdout",
     "output_type": "stream",
     "text": [
      "\n",
      "260/2 -> Train loss: 0.37040712120291336\tValidation loss: 0.11061032621485326\n"
     ]
    },
    {
     "name": "stderr",
     "output_type": "stream",
     "text": [
      "Training batches: 100%|█████████████████████████████████████████████████████████████████████████| 345/345 [00:51<00:00,  6.76it/s]\n",
      "Validation batches: 100%|█████████████████████████████████████████████████████████████████████████| 87/87 [00:12<00:00,  7.16it/s]\n"
     ]
    },
    {
     "name": "stdout",
     "output_type": "stream",
     "text": [
      "\n",
      "261/2 -> Train loss: 0.3690709059387639\tValidation loss: 0.11018980452994995\n"
     ]
    },
    {
     "name": "stderr",
     "output_type": "stream",
     "text": [
      "Training batches: 100%|█████████████████████████████████████████████████████████████████████████| 345/345 [00:51<00:00,  6.73it/s]\n",
      "Validation batches: 100%|█████████████████████████████████████████████████████████████████████████| 87/87 [00:12<00:00,  7.17it/s]\n"
     ]
    },
    {
     "name": "stdout",
     "output_type": "stream",
     "text": [
      "\n",
      "262/2 -> Train loss: 0.3677480328070174\tValidation loss: 0.1097715786580028\n"
     ]
    },
    {
     "name": "stderr",
     "output_type": "stream",
     "text": [
      "Training batches: 100%|█████████████████████████████████████████████████████████████████████████| 345/345 [00:51<00:00,  6.74it/s]\n",
      "Validation batches: 100%|█████████████████████████████████████████████████████████████████████████| 87/87 [00:12<00:00,  7.19it/s]\n"
     ]
    },
    {
     "name": "stdout",
     "output_type": "stream",
     "text": [
      "\n",
      "263/2 -> Train loss: 0.36643039089558954\tValidation loss: 0.10935654429973336\n"
     ]
    },
    {
     "name": "stderr",
     "output_type": "stream",
     "text": [
      "Training batches: 100%|█████████████████████████████████████████████████████████████████████████| 345/345 [00:51<00:00,  6.75it/s]\n",
      "Validation batches: 100%|█████████████████████████████████████████████████████████████████████████| 87/87 [00:12<00:00,  7.21it/s]\n"
     ]
    },
    {
     "name": "stdout",
     "output_type": "stream",
     "text": [
      "\n",
      "264/2 -> Train loss: 0.365124300725766\tValidation loss: 0.10894486641836715\n"
     ]
    },
    {
     "name": "stderr",
     "output_type": "stream",
     "text": [
      "Training batches: 100%|█████████████████████████████████████████████████████████████████████████| 345/345 [00:50<00:00,  6.77it/s]\n",
      "Validation batches: 100%|█████████████████████████████████████████████████████████████████████████| 87/87 [00:12<00:00,  7.22it/s]\n"
     ]
    },
    {
     "name": "stdout",
     "output_type": "stream",
     "text": [
      "\n",
      "265/2 -> Train loss: 0.36383004528899\tValidation loss: 0.10853669765711246\n"
     ]
    },
    {
     "name": "stderr",
     "output_type": "stream",
     "text": [
      "Training batches: 100%|█████████████████████████████████████████████████████████████████████████| 345/345 [00:50<00:00,  6.78it/s]\n",
      "Validation batches: 100%|█████████████████████████████████████████████████████████████████████████| 87/87 [00:12<00:00,  7.22it/s]\n"
     ]
    },
    {
     "name": "stdout",
     "output_type": "stream",
     "text": [
      "\n",
      "266/2 -> Train loss: 0.36254017410908035\tValidation loss: 0.10813415061299954\n"
     ]
    },
    {
     "name": "stderr",
     "output_type": "stream",
     "text": [
      "Training batches: 100%|█████████████████████████████████████████████████████████████████████████| 345/345 [00:50<00:00,  6.77it/s]\n",
      "Validation batches: 100%|█████████████████████████████████████████████████████████████████████████| 87/87 [00:12<00:00,  7.15it/s]\n"
     ]
    },
    {
     "name": "stdout",
     "output_type": "stream",
     "text": [
      "\n",
      "267/2 -> Train loss: 0.36125957083092386\tValidation loss: 0.10773399432091352\n"
     ]
    },
    {
     "name": "stderr",
     "output_type": "stream",
     "text": [
      "Training batches: 100%|█████████████████████████████████████████████████████████████████████████| 345/345 [00:50<00:00,  6.78it/s]\n",
      "Validation batches: 100%|█████████████████████████████████████████████████████████████████████████| 87/87 [00:12<00:00,  7.22it/s]\n"
     ]
    },
    {
     "name": "stdout",
     "output_type": "stream",
     "text": [
      "\n",
      "268/2 -> Train loss: 0.3599952444797053\tValidation loss: 0.1073351336070458\n"
     ]
    },
    {
     "name": "stderr",
     "output_type": "stream",
     "text": [
      "Training batches: 100%|█████████████████████████████████████████████████████████████████████████| 345/345 [00:50<00:00,  6.77it/s]\n",
      "Validation batches: 100%|█████████████████████████████████████████████████████████████████████████| 87/87 [00:12<00:00,  7.21it/s]\n"
     ]
    },
    {
     "name": "stdout",
     "output_type": "stream",
     "text": [
      "\n",
      "269/2 -> Train loss: 0.3587440622937181\tValidation loss: 0.10694207133243108\n"
     ]
    },
    {
     "name": "stderr",
     "output_type": "stream",
     "text": [
      "Training batches: 100%|█████████████████████████████████████████████████████████████████████████| 345/345 [00:50<00:00,  6.78it/s]\n",
      "Validation batches: 100%|█████████████████████████████████████████████████████████████████████████| 87/87 [00:12<00:00,  7.22it/s]\n"
     ]
    },
    {
     "name": "stdout",
     "output_type": "stream",
     "text": [
      "\n",
      "270/2 -> Train loss: 0.35748801624077264\tValidation loss: 0.10654919135549004\n"
     ]
    },
    {
     "name": "stderr",
     "output_type": "stream",
     "text": [
      "Training batches: 100%|█████████████████████████████████████████████████████████████████████████| 345/345 [00:51<00:00,  6.76it/s]\n",
      "Validation batches: 100%|█████████████████████████████████████████████████████████████████████████| 87/87 [00:12<00:00,  7.21it/s]\n"
     ]
    },
    {
     "name": "stdout",
     "output_type": "stream",
     "text": [
      "\n",
      "271/2 -> Train loss: 0.35624430043505867\tValidation loss: 0.10615880343151074\n"
     ]
    },
    {
     "name": "stderr",
     "output_type": "stream",
     "text": [
      "Training batches: 100%|█████████████████████████████████████████████████████████████████████████| 345/345 [00:50<00:00,  6.77it/s]\n",
      "Validation batches: 100%|█████████████████████████████████████████████████████████████████████████| 87/87 [00:12<00:00,  7.20it/s]\n"
     ]
    },
    {
     "name": "stdout",
     "output_type": "stream",
     "text": [
      "\n",
      "272/2 -> Train loss: 0.35500434274087234\tValidation loss: 0.10577221262859834\n"
     ]
    },
    {
     "name": "stderr",
     "output_type": "stream",
     "text": [
      "Training batches: 100%|█████████████████████████████████████████████████████████████████████████| 345/345 [00:51<00:00,  6.75it/s]\n",
      "Validation batches: 100%|█████████████████████████████████████████████████████████████████████████| 87/87 [00:12<00:00,  7.22it/s]\n"
     ]
    },
    {
     "name": "stdout",
     "output_type": "stream",
     "text": [
      "\n",
      "273/2 -> Train loss: 0.35377467480958597\tValidation loss: 0.10538717354911221\n"
     ]
    },
    {
     "name": "stderr",
     "output_type": "stream",
     "text": [
      "Training batches: 100%|█████████████████████████████████████████████████████████████████████████| 345/345 [00:50<00:00,  6.77it/s]\n",
      "Validation batches: 100%|█████████████████████████████████████████████████████████████████████████| 87/87 [00:12<00:00,  7.23it/s]\n"
     ]
    },
    {
     "name": "stdout",
     "output_type": "stream",
     "text": [
      "\n",
      "274/2 -> Train loss: 0.3525557854569548\tValidation loss: 0.10500536768072989\n"
     ]
    },
    {
     "name": "stderr",
     "output_type": "stream",
     "text": [
      "Training batches: 100%|█████████████████████████████████████████████████████████████████████████| 345/345 [00:51<00:00,  6.76it/s]\n",
      "Validation batches: 100%|█████████████████████████████████████████████████████████████████████████| 87/87 [00:12<00:00,  7.21it/s]\n"
     ]
    },
    {
     "name": "stdout",
     "output_type": "stream",
     "text": [
      "\n",
      "275/2 -> Train loss: 0.3513400512385978\tValidation loss: 0.10462558984381952\n"
     ]
    },
    {
     "name": "stderr",
     "output_type": "stream",
     "text": [
      "Training batches: 100%|█████████████████████████████████████████████████████████████████████████| 345/345 [00:50<00:00,  6.77it/s]\n",
      "Validation batches: 100%|█████████████████████████████████████████████████████████████████████████| 87/87 [00:12<00:00,  7.22it/s]\n"
     ]
    },
    {
     "name": "stdout",
     "output_type": "stream",
     "text": [
      "\n",
      "276/2 -> Train loss: 0.35013934786056883\tValidation loss: 0.10426246543220685\n"
     ]
    },
    {
     "name": "stderr",
     "output_type": "stream",
     "text": [
      "Training batches: 100%|█████████████████████████████████████████████████████████████████████████| 345/345 [00:51<00:00,  6.76it/s]\n",
      "Validation batches: 100%|█████████████████████████████████████████████████████████████████████████| 87/87 [00:12<00:00,  7.20it/s]\n"
     ]
    },
    {
     "name": "stdout",
     "output_type": "stream",
     "text": [
      "\n",
      "277/2 -> Train loss: 0.3489415309410999\tValidation loss: 0.1038894223407083\n"
     ]
    },
    {
     "name": "stderr",
     "output_type": "stream",
     "text": [
      "Training batches: 100%|█████████████████████████████████████████████████████████████████████████| 345/345 [00:51<00:00,  6.75it/s]\n",
      "Validation batches: 100%|█████████████████████████████████████████████████████████████████████████| 87/87 [00:12<00:00,  7.22it/s]\n"
     ]
    },
    {
     "name": "stdout",
     "output_type": "stream",
     "text": [
      "\n",
      "278/2 -> Train loss: 0.3477543628047548\tValidation loss: 0.10351793049850189\n"
     ]
    },
    {
     "name": "stderr",
     "output_type": "stream",
     "text": [
      "Training batches: 100%|█████████████████████████████████████████████████████████████████████████| 345/345 [00:50<00:00,  6.78it/s]\n",
      "Validation batches: 100%|█████████████████████████████████████████████████████████████████████████| 87/87 [00:12<00:00,  7.22it/s]\n"
     ]
    },
    {
     "name": "stdout",
     "output_type": "stream",
     "text": [
      "\n",
      "279/2 -> Train loss: 0.34657355590538486\tValidation loss: 0.10314905302846161\n"
     ]
    },
    {
     "name": "stderr",
     "output_type": "stream",
     "text": [
      "Training batches: 100%|█████████████████████████████████████████████████████████████████████████| 345/345 [00:50<00:00,  6.78it/s]\n",
      "Validation batches: 100%|█████████████████████████████████████████████████████████████████████████| 87/87 [00:12<00:00,  7.20it/s]\n"
     ]
    },
    {
     "name": "stdout",
     "output_type": "stream",
     "text": [
      "\n",
      "280/2 -> Train loss: 0.3454011715421886\tValidation loss: 0.10278263110181776\n"
     ]
    },
    {
     "name": "stderr",
     "output_type": "stream",
     "text": [
      "Training batches: 100%|█████████████████████████████████████████████████████████████████████████| 345/345 [00:50<00:00,  6.77it/s]\n",
      "Validation batches: 100%|█████████████████████████████████████████████████████████████████████████| 87/87 [00:12<00:00,  7.23it/s]\n"
     ]
    },
    {
     "name": "stdout",
     "output_type": "stream",
     "text": [
      "\n",
      "281/2 -> Train loss: 0.3442342832405087\tValidation loss: 0.10241921550923729\n"
     ]
    },
    {
     "name": "stderr",
     "output_type": "stream",
     "text": [
      "Training batches: 100%|█████████████████████████████████████████████████████████████████████████| 345/345 [00:51<00:00,  6.76it/s]\n",
      "Validation batches: 100%|█████████████████████████████████████████████████████████████████████████| 87/87 [00:12<00:00,  7.22it/s]\n"
     ]
    },
    {
     "name": "stdout",
     "output_type": "stream",
     "text": [
      "\n",
      "282/2 -> Train loss: 0.34307741737669945\tValidation loss: 0.10205924178749684\n"
     ]
    },
    {
     "name": "stderr",
     "output_type": "stream",
     "text": [
      "Training batches: 100%|█████████████████████████████████████████████████████████████████████████| 345/345 [00:50<00:00,  6.78it/s]\n",
      "Validation batches: 100%|█████████████████████████████████████████████████████████████████████████| 87/87 [00:12<00:00,  7.22it/s]\n"
     ]
    },
    {
     "name": "stdout",
     "output_type": "stream",
     "text": [
      "\n",
      "283/2 -> Train loss: 0.34192321603944004\tValidation loss: 0.10170051929967308\n"
     ]
    },
    {
     "name": "stderr",
     "output_type": "stream",
     "text": [
      "Training batches: 100%|█████████████████████████████████████████████████████████████████████████| 345/345 [00:51<00:00,  6.76it/s]\n",
      "Validation batches: 100%|█████████████████████████████████████████████████████████████████████████| 87/87 [00:12<00:00,  7.23it/s]\n"
     ]
    },
    {
     "name": "stdout",
     "output_type": "stream",
     "text": [
      "\n",
      "284/2 -> Train loss: 0.34078386448057585\tValidation loss: 0.1013452791081781\n"
     ]
    },
    {
     "name": "stderr",
     "output_type": "stream",
     "text": [
      "Training batches: 100%|█████████████████████████████████████████████████████████████████████████| 345/345 [00:50<00:00,  6.78it/s]\n",
      "Validation batches: 100%|█████████████████████████████████████████████████████████████████████████| 87/87 [00:12<00:00,  7.23it/s]\n"
     ]
    },
    {
     "name": "stdout",
     "output_type": "stream",
     "text": [
      "\n",
      "285/2 -> Train loss: 0.33965224875927774\tValidation loss: 0.10100168640903556\n"
     ]
    },
    {
     "name": "stderr",
     "output_type": "stream",
     "text": [
      "Training batches: 100%|█████████████████████████████████████████████████████████████████████████| 345/345 [00:51<00:00,  6.76it/s]\n",
      "Validation batches: 100%|█████████████████████████████████████████████████████████████████████████| 87/87 [00:12<00:00,  7.23it/s]\n"
     ]
    },
    {
     "name": "stdout",
     "output_type": "stream",
     "text": [
      "\n",
      "286/2 -> Train loss: 0.3385307160184833\tValidation loss: 0.10065315462535508\n"
     ]
    },
    {
     "name": "stderr",
     "output_type": "stream",
     "text": [
      "Training batches: 100%|█████████████████████████████████████████████████████████████████████████| 345/345 [00:50<00:00,  6.78it/s]\n",
      "Validation batches: 100%|█████████████████████████████████████████████████████████████████████████| 87/87 [00:12<00:00,  7.22it/s]\n"
     ]
    },
    {
     "name": "stdout",
     "output_type": "stream",
     "text": [
      "\n",
      "287/2 -> Train loss: 0.33741979656274695\tValidation loss: 0.1003051995642446\n"
     ]
    },
    {
     "name": "stderr",
     "output_type": "stream",
     "text": [
      "Training batches: 100%|█████████████████████████████████████████████████████████████████████████| 345/345 [00:50<00:00,  6.77it/s]\n",
      "Validation batches: 100%|█████████████████████████████████████████████████████████████████████████| 87/87 [00:12<00:00,  7.22it/s]\n"
     ]
    },
    {
     "name": "stdout",
     "output_type": "stream",
     "text": [
      "\n",
      "288/2 -> Train loss: 0.3363162398155038\tValidation loss: 0.09995893100598566\n"
     ]
    },
    {
     "name": "stderr",
     "output_type": "stream",
     "text": [
      "Training batches: 100%|█████████████████████████████████████████████████████████████████████████| 345/345 [00:51<00:00,  6.76it/s]\n",
      "Validation batches: 100%|█████████████████████████████████████████████████████████████████████████| 87/87 [00:12<00:00,  7.23it/s]\n"
     ]
    },
    {
     "name": "stdout",
     "output_type": "stream",
     "text": [
      "\n",
      "289/2 -> Train loss: 0.33521739687592456\tValidation loss: 0.09961506552586724\n"
     ]
    },
    {
     "name": "stderr",
     "output_type": "stream",
     "text": [
      "Training batches: 100%|█████████████████████████████████████████████████████████████████████████| 345/345 [00:50<00:00,  6.77it/s]\n",
      "Validation batches: 100%|█████████████████████████████████████████████████████████████████████████| 87/87 [00:12<00:00,  7.21it/s]\n"
     ]
    },
    {
     "name": "stdout",
     "output_type": "stream",
     "text": [
      "\n",
      "290/2 -> Train loss: 0.3341245688621462\tValidation loss: 0.09927352402840349\n"
     ]
    },
    {
     "name": "stderr",
     "output_type": "stream",
     "text": [
      "Training batches: 100%|█████████████████████████████████████████████████████████████████████████| 345/345 [00:50<00:00,  6.77it/s]\n",
      "Validation batches: 100%|█████████████████████████████████████████████████████████████████████████| 87/87 [00:12<00:00,  7.22it/s]\n"
     ]
    },
    {
     "name": "stdout",
     "output_type": "stream",
     "text": [
      "\n",
      "291/2 -> Train loss: 0.333032386181634\tValidation loss: 0.09893509563005531\n"
     ]
    },
    {
     "name": "stderr",
     "output_type": "stream",
     "text": [
      "Training batches: 100%|█████████████████████████████████████████████████████████████████████████| 345/345 [00:50<00:00,  6.78it/s]\n",
      "Validation batches: 100%|█████████████████████████████████████████████████████████████████████████| 87/87 [00:12<00:00,  7.23it/s]\n"
     ]
    },
    {
     "name": "stdout",
     "output_type": "stream",
     "text": [
      "\n",
      "292/2 -> Train loss: 0.3319535011046876\tValidation loss: 0.0985996329527257\n"
     ]
    },
    {
     "name": "stderr",
     "output_type": "stream",
     "text": [
      "Training batches: 100%|█████████████████████████████████████████████████████████████████████████| 345/345 [00:51<00:00,  6.76it/s]\n",
      "Validation batches: 100%|█████████████████████████████████████████████████████████████████████████| 87/87 [00:12<00:00,  7.21it/s]\n"
     ]
    },
    {
     "name": "stdout",
     "output_type": "stream",
     "text": [
      "\n",
      "293/2 -> Train loss: 0.330881477723348\tValidation loss: 0.09826504331267827\n"
     ]
    },
    {
     "name": "stderr",
     "output_type": "stream",
     "text": [
      "Training batches: 100%|█████████████████████████████████████████████████████████████████████████| 345/345 [00:50<00:00,  6.77it/s]\n",
      "Validation batches: 100%|█████████████████████████████████████████████████████████████████████████| 87/87 [00:12<00:00,  7.21it/s]\n"
     ]
    },
    {
     "name": "stdout",
     "output_type": "stream",
     "text": [
      "\n",
      "294/2 -> Train loss: 0.3298091513375195\tValidation loss: 0.09793329111455955\n"
     ]
    },
    {
     "name": "stderr",
     "output_type": "stream",
     "text": [
      "Training batches: 100%|█████████████████████████████████████████████████████████████████████████| 345/345 [00:51<00:00,  6.76it/s]\n",
      "Validation batches: 100%|█████████████████████████████████████████████████████████████████████████| 87/87 [00:12<00:00,  7.18it/s]\n"
     ]
    },
    {
     "name": "stdout",
     "output_type": "stream",
     "text": [
      "\n",
      "295/2 -> Train loss: 0.3287422243588152\tValidation loss: 0.097607568554808\n"
     ]
    },
    {
     "name": "stderr",
     "output_type": "stream",
     "text": [
      "Training batches: 100%|█████████████████████████████████████████████████████████████████████████| 345/345 [00:51<00:00,  6.76it/s]\n",
      "Validation batches: 100%|█████████████████████████████████████████████████████████████████████████| 87/87 [00:12<00:00,  7.21it/s]\n"
     ]
    },
    {
     "name": "stdout",
     "output_type": "stream",
     "text": [
      "\n",
      "296/2 -> Train loss: 0.3276918630971543\tValidation loss: 0.09728234426530429\n"
     ]
    },
    {
     "name": "stderr",
     "output_type": "stream",
     "text": [
      "Training batches: 100%|█████████████████████████████████████████████████████████████████████████| 345/345 [00:50<00:00,  6.77it/s]\n",
      "Validation batches: 100%|█████████████████████████████████████████████████████████████████████████| 87/87 [00:12<00:00,  7.19it/s]\n"
     ]
    },
    {
     "name": "stdout",
     "output_type": "stream",
     "text": [
      "\n",
      "297/2 -> Train loss: 0.3266413716900839\tValidation loss: 0.09695759216500104\n"
     ]
    },
    {
     "name": "stderr",
     "output_type": "stream",
     "text": [
      "Training batches: 100%|█████████████████████████████████████████████████████████████████████████| 345/345 [00:50<00:00,  6.77it/s]\n",
      "Validation batches: 100%|█████████████████████████████████████████████████████████████████████████| 87/87 [00:12<00:00,  7.22it/s]\n"
     ]
    },
    {
     "name": "stdout",
     "output_type": "stream",
     "text": [
      "\n",
      "298/2 -> Train loss: 0.32559886973738805\tValidation loss: 0.09663411346017947\n"
     ]
    },
    {
     "name": "stderr",
     "output_type": "stream",
     "text": [
      "Training batches: 100%|█████████████████████████████████████████████████████████████████████████| 345/345 [00:51<00:00,  6.76it/s]\n",
      "Validation batches: 100%|█████████████████████████████████████████████████████████████████████████| 87/87 [00:12<00:00,  7.21it/s]\n"
     ]
    },
    {
     "name": "stdout",
     "output_type": "stream",
     "text": [
      "\n",
      "299/2 -> Train loss: 0.32455972969682867\tValidation loss: 0.09631241463565521\n"
     ]
    },
    {
     "name": "stderr",
     "output_type": "stream",
     "text": [
      "Training batches: 100%|█████████████████████████████████████████████████████████████████████████| 345/345 [00:51<00:00,  6.75it/s]\n",
      "Validation batches: 100%|█████████████████████████████████████████████████████████████████████████| 87/87 [00:12<00:00,  7.23it/s]\n"
     ]
    },
    {
     "name": "stdout",
     "output_type": "stream",
     "text": [
      "\n",
      "300/2 -> Train loss: 0.32352159190371\tValidation loss: 0.09599301223875398\n"
     ]
    },
    {
     "name": "stderr",
     "output_type": "stream",
     "text": [
      "Training batches: 100%|█████████████████████████████████████████████████████████████████████████| 345/345 [00:51<00:00,  6.76it/s]\n",
      "Validation batches: 100%|█████████████████████████████████████████████████████████████████████████| 87/87 [00:12<00:00,  7.22it/s]\n"
     ]
    },
    {
     "name": "stdout",
     "output_type": "stream",
     "text": [
      "\n",
      "301/2 -> Train loss: 0.32249802887563145\tValidation loss: 0.09567657509197872\n"
     ]
    },
    {
     "name": "stderr",
     "output_type": "stream",
     "text": [
      "Training batches: 100%|█████████████████████████████████████████████████████████████████████████| 345/345 [00:51<00:00,  6.76it/s]\n",
      "Validation batches: 100%|█████████████████████████████████████████████████████████████████████████| 87/87 [00:12<00:00,  7.21it/s]\n"
     ]
    },
    {
     "name": "stdout",
     "output_type": "stream",
     "text": [
      "\n",
      "302/2 -> Train loss: 0.32148156521322807\tValidation loss: 0.0953618187704642\n"
     ]
    },
    {
     "name": "stderr",
     "output_type": "stream",
     "text": [
      "Training batches: 100%|█████████████████████████████████████████████████████████████████████████| 345/345 [00:50<00:00,  6.77it/s]\n",
      "Validation batches: 100%|█████████████████████████████████████████████████████████████████████████| 87/87 [00:12<00:00,  7.22it/s]\n"
     ]
    },
    {
     "name": "stdout",
     "output_type": "stream",
     "text": [
      "\n",
      "303/2 -> Train loss: 0.32047494883142086\tValidation loss: 0.09504858271186721\n"
     ]
    },
    {
     "name": "stderr",
     "output_type": "stream",
     "text": [
      "Training batches: 100%|█████████████████████████████████████████████████████████████████████████| 345/345 [00:51<00:00,  6.76it/s]\n",
      "Validation batches: 100%|█████████████████████████████████████████████████████████████████████████| 87/87 [00:12<00:00,  7.21it/s]\n"
     ]
    },
    {
     "name": "stdout",
     "output_type": "stream",
     "text": [
      "\n",
      "304/2 -> Train loss: 0.3194676653654853\tValidation loss: 0.09476408556899486\n"
     ]
    },
    {
     "name": "stderr",
     "output_type": "stream",
     "text": [
      "Training batches: 100%|█████████████████████████████████████████████████████████████████████████| 345/345 [00:50<00:00,  6.78it/s]\n",
      "Validation batches: 100%|█████████████████████████████████████████████████████████████████████████| 87/87 [00:12<00:00,  7.22it/s]\n"
     ]
    },
    {
     "name": "stdout",
     "output_type": "stream",
     "text": [
      "\n",
      "305/2 -> Train loss: 0.3184739383301124\tValidation loss: 0.09446343028773535\n"
     ]
    },
    {
     "name": "stderr",
     "output_type": "stream",
     "text": [
      "Training batches: 100%|█████████████████████████████████████████████████████████████████████████| 345/345 [00:50<00:00,  6.77it/s]\n",
      "Validation batches: 100%|█████████████████████████████████████████████████████████████████████████| 87/87 [00:12<00:00,  7.21it/s]\n"
     ]
    },
    {
     "name": "stdout",
     "output_type": "stream",
     "text": [
      "\n",
      "306/2 -> Train loss: 0.3174803853803559\tValidation loss: 0.09416917698253739\n"
     ]
    },
    {
     "name": "stderr",
     "output_type": "stream",
     "text": [
      "Training batches: 100%|█████████████████████████████████████████████████████████████████████████| 345/345 [00:50<00:00,  6.78it/s]\n",
      "Validation batches: 100%|█████████████████████████████████████████████████████████████████████████| 87/87 [00:12<00:00,  7.22it/s]\n"
     ]
    },
    {
     "name": "stdout",
     "output_type": "stream",
     "text": [
      "\n",
      "307/2 -> Train loss: 0.3164907055398248\tValidation loss: 0.09386920606831008\n"
     ]
    },
    {
     "name": "stderr",
     "output_type": "stream",
     "text": [
      "Training batches: 100%|█████████████████████████████████████████████████████████████████████████| 345/345 [00:50<00:00,  6.77it/s]\n",
      "Validation batches: 100%|█████████████████████████████████████████████████████████████████████████| 87/87 [00:12<00:00,  7.23it/s]\n"
     ]
    },
    {
     "name": "stdout",
     "output_type": "stream",
     "text": [
      "\n",
      "308/2 -> Train loss: 0.3155066349822888\tValidation loss: 0.09356634837291393\n"
     ]
    },
    {
     "name": "stderr",
     "output_type": "stream",
     "text": [
      "Training batches: 100%|█████████████████████████████████████████████████████████████████████████| 345/345 [00:50<00:00,  6.79it/s]\n",
      "Validation batches: 100%|█████████████████████████████████████████████████████████████████████████| 87/87 [00:12<00:00,  7.23it/s]\n"
     ]
    },
    {
     "name": "stdout",
     "output_type": "stream",
     "text": [
      "\n",
      "309/2 -> Train loss: 0.3145286983218055\tValidation loss: 0.093265902745036\n"
     ]
    },
    {
     "name": "stderr",
     "output_type": "stream",
     "text": [
      "Training batches: 100%|█████████████████████████████████████████████████████████████████████████| 345/345 [00:50<00:00,  6.77it/s]\n",
      "Validation batches: 100%|█████████████████████████████████████████████████████████████████████████| 87/87 [00:12<00:00,  7.21it/s]\n"
     ]
    },
    {
     "name": "stdout",
     "output_type": "stream",
     "text": [
      "\n",
      "310/2 -> Train loss: 0.31356255019339896\tValidation loss: 0.09296750829512636\n"
     ]
    },
    {
     "name": "stderr",
     "output_type": "stream",
     "text": [
      "Training batches: 100%|█████████████████████████████████████████████████████████████████████████| 345/345 [00:51<00:00,  6.75it/s]\n",
      "Validation batches: 100%|█████████████████████████████████████████████████████████████████████████| 87/87 [00:12<00:00,  7.21it/s]\n"
     ]
    },
    {
     "name": "stdout",
     "output_type": "stream",
     "text": [
      "\n",
      "311/2 -> Train loss: 0.31260383069762043\tValidation loss: 0.09267310296493177\n"
     ]
    },
    {
     "name": "stderr",
     "output_type": "stream",
     "text": [
      "Training batches: 100%|█████████████████████████████████████████████████████████████████████████| 345/345 [00:51<00:00,  6.76it/s]\n",
      "Validation batches: 100%|█████████████████████████████████████████████████████████████████████████| 87/87 [00:12<00:00,  7.21it/s]\n"
     ]
    },
    {
     "name": "stdout",
     "output_type": "stream",
     "text": [
      "\n",
      "312/2 -> Train loss: 0.31165065373715184\tValidation loss: 0.09237938036966768\n"
     ]
    },
    {
     "name": "stderr",
     "output_type": "stream",
     "text": [
      "Training batches: 100%|█████████████████████████████████████████████████████████████████████████| 345/345 [00:51<00:00,  6.76it/s]\n",
      "Validation batches: 100%|█████████████████████████████████████████████████████████████████████████| 87/87 [00:12<00:00,  7.20it/s]\n"
     ]
    },
    {
     "name": "stdout",
     "output_type": "stream",
     "text": [
      "\n",
      "313/2 -> Train loss: 0.310703133046045\tValidation loss: 0.09208666922588504\n"
     ]
    },
    {
     "name": "stderr",
     "output_type": "stream",
     "text": [
      "Training batches: 100%|█████████████████████████████████████████████████████████████████████████| 345/345 [00:50<00:00,  6.78it/s]\n",
      "Validation batches: 100%|█████████████████████████████████████████████████████████████████████████| 87/87 [00:12<00:00,  7.22it/s]\n"
     ]
    },
    {
     "name": "stdout",
     "output_type": "stream",
     "text": [
      "\n",
      "314/2 -> Train loss: 0.3097632946549596\tValidation loss: 0.09179812948526572\n"
     ]
    },
    {
     "name": "stderr",
     "output_type": "stream",
     "text": [
      "Training batches: 100%|█████████████████████████████████████████████████████████████████████████| 345/345 [00:50<00:00,  6.77it/s]\n",
      "Validation batches: 100%|█████████████████████████████████████████████████████████████████████████| 87/87 [00:12<00:00,  7.23it/s]\n"
     ]
    },
    {
     "name": "stdout",
     "output_type": "stream",
     "text": [
      "\n",
      "315/2 -> Train loss: 0.30882688930788443\tValidation loss: 0.09150817346633253\n"
     ]
    },
    {
     "name": "stderr",
     "output_type": "stream",
     "text": [
      "Training batches: 100%|█████████████████████████████████████████████████████████████████████████| 345/345 [00:50<00:00,  6.77it/s]\n",
      "Validation batches: 100%|█████████████████████████████████████████████████████████████████████████| 87/87 [00:12<00:00,  7.23it/s]\n"
     ]
    },
    {
     "name": "stdout",
     "output_type": "stream",
     "text": [
      "\n",
      "316/2 -> Train loss: 0.30789529986944536\tValidation loss: 0.0912203343149539\n"
     ]
    },
    {
     "name": "stderr",
     "output_type": "stream",
     "text": [
      "Training batches: 100%|█████████████████████████████████████████████████████████████████████████| 345/345 [00:50<00:00,  6.77it/s]\n",
      "Validation batches: 100%|█████████████████████████████████████████████████████████████████████████| 87/87 [00:12<00:00,  7.21it/s]\n"
     ]
    },
    {
     "name": "stdout",
     "output_type": "stream",
     "text": [
      "\n",
      "317/2 -> Train loss: 0.30696777716606033\tValidation loss: 0.09093423921508484\n"
     ]
    },
    {
     "name": "stderr",
     "output_type": "stream",
     "text": [
      "Training batches: 100%|█████████████████████████████████████████████████████████████████████████| 345/345 [00:51<00:00,  6.76it/s]\n",
      "Validation batches: 100%|█████████████████████████████████████████████████████████████████████████| 87/87 [00:12<00:00,  7.21it/s]\n"
     ]
    },
    {
     "name": "stdout",
     "output_type": "stream",
     "text": [
      "\n",
      "318/2 -> Train loss: 0.30604563239614074\tValidation loss: 0.09065287759520774\n"
     ]
    },
    {
     "name": "stderr",
     "output_type": "stream",
     "text": [
      "Training batches: 100%|█████████████████████████████████████████████████████████████████████████| 345/345 [00:51<00:00,  6.74it/s]\n",
      "Validation batches: 100%|█████████████████████████████████████████████████████████████████████████| 87/87 [00:12<00:00,  7.20it/s]\n"
     ]
    },
    {
     "name": "stdout",
     "output_type": "stream",
     "text": [
      "\n",
      "319/2 -> Train loss: 0.305130041602354\tValidation loss: 0.0903707626622361\n"
     ]
    },
    {
     "name": "stderr",
     "output_type": "stream",
     "text": [
      "Training batches: 100%|█████████████████████████████████████████████████████████████████████████| 345/345 [00:50<00:00,  6.78it/s]\n",
      "Validation batches: 100%|█████████████████████████████████████████████████████████████████████████| 87/87 [00:12<00:00,  7.20it/s]\n"
     ]
    },
    {
     "name": "stdout",
     "output_type": "stream",
     "text": [
      "\n",
      "320/2 -> Train loss: 0.3042168962131759\tValidation loss: 0.09008999754209406\n"
     ]
    },
    {
     "name": "stderr",
     "output_type": "stream",
     "text": [
      "Training batches: 100%|█████████████████████████████████████████████████████████████████████████| 345/345 [00:50<00:00,  6.77it/s]\n",
      "Validation batches: 100%|█████████████████████████████████████████████████████████████████████████| 87/87 [00:12<00:00,  7.20it/s]\n"
     ]
    },
    {
     "name": "stdout",
     "output_type": "stream",
     "text": [
      "\n",
      "321/2 -> Train loss: 0.30332092366845037\tValidation loss: 0.08981183022066075\n"
     ]
    },
    {
     "name": "stderr",
     "output_type": "stream",
     "text": [
      "Training batches: 100%|█████████████████████████████████████████████████████████████████████████| 345/345 [00:51<00:00,  6.76it/s]\n",
      "Validation batches: 100%|█████████████████████████████████████████████████████████████████████████| 87/87 [00:12<00:00,  7.21it/s]\n"
     ]
    },
    {
     "name": "stdout",
     "output_type": "stream",
     "text": [
      "\n",
      "322/2 -> Train loss: 0.30242709106916427\tValidation loss: 0.089535894169903\n"
     ]
    },
    {
     "name": "stderr",
     "output_type": "stream",
     "text": [
      "Training batches: 100%|█████████████████████████████████████████████████████████████████████████| 345/345 [00:51<00:00,  6.76it/s]\n",
      "Validation batches: 100%|█████████████████████████████████████████████████████████████████████████| 87/87 [00:12<00:00,  7.20it/s]\n"
     ]
    },
    {
     "name": "stdout",
     "output_type": "stream",
     "text": [
      "\n",
      "323/2 -> Train loss: 0.3015334684666674\tValidation loss: 0.08925996281125168\n"
     ]
    },
    {
     "name": "stderr",
     "output_type": "stream",
     "text": [
      "Training batches: 100%|█████████████████████████████████████████████████████████████████████████| 345/345 [00:51<00:00,  6.75it/s]\n",
      "Validation batches: 100%|█████████████████████████████████████████████████████████████████████████| 87/87 [00:12<00:00,  7.19it/s]\n"
     ]
    },
    {
     "name": "stdout",
     "output_type": "stream",
     "text": [
      "\n",
      "324/2 -> Train loss: 0.3006412939878708\tValidation loss: 0.08898580242648053\n"
     ]
    },
    {
     "name": "stderr",
     "output_type": "stream",
     "text": [
      "Training batches: 100%|█████████████████████████████████████████████████████████████████████████| 345/345 [00:51<00:00,  6.75it/s]\n",
      "Validation batches: 100%|█████████████████████████████████████████████████████████████████████████| 87/87 [00:12<00:00,  7.23it/s]\n"
     ]
    },
    {
     "name": "stdout",
     "output_type": "stream",
     "text": [
      "\n",
      "325/2 -> Train loss: 0.29975822153117065\tValidation loss: 0.08871317470800673\n"
     ]
    },
    {
     "name": "stderr",
     "output_type": "stream",
     "text": [
      "Training batches: 100%|█████████████████████████████████████████████████████████████████████████| 345/345 [00:51<00:00,  6.75it/s]\n",
      "Validation batches: 100%|█████████████████████████████████████████████████████████████████████████| 87/87 [00:12<00:00,  7.23it/s]\n"
     ]
    },
    {
     "name": "stdout",
     "output_type": "stream",
     "text": [
      "\n",
      "326/2 -> Train loss: 0.29887802572006\tValidation loss: 0.08844327517018864\n"
     ]
    },
    {
     "name": "stderr",
     "output_type": "stream",
     "text": [
      "Training batches: 100%|█████████████████████████████████████████████████████████████████████████| 345/345 [00:50<00:00,  6.77it/s]\n",
      "Validation batches: 100%|█████████████████████████████████████████████████████████████████████████| 87/87 [00:12<00:00,  7.22it/s]\n"
     ]
    },
    {
     "name": "stdout",
     "output_type": "stream",
     "text": [
      "\n",
      "327/2 -> Train loss: 0.2980039257546214\tValidation loss: 0.08817398847407733\n"
     ]
    },
    {
     "name": "stderr",
     "output_type": "stream",
     "text": [
      "Training batches: 100%|█████████████████████████████████████████████████████████████████████████| 345/345 [00:50<00:00,  6.77it/s]\n",
      "Validation batches: 100%|█████████████████████████████████████████████████████████████████████████| 87/87 [00:12<00:00,  7.22it/s]\n"
     ]
    },
    {
     "name": "stdout",
     "output_type": "stream",
     "text": [
      "\n",
      "328/2 -> Train loss: 0.2971362101425091\tValidation loss: 0.08791039138983153\n"
     ]
    },
    {
     "name": "stderr",
     "output_type": "stream",
     "text": [
      "Training batches: 100%|█████████████████████████████████████████████████████████████████████████| 345/345 [00:50<00:00,  6.78it/s]\n",
      "Validation batches: 100%|█████████████████████████████████████████████████████████████████████████| 87/87 [00:12<00:00,  7.13it/s]\n"
     ]
    },
    {
     "name": "stdout",
     "output_type": "stream",
     "text": [
      "\n",
      "329/2 -> Train loss: 0.29627754167874293\tValidation loss: 0.08764848173980834\n"
     ]
    },
    {
     "name": "stderr",
     "output_type": "stream",
     "text": [
      "Training batches: 100%|█████████████████████████████████████████████████████████████████████████| 345/345 [00:50<00:00,  6.77it/s]\n",
      "Validation batches: 100%|█████████████████████████████████████████████████████████████████████████| 87/87 [00:12<00:00,  7.22it/s]\n"
     ]
    },
    {
     "name": "stdout",
     "output_type": "stream",
     "text": [
      "\n",
      "330/2 -> Train loss: 0.2954228184041076\tValidation loss: 0.08738503752767159\n"
     ]
    },
    {
     "name": "stderr",
     "output_type": "stream",
     "text": [
      "Training batches: 100%|█████████████████████████████████████████████████████████████████████████| 345/345 [00:50<00:00,  6.77it/s]\n",
      "Validation batches: 100%|█████████████████████████████████████████████████████████████████████████| 87/87 [00:12<00:00,  7.22it/s]\n"
     ]
    },
    {
     "name": "stdout",
     "output_type": "stream",
     "text": [
      "\n",
      "331/2 -> Train loss: 0.29457308737579957\tValidation loss: 0.0871231776000506\n"
     ]
    },
    {
     "name": "stderr",
     "output_type": "stream",
     "text": [
      "Training batches: 100%|█████████████████████████████████████████████████████████████████████████| 345/345 [00:50<00:00,  6.77it/s]\n",
      "Validation batches: 100%|█████████████████████████████████████████████████████████████████████████| 87/87 [00:12<00:00,  7.21it/s]\n"
     ]
    },
    {
     "name": "stdout",
     "output_type": "stream",
     "text": [
      "\n",
      "332/2 -> Train loss: 0.2937234800361838\tValidation loss: 0.08687112316799615\n"
     ]
    },
    {
     "name": "stderr",
     "output_type": "stream",
     "text": [
      "Training batches: 100%|█████████████████████████████████████████████████████████████████████████| 345/345 [00:51<00:00,  6.75it/s]\n",
      "Validation batches: 100%|█████████████████████████████████████████████████████████████████████████| 87/87 [00:12<00:00,  7.22it/s]\n"
     ]
    },
    {
     "name": "stdout",
     "output_type": "stream",
     "text": [
      "\n",
      "333/2 -> Train loss: 0.29288146535981174\tValidation loss: 0.08661148229851867\n"
     ]
    },
    {
     "name": "stderr",
     "output_type": "stream",
     "text": [
      "Training batches: 100%|█████████████████████████████████████████████████████████████████████████| 345/345 [00:50<00:00,  6.77it/s]\n",
      "Validation batches: 100%|█████████████████████████████████████████████████████████████████████████| 87/87 [00:12<00:00,  7.21it/s]\n"
     ]
    },
    {
     "name": "stdout",
     "output_type": "stream",
     "text": [
      "\n",
      "334/2 -> Train loss: 0.2920367689214595\tValidation loss: 0.0863542357345466\n"
     ]
    },
    {
     "name": "stderr",
     "output_type": "stream",
     "text": [
      "Training batches: 100%|█████████████████████████████████████████████████████████████████████████| 345/345 [00:51<00:00,  6.76it/s]\n",
      "Validation batches: 100%|█████████████████████████████████████████████████████████████████████████| 87/87 [00:12<00:00,  7.21it/s]\n"
     ]
    },
    {
     "name": "stdout",
     "output_type": "stream",
     "text": [
      "\n",
      "335/2 -> Train loss: 0.29119840813723785\tValidation loss: 0.0860987826783645\n"
     ]
    },
    {
     "name": "stderr",
     "output_type": "stream",
     "text": [
      "Training batches: 100%|█████████████████████████████████████████████████████████████████████████| 345/345 [00:50<00:00,  6.77it/s]\n",
      "Validation batches: 100%|█████████████████████████████████████████████████████████████████████████| 87/87 [00:12<00:00,  7.21it/s]\n"
     ]
    },
    {
     "name": "stdout",
     "output_type": "stream",
     "text": [
      "\n",
      "336/2 -> Train loss: 0.2903723636051763\tValidation loss: 0.08584763499676383\n"
     ]
    },
    {
     "name": "stderr",
     "output_type": "stream",
     "text": [
      "Training batches: 100%|█████████████████████████████████████████████████████████████████████████| 345/345 [00:51<00:00,  6.74it/s]\n",
      "Validation batches: 100%|█████████████████████████████████████████████████████████████████████████| 87/87 [00:12<00:00,  7.21it/s]\n"
     ]
    },
    {
     "name": "stdout",
     "output_type": "stream",
     "text": [
      "\n",
      "337/2 -> Train loss: 0.2895466261355554\tValidation loss: 0.08559408252735684\n"
     ]
    },
    {
     "name": "stderr",
     "output_type": "stream",
     "text": [
      "Training batches: 100%|█████████████████████████████████████████████████████████████████████████| 345/345 [00:51<00:00,  6.76it/s]\n",
      "Validation batches: 100%|█████████████████████████████████████████████████████████████████████████| 87/87 [00:12<00:00,  7.21it/s]\n"
     ]
    },
    {
     "name": "stdout",
     "output_type": "stream",
     "text": [
      "\n",
      "338/2 -> Train loss: 0.2887301301026318\tValidation loss: 0.08534286928493155\n"
     ]
    },
    {
     "name": "stderr",
     "output_type": "stream",
     "text": [
      "Training batches: 100%|█████████████████████████████████████████████████████████████████████████| 345/345 [00:50<00:00,  6.77it/s]\n",
      "Validation batches: 100%|█████████████████████████████████████████████████████████████████████████| 87/87 [00:12<00:00,  7.21it/s]\n"
     ]
    },
    {
     "name": "stdout",
     "output_type": "stream",
     "text": [
      "\n",
      "339/2 -> Train loss: 0.28791296327947774\tValidation loss: 0.08509217978048833\n"
     ]
    },
    {
     "name": "stderr",
     "output_type": "stream",
     "text": [
      "Training batches: 100%|█████████████████████████████████████████████████████████████████████████| 345/345 [00:50<00:00,  6.77it/s]\n",
      "Validation batches: 100%|█████████████████████████████████████████████████████████████████████████| 87/87 [00:12<00:00,  7.12it/s]\n"
     ]
    },
    {
     "name": "stdout",
     "output_type": "stream",
     "text": [
      "\n",
      "340/2 -> Train loss: 0.28710276703456683\tValidation loss: 0.08484495004022355\n"
     ]
    },
    {
     "name": "stderr",
     "output_type": "stream",
     "text": [
      "Training batches: 100%|█████████████████████████████████████████████████████████████████████████| 345/345 [00:51<00:00,  6.75it/s]\n",
      "Validation batches: 100%|█████████████████████████████████████████████████████████████████████████| 87/87 [00:12<00:00,  7.20it/s]\n"
     ]
    },
    {
     "name": "stdout",
     "output_type": "stream",
     "text": [
      "\n",
      "341/2 -> Train loss: 0.286292829586388\tValidation loss: 0.08459912905941316\n"
     ]
    },
    {
     "name": "stderr",
     "output_type": "stream",
     "text": [
      "Training batches: 100%|█████████████████████████████████████████████████████████████████████████| 345/345 [00:51<00:00,  6.76it/s]\n",
      "Validation batches: 100%|█████████████████████████████████████████████████████████████████████████| 87/87 [00:12<00:00,  7.20it/s]\n"
     ]
    },
    {
     "name": "stdout",
     "output_type": "stream",
     "text": [
      "\n",
      "342/2 -> Train loss: 0.2854898876662606\tValidation loss: 0.08435338987221935\n"
     ]
    },
    {
     "name": "stderr",
     "output_type": "stream",
     "text": [
      "Training batches: 100%|█████████████████████████████████████████████████████████████████████████| 345/345 [00:51<00:00,  6.75it/s]\n",
      "Validation batches: 100%|█████████████████████████████████████████████████████████████████████████| 87/87 [00:12<00:00,  7.21it/s]\n"
     ]
    },
    {
     "name": "stdout",
     "output_type": "stream",
     "text": [
      "\n",
      "343/2 -> Train loss: 0.28469150598455883\tValidation loss: 0.08411038881778442\n"
     ]
    },
    {
     "name": "stderr",
     "output_type": "stream",
     "text": [
      "Training batches: 100%|█████████████████████████████████████████████████████████████████████████| 345/345 [00:51<00:00,  6.74it/s]\n",
      "Validation batches: 100%|█████████████████████████████████████████████████████████████████████████| 87/87 [00:12<00:00,  7.19it/s]\n"
     ]
    },
    {
     "name": "stdout",
     "output_type": "stream",
     "text": [
      "\n",
      "344/2 -> Train loss: 0.2839028274053364\tValidation loss: 0.08387751207973228\n"
     ]
    },
    {
     "name": "stderr",
     "output_type": "stream",
     "text": [
      "Training batches: 100%|█████████████████████████████████████████████████████████████████████████| 345/345 [00:50<00:00,  6.77it/s]\n",
      "Validation batches: 100%|█████████████████████████████████████████████████████████████████████████| 87/87 [00:12<00:00,  7.20it/s]\n"
     ]
    },
    {
     "name": "stdout",
     "output_type": "stream",
     "text": [
      "\n",
      "345/2 -> Train loss: 0.2831155072059808\tValidation loss: 0.08363841722554959\n"
     ]
    },
    {
     "name": "stderr",
     "output_type": "stream",
     "text": [
      "Training batches: 100%|█████████████████████████████████████████████████████████████████████████| 345/345 [00:50<00:00,  6.77it/s]\n",
      "Validation batches: 100%|█████████████████████████████████████████████████████████████████████████| 87/87 [00:12<00:00,  7.20it/s]\n"
     ]
    },
    {
     "name": "stdout",
     "output_type": "stream",
     "text": [
      "\n",
      "346/2 -> Train loss: 0.2823385358587062\tValidation loss: 0.08339831064786846\n"
     ]
    },
    {
     "name": "stderr",
     "output_type": "stream",
     "text": [
      "Training batches: 100%|█████████████████████████████████████████████████████████████████████████| 345/345 [00:50<00:00,  6.77it/s]\n",
      "Validation batches: 100%|█████████████████████████████████████████████████████████████████████████| 87/87 [00:12<00:00,  7.22it/s]\n"
     ]
    },
    {
     "name": "stdout",
     "output_type": "stream",
     "text": [
      "\n",
      "347/2 -> Train loss: 0.28155778615344695\tValidation loss: 0.0831605433482517\n"
     ]
    },
    {
     "name": "stderr",
     "output_type": "stream",
     "text": [
      "Training batches: 100%|█████████████████████████████████████████████████████████████████████████| 345/345 [00:50<00:00,  6.76it/s]\n",
      "Validation batches: 100%|█████████████████████████████████████████████████████████████████████████| 87/87 [00:12<00:00,  7.21it/s]\n"
     ]
    },
    {
     "name": "stdout",
     "output_type": "stream",
     "text": [
      "\n",
      "348/2 -> Train loss: 0.2807807020841025\tValidation loss: 0.08292256188044303\n"
     ]
    },
    {
     "name": "stderr",
     "output_type": "stream",
     "text": [
      "Training batches: 100%|█████████████████████████████████████████████████████████████████████████| 345/345 [00:50<00:00,  6.77it/s]\n",
      "Validation batches: 100%|█████████████████████████████████████████████████████████████████████████| 87/87 [00:12<00:00,  7.21it/s]\n"
     ]
    },
    {
     "name": "stdout",
     "output_type": "stream",
     "text": [
      "\n",
      "349/2 -> Train loss: 0.2800127865504438\tValidation loss: 0.0826865943126564\n"
     ]
    },
    {
     "name": "stderr",
     "output_type": "stream",
     "text": [
      "Training batches: 100%|█████████████████████████████████████████████████████████████████████████| 345/345 [00:51<00:00,  6.76it/s]\n",
      "Validation batches: 100%|█████████████████████████████████████████████████████████████████████████| 87/87 [00:12<00:00,  7.22it/s]\n"
     ]
    },
    {
     "name": "stdout",
     "output_type": "stream",
     "text": [
      "\n",
      "350/2 -> Train loss: 0.2792433214474881\tValidation loss: 0.08245148090326974\n"
     ]
    },
    {
     "name": "stderr",
     "output_type": "stream",
     "text": [
      "Training batches: 100%|█████████████████████████████████████████████████████████████████████████| 345/345 [00:50<00:00,  6.77it/s]\n",
      "Validation batches: 100%|█████████████████████████████████████████████████████████████████████████| 87/87 [00:12<00:00,  7.16it/s]\n"
     ]
    },
    {
     "name": "stdout",
     "output_type": "stream",
     "text": [
      "\n",
      "351/2 -> Train loss: 0.27848033991338145\tValidation loss: 0.08221954424734383\n"
     ]
    },
    {
     "name": "stderr",
     "output_type": "stream",
     "text": [
      "Training batches: 100%|█████████████████████████████████████████████████████████████████████████| 345/345 [00:50<00:00,  6.76it/s]\n",
      "Validation batches: 100%|█████████████████████████████████████████████████████████████████████████| 87/87 [00:12<00:00,  7.23it/s]\n"
     ]
    },
    {
     "name": "stdout",
     "output_type": "stream",
     "text": [
      "\n",
      "352/2 -> Train loss: 0.2777216719837161\tValidation loss: 0.08198734289618076\n"
     ]
    },
    {
     "name": "stderr",
     "output_type": "stream",
     "text": [
      "Training batches: 100%|█████████████████████████████████████████████████████████████████████████| 345/345 [00:50<00:00,  6.78it/s]\n",
      "Validation batches: 100%|█████████████████████████████████████████████████████████████████████████| 87/87 [00:12<00:00,  7.21it/s]\n"
     ]
    },
    {
     "name": "stdout",
     "output_type": "stream",
     "text": [
      "\n",
      "353/2 -> Train loss: 0.2769667353030969\tValidation loss: 0.08175638346290938\n"
     ]
    },
    {
     "name": "stderr",
     "output_type": "stream",
     "text": [
      "Training batches: 100%|█████████████████████████████████████████████████████████████████████████| 345/345 [00:50<00:00,  6.76it/s]\n",
      "Validation batches: 100%|█████████████████████████████████████████████████████████████████████████| 87/87 [00:12<00:00,  7.22it/s]\n"
     ]
    },
    {
     "name": "stdout",
     "output_type": "stream",
     "text": [
      "\n",
      "354/2 -> Train loss: 0.2762210832284432\tValidation loss: 0.08152680295464795\n"
     ]
    },
    {
     "name": "stderr",
     "output_type": "stream",
     "text": [
      "Training batches: 100%|█████████████████████████████████████████████████████████████████████████| 345/345 [00:51<00:00,  6.76it/s]\n",
      "Validation batches: 100%|█████████████████████████████████████████████████████████████████████████| 87/87 [00:12<00:00,  7.23it/s]\n"
     ]
    },
    {
     "name": "stdout",
     "output_type": "stream",
     "text": [
      "\n",
      "355/2 -> Train loss: 0.27547409546336554\tValidation loss: 0.08129820292251723\n"
     ]
    },
    {
     "name": "stderr",
     "output_type": "stream",
     "text": [
      "Training batches: 100%|█████████████████████████████████████████████████████████████████████████| 345/345 [00:50<00:00,  6.77it/s]\n",
      "Validation batches: 100%|█████████████████████████████████████████████████████████████████████████| 87/87 [00:12<00:00,  7.22it/s]\n"
     ]
    },
    {
     "name": "stdout",
     "output_type": "stream",
     "text": [
      "\n",
      "356/2 -> Train loss: 0.27472909598864087\tValidation loss: 0.08107168123772247\n"
     ]
    },
    {
     "name": "stderr",
     "output_type": "stream",
     "text": [
      "Training batches: 100%|█████████████████████████████████████████████████████████████████████████| 345/345 [00:50<00:00,  6.78it/s]\n",
      "Validation batches: 100%|█████████████████████████████████████████████████████████████████████████| 87/87 [00:12<00:00,  7.22it/s]\n"
     ]
    },
    {
     "name": "stdout",
     "output_type": "stream",
     "text": [
      "\n",
      "357/2 -> Train loss: 0.2739913272169843\tValidation loss: 0.08084967407772019\n"
     ]
    },
    {
     "name": "stderr",
     "output_type": "stream",
     "text": [
      "Training batches: 100%|█████████████████████████████████████████████████████████████████████████| 345/345 [00:50<00:00,  6.78it/s]\n",
      "Validation batches: 100%|█████████████████████████████████████████████████████████████████████████| 87/87 [00:12<00:00,  7.21it/s]\n"
     ]
    },
    {
     "name": "stdout",
     "output_type": "stream",
     "text": [
      "\n",
      "358/2 -> Train loss: 0.2732568545072491\tValidation loss: 0.08062649514303688\n"
     ]
    },
    {
     "name": "stderr",
     "output_type": "stream",
     "text": [
      "Training batches: 100%|█████████████████████████████████████████████████████████████████████████| 345/345 [00:51<00:00,  6.75it/s]\n",
      "Validation batches: 100%|█████████████████████████████████████████████████████████████████████████| 87/87 [00:12<00:00,  7.20it/s]\n"
     ]
    },
    {
     "name": "stdout",
     "output_type": "stream",
     "text": [
      "\n",
      "359/2 -> Train loss: 0.272529779892886\tValidation loss: 0.08041530883474447\n"
     ]
    },
    {
     "name": "stderr",
     "output_type": "stream",
     "text": [
      "Training batches: 100%|█████████████████████████████████████████████████████████████████████████| 345/345 [00:51<00:00,  6.76it/s]\n",
      "Validation batches: 100%|█████████████████████████████████████████████████████████████████████████| 87/87 [00:12<00:00,  7.19it/s]\n"
     ]
    },
    {
     "name": "stdout",
     "output_type": "stream",
     "text": [
      "\n",
      "360/2 -> Train loss: 0.2717986495308793\tValidation loss: 0.08019796836885165\n"
     ]
    },
    {
     "name": "stderr",
     "output_type": "stream",
     "text": [
      "Training batches: 100%|█████████████████████████████████████████████████████████████████████████| 345/345 [00:51<00:00,  6.76it/s]\n",
      "Validation batches: 100%|█████████████████████████████████████████████████████████████████████████| 87/87 [00:12<00:00,  7.19it/s]\n"
     ]
    },
    {
     "name": "stdout",
     "output_type": "stream",
     "text": [
      "\n",
      "361/2 -> Train loss: 0.2710781702539565\tValidation loss: 0.07998552871695562\n"
     ]
    },
    {
     "name": "stderr",
     "output_type": "stream",
     "text": [
      "Training batches: 100%|█████████████████████████████████████████████████████████████████████████| 345/345 [00:50<00:00,  6.77it/s]\n",
      "Validation batches: 100%|█████████████████████████████████████████████████████████████████████████| 87/87 [00:12<00:00,  7.16it/s]\n"
     ]
    },
    {
     "name": "stdout",
     "output_type": "stream",
     "text": [
      "\n",
      "362/2 -> Train loss: 0.2703559274049857\tValidation loss: 0.0797689261144041\n"
     ]
    },
    {
     "name": "stderr",
     "output_type": "stream",
     "text": [
      "Training batches: 100%|█████████████████████████████████████████████████████████████████████████| 345/345 [00:50<00:00,  6.77it/s]\n",
      "Validation batches: 100%|█████████████████████████████████████████████████████████████████████████| 87/87 [00:12<00:00,  7.20it/s]\n"
     ]
    },
    {
     "name": "stdout",
     "output_type": "stream",
     "text": [
      "\n",
      "363/2 -> Train loss: 0.2696413767769415\tValidation loss: 0.07955011925355326\n"
     ]
    },
    {
     "name": "stderr",
     "output_type": "stream",
     "text": [
      "Training batches: 100%|█████████████████████████████████████████████████████████████████████████| 345/345 [00:50<00:00,  6.77it/s]\n",
      "Validation batches: 100%|█████████████████████████████████████████████████████████████████████████| 87/87 [00:12<00:00,  7.19it/s]\n"
     ]
    },
    {
     "name": "stdout",
     "output_type": "stream",
     "text": [
      "\n",
      "364/2 -> Train loss: 0.268933476276412\tValidation loss: 0.07933250171917108\n"
     ]
    },
    {
     "name": "stderr",
     "output_type": "stream",
     "text": [
      "Training batches: 100%|█████████████████████████████████████████████████████████████████████████| 345/345 [00:50<00:00,  6.77it/s]\n",
      "Validation batches: 100%|█████████████████████████████████████████████████████████████████████████| 87/87 [00:12<00:00,  7.21it/s]\n"
     ]
    },
    {
     "name": "stdout",
     "output_type": "stream",
     "text": [
      "\n",
      "365/2 -> Train loss: 0.26822626638933245\tValidation loss: 0.07911634147606232\n"
     ]
    },
    {
     "name": "stderr",
     "output_type": "stream",
     "text": [
      "Training batches: 100%|█████████████████████████████████████████████████████████████████████████| 345/345 [00:51<00:00,  6.76it/s]\n",
      "Validation batches: 100%|█████████████████████████████████████████████████████████████████████████| 87/87 [00:12<00:00,  7.22it/s]\n"
     ]
    },
    {
     "name": "stdout",
     "output_type": "stream",
     "text": [
      "\n",
      "366/2 -> Train loss: 0.2675214394745301\tValidation loss: 0.07890124632747472\n"
     ]
    },
    {
     "name": "stderr",
     "output_type": "stream",
     "text": [
      "Training batches: 100%|█████████████████████████████████████████████████████████████████████████| 345/345 [00:50<00:00,  6.78it/s]\n",
      "Validation batches: 100%|█████████████████████████████████████████████████████████████████████████| 87/87 [00:12<00:00,  7.22it/s]\n"
     ]
    },
    {
     "name": "stdout",
     "output_type": "stream",
     "text": [
      "\n",
      "367/2 -> Train loss: 0.26682277856730835\tValidation loss: 0.0786872985168484\n"
     ]
    },
    {
     "name": "stderr",
     "output_type": "stream",
     "text": [
      "Training batches: 100%|█████████████████████████████████████████████████████████████████████████| 345/345 [00:51<00:00,  6.76it/s]\n",
      "Validation batches: 100%|█████████████████████████████████████████████████████████████████████████| 87/87 [00:12<00:00,  7.21it/s]\n"
     ]
    },
    {
     "name": "stdout",
     "output_type": "stream",
     "text": [
      "\n",
      "368/2 -> Train loss: 0.2661295587133242\tValidation loss: 0.07847456646034802\n"
     ]
    },
    {
     "name": "stderr",
     "output_type": "stream",
     "text": [
      "Training batches: 100%|█████████████████████████████████████████████████████████████████████████| 345/345 [00:51<00:00,  6.76it/s]\n",
      "Validation batches: 100%|█████████████████████████████████████████████████████████████████████████| 87/87 [00:12<00:00,  7.20it/s]\n"
     ]
    },
    {
     "name": "stdout",
     "output_type": "stream",
     "text": [
      "\n",
      "369/2 -> Train loss: 0.2654334257262205\tValidation loss: 0.07826274333941723\n"
     ]
    },
    {
     "name": "stderr",
     "output_type": "stream",
     "text": [
      "Training batches: 100%|█████████████████████████████████████████████████████████████████████████| 345/345 [00:51<00:00,  6.73it/s]\n",
      "Validation batches: 100%|█████████████████████████████████████████████████████████████████████████| 87/87 [00:12<00:00,  7.20it/s]\n"
     ]
    },
    {
     "name": "stdout",
     "output_type": "stream",
     "text": [
      "\n",
      "370/2 -> Train loss: 0.2647380228018419\tValidation loss: 0.07805188533526916\n"
     ]
    },
    {
     "name": "stderr",
     "output_type": "stream",
     "text": [
      "Training batches: 100%|█████████████████████████████████████████████████████████████████████████| 345/345 [00:50<00:00,  6.77it/s]\n",
      "Validation batches: 100%|█████████████████████████████████████████████████████████████████████████| 87/87 [00:12<00:00,  7.21it/s]\n"
     ]
    },
    {
     "name": "stdout",
     "output_type": "stream",
     "text": [
      "\n",
      "371/2 -> Train loss: 0.2640506783145638\tValidation loss: 0.07784230422357098\n"
     ]
    },
    {
     "name": "stderr",
     "output_type": "stream",
     "text": [
      "Training batches: 100%|█████████████████████████████████████████████████████████████████████████| 345/345 [00:50<00:00,  6.78it/s]\n",
      "Validation batches: 100%|█████████████████████████████████████████████████████████████████████████| 87/87 [00:12<00:00,  7.22it/s]\n"
     ]
    },
    {
     "name": "stdout",
     "output_type": "stream",
     "text": [
      "\n",
      "372/2 -> Train loss: 0.2633660826481736\tValidation loss: 0.07763386589264433\n"
     ]
    },
    {
     "name": "stderr",
     "output_type": "stream",
     "text": [
      "Training batches: 100%|█████████████████████████████████████████████████████████████████████████| 345/345 [00:50<00:00,  6.78it/s]\n",
      "Validation batches: 100%|█████████████████████████████████████████████████████████████████████████| 87/87 [00:12<00:00,  7.15it/s]\n"
     ]
    },
    {
     "name": "stdout",
     "output_type": "stream",
     "text": [
      "\n",
      "373/2 -> Train loss: 0.26268490636304764\tValidation loss: 0.07742710446363654\n"
     ]
    },
    {
     "name": "stderr",
     "output_type": "stream",
     "text": [
      "Training batches: 100%|█████████████████████████████████████████████████████████████████████████| 345/345 [00:50<00:00,  6.77it/s]\n",
      "Validation batches: 100%|█████████████████████████████████████████████████████████████████████████| 87/87 [00:12<00:00,  7.19it/s]\n"
     ]
    },
    {
     "name": "stdout",
     "output_type": "stream",
     "text": [
      "\n",
      "374/2 -> Train loss: 0.26201325691090305\tValidation loss: 0.07722109394981728\n"
     ]
    },
    {
     "name": "stderr",
     "output_type": "stream",
     "text": [
      "Training batches: 100%|█████████████████████████████████████████████████████████████████████████| 345/345 [00:50<00:00,  6.77it/s]\n",
      "Validation batches: 100%|█████████████████████████████████████████████████████████████████████████| 87/87 [00:12<00:00,  7.20it/s]\n"
     ]
    },
    {
     "name": "stdout",
     "output_type": "stream",
     "text": [
      "\n",
      "375/2 -> Train loss: 0.26134425330181466\tValidation loss: 0.07701735202580856\n"
     ]
    },
    {
     "name": "stderr",
     "output_type": "stream",
     "text": [
      "Training batches: 100%|█████████████████████████████████████████████████████████████████████████| 345/345 [00:51<00:00,  6.76it/s]\n",
      "Validation batches: 100%|█████████████████████████████████████████████████████████████████████████| 87/87 [00:12<00:00,  7.22it/s]\n"
     ]
    },
    {
     "name": "stdout",
     "output_type": "stream",
     "text": [
      "\n",
      "376/2 -> Train loss: 0.2606795159264883\tValidation loss: 0.07682788941954838\n"
     ]
    },
    {
     "name": "stderr",
     "output_type": "stream",
     "text": [
      "Training batches: 100%|█████████████████████████████████████████████████████████████████████████| 345/345 [00:51<00:00,  6.73it/s]\n",
      "Validation batches: 100%|█████████████████████████████████████████████████████████████████████████| 87/87 [00:12<00:00,  7.19it/s]\n"
     ]
    },
    {
     "name": "stdout",
     "output_type": "stream",
     "text": [
      "\n",
      "377/2 -> Train loss: 0.26001614673172885\tValidation loss: 0.0766527737340856\n"
     ]
    },
    {
     "name": "stderr",
     "output_type": "stream",
     "text": [
      "Training batches: 100%|█████████████████████████████████████████████████████████████████████████| 345/345 [00:50<00:00,  6.77it/s]\n",
      "Validation batches: 100%|█████████████████████████████████████████████████████████████████████████| 87/87 [00:12<00:00,  7.22it/s]\n"
     ]
    },
    {
     "name": "stdout",
     "output_type": "stream",
     "text": [
      "\n",
      "378/2 -> Train loss: 0.2593546698641888\tValidation loss: 0.07646064134080703\n"
     ]
    },
    {
     "name": "stderr",
     "output_type": "stream",
     "text": [
      "Training batches: 100%|█████████████████████████████████████████████████████████████████████████| 345/345 [00:50<00:00,  6.78it/s]\n",
      "Validation batches: 100%|█████████████████████████████████████████████████████████████████████████| 87/87 [00:12<00:00,  7.22it/s]\n"
     ]
    },
    {
     "name": "stdout",
     "output_type": "stream",
     "text": [
      "\n",
      "379/2 -> Train loss: 0.25869639826584795\tValidation loss: 0.0762611458913566\n"
     ]
    },
    {
     "name": "stderr",
     "output_type": "stream",
     "text": [
      "Training batches: 100%|█████████████████████████████████████████████████████████████████████████| 345/345 [00:50<00:00,  6.78it/s]\n",
      "Validation batches: 100%|█████████████████████████████████████████████████████████████████████████| 87/87 [00:12<00:00,  7.23it/s]\n"
     ]
    },
    {
     "name": "stdout",
     "output_type": "stream",
     "text": [
      "\n",
      "380/2 -> Train loss: 0.2580400896554657\tValidation loss: 0.07606155137526968\n"
     ]
    },
    {
     "name": "stderr",
     "output_type": "stream",
     "text": [
      "Training batches: 100%|█████████████████████████████████████████████████████████████████████████| 345/345 [00:51<00:00,  6.76it/s]\n",
      "Validation batches: 100%|█████████████████████████████████████████████████████████████████████████| 87/87 [00:12<00:00,  7.23it/s]\n"
     ]
    },
    {
     "name": "stdout",
     "output_type": "stream",
     "text": [
      "\n",
      "381/2 -> Train loss: 0.25738924252450035\tValidation loss: 0.0758628064945507\n"
     ]
    },
    {
     "name": "stderr",
     "output_type": "stream",
     "text": [
      "Training batches: 100%|█████████████████████████████████████████████████████████████████████████| 345/345 [00:50<00:00,  6.77it/s]\n",
      "Validation batches: 100%|█████████████████████████████████████████████████████████████████████████| 87/87 [00:12<00:00,  7.20it/s]\n"
     ]
    },
    {
     "name": "stdout",
     "output_type": "stream",
     "text": [
      "\n",
      "382/2 -> Train loss: 0.2567404157215022\tValidation loss: 0.0756655101208346\n"
     ]
    },
    {
     "name": "stderr",
     "output_type": "stream",
     "text": [
      "Training batches: 100%|█████████████████████████████████████████████████████████████████████████| 345/345 [00:51<00:00,  6.76it/s]\n",
      "Validation batches: 100%|█████████████████████████████████████████████████████████████████████████| 87/87 [00:12<00:00,  7.20it/s]\n"
     ]
    },
    {
     "name": "stdout",
     "output_type": "stream",
     "text": [
      "\n",
      "383/2 -> Train loss: 0.2560979566018696\tValidation loss: 0.07546933832116129\n"
     ]
    },
    {
     "name": "stderr",
     "output_type": "stream",
     "text": [
      "Training batches: 100%|█████████████████████████████████████████████████████████████████████████| 345/345 [00:51<00:00,  6.76it/s]\n",
      "Validation batches: 100%|█████████████████████████████████████████████████████████████████████████| 87/87 [00:12<00:00,  7.14it/s]\n"
     ]
    },
    {
     "name": "stdout",
     "output_type": "stream",
     "text": [
      "\n",
      "384/2 -> Train loss: 0.25545753100082036\tValidation loss: 0.0752737950250418\n"
     ]
    },
    {
     "name": "stderr",
     "output_type": "stream",
     "text": [
      "Training batches: 100%|█████████████████████████████████████████████████████████████████████████| 345/345 [00:51<00:00,  6.76it/s]\n",
      "Validation batches: 100%|█████████████████████████████████████████████████████████████████████████| 87/87 [00:12<00:00,  7.22it/s]\n"
     ]
    },
    {
     "name": "stdout",
     "output_type": "stream",
     "text": [
      "\n",
      "385/2 -> Train loss: 0.2548146289564305\tValidation loss: 0.07507971566389565\n"
     ]
    },
    {
     "name": "stderr",
     "output_type": "stream",
     "text": [
      "Training batches: 100%|█████████████████████████████████████████████████████████████████████████| 345/345 [00:50<00:00,  6.77it/s]\n",
      "Validation batches: 100%|█████████████████████████████████████████████████████████████████████████| 87/87 [00:12<00:00,  7.22it/s]\n"
     ]
    },
    {
     "name": "stdout",
     "output_type": "stream",
     "text": [
      "\n",
      "386/2 -> Train loss: 0.25417763692460343\tValidation loss: 0.07488628747164108\n"
     ]
    },
    {
     "name": "stderr",
     "output_type": "stream",
     "text": [
      "Training batches: 100%|█████████████████████████████████████████████████████████████████████████| 345/345 [00:50<00:00,  6.77it/s]\n",
      "Validation batches: 100%|█████████████████████████████████████████████████████████████████████████| 87/87 [00:12<00:00,  7.22it/s]\n"
     ]
    },
    {
     "name": "stdout",
     "output_type": "stream",
     "text": [
      "\n",
      "387/2 -> Train loss: 0.25354510945639624\tValidation loss: 0.07469365905237882\n"
     ]
    },
    {
     "name": "stderr",
     "output_type": "stream",
     "text": [
      "Training batches: 100%|█████████████████████████████████████████████████████████████████████████| 345/345 [00:51<00:00,  6.76it/s]\n",
      "Validation batches: 100%|█████████████████████████████████████████████████████████████████████████| 87/87 [00:12<00:00,  7.21it/s]\n"
     ]
    },
    {
     "name": "stdout",
     "output_type": "stream",
     "text": [
      "\n",
      "388/2 -> Train loss: 0.25291642984745066\tValidation loss: 0.0745019502676248\n"
     ]
    },
    {
     "name": "stderr",
     "output_type": "stream",
     "text": [
      "Training batches: 100%|█████████████████████████████████████████████████████████████████████████| 345/345 [00:50<00:00,  6.77it/s]\n",
      "Validation batches: 100%|█████████████████████████████████████████████████████████████████████████| 87/87 [00:12<00:00,  7.23it/s]\n"
     ]
    },
    {
     "name": "stdout",
     "output_type": "stream",
     "text": [
      "\n",
      "389/2 -> Train loss: 0.2522941495648702\tValidation loss: 0.0743110358999148\n"
     ]
    },
    {
     "name": "stderr",
     "output_type": "stream",
     "text": [
      "Training batches: 100%|█████████████████████████████████████████████████████████████████████████| 345/345 [00:50<00:00,  6.78it/s]\n",
      "Validation batches: 100%|█████████████████████████████████████████████████████████████████████████| 87/87 [00:12<00:00,  7.22it/s]\n"
     ]
    },
    {
     "name": "stdout",
     "output_type": "stream",
     "text": [
      "\n",
      "390/2 -> Train loss: 0.25167458802020576\tValidation loss: 0.07412121833151725\n"
     ]
    },
    {
     "name": "stderr",
     "output_type": "stream",
     "text": [
      "Training batches: 100%|█████████████████████████████████████████████████████████████████████████| 345/345 [00:50<00:00,  6.76it/s]\n",
      "Validation batches: 100%|█████████████████████████████████████████████████████████████████████████| 87/87 [00:12<00:00,  7.19it/s]\n"
     ]
    },
    {
     "name": "stdout",
     "output_type": "stream",
     "text": [
      "\n",
      "391/2 -> Train loss: 0.2510551101910801\tValidation loss: 0.07393290013592593\n"
     ]
    },
    {
     "name": "stderr",
     "output_type": "stream",
     "text": [
      "Training batches: 100%|█████████████████████████████████████████████████████████████████████████| 345/345 [00:51<00:00,  6.76it/s]\n",
      "Validation batches: 100%|█████████████████████████████████████████████████████████████████████████| 87/87 [00:12<00:00,  7.23it/s]\n"
     ]
    },
    {
     "name": "stdout",
     "output_type": "stream",
     "text": [
      "\n",
      "392/2 -> Train loss: 0.25044134451526945\tValidation loss: 0.07374540907950265\n"
     ]
    },
    {
     "name": "stderr",
     "output_type": "stream",
     "text": [
      "Training batches: 100%|█████████████████████████████████████████████████████████████████████████| 345/345 [00:50<00:00,  6.78it/s]\n",
      "Validation batches: 100%|█████████████████████████████████████████████████████████████████████████| 87/87 [00:12<00:00,  7.22it/s]\n"
     ]
    },
    {
     "name": "stdout",
     "output_type": "stream",
     "text": [
      "\n",
      "393/2 -> Train loss: 0.24982543023294773\tValidation loss: 0.07355842494994101\n"
     ]
    },
    {
     "name": "stderr",
     "output_type": "stream",
     "text": [
      "Training batches: 100%|█████████████████████████████████████████████████████████████████████████| 345/345 [00:51<00:00,  6.76it/s]\n",
      "Validation batches: 100%|█████████████████████████████████████████████████████████████████████████| 87/87 [00:12<00:00,  7.21it/s]\n"
     ]
    },
    {
     "name": "stdout",
     "output_type": "stream",
     "text": [
      "\n",
      "394/2 -> Train loss: 0.2492181495511467\tValidation loss: 0.07337228116419216\n"
     ]
    },
    {
     "name": "stderr",
     "output_type": "stream",
     "text": [
      "Training batches: 100%|█████████████████████████████████████████████████████████████████████████| 345/345 [00:50<00:00,  6.77it/s]\n",
      "Validation batches: 100%|█████████████████████████████████████████████████████████████████████████| 87/87 [00:12<00:00,  7.17it/s]\n"
     ]
    },
    {
     "name": "stdout",
     "output_type": "stream",
     "text": [
      "\n",
      "395/2 -> Train loss: 0.2486124444428903\tValidation loss: 0.07318789075760641\n"
     ]
    },
    {
     "name": "stderr",
     "output_type": "stream",
     "text": [
      "Training batches: 100%|█████████████████████████████████████████████████████████████████████████| 345/345 [00:50<00:00,  6.77it/s]\n",
      "Validation batches: 100%|█████████████████████████████████████████████████████████████████████████| 87/87 [00:12<00:00,  7.22it/s]\n"
     ]
    },
    {
     "name": "stdout",
     "output_type": "stream",
     "text": [
      "\n",
      "396/2 -> Train loss: 0.24800800674395285\tValidation loss: 0.07300394905972594\n"
     ]
    },
    {
     "name": "stderr",
     "output_type": "stream",
     "text": [
      "Training batches: 100%|█████████████████████████████████████████████████████████████████████████| 345/345 [00:50<00:00,  6.78it/s]\n",
      "Validation batches: 100%|█████████████████████████████████████████████████████████████████████████| 87/87 [00:12<00:00,  7.21it/s]\n"
     ]
    },
    {
     "name": "stdout",
     "output_type": "stream",
     "text": [
      "\n",
      "397/2 -> Train loss: 0.24740583081062456\tValidation loss: 0.07282111728878601\n"
     ]
    },
    {
     "name": "stderr",
     "output_type": "stream",
     "text": [
      "Training batches: 100%|█████████████████████████████████████████████████████████████████████████| 345/345 [00:50<00:00,  6.77it/s]\n",
      "Validation batches: 100%|█████████████████████████████████████████████████████████████████████████| 87/87 [00:12<00:00,  7.23it/s]\n"
     ]
    },
    {
     "name": "stdout",
     "output_type": "stream",
     "text": [
      "\n",
      "398/2 -> Train loss: 0.24680515199600297\tValidation loss: 0.07264075926014144\n"
     ]
    },
    {
     "name": "stderr",
     "output_type": "stream",
     "text": [
      "Training batches: 100%|█████████████████████████████████████████████████████████████████████████| 345/345 [00:50<00:00,  6.77it/s]\n",
      "Validation batches: 100%|█████████████████████████████████████████████████████████████████████████| 87/87 [00:12<00:00,  7.23it/s]\n"
     ]
    },
    {
     "name": "stdout",
     "output_type": "stream",
     "text": [
      "\n",
      "399/2 -> Train loss: 0.24620963666171605\tValidation loss: 0.07245963534941875\n"
     ]
    },
    {
     "name": "stderr",
     "output_type": "stream",
     "text": [
      "Training batches: 100%|█████████████████████████████████████████████████████████████████████████| 345/345 [00:50<00:00,  6.77it/s]\n",
      "Validation batches: 100%|█████████████████████████████████████████████████████████████████████████| 87/87 [00:12<00:00,  7.21it/s]\n"
     ]
    },
    {
     "name": "stdout",
     "output_type": "stream",
     "text": [
      "\n",
      "400/2 -> Train loss: 0.24561764824832374\tValidation loss: 0.07227920590937294\n"
     ]
    },
    {
     "name": "stderr",
     "output_type": "stream",
     "text": [
      "Training batches: 100%|█████████████████████████████████████████████████████████████████████████| 345/345 [00:50<00:00,  6.77it/s]\n",
      "Validation batches: 100%|█████████████████████████████████████████████████████████████████████████| 87/87 [00:12<00:00,  7.21it/s]\n"
     ]
    },
    {
     "name": "stdout",
     "output_type": "stream",
     "text": [
      "\n",
      "401/2 -> Train loss: 0.2450324983475921\tValidation loss: 0.0721002158997138\n"
     ]
    },
    {
     "name": "stderr",
     "output_type": "stream",
     "text": [
      "Training batches: 100%|█████████████████████████████████████████████████████████████████████████| 345/345 [00:50<00:00,  6.77it/s]\n",
      "Validation batches: 100%|█████████████████████████████████████████████████████████████████████████| 87/87 [00:12<00:00,  7.21it/s]\n"
     ]
    },
    {
     "name": "stdout",
     "output_type": "stream",
     "text": [
      "\n",
      "402/2 -> Train loss: 0.24444662524091726\tValidation loss: 0.07192254780391771\n"
     ]
    },
    {
     "name": "stderr",
     "output_type": "stream",
     "text": [
      "Training batches: 100%|█████████████████████████████████████████████████████████████████████████| 345/345 [00:51<00:00,  6.76it/s]\n",
      "Validation batches: 100%|█████████████████████████████████████████████████████████████████████████| 87/87 [00:12<00:00,  7.23it/s]\n"
     ]
    },
    {
     "name": "stdout",
     "output_type": "stream",
     "text": [
      "\n",
      "403/2 -> Train loss: 0.24386628623610768\tValidation loss: 0.0717502996281351\n"
     ]
    },
    {
     "name": "stderr",
     "output_type": "stream",
     "text": [
      "Training batches: 100%|█████████████████████████████████████████████████████████████████████████| 345/345 [00:50<00:00,  6.77it/s]\n",
      "Validation batches: 100%|█████████████████████████████████████████████████████████████████████████| 87/87 [00:12<00:00,  7.20it/s]\n"
     ]
    },
    {
     "name": "stdout",
     "output_type": "stream",
     "text": [
      "\n",
      "404/2 -> Train loss: 0.24328125569806155\tValidation loss: 0.07157327372487465\n"
     ]
    },
    {
     "name": "stderr",
     "output_type": "stream",
     "text": [
      "Training batches: 100%|█████████████████████████████████████████████████████████████████████████| 345/345 [00:51<00:00,  6.76it/s]\n",
      "Validation batches: 100%|█████████████████████████████████████████████████████████████████████████| 87/87 [00:12<00:00,  7.21it/s]\n"
     ]
    },
    {
     "name": "stdout",
     "output_type": "stream",
     "text": [
      "\n",
      "405/2 -> Train loss: 0.24270089480746607\tValidation loss: 0.0713990342684119\n"
     ]
    },
    {
     "name": "stderr",
     "output_type": "stream",
     "text": [
      "Training batches: 100%|█████████████████████████████████████████████████████████████████████████| 345/345 [00:50<00:00,  6.78it/s]\n",
      "Validation batches: 100%|█████████████████████████████████████████████████████████████████████████| 87/87 [00:12<00:00,  7.17it/s]\n"
     ]
    },
    {
     "name": "stdout",
     "output_type": "stream",
     "text": [
      "\n",
      "406/2 -> Train loss: 0.24212558170587348\tValidation loss: 0.07122420668730577\n"
     ]
    },
    {
     "name": "stderr",
     "output_type": "stream",
     "text": [
      "Training batches: 100%|█████████████████████████████████████████████████████████████████████████| 345/345 [00:50<00:00,  6.77it/s]\n",
      "Validation batches: 100%|█████████████████████████████████████████████████████████████████████████| 87/87 [00:12<00:00,  7.22it/s]\n"
     ]
    },
    {
     "name": "stdout",
     "output_type": "stream",
     "text": [
      "\n",
      "407/2 -> Train loss: 0.24154939353941723\tValidation loss: 0.0710520746170383\n"
     ]
    },
    {
     "name": "stderr",
     "output_type": "stream",
     "text": [
      "Training batches: 100%|█████████████████████████████████████████████████████████████████████████| 345/345 [00:50<00:00,  6.77it/s]\n",
      "Validation batches: 100%|█████████████████████████████████████████████████████████████████████████| 87/87 [00:12<00:00,  7.22it/s]\n"
     ]
    },
    {
     "name": "stdout",
     "output_type": "stream",
     "text": [
      "\n",
      "408/2 -> Train loss: 0.24097995472126663\tValidation loss: 0.07087885930613609\n"
     ]
    },
    {
     "name": "stderr",
     "output_type": "stream",
     "text": [
      "Training batches: 100%|█████████████████████████████████████████████████████████████████████████| 345/345 [00:50<00:00,  6.78it/s]\n",
      "Validation batches: 100%|█████████████████████████████████████████████████████████████████████████| 87/87 [00:12<00:00,  7.21it/s]\n"
     ]
    },
    {
     "name": "stdout",
     "output_type": "stream",
     "text": [
      "\n",
      "409/2 -> Train loss: 0.24041253872684834\tValidation loss: 0.07070621528767461\n"
     ]
    },
    {
     "name": "stderr",
     "output_type": "stream",
     "text": [
      "Training batches: 100%|█████████████████████████████████████████████████████████████████████████| 345/345 [00:51<00:00,  6.75it/s]\n",
      "Validation batches: 100%|█████████████████████████████████████████████████████████████████████████| 87/87 [00:12<00:00,  7.21it/s]\n"
     ]
    },
    {
     "name": "stdout",
     "output_type": "stream",
     "text": [
      "\n",
      "410/2 -> Train loss: 0.23984578027941444\tValidation loss: 0.07053422864991722\n"
     ]
    },
    {
     "name": "stderr",
     "output_type": "stream",
     "text": [
      "Training batches: 100%|█████████████████████████████████████████████████████████████████████████| 345/345 [00:51<00:00,  6.75it/s]\n",
      "Validation batches: 100%|█████████████████████████████████████████████████████████████████████████| 87/87 [00:12<00:00,  7.19it/s]\n"
     ]
    },
    {
     "name": "stdout",
     "output_type": "stream",
     "text": [
      "\n",
      "411/2 -> Train loss: 0.23928280830259532\tValidation loss: 0.07036319906920141\n"
     ]
    },
    {
     "name": "stderr",
     "output_type": "stream",
     "text": [
      "Training batches: 100%|█████████████████████████████████████████████████████████████████████████| 345/345 [00:50<00:00,  6.77it/s]\n",
      "Validation batches: 100%|█████████████████████████████████████████████████████████████████████████| 87/87 [00:12<00:00,  7.24it/s]\n"
     ]
    },
    {
     "name": "stdout",
     "output_type": "stream",
     "text": [
      "\n",
      "412/2 -> Train loss: 0.2387237564300004\tValidation loss: 0.0701929896353191\n"
     ]
    },
    {
     "name": "stderr",
     "output_type": "stream",
     "text": [
      "Training batches: 100%|█████████████████████████████████████████████████████████████████████████| 345/345 [00:50<00:00,  6.78it/s]\n",
      "Validation batches: 100%|█████████████████████████████████████████████████████████████████████████| 87/87 [00:12<00:00,  7.23it/s]\n"
     ]
    },
    {
     "name": "stdout",
     "output_type": "stream",
     "text": [
      "\n",
      "413/2 -> Train loss: 0.2381683346274975\tValidation loss: 0.07002376598961269\n"
     ]
    },
    {
     "name": "stderr",
     "output_type": "stream",
     "text": [
      "Training batches: 100%|█████████████████████████████████████████████████████████████████████████| 345/345 [00:51<00:00,  6.76it/s]\n",
      "Validation batches: 100%|█████████████████████████████████████████████████████████████████████████| 87/87 [00:12<00:00,  7.21it/s]\n"
     ]
    },
    {
     "name": "stdout",
     "output_type": "stream",
     "text": [
      "\n",
      "414/2 -> Train loss: 0.2376106339136734\tValidation loss: 0.06985525883219303\n"
     ]
    },
    {
     "name": "stderr",
     "output_type": "stream",
     "text": [
      "Training batches: 100%|█████████████████████████████████████████████████████████████████████████| 345/345 [00:50<00:00,  6.78it/s]\n",
      "Validation batches: 100%|█████████████████████████████████████████████████████████████████████████| 87/87 [00:12<00:00,  7.21it/s]\n"
     ]
    },
    {
     "name": "stdout",
     "output_type": "stream",
     "text": [
      "\n",
      "415/2 -> Train loss: 0.2370556295836258\tValidation loss: 0.06968869615069004\n"
     ]
    },
    {
     "name": "stderr",
     "output_type": "stream",
     "text": [
      "Training batches: 100%|█████████████████████████████████████████████████████████████████████████| 345/345 [00:50<00:00,  6.77it/s]\n",
      "Validation batches: 100%|█████████████████████████████████████████████████████████████████████████| 87/87 [00:12<00:00,  7.21it/s]\n"
     ]
    },
    {
     "name": "stdout",
     "output_type": "stream",
     "text": [
      "\n",
      "416/2 -> Train loss: 0.2365056428261823\tValidation loss: 0.06952340344676411\n"
     ]
    },
    {
     "name": "stderr",
     "output_type": "stream",
     "text": [
      "Training batches: 100%|█████████████████████████████████████████████████████████████████████████| 345/345 [00:51<00:00,  6.75it/s]\n",
      "Validation batches: 100%|█████████████████████████████████████████████████████████████████████████| 87/87 [00:12<00:00,  7.21it/s]\n"
     ]
    },
    {
     "name": "stdout",
     "output_type": "stream",
     "text": [
      "\n",
      "417/2 -> Train loss: 0.2359560392581984\tValidation loss: 0.06935733963491848\n"
     ]
    },
    {
     "name": "stderr",
     "output_type": "stream",
     "text": [
      "Training batches: 100%|█████████████████████████████████████████████████████████████████████████| 345/345 [00:50<00:00,  6.77it/s]\n",
      "Validation batches: 100%|█████████████████████████████████████████████████████████████████████████| 87/87 [00:12<00:00,  7.22it/s]\n"
     ]
    },
    {
     "name": "stdout",
     "output_type": "stream",
     "text": [
      "\n",
      "418/2 -> Train loss: 0.2354084211421433\tValidation loss: 0.06919203235210451\n"
     ]
    },
    {
     "name": "stderr",
     "output_type": "stream",
     "text": [
      "Training batches: 100%|█████████████████████████████████████████████████████████████████████████| 345/345 [00:50<00:00,  6.78it/s]\n",
      "Validation batches: 100%|█████████████████████████████████████████████████████████████████████████| 87/87 [00:12<00:00,  7.22it/s]\n"
     ]
    },
    {
     "name": "stdout",
     "output_type": "stream",
     "text": [
      "\n",
      "419/2 -> Train loss: 0.2348660869645472\tValidation loss: 0.0690278028327675\n"
     ]
    },
    {
     "name": "stderr",
     "output_type": "stream",
     "text": [
      "Training batches: 100%|█████████████████████████████████████████████████████████████████████████| 345/345 [00:50<00:00,  6.77it/s]\n",
      "Validation batches: 100%|█████████████████████████████████████████████████████████████████████████| 87/87 [00:12<00:00,  7.23it/s]\n"
     ]
    },
    {
     "name": "stdout",
     "output_type": "stream",
     "text": [
      "\n",
      "420/2 -> Train loss: 0.23432329043699732\tValidation loss: 0.06886465828716573\n"
     ]
    },
    {
     "name": "stderr",
     "output_type": "stream",
     "text": [
      "Training batches: 100%|█████████████████████████████████████████████████████████████████████████| 345/345 [00:51<00:00,  6.76it/s]\n",
      "Validation batches: 100%|█████████████████████████████████████████████████████████████████████████| 87/87 [00:12<00:00,  7.22it/s]\n"
     ]
    },
    {
     "name": "stdout",
     "output_type": "stream",
     "text": [
      "\n",
      "421/2 -> Train loss: 0.2337841107015612\tValidation loss: 0.06870184209044612\n"
     ]
    },
    {
     "name": "stderr",
     "output_type": "stream",
     "text": [
      "Training batches: 100%|█████████████████████████████████████████████████████████████████████████| 345/345 [00:50<00:00,  6.77it/s]\n",
      "Validation batches: 100%|█████████████████████████████████████████████████████████████████████████| 87/87 [00:12<00:00,  7.19it/s]\n"
     ]
    },
    {
     "name": "stdout",
     "output_type": "stream",
     "text": [
      "\n",
      "422/2 -> Train loss: 0.23324748228406686\tValidation loss: 0.06854126278741116\n"
     ]
    },
    {
     "name": "stderr",
     "output_type": "stream",
     "text": [
      "Training batches: 100%|█████████████████████████████████████████████████████████████████████████| 345/345 [00:51<00:00,  6.76it/s]\n",
      "Validation batches: 100%|█████████████████████████████████████████████████████████████████████████| 87/87 [00:12<00:00,  7.21it/s]\n"
     ]
    },
    {
     "name": "stdout",
     "output_type": "stream",
     "text": [
      "\n",
      "423/2 -> Train loss: 0.23271697859814844\tValidation loss: 0.06838161672691984\n"
     ]
    },
    {
     "name": "stderr",
     "output_type": "stream",
     "text": [
      "Training batches: 100%|█████████████████████████████████████████████████████████████████████████| 345/345 [00:50<00:00,  6.77it/s]\n",
      "Validation batches: 100%|█████████████████████████████████████████████████████████████████████████| 87/87 [00:12<00:00,  7.21it/s]\n"
     ]
    },
    {
     "name": "stdout",
     "output_type": "stream",
     "text": [
      "\n",
      "424/2 -> Train loss: 0.23218520885331567\tValidation loss: 0.06822707156215191\n"
     ]
    },
    {
     "name": "stderr",
     "output_type": "stream",
     "text": [
      "Training batches: 100%|█████████████████████████████████████████████████████████████████████████| 345/345 [00:51<00:00,  6.76it/s]\n",
      "Validation batches: 100%|█████████████████████████████████████████████████████████████████████████| 87/87 [00:12<00:00,  7.22it/s]\n"
     ]
    },
    {
     "name": "stdout",
     "output_type": "stream",
     "text": [
      "\n",
      "425/2 -> Train loss: 0.23165598066657622\tValidation loss: 0.06806838237907895\n"
     ]
    },
    {
     "name": "stderr",
     "output_type": "stream",
     "text": [
      "Training batches: 100%|█████████████████████████████████████████████████████████████████████████| 345/345 [00:51<00:00,  6.76it/s]\n",
      "Validation batches: 100%|█████████████████████████████████████████████████████████████████████████| 87/87 [00:12<00:00,  7.21it/s]\n"
     ]
    },
    {
     "name": "stdout",
     "output_type": "stream",
     "text": [
      "\n",
      "426/2 -> Train loss: 0.23113217404909267\tValidation loss: 0.06790917674203359\n"
     ]
    },
    {
     "name": "stderr",
     "output_type": "stream",
     "text": [
      "Training batches: 100%|█████████████████████████████████████████████████████████████████████████| 345/345 [00:51<00:00,  6.76it/s]\n",
      "Validation batches: 100%|█████████████████████████████████████████████████████████████████████████| 87/87 [00:12<00:00,  7.21it/s]\n"
     ]
    },
    {
     "name": "stdout",
     "output_type": "stream",
     "text": [
      "\n",
      "427/2 -> Train loss: 0.2306095636050037\tValidation loss: 0.06775062959798274\n"
     ]
    },
    {
     "name": "stderr",
     "output_type": "stream",
     "text": [
      "Training batches: 100%|█████████████████████████████████████████████████████████████████████████| 345/345 [00:50<00:00,  6.77it/s]\n",
      "Validation batches: 100%|█████████████████████████████████████████████████████████████████████████| 87/87 [00:12<00:00,  7.22it/s]\n"
     ]
    },
    {
     "name": "stdout",
     "output_type": "stream",
     "text": [
      "\n",
      "428/2 -> Train loss: 0.23008863059283244\tValidation loss: 0.06759323473532636\n"
     ]
    },
    {
     "name": "stderr",
     "output_type": "stream",
     "text": [
      "Training batches: 100%|█████████████████████████████████████████████████████████████████████████| 345/345 [00:50<00:00,  6.77it/s]\n",
      "Validation batches: 100%|█████████████████████████████████████████████████████████████████████████| 87/87 [00:12<00:00,  7.22it/s]\n"
     ]
    },
    {
     "name": "stdout",
     "output_type": "stream",
     "text": [
      "\n",
      "429/2 -> Train loss: 0.22956877719271465\tValidation loss: 0.06743621952311507\n"
     ]
    },
    {
     "name": "stderr",
     "output_type": "stream",
     "text": [
      "Training batches: 100%|█████████████████████████████████████████████████████████████████████████| 345/345 [00:50<00:00,  6.77it/s]\n",
      "Validation batches: 100%|█████████████████████████████████████████████████████████████████████████| 87/87 [00:12<00:00,  7.21it/s]\n"
     ]
    },
    {
     "name": "stdout",
     "output_type": "stream",
     "text": [
      "\n",
      "430/2 -> Train loss: 0.22905095674532452\tValidation loss: 0.06727998501331356\n"
     ]
    },
    {
     "name": "stderr",
     "output_type": "stream",
     "text": [
      "Training batches: 100%|█████████████████████████████████████████████████████████████████████████| 345/345 [00:50<00:00,  6.77it/s]\n",
      "Validation batches: 100%|█████████████████████████████████████████████████████████████████████████| 87/87 [00:12<00:00,  7.22it/s]\n"
     ]
    },
    {
     "name": "stdout",
     "output_type": "stream",
     "text": [
      "\n",
      "431/2 -> Train loss: 0.228537504590731\tValidation loss: 0.06712468296289104\n"
     ]
    },
    {
     "name": "stderr",
     "output_type": "stream",
     "text": [
      "Training batches: 100%|█████████████████████████████████████████████████████████████████████████| 345/345 [00:51<00:00,  6.75it/s]\n",
      "Validation batches: 100%|█████████████████████████████████████████████████████████████████████████| 87/87 [00:12<00:00,  7.21it/s]\n"
     ]
    },
    {
     "name": "stdout",
     "output_type": "stream",
     "text": [
      "\n",
      "432/2 -> Train loss: 0.22802696700098807\tValidation loss: 0.06697355620608979\n"
     ]
    },
    {
     "name": "stderr",
     "output_type": "stream",
     "text": [
      "Training batches: 100%|█████████████████████████████████████████████████████████████████████████| 345/345 [00:50<00:00,  6.77it/s]\n",
      "Validation batches: 100%|█████████████████████████████████████████████████████████████████████████| 87/87 [00:12<00:00,  7.19it/s]\n"
     ]
    },
    {
     "name": "stdout",
     "output_type": "stream",
     "text": [
      "\n",
      "433/2 -> Train loss: 0.2275181437924378\tValidation loss: 0.06681966300415917\n"
     ]
    },
    {
     "name": "stderr",
     "output_type": "stream",
     "text": [
      "Training batches: 100%|█████████████████████████████████████████████████████████████████████████| 345/345 [00:51<00:00,  6.76it/s]\n",
      "Validation batches: 100%|█████████████████████████████████████████████████████████████████████████| 87/87 [00:12<00:00,  7.20it/s]\n"
     ]
    },
    {
     "name": "stdout",
     "output_type": "stream",
     "text": [
      "\n",
      "434/2 -> Train loss: 0.2270123277546116\tValidation loss: 0.06666638760297218\n"
     ]
    },
    {
     "name": "stderr",
     "output_type": "stream",
     "text": [
      "Training batches: 100%|█████████████████████████████████████████████████████████████████████████| 345/345 [00:50<00:00,  6.77it/s]\n",
      "Validation batches: 100%|█████████████████████████████████████████████████████████████████████████| 87/87 [00:12<00:00,  7.22it/s]\n"
     ]
    },
    {
     "name": "stdout",
     "output_type": "stream",
     "text": [
      "\n",
      "435/2 -> Train loss: 0.22650721822847525\tValidation loss: 0.06651362862236249\n"
     ]
    },
    {
     "name": "stderr",
     "output_type": "stream",
     "text": [
      "Training batches: 100%|█████████████████████████████████████████████████████████████████████████| 345/345 [00:51<00:00,  6.75it/s]\n",
      "Validation batches: 100%|█████████████████████████████████████████████████████████████████████████| 87/87 [00:12<00:00,  7.22it/s]\n"
     ]
    },
    {
     "name": "stdout",
     "output_type": "stream",
     "text": [
      "\n",
      "436/2 -> Train loss: 0.22600271043034864\tValidation loss: 0.0663616032429312\n"
     ]
    },
    {
     "name": "stderr",
     "output_type": "stream",
     "text": [
      "Training batches: 100%|█████████████████████████████████████████████████████████████████████████| 345/345 [00:50<00:00,  6.77it/s]\n",
      "Validation batches: 100%|█████████████████████████████████████████████████████████████████████████| 87/87 [00:12<00:00,  7.22it/s]\n"
     ]
    },
    {
     "name": "stdout",
     "output_type": "stream",
     "text": [
      "\n",
      "437/2 -> Train loss: 0.22550213377194203\tValidation loss: 0.06621319076061767\n"
     ]
    },
    {
     "name": "stderr",
     "output_type": "stream",
     "text": [
      "Training batches: 100%|█████████████████████████████████████████████████████████████████████████| 345/345 [00:51<00:00,  6.75it/s]\n",
      "Validation batches: 100%|█████████████████████████████████████████████████████████████████████████| 87/87 [00:12<00:00,  7.18it/s]\n"
     ]
    },
    {
     "name": "stdout",
     "output_type": "stream",
     "text": [
      "\n",
      "438/2 -> Train loss: 0.2250031497336592\tValidation loss: 0.06606325687142468\n"
     ]
    },
    {
     "name": "stderr",
     "output_type": "stream",
     "text": [
      "Training batches: 100%|█████████████████████████████████████████████████████████████████████████| 345/345 [00:51<00:00,  6.75it/s]\n",
      "Validation batches: 100%|█████████████████████████████████████████████████████████████████████████| 87/87 [00:12<00:00,  7.21it/s]\n"
     ]
    },
    {
     "name": "stdout",
     "output_type": "stream",
     "text": [
      "\n",
      "439/2 -> Train loss: 0.22450561333572344\tValidation loss: 0.06591443119989741\n"
     ]
    },
    {
     "name": "stderr",
     "output_type": "stream",
     "text": [
      "Training batches: 100%|█████████████████████████████████████████████████████████████████████████| 345/345 [00:50<00:00,  6.77it/s]\n",
      "Validation batches: 100%|█████████████████████████████████████████████████████████████████████████| 87/87 [00:12<00:00,  7.21it/s]\n"
     ]
    },
    {
     "name": "stdout",
     "output_type": "stream",
     "text": [
      "\n",
      "440/2 -> Train loss: 0.2240096131000001\tValidation loss: 0.06576585893869774\n"
     ]
    },
    {
     "name": "stderr",
     "output_type": "stream",
     "text": [
      "Training batches: 100%|█████████████████████████████████████████████████████████████████████████| 345/345 [00:51<00:00,  6.76it/s]\n",
      "Validation batches: 100%|█████████████████████████████████████████████████████████████████████████| 87/87 [00:12<00:00,  7.21it/s]\n"
     ]
    },
    {
     "name": "stdout",
     "output_type": "stream",
     "text": [
      "\n",
      "441/2 -> Train loss: 0.22351749109529556\tValidation loss: 0.06561934609796671\n"
     ]
    },
    {
     "name": "stderr",
     "output_type": "stream",
     "text": [
      "Training batches: 100%|█████████████████████████████████████████████████████████████████████████| 345/345 [00:50<00:00,  6.77it/s]\n",
      "Validation batches: 100%|█████████████████████████████████████████████████████████████████████████| 87/87 [00:12<00:00,  7.23it/s]\n"
     ]
    },
    {
     "name": "stdout",
     "output_type": "stream",
     "text": [
      "\n",
      "442/2 -> Train loss: 0.22302587792830855\tValidation loss: 0.06548130237047825\n"
     ]
    },
    {
     "name": "stderr",
     "output_type": "stream",
     "text": [
      "Training batches: 100%|█████████████████████████████████████████████████████████████████████████| 345/345 [00:50<00:00,  6.77it/s]\n",
      "Validation batches: 100%|█████████████████████████████████████████████████████████████████████████| 87/87 [00:12<00:00,  7.23it/s]\n"
     ]
    },
    {
     "name": "stdout",
     "output_type": "stream",
     "text": [
      "\n",
      "443/2 -> Train loss: 0.2225386787625398\tValidation loss: 0.06534771710279301\n"
     ]
    },
    {
     "name": "stderr",
     "output_type": "stream",
     "text": [
      "Training batches: 100%|█████████████████████████████████████████████████████████████████████████| 345/345 [00:50<00:00,  6.77it/s]\n",
      "Validation batches: 100%|█████████████████████████████████████████████████████████████████████████| 87/87 [00:12<00:00,  7.23it/s]\n"
     ]
    },
    {
     "name": "stdout",
     "output_type": "stream",
     "text": [
      "\n",
      "444/2 -> Train loss: 0.22205379249523005\tValidation loss: 0.06520105870198616\n"
     ]
    },
    {
     "name": "stderr",
     "output_type": "stream",
     "text": [
      "Training batches: 100%|█████████████████████████████████████████████████████████████████████████| 345/345 [00:50<00:00,  6.78it/s]\n",
      "Validation batches: 100%|█████████████████████████████████████████████████████████████████████████| 87/87 [00:12<00:00,  7.21it/s]\n"
     ]
    },
    {
     "name": "stdout",
     "output_type": "stream",
     "text": [
      "\n",
      "445/2 -> Train loss: 0.22157099406544215\tValidation loss: 0.06505512059594326\n"
     ]
    },
    {
     "name": "stderr",
     "output_type": "stream",
     "text": [
      "Training batches: 100%|█████████████████████████████████████████████████████████████████████████| 345/345 [00:50<00:00,  6.77it/s]\n",
      "Validation batches: 100%|█████████████████████████████████████████████████████████████████████████| 87/87 [00:12<00:00,  7.22it/s]\n"
     ]
    },
    {
     "name": "stdout",
     "output_type": "stream",
     "text": [
      "\n",
      "446/2 -> Train loss: 0.22109177509607683\tValidation loss: 0.0649117568360768\n"
     ]
    },
    {
     "name": "stderr",
     "output_type": "stream",
     "text": [
      "Training batches: 100%|█████████████████████████████████████████████████████████████████████████| 345/345 [00:50<00:00,  6.77it/s]\n",
      "Validation batches: 100%|█████████████████████████████████████████████████████████████████████████| 87/87 [00:12<00:00,  7.23it/s]\n"
     ]
    },
    {
     "name": "stdout",
     "output_type": "stream",
     "text": [
      "\n",
      "447/2 -> Train loss: 0.22061428873716746\tValidation loss: 0.06476844790432731\n"
     ]
    },
    {
     "name": "stderr",
     "output_type": "stream",
     "text": [
      "Training batches: 100%|█████████████████████████████████████████████████████████████████████████| 345/345 [00:50<00:00,  6.78it/s]\n",
      "Validation batches: 100%|█████████████████████████████████████████████████████████████████████████| 87/87 [00:12<00:00,  7.24it/s]\n"
     ]
    },
    {
     "name": "stdout",
     "output_type": "stream",
     "text": [
      "\n",
      "448/2 -> Train loss: 0.22013553866892682\tValidation loss: 0.06462467600221766\n"
     ]
    },
    {
     "name": "stderr",
     "output_type": "stream",
     "text": [
      "Training batches: 100%|█████████████████████████████████████████████████████████████████████████| 345/345 [00:50<00:00,  6.78it/s]\n",
      "Validation batches: 100%|█████████████████████████████████████████████████████████████████████████| 87/87 [00:12<00:00,  7.22it/s]\n"
     ]
    },
    {
     "name": "stdout",
     "output_type": "stream",
     "text": [
      "\n",
      "449/2 -> Train loss: 0.2196572516352868\tValidation loss: 0.06448134037180285\n"
     ]
    },
    {
     "name": "stderr",
     "output_type": "stream",
     "text": [
      "Training batches: 100%|█████████████████████████████████████████████████████████████████████████| 345/345 [00:51<00:00,  6.75it/s]\n",
      "Validation batches: 100%|█████████████████████████████████████████████████████████████████████████| 87/87 [00:12<00:00,  7.20it/s]\n"
     ]
    },
    {
     "name": "stdout",
     "output_type": "stream",
     "text": [
      "\n",
      "450/2 -> Train loss: 0.2191846933506952\tValidation loss: 0.06433855685937902\n"
     ]
    },
    {
     "name": "stderr",
     "output_type": "stream",
     "text": [
      "Training batches: 100%|█████████████████████████████████████████████████████████████████████████| 345/345 [00:50<00:00,  6.78it/s]\n",
      "Validation batches: 100%|█████████████████████████████████████████████████████████████████████████| 87/87 [00:12<00:00,  7.22it/s]\n"
     ]
    },
    {
     "name": "stdout",
     "output_type": "stream",
     "text": [
      "\n",
      "451/2 -> Train loss: 0.2187162078305521\tValidation loss: 0.0641968455715129\n"
     ]
    },
    {
     "name": "stderr",
     "output_type": "stream",
     "text": [
      "Training batches: 100%|█████████████████████████████████████████████████████████████████████████| 345/345 [00:50<00:00,  6.77it/s]\n",
      "Validation batches: 100%|█████████████████████████████████████████████████████████████████████████| 87/87 [00:12<00:00,  7.22it/s]\n"
     ]
    },
    {
     "name": "stdout",
     "output_type": "stream",
     "text": [
      "\n",
      "452/2 -> Train loss: 0.21824779281702317\tValidation loss: 0.06405529811653124\n"
     ]
    },
    {
     "name": "stderr",
     "output_type": "stream",
     "text": [
      "Training batches: 100%|█████████████████████████████████████████████████████████████████████████| 345/345 [00:50<00:00,  6.78it/s]\n",
      "Validation batches: 100%|█████████████████████████████████████████████████████████████████████████| 87/87 [00:12<00:00,  7.23it/s]\n"
     ]
    },
    {
     "name": "stdout",
     "output_type": "stream",
     "text": [
      "\n",
      "453/2 -> Train loss: 0.21777977221967407\tValidation loss: 0.06391425020264702\n"
     ]
    },
    {
     "name": "stderr",
     "output_type": "stream",
     "text": [
      "Training batches: 100%|█████████████████████████████████████████████████████████████████████████| 345/345 [00:51<00:00,  6.75it/s]\n",
      "Validation batches: 100%|█████████████████████████████████████████████████████████████████████████| 87/87 [00:12<00:00,  7.22it/s]\n"
     ]
    },
    {
     "name": "stdout",
     "output_type": "stream",
     "text": [
      "\n",
      "454/2 -> Train loss: 0.21731488287522652\tValidation loss: 0.06377431230387241\n"
     ]
    },
    {
     "name": "stderr",
     "output_type": "stream",
     "text": [
      "Training batches: 100%|█████████████████████████████████████████████████████████████████████████| 345/345 [00:50<00:00,  6.78it/s]\n",
      "Validation batches: 100%|█████████████████████████████████████████████████████████████████████████| 87/87 [00:12<00:00,  7.22it/s]\n"
     ]
    },
    {
     "name": "stdout",
     "output_type": "stream",
     "text": [
      "\n",
      "455/2 -> Train loss: 0.21685176940204176\tValidation loss: 0.06363478871053424\n"
     ]
    },
    {
     "name": "stderr",
     "output_type": "stream",
     "text": [
      "Training batches: 100%|█████████████████████████████████████████████████████████████████████████| 345/345 [00:50<00:00,  6.77it/s]\n",
      "Validation batches: 100%|█████████████████████████████████████████████████████████████████████████| 87/87 [00:12<00:00,  7.22it/s]\n"
     ]
    },
    {
     "name": "stdout",
     "output_type": "stream",
     "text": [
      "\n",
      "456/2 -> Train loss: 0.2163879546340221\tValidation loss: 0.06349559946069229\n"
     ]
    },
    {
     "name": "stderr",
     "output_type": "stream",
     "text": [
      "Training batches: 100%|█████████████████████████████████████████████████████████████████████████| 345/345 [00:50<00:00,  6.77it/s]\n",
      "Validation batches: 100%|█████████████████████████████████████████████████████████████████████████| 87/87 [00:12<00:00,  7.22it/s]\n"
     ]
    },
    {
     "name": "stdout",
     "output_type": "stream",
     "text": [
      "\n",
      "457/2 -> Train loss: 0.21592676181322193\tValidation loss: 0.06335727414299024\n"
     ]
    },
    {
     "name": "stderr",
     "output_type": "stream",
     "text": [
      "Training batches: 100%|█████████████████████████████████████████████████████████████████████████| 345/345 [00:51<00:00,  6.76it/s]\n",
      "Validation batches: 100%|█████████████████████████████████████████████████████████████████████████| 87/87 [00:12<00:00,  7.22it/s]\n"
     ]
    },
    {
     "name": "stdout",
     "output_type": "stream",
     "text": [
      "\n",
      "458/2 -> Train loss: 0.21546756347926477\tValidation loss: 0.06322002355887671\n"
     ]
    },
    {
     "name": "stderr",
     "output_type": "stream",
     "text": [
      "Training batches: 100%|█████████████████████████████████████████████████████████████████████████| 345/345 [00:50<00:00,  6.77it/s]\n",
      "Validation batches: 100%|█████████████████████████████████████████████████████████████████████████| 87/87 [00:12<00:00,  7.21it/s]\n"
     ]
    },
    {
     "name": "stdout",
     "output_type": "stream",
     "text": [
      "\n",
      "459/2 -> Train loss: 0.2150120449566342\tValidation loss: 0.06308581739367211\n"
     ]
    },
    {
     "name": "stderr",
     "output_type": "stream",
     "text": [
      "Training batches: 100%|█████████████████████████████████████████████████████████████████████████| 345/345 [00:51<00:00,  6.76it/s]\n",
      "Validation batches: 100%|█████████████████████████████████████████████████████████████████████████| 87/87 [00:12<00:00,  7.21it/s]\n"
     ]
    },
    {
     "name": "stdout",
     "output_type": "stream",
     "text": [
      "\n",
      "460/2 -> Train loss: 0.21456063259535682\tValidation loss: 0.0629492353173976\n"
     ]
    },
    {
     "name": "stderr",
     "output_type": "stream",
     "text": [
      "Training batches: 100%|█████████████████████████████████████████████████████████████████████████| 345/345 [00:51<00:00,  6.75it/s]\n",
      "Validation batches: 100%|█████████████████████████████████████████████████████████████████████████| 87/87 [00:12<00:00,  7.22it/s]\n"
     ]
    },
    {
     "name": "stdout",
     "output_type": "stream",
     "text": [
      "\n",
      "461/2 -> Train loss: 0.2141090612854876\tValidation loss: 0.06281323879031879\n"
     ]
    },
    {
     "name": "stderr",
     "output_type": "stream",
     "text": [
      "Training batches: 100%|█████████████████████████████████████████████████████████████████████████| 345/345 [00:50<00:00,  6.77it/s]\n",
      "Validation batches: 100%|█████████████████████████████████████████████████████████████████████████| 87/87 [00:12<00:00,  7.20it/s]\n"
     ]
    },
    {
     "name": "stdout",
     "output_type": "stream",
     "text": [
      "\n",
      "462/2 -> Train loss: 0.21366154788830424\tValidation loss: 0.06267800172537921\n"
     ]
    },
    {
     "name": "stderr",
     "output_type": "stream",
     "text": [
      "Training batches: 100%|█████████████████████████████████████████████████████████████████████████| 345/345 [00:50<00:00,  6.77it/s]\n",
      "Validation batches: 100%|█████████████████████████████████████████████████████████████████████████| 87/87 [00:12<00:00,  7.21it/s]\n"
     ]
    },
    {
     "name": "stdout",
     "output_type": "stream",
     "text": [
      "\n",
      "463/2 -> Train loss: 0.21321457865551868\tValidation loss: 0.06254315484176909\n"
     ]
    },
    {
     "name": "stderr",
     "output_type": "stream",
     "text": [
      "Training batches: 100%|█████████████████████████████████████████████████████████████████████████| 345/345 [00:50<00:00,  6.76it/s]\n",
      "Validation batches: 100%|█████████████████████████████████████████████████████████████████████████| 87/87 [00:12<00:00,  7.23it/s]\n"
     ]
    },
    {
     "name": "stdout",
     "output_type": "stream",
     "text": [
      "\n",
      "464/2 -> Train loss: 0.2127675448150855\tValidation loss: 0.06240887256729118\n"
     ]
    },
    {
     "name": "stderr",
     "output_type": "stream",
     "text": [
      "Training batches: 100%|█████████████████████████████████████████████████████████████████████████| 345/345 [00:51<00:00,  6.76it/s]\n",
      "Validation batches: 100%|█████████████████████████████████████████████████████████████████████████| 87/87 [00:12<00:00,  7.22it/s]\n"
     ]
    },
    {
     "name": "stdout",
     "output_type": "stream",
     "text": [
      "\n",
      "465/2 -> Train loss: 0.21232578813314312\tValidation loss: 0.06227701711471119\n"
     ]
    },
    {
     "name": "stderr",
     "output_type": "stream",
     "text": [
      "Training batches: 100%|█████████████████████████████████████████████████████████████████████████| 345/345 [00:50<00:00,  6.77it/s]\n",
      "Validation batches: 100%|█████████████████████████████████████████████████████████████████████████| 87/87 [00:12<00:00,  7.22it/s]\n"
     ]
    },
    {
     "name": "stdout",
     "output_type": "stream",
     "text": [
      "\n",
      "466/2 -> Train loss: 0.21188150439084874\tValidation loss: 0.062153024976122136\n"
     ]
    },
    {
     "name": "stderr",
     "output_type": "stream",
     "text": [
      "Training batches: 100%|█████████████████████████████████████████████████████████████████████████| 345/345 [00:50<00:00,  6.77it/s]\n",
      "Validation batches: 100%|█████████████████████████████████████████████████████████████████████████| 87/87 [00:12<00:00,  7.22it/s]\n"
     ]
    },
    {
     "name": "stdout",
     "output_type": "stream",
     "text": [
      "\n",
      "467/2 -> Train loss: 0.21144118045583335\tValidation loss: 0.06203125083419211\n"
     ]
    },
    {
     "name": "stderr",
     "output_type": "stream",
     "text": [
      "Training batches: 100%|█████████████████████████████████████████████████████████████████████████| 345/345 [00:50<00:00,  6.78it/s]\n",
      "Validation batches: 100%|█████████████████████████████████████████████████████████████████████████| 87/87 [00:12<00:00,  7.16it/s]\n"
     ]
    },
    {
     "name": "stdout",
     "output_type": "stream",
     "text": [
      "\n",
      "468/2 -> Train loss: 0.21100332637612193\tValidation loss: 0.06190100660717977\n"
     ]
    },
    {
     "name": "stderr",
     "output_type": "stream",
     "text": [
      "Training batches: 100%|█████████████████████████████████████████████████████████████████████████| 345/345 [00:51<00:00,  6.75it/s]\n",
      "Validation batches: 100%|█████████████████████████████████████████████████████████████████████████| 87/87 [00:12<00:00,  7.20it/s]\n"
     ]
    },
    {
     "name": "stdout",
     "output_type": "stream",
     "text": [
      "\n",
      "469/2 -> Train loss: 0.21056505064180542\tValidation loss: 0.06177263987815085\n"
     ]
    },
    {
     "name": "stderr",
     "output_type": "stream",
     "text": [
      "Training batches: 100%|█████████████████████████████████████████████████████████████████████████| 345/345 [00:50<00:00,  6.77it/s]\n",
      "Validation batches: 100%|█████████████████████████████████████████████████████████████████████████| 87/87 [00:12<00:00,  7.21it/s]\n"
     ]
    },
    {
     "name": "stdout",
     "output_type": "stream",
     "text": [
      "\n",
      "470/2 -> Train loss: 0.21012990429732745\tValidation loss: 0.0616420414529784\n"
     ]
    },
    {
     "name": "stderr",
     "output_type": "stream",
     "text": [
      "Training batches: 100%|█████████████████████████████████████████████████████████████████████████| 345/345 [00:50<00:00,  6.78it/s]\n",
      "Validation batches: 100%|█████████████████████████████████████████████████████████████████████████| 87/87 [00:12<00:00,  7.22it/s]\n"
     ]
    },
    {
     "name": "stdout",
     "output_type": "stream",
     "text": [
      "\n",
      "471/2 -> Train loss: 0.2096981732560496\tValidation loss: 0.06151228048020998\n"
     ]
    },
    {
     "name": "stderr",
     "output_type": "stream",
     "text": [
      "Training batches: 100%|█████████████████████████████████████████████████████████████████████████| 345/345 [00:51<00:00,  6.76it/s]\n",
      "Validation batches: 100%|█████████████████████████████████████████████████████████████████████████| 87/87 [00:12<00:00,  7.23it/s]\n"
     ]
    },
    {
     "name": "stdout",
     "output_type": "stream",
     "text": [
      "\n",
      "472/2 -> Train loss: 0.2092680364053446\tValidation loss: 0.061382517144053565\n"
     ]
    },
    {
     "name": "stderr",
     "output_type": "stream",
     "text": [
      "Training batches: 100%|█████████████████████████████████████████████████████████████████████████| 345/345 [00:50<00:00,  6.77it/s]\n",
      "Validation batches: 100%|█████████████████████████████████████████████████████████████████████████| 87/87 [00:12<00:00,  7.23it/s]\n"
     ]
    },
    {
     "name": "stdout",
     "output_type": "stream",
     "text": [
      "\n",
      "473/2 -> Train loss: 0.20884034296206688\tValidation loss: 0.06125337872717661\n"
     ]
    },
    {
     "name": "stderr",
     "output_type": "stream",
     "text": [
      "Training batches: 100%|█████████████████████████████████████████████████████████████████████████| 345/345 [00:50<00:00,  6.78it/s]\n",
      "Validation batches: 100%|█████████████████████████████████████████████████████████████████████████| 87/87 [00:12<00:00,  7.21it/s]\n"
     ]
    },
    {
     "name": "stdout",
     "output_type": "stream",
     "text": [
      "\n",
      "474/2 -> Train loss: 0.20841242344081032\tValidation loss: 0.06112461617344742\n"
     ]
    },
    {
     "name": "stderr",
     "output_type": "stream",
     "text": [
      "Training batches: 100%|█████████████████████████████████████████████████████████████████████████| 345/345 [00:51<00:00,  6.76it/s]\n",
      "Validation batches: 100%|█████████████████████████████████████████████████████████████████████████| 87/87 [00:12<00:00,  7.20it/s]\n"
     ]
    },
    {
     "name": "stdout",
     "output_type": "stream",
     "text": [
      "\n",
      "475/2 -> Train loss: 0.20798805008218768\tValidation loss: 0.060996452223249356\n"
     ]
    },
    {
     "name": "stderr",
     "output_type": "stream",
     "text": [
      "Training batches: 100%|█████████████████████████████████████████████████████████████████████████| 345/345 [00:51<00:00,  6.74it/s]\n",
      "Validation batches: 100%|█████████████████████████████████████████████████████████████████████████| 87/87 [00:12<00:00,  7.18it/s]\n"
     ]
    },
    {
     "name": "stdout",
     "output_type": "stream",
     "text": [
      "\n",
      "476/2 -> Train loss: 0.20756732297992733\tValidation loss: 0.060868897818987334\n"
     ]
    },
    {
     "name": "stderr",
     "output_type": "stream",
     "text": [
      "Training batches: 100%|█████████████████████████████████████████████████████████████████████████| 345/345 [00:51<00:00,  6.76it/s]\n",
      "Validation batches: 100%|█████████████████████████████████████████████████████████████████████████| 87/87 [00:12<00:00,  7.20it/s]\n"
     ]
    },
    {
     "name": "stdout",
     "output_type": "stream",
     "text": [
      "\n",
      "477/2 -> Train loss: 0.20714868392024366\tValidation loss: 0.06074164991972222\n"
     ]
    },
    {
     "name": "stderr",
     "output_type": "stream",
     "text": [
      "Training batches: 100%|█████████████████████████████████████████████████████████████████████████| 345/345 [00:51<00:00,  6.76it/s]\n",
      "Validation batches: 100%|█████████████████████████████████████████████████████████████████████████| 87/87 [00:12<00:00,  7.20it/s]\n"
     ]
    },
    {
     "name": "stdout",
     "output_type": "stream",
     "text": [
      "\n",
      "478/2 -> Train loss: 0.20672730332876052\tValidation loss: 0.06061638836377336\n"
     ]
    },
    {
     "name": "stderr",
     "output_type": "stream",
     "text": [
      "Training batches: 100%|█████████████████████████████████████████████████████████████████████████| 345/345 [00:50<00:00,  6.77it/s]\n",
      "Validation batches: 100%|█████████████████████████████████████████████████████████████████████████| 87/87 [00:12<00:00,  7.15it/s]\n"
     ]
    },
    {
     "name": "stdout",
     "output_type": "stream",
     "text": [
      "\n",
      "479/2 -> Train loss: 0.2063075465208802\tValidation loss: 0.060491894847115056\n"
     ]
    },
    {
     "name": "stderr",
     "output_type": "stream",
     "text": [
      "Training batches: 100%|█████████████████████████████████████████████████████████████████████████| 345/345 [00:50<00:00,  6.79it/s]\n",
      "Validation batches: 100%|█████████████████████████████████████████████████████████████████████████| 87/87 [00:12<00:00,  7.22it/s]\n"
     ]
    },
    {
     "name": "stdout",
     "output_type": "stream",
     "text": [
      "\n",
      "480/2 -> Train loss: 0.205888272990612\tValidation loss: 0.06036660731912634\n"
     ]
    },
    {
     "name": "stderr",
     "output_type": "stream",
     "text": [
      "Training batches: 100%|█████████████████████████████████████████████████████████████████████████| 345/345 [00:50<00:00,  6.78it/s]\n",
      "Validation batches: 100%|█████████████████████████████████████████████████████████████████████████| 87/87 [00:12<00:00,  7.22it/s]\n"
     ]
    },
    {
     "name": "stdout",
     "output_type": "stream",
     "text": [
      "\n",
      "481/2 -> Train loss: 0.20547144491961844\tValidation loss: 0.06024152292435768\n"
     ]
    },
    {
     "name": "stderr",
     "output_type": "stream",
     "text": [
      "Training batches: 100%|█████████████████████████████████████████████████████████████████████████| 345/345 [00:50<00:00,  6.77it/s]\n",
      "Validation batches: 100%|█████████████████████████████████████████████████████████████████████████| 87/87 [00:12<00:00,  7.22it/s]\n"
     ]
    },
    {
     "name": "stdout",
     "output_type": "stream",
     "text": [
      "\n",
      "482/2 -> Train loss: 0.20505814311439052\tValidation loss: 0.06011711342467685\n"
     ]
    },
    {
     "name": "stderr",
     "output_type": "stream",
     "text": [
      "Training batches: 100%|█████████████████████████████████████████████████████████████████████████| 345/345 [00:51<00:00,  6.76it/s]\n",
      "Validation batches: 100%|█████████████████████████████████████████████████████████████████████████| 87/87 [00:12<00:00,  7.23it/s]\n"
     ]
    },
    {
     "name": "stdout",
     "output_type": "stream",
     "text": [
      "\n",
      "483/2 -> Train loss: 0.20464542773053832\tValidation loss: 0.05999725992254713\n"
     ]
    },
    {
     "name": "stderr",
     "output_type": "stream",
     "text": [
      "Training batches: 100%|█████████████████████████████████████████████████████████████████████████| 345/345 [00:50<00:00,  6.78it/s]\n",
      "Validation batches: 100%|█████████████████████████████████████████████████████████████████████████| 87/87 [00:12<00:00,  7.23it/s]\n"
     ]
    },
    {
     "name": "stdout",
     "output_type": "stream",
     "text": [
      "\n",
      "484/2 -> Train loss: 0.2042344836863051\tValidation loss: 0.05987794969291392\n"
     ]
    },
    {
     "name": "stderr",
     "output_type": "stream",
     "text": [
      "Training batches: 100%|█████████████████████████████████████████████████████████████████████████| 345/345 [00:50<00:00,  6.78it/s]\n",
      "Validation batches: 100%|█████████████████████████████████████████████████████████████████████████| 87/87 [00:12<00:00,  7.22it/s]\n"
     ]
    },
    {
     "name": "stdout",
     "output_type": "stream",
     "text": [
      "\n",
      "485/2 -> Train loss: 0.20382581152561313\tValidation loss: 0.0597556934942089\n"
     ]
    },
    {
     "name": "stderr",
     "output_type": "stream",
     "text": [
      "Training batches: 100%|█████████████████████████████████████████████████████████████████████████| 345/345 [00:50<00:00,  6.77it/s]\n",
      "Validation batches: 100%|█████████████████████████████████████████████████████████████████████████| 87/87 [00:12<00:00,  7.22it/s]\n"
     ]
    },
    {
     "name": "stdout",
     "output_type": "stream",
     "text": [
      "\n",
      "486/2 -> Train loss: 0.20341635657879836\tValidation loss: 0.05963425993451423\n"
     ]
    },
    {
     "name": "stderr",
     "output_type": "stream",
     "text": [
      "Training batches: 100%|█████████████████████████████████████████████████████████████████████████| 345/345 [00:51<00:00,  6.76it/s]\n",
      "Validation batches: 100%|█████████████████████████████████████████████████████████████████████████| 87/87 [00:12<00:00,  7.23it/s]\n"
     ]
    },
    {
     "name": "stdout",
     "output_type": "stream",
     "text": [
      "\n",
      "487/2 -> Train loss: 0.20301432656952598\tValidation loss: 0.05951228704899463\n"
     ]
    },
    {
     "name": "stderr",
     "output_type": "stream",
     "text": [
      "Training batches: 100%|█████████████████████████████████████████████████████████████████████████| 345/345 [00:50<00:00,  6.78it/s]\n",
      "Validation batches: 100%|█████████████████████████████████████████████████████████████████████████| 87/87 [00:12<00:00,  7.23it/s]\n"
     ]
    },
    {
     "name": "stdout",
     "output_type": "stream",
     "text": [
      "\n",
      "488/2 -> Train loss: 0.20260940440473038\tValidation loss: 0.05939082686585269\n"
     ]
    },
    {
     "name": "stderr",
     "output_type": "stream",
     "text": [
      "Training batches: 100%|█████████████████████████████████████████████████████████████████████████| 345/345 [00:50<00:00,  6.79it/s]\n",
      "Validation batches: 100%|█████████████████████████████████████████████████████████████████████████| 87/87 [00:12<00:00,  7.21it/s]\n"
     ]
    },
    {
     "name": "stdout",
     "output_type": "stream",
     "text": [
      "\n",
      "489/2 -> Train loss: 0.20220636017604934\tValidation loss: 0.05926970631416259\n"
     ]
    },
    {
     "name": "stderr",
     "output_type": "stream",
     "text": [
      "Training batches: 100%|█████████████████████████████████████████████████████████████████████████| 345/345 [00:50<00:00,  6.77it/s]\n",
      "Validation batches: 100%|█████████████████████████████████████████████████████████████████████████| 87/87 [00:12<00:00,  7.15it/s]\n"
     ]
    },
    {
     "name": "stdout",
     "output_type": "stream",
     "text": [
      "\n",
      "490/2 -> Train loss: 0.20180734307261874\tValidation loss: 0.05914950387309224\n"
     ]
    },
    {
     "name": "stderr",
     "output_type": "stream",
     "text": [
      "Training batches: 100%|█████████████████████████████████████████████████████████████████████████| 345/345 [00:50<00:00,  6.77it/s]\n",
      "Validation batches: 100%|█████████████████████████████████████████████████████████████████████████| 87/87 [00:12<00:00,  7.22it/s]\n"
     ]
    },
    {
     "name": "stdout",
     "output_type": "stream",
     "text": [
      "\n",
      "491/2 -> Train loss: 0.20140634368852023\tValidation loss: 0.05902937682033394\n"
     ]
    },
    {
     "name": "stderr",
     "output_type": "stream",
     "text": [
      "Training batches: 100%|█████████████████████████████████████████████████████████████████████████| 345/345 [00:50<00:00,  6.77it/s]\n",
      "Validation batches: 100%|█████████████████████████████████████████████████████████████████████████| 87/87 [00:12<00:00,  7.22it/s]\n"
     ]
    },
    {
     "name": "stdout",
     "output_type": "stream",
     "text": [
      "\n",
      "492/2 -> Train loss: 0.20100908945271215\tValidation loss: 0.05890974914708126\n"
     ]
    },
    {
     "name": "stderr",
     "output_type": "stream",
     "text": [
      "Training batches: 100%|█████████████████████████████████████████████████████████████████████████| 345/345 [00:50<00:00,  6.78it/s]\n",
      "Validation batches: 100%|█████████████████████████████████████████████████████████████████████████| 87/87 [00:12<00:00,  7.22it/s]\n"
     ]
    },
    {
     "name": "stdout",
     "output_type": "stream",
     "text": [
      "\n",
      "493/2 -> Train loss: 0.20061243063477235\tValidation loss: 0.05879061557124958\n"
     ]
    },
    {
     "name": "stderr",
     "output_type": "stream",
     "text": [
      "Training batches: 100%|█████████████████████████████████████████████████████████████████████████| 345/345 [00:51<00:00,  6.76it/s]\n",
      "Validation batches: 100%|█████████████████████████████████████████████████████████████████████████| 87/87 [00:12<00:00,  7.22it/s]\n"
     ]
    },
    {
     "name": "stdout",
     "output_type": "stream",
     "text": [
      "\n",
      "494/2 -> Train loss: 0.20021831474124216\tValidation loss: 0.05867193609567196\n"
     ]
    },
    {
     "name": "stderr",
     "output_type": "stream",
     "text": [
      "Training batches: 100%|█████████████████████████████████████████████████████████████████████████| 345/345 [00:50<00:00,  6.78it/s]\n",
      "Validation batches: 100%|█████████████████████████████████████████████████████████████████████████| 87/87 [00:12<00:00,  7.23it/s]\n"
     ]
    },
    {
     "name": "stdout",
     "output_type": "stream",
     "text": [
      "\n",
      "495/2 -> Train loss: 0.19982752037870033\tValidation loss: 0.058553911346052916\n"
     ]
    },
    {
     "name": "stderr",
     "output_type": "stream",
     "text": [
      "Training batches: 100%|█████████████████████████████████████████████████████████████████████████| 345/345 [00:50<00:00,  6.78it/s]\n",
      "Validation batches: 100%|█████████████████████████████████████████████████████████████████████████| 87/87 [00:12<00:00,  7.22it/s]\n"
     ]
    },
    {
     "name": "stdout",
     "output_type": "stream",
     "text": [
      "\n",
      "496/2 -> Train loss: 0.19943584472227122\tValidation loss: 0.0584361405883779\n"
     ]
    },
    {
     "name": "stderr",
     "output_type": "stream",
     "text": [
      "Training batches: 100%|█████████████████████████████████████████████████████████████████████████| 345/345 [00:50<00:00,  6.77it/s]\n",
      "Validation batches: 100%|█████████████████████████████████████████████████████████████████████████| 87/87 [00:12<00:00,  7.22it/s]\n"
     ]
    },
    {
     "name": "stdout",
     "output_type": "stream",
     "text": [
      "\n",
      "497/2 -> Train loss: 0.19904551922078753\tValidation loss: 0.0583189173059075\n"
     ]
    },
    {
     "name": "stderr",
     "output_type": "stream",
     "text": [
      "Training batches: 100%|█████████████████████████████████████████████████████████████████████████| 345/345 [00:50<00:00,  6.77it/s]\n",
      "Validation batches: 100%|█████████████████████████████████████████████████████████████████████████| 87/87 [00:12<00:00,  7.22it/s]\n"
     ]
    },
    {
     "name": "stdout",
     "output_type": "stream",
     "text": [
      "\n",
      "498/2 -> Train loss: 0.19865781877507213\tValidation loss: 0.058205067715794034\n"
     ]
    },
    {
     "name": "stderr",
     "output_type": "stream",
     "text": [
      "Training batches: 100%|█████████████████████████████████████████████████████████████████████████| 345/345 [00:50<00:00,  6.78it/s]\n",
      "Validation batches: 100%|█████████████████████████████████████████████████████████████████████████| 87/87 [00:12<00:00,  7.21it/s]\n"
     ]
    },
    {
     "name": "stdout",
     "output_type": "stream",
     "text": [
      "\n",
      "499/2 -> Train loss: 0.19827028746079328\tValidation loss: 0.05808909019631567\n"
     ]
    },
    {
     "name": "stderr",
     "output_type": "stream",
     "text": [
      "Training batches: 100%|█████████████████████████████████████████████████████████████████████████| 345/345 [00:50<00:00,  6.78it/s]\n",
      "Validation batches: 100%|█████████████████████████████████████████████████████████████████████████| 87/87 [00:12<00:00,  7.23it/s]"
     ]
    },
    {
     "name": "stdout",
     "output_type": "stream",
     "text": [
      "\n",
      "500/2 -> Train loss: 0.197882811320639\tValidation loss: 0.057973286566180664\n"
     ]
    },
    {
     "name": "stderr",
     "output_type": "stream",
     "text": [
      "\n"
     ]
    }
   ],
   "source": [
    "train_loss = 0\n",
    "val_loss = 0\n",
    "train_batch_count = 0\n",
    "val_batch_count = 0\n",
    "\n",
    "for epoch in range(500):\n",
    "    model.train()\n",
    "    for batch in tqdm(train_loader, desc=\"Training batches\"):\n",
    "        input_ids = batch[\"input_ids\"].to(DEVICE)\n",
    "        attention_mask = batch[\"attention_mask\"].to(DEVICE)\n",
    "        labels = batch[\"labels\"].to(DEVICE)\n",
    "        decoder_attention_mask = batch[\"decoder_attention_mask\"].to(DEVICE)\n",
    "        model.to('cuda')\n",
    "        outputs = model(\n",
    "                          input_ids=input_ids,\n",
    "                          attention_mask=attention_mask,\n",
    "                          labels=labels,\n",
    "                          decoder_attention_mask=decoder_attention_mask\n",
    "                        )\n",
    "\n",
    "        OPTIMIZER.zero_grad()\n",
    "        outputs.loss.backward()\n",
    "        OPTIMIZER.step()\n",
    "        train_loss += outputs.loss.item()\n",
    "        train_batch_count += 1\n",
    "\n",
    "    #Evaluation\n",
    "    model.eval()\n",
    "    for batch in tqdm(val_loader, desc=\"Validation batches\"):\n",
    "        input_ids = batch[\"input_ids\"].to(DEVICE)\n",
    "        attention_mask = batch[\"attention_mask\"].to(DEVICE)\n",
    "        labels = batch[\"labels\"].to(DEVICE)\n",
    "        decoder_attention_mask = batch[\"decoder_attention_mask\"].to(DEVICE)\n",
    "\n",
    "        outputs = model(\n",
    "                          input_ids=input_ids,\n",
    "                          attention_mask=attention_mask,\n",
    "                          labels=labels,\n",
    "                          decoder_attention_mask=decoder_attention_mask\n",
    "                        )\n",
    "\n",
    "        OPTIMIZER.zero_grad()\n",
    "        outputs.loss.backward()\n",
    "        OPTIMIZER.step()\n",
    "        val_loss += outputs.loss.item()\n",
    "        val_batch_count += 1\n",
    "\n",
    "    print(f\"\\n{epoch+1}/{2} -> Train loss: {train_loss / train_batch_count}\\tValidation loss: {val_loss/val_batch_count}\")"
   ]
  },
  {
   "cell_type": "code",
   "execution_count": 15,
   "metadata": {
    "id": "N8hwV2u9bheY"
   },
   "outputs": [],
   "source": [
    "def predict_answer(context, question, ref_answer=None, metric=None):\n",
    "    inputs = tokenizer(question, context, max_length=Q_LEN, padding=\"max_length\", truncation=True, add_special_tokens=True)\n",
    "\n",
    "    input_ids = torch.tensor(inputs[\"input_ids\"], dtype=torch.long).to(DEVICE).unsqueeze(0)\n",
    "    attention_mask = torch.tensor(inputs[\"attention_mask\"], dtype=torch.long).to(DEVICE).unsqueeze(0)\n",
    "\n",
    "    outputs = model.generate(input_ids=input_ids, attention_mask=attention_mask)\n",
    "\n",
    "    predicted_answer = tokenizer.decode(outputs.flatten(), skip_special_tokens=True)\n",
    "\n",
    "    if ref_answer:\n",
    "      if metric == \"bleu\":\n",
    "        # Load the Bleu metric\n",
    "        bleu = evaluate.load(\"google_bleu\")\n",
    "        score = bleu.compute(predictions=[predicted_answer],\n",
    "                            references=[ref_answer])\n",
    "\n",
    "        print(\"\\nContext: \\n\", context)\n",
    "        #print(\"\\n\")\n",
    "        print(\"Question: \\n\", question)\n",
    "        return {\n",
    "            \"Reference Answer: \": ref_answer,\n",
    "            \"Predicted Answer: \": predicted_answer,\n",
    "            \"BLEU Score: \": score\n",
    "        }\n",
    "      elif metric == \"rouge\":\n",
    "        rouge = evaluate.load(\"rouge\")\n",
    "        score = rouge.compute(predictions=[predicted_answer],\n",
    "                            references=[ref_answer])\n",
    "\n",
    "        print(\"\\nContext: \\n\", context)\n",
    "        #print(\"\\n\")\n",
    "        print(\"Question: \\n\", question)\n",
    "        return {\n",
    "            \"Reference Answer: \": ref_answer,\n",
    "            \"Predicted Answer: \": predicted_answer,\n",
    "            \"BLEU Score: \": score\n",
    "        }\n",
    "    else:\n",
    "        return predicted_answer"
   ]
  },
  {
   "cell_type": "code",
   "execution_count": 16,
   "metadata": {
    "id": "M7Z11cSZcwqY"
   },
   "outputs": [],
   "source": [
    "ref_answers = []\n",
    "predictions = []\n",
    "for i in range(len(dataset['test']['Biography'])):\n",
    "  context = dataset['test'][\"Name\"][i] + \":\" + dataset['test']['Biography'][i]\n",
    "  question = dataset['test']['Query'][i]\n",
    "  ref_answers.append(dataset['test']['Response'][i])\n",
    "\n",
    "  #print(\"\\n--context--\", context)\n",
    "  #print(predict_answer(context, question, ref_answer=ref_answer))\n",
    "  predictions.append(predict_answer(context, question))"
   ]
  },
  {
   "cell_type": "code",
   "execution_count": 17,
   "metadata": {
    "id": "QEkVTLTD51U_"
   },
   "outputs": [
    {
     "name": "stderr",
     "output_type": "stream",
     "text": [
      "huggingface/tokenizers: The current process just got forked, after parallelism has already been used. Disabling parallelism to avoid deadlocks...\n",
      "To disable this warning, you can either:\n",
      "\t- Avoid using `tokenizers` before the fork if possible\n",
      "\t- Explicitly set the environment variable TOKENIZERS_PARALLELISM=(true | false)\n"
     ]
    },
    {
     "name": "stdout",
     "output_type": "stream",
     "text": [
      "Collecting rouge_score\n",
      "  Downloading rouge_score-0.1.2.tar.gz (17 kB)\n",
      "  Preparing metadata (setup.py) ... \u001b[?25ldone\n",
      "\u001b[?25hRequirement already satisfied: absl-py in /opt/conda/envs/pytorch/lib/python3.10/site-packages (from rouge_score) (2.0.0)\n",
      "Requirement already satisfied: nltk in /opt/conda/envs/pytorch/lib/python3.10/site-packages (from rouge_score) (3.8.1)\n",
      "Requirement already satisfied: numpy in /opt/conda/envs/pytorch/lib/python3.10/site-packages (from rouge_score) (1.25.2)\n",
      "Requirement already satisfied: six>=1.14.0 in /opt/conda/envs/pytorch/lib/python3.10/site-packages (from rouge_score) (1.16.0)\n",
      "Requirement already satisfied: click in /opt/conda/envs/pytorch/lib/python3.10/site-packages (from nltk->rouge_score) (8.1.7)\n",
      "Requirement already satisfied: joblib in /opt/conda/envs/pytorch/lib/python3.10/site-packages (from nltk->rouge_score) (1.3.2)\n",
      "Requirement already satisfied: regex>=2021.8.3 in /opt/conda/envs/pytorch/lib/python3.10/site-packages (from nltk->rouge_score) (2023.10.3)\n",
      "Requirement already satisfied: tqdm in /opt/conda/envs/pytorch/lib/python3.10/site-packages (from nltk->rouge_score) (4.66.1)\n",
      "Building wheels for collected packages: rouge_score\n",
      "  Building wheel for rouge_score (setup.py) ... \u001b[?25ldone\n",
      "\u001b[?25h  Created wheel for rouge_score: filename=rouge_score-0.1.2-py3-none-any.whl size=24932 sha256=a96d640b8159dab6a3b0a49fd65fc7beadbadadd33c4e7a1a02fcfc1bf67cc10\n",
      "  Stored in directory: /home/ubuntu/.cache/pip/wheels/5f/dd/89/461065a73be61a532ff8599a28e9beef17985c9e9c31e541b4\n",
      "Successfully built rouge_score\n",
      "Installing collected packages: rouge_score\n",
      "Successfully installed rouge_score-0.1.2\n"
     ]
    }
   ],
   "source": [
    "import locale\n",
    "locale.getpreferredencoding = lambda: \"UTF-8\"\n",
    "!pip install rouge_score"
   ]
  },
  {
   "cell_type": "code",
   "execution_count": 18,
   "metadata": {
    "id": "u5VCWOWE6Nt1"
   },
   "outputs": [
    {
     "data": {
      "application/vnd.jupyter.widget-view+json": {
       "model_id": "d55eba7c82ee4f568c2bf1025b309f6d",
       "version_major": 2,
       "version_minor": 0
      },
      "text/plain": [
       "Downloading builder script:   0%|          | 0.00/6.27k [00:00<?, ?B/s]"
      ]
     },
     "metadata": {},
     "output_type": "display_data"
    },
    {
     "name": "stdout",
     "output_type": "stream",
     "text": [
      "{'rouge1': 0.275134202609655, 'rouge2': 0.11065895909797585, 'rougeL': 0.24712275364973701, 'rougeLsum': 0.24791197282094923}\n"
     ]
    }
   ],
   "source": [
    "rouge = evaluate.load('rouge')\n",
    "results = rouge.compute(predictions=predictions, references=ref_answers)\n",
    "print(results)"
   ]
  },
  {
   "cell_type": "code",
   "execution_count": 20,
   "metadata": {},
   "outputs": [],
   "source": [
    "model.save_pretrained(\"/home/ubuntu/ML/datasci-210-capstone-fall23/DialogStudio/dialogstudio_torch_model\", from_pt=True)"
   ]
  },
  {
   "cell_type": "code",
   "execution_count": 22,
   "metadata": {},
   "outputs": [],
   "source": [
    "from transformers import T5ForConditionalGeneration\n",
    "\n",
    "model_test = T5ForConditionalGeneration.from_pretrained(\"/home/ubuntu/ML/datasci-210-capstone-fall23/DialogStudio/dialogstudio_torch_model\")"
   ]
  },
  {
   "cell_type": "code",
   "execution_count": 24,
   "metadata": {},
   "outputs": [
    {
     "name": "stderr",
     "output_type": "stream",
     "text": [
      "huggingface/tokenizers: The current process just got forked, after parallelism has already been used. Disabling parallelism to avoid deadlocks...\n",
      "To disable this warning, you can either:\n",
      "\t- Avoid using `tokenizers` before the fork if possible\n",
      "\t- Explicitly set the environment variable TOKENIZERS_PARALLELISM=(true | false)\n"
     ]
    },
    {
     "name": "stdout",
     "output_type": "stream",
     "text": [
      "Collecting torchsummary\n",
      "  Downloading torchsummary-1.5.1-py3-none-any.whl (2.8 kB)\n",
      "Installing collected packages: torchsummary\n",
      "Successfully installed torchsummary-1.5.1\n"
     ]
    }
   ],
   "source": [
    "!pip install torchsummary"
   ]
  },
  {
   "cell_type": "code",
   "execution_count": 25,
   "metadata": {},
   "outputs": [],
   "source": [
    "from torchsummary import summary"
   ]
  },
  {
   "cell_type": "code",
   "execution_count": 30,
   "metadata": {},
   "outputs": [
    {
     "name": "stderr",
     "output_type": "stream",
     "text": [
      "huggingface/tokenizers: The current process just got forked, after parallelism has already been used. Disabling parallelism to avoid deadlocks...\n",
      "To disable this warning, you can either:\n",
      "\t- Avoid using `tokenizers` before the fork if possible\n",
      "\t- Explicitly set the environment variable TOKENIZERS_PARALLELISM=(true | false)\n"
     ]
    },
    {
     "name": "stdout",
     "output_type": "stream",
     "text": [
      "Collecting torchinfo\n",
      "  Obtaining dependency information for torchinfo from https://files.pythonhosted.org/packages/72/25/973bd6128381951b23cdcd8a9870c6dcfc5606cb864df8eabd82e529f9c1/torchinfo-1.8.0-py3-none-any.whl.metadata\n",
      "  Downloading torchinfo-1.8.0-py3-none-any.whl.metadata (21 kB)\n",
      "Downloading torchinfo-1.8.0-py3-none-any.whl (23 kB)\n",
      "Installing collected packages: torchinfo\n",
      "Successfully installed torchinfo-1.8.0\n"
     ]
    }
   ],
   "source": [
    "!pip install torchinfo"
   ]
  },
  {
   "cell_type": "code",
   "execution_count": 33,
   "metadata": {},
   "outputs": [],
   "source": [
    "total_params = sum(\n",
    "\tparam.numel() for param in model_test.parameters()\n",
    ")\n"
   ]
  },
  {
   "cell_type": "code",
   "execution_count": 34,
   "metadata": {},
   "outputs": [
    {
     "data": {
      "text/plain": [
       "247539456"
      ]
     },
     "execution_count": 34,
     "metadata": {},
     "output_type": "execute_result"
    }
   ],
   "source": [
    "total_params"
   ]
  },
  {
   "cell_type": "code",
   "execution_count": 38,
   "metadata": {},
   "outputs": [
    {
     "name": "stderr",
     "output_type": "stream",
     "text": [
      "huggingface/tokenizers: The current process just got forked, after parallelism has already been used. Disabling parallelism to avoid deadlocks...\n",
      "To disable this warning, you can either:\n",
      "\t- Avoid using `tokenizers` before the fork if possible\n",
      "\t- Explicitly set the environment variable TOKENIZERS_PARALLELISM=(true | false)\n"
     ]
    },
    {
     "name": "stdout",
     "output_type": "stream",
     "text": [
      "Collecting prettytable\n",
      "  Obtaining dependency information for prettytable from https://files.pythonhosted.org/packages/4d/81/316b6a55a0d1f327d04cc7b0ba9d04058cb62de6c3a4d4b0df280cbe3b0b/prettytable-3.9.0-py3-none-any.whl.metadata\n",
      "  Downloading prettytable-3.9.0-py3-none-any.whl.metadata (26 kB)\n",
      "Requirement already satisfied: wcwidth in /opt/conda/envs/pytorch/lib/python3.10/site-packages (from prettytable) (0.2.8)\n",
      "Downloading prettytable-3.9.0-py3-none-any.whl (27 kB)\n",
      "Installing collected packages: prettytable\n",
      "Successfully installed prettytable-3.9.0\n"
     ]
    }
   ],
   "source": [
    "!pip install prettytable"
   ]
  },
  {
   "cell_type": "code",
   "execution_count": 39,
   "metadata": {},
   "outputs": [
    {
     "name": "stdout",
     "output_type": "stream",
     "text": [
      "+----------------------------------------------------------------------+------------+\n",
      "|                               Modules                                | Parameters |\n",
      "+----------------------------------------------------------------------+------------+\n",
      "|                            shared.weight                             |  24655104  |\n",
      "|            encoder.block.0.layer.0.SelfAttention.q.weight            |   589824   |\n",
      "|            encoder.block.0.layer.0.SelfAttention.k.weight            |   589824   |\n",
      "|            encoder.block.0.layer.0.SelfAttention.v.weight            |   589824   |\n",
      "|            encoder.block.0.layer.0.SelfAttention.o.weight            |   589824   |\n",
      "| encoder.block.0.layer.0.SelfAttention.relative_attention_bias.weight |    384     |\n",
      "|              encoder.block.0.layer.0.layer_norm.weight               |    768     |\n",
      "|          encoder.block.0.layer.1.DenseReluDense.wi_0.weight          |  1572864   |\n",
      "|          encoder.block.0.layer.1.DenseReluDense.wi_1.weight          |  1572864   |\n",
      "|           encoder.block.0.layer.1.DenseReluDense.wo.weight           |  1572864   |\n",
      "|              encoder.block.0.layer.1.layer_norm.weight               |    768     |\n",
      "|            encoder.block.1.layer.0.SelfAttention.q.weight            |   589824   |\n",
      "|            encoder.block.1.layer.0.SelfAttention.k.weight            |   589824   |\n",
      "|            encoder.block.1.layer.0.SelfAttention.v.weight            |   589824   |\n",
      "|            encoder.block.1.layer.0.SelfAttention.o.weight            |   589824   |\n",
      "|              encoder.block.1.layer.0.layer_norm.weight               |    768     |\n",
      "|          encoder.block.1.layer.1.DenseReluDense.wi_0.weight          |  1572864   |\n",
      "|          encoder.block.1.layer.1.DenseReluDense.wi_1.weight          |  1572864   |\n",
      "|           encoder.block.1.layer.1.DenseReluDense.wo.weight           |  1572864   |\n",
      "|              encoder.block.1.layer.1.layer_norm.weight               |    768     |\n",
      "|            encoder.block.2.layer.0.SelfAttention.q.weight            |   589824   |\n",
      "|            encoder.block.2.layer.0.SelfAttention.k.weight            |   589824   |\n",
      "|            encoder.block.2.layer.0.SelfAttention.v.weight            |   589824   |\n",
      "|            encoder.block.2.layer.0.SelfAttention.o.weight            |   589824   |\n",
      "|              encoder.block.2.layer.0.layer_norm.weight               |    768     |\n",
      "|          encoder.block.2.layer.1.DenseReluDense.wi_0.weight          |  1572864   |\n",
      "|          encoder.block.2.layer.1.DenseReluDense.wi_1.weight          |  1572864   |\n",
      "|           encoder.block.2.layer.1.DenseReluDense.wo.weight           |  1572864   |\n",
      "|              encoder.block.2.layer.1.layer_norm.weight               |    768     |\n",
      "|            encoder.block.3.layer.0.SelfAttention.q.weight            |   589824   |\n",
      "|            encoder.block.3.layer.0.SelfAttention.k.weight            |   589824   |\n",
      "|            encoder.block.3.layer.0.SelfAttention.v.weight            |   589824   |\n",
      "|            encoder.block.3.layer.0.SelfAttention.o.weight            |   589824   |\n",
      "|              encoder.block.3.layer.0.layer_norm.weight               |    768     |\n",
      "|          encoder.block.3.layer.1.DenseReluDense.wi_0.weight          |  1572864   |\n",
      "|          encoder.block.3.layer.1.DenseReluDense.wi_1.weight          |  1572864   |\n",
      "|           encoder.block.3.layer.1.DenseReluDense.wo.weight           |  1572864   |\n",
      "|              encoder.block.3.layer.1.layer_norm.weight               |    768     |\n",
      "|            encoder.block.4.layer.0.SelfAttention.q.weight            |   589824   |\n",
      "|            encoder.block.4.layer.0.SelfAttention.k.weight            |   589824   |\n",
      "|            encoder.block.4.layer.0.SelfAttention.v.weight            |   589824   |\n",
      "|            encoder.block.4.layer.0.SelfAttention.o.weight            |   589824   |\n",
      "|              encoder.block.4.layer.0.layer_norm.weight               |    768     |\n",
      "|          encoder.block.4.layer.1.DenseReluDense.wi_0.weight          |  1572864   |\n",
      "|          encoder.block.4.layer.1.DenseReluDense.wi_1.weight          |  1572864   |\n",
      "|           encoder.block.4.layer.1.DenseReluDense.wo.weight           |  1572864   |\n",
      "|              encoder.block.4.layer.1.layer_norm.weight               |    768     |\n",
      "|            encoder.block.5.layer.0.SelfAttention.q.weight            |   589824   |\n",
      "|            encoder.block.5.layer.0.SelfAttention.k.weight            |   589824   |\n",
      "|            encoder.block.5.layer.0.SelfAttention.v.weight            |   589824   |\n",
      "|            encoder.block.5.layer.0.SelfAttention.o.weight            |   589824   |\n",
      "|              encoder.block.5.layer.0.layer_norm.weight               |    768     |\n",
      "|          encoder.block.5.layer.1.DenseReluDense.wi_0.weight          |  1572864   |\n",
      "|          encoder.block.5.layer.1.DenseReluDense.wi_1.weight          |  1572864   |\n",
      "|           encoder.block.5.layer.1.DenseReluDense.wo.weight           |  1572864   |\n",
      "|              encoder.block.5.layer.1.layer_norm.weight               |    768     |\n",
      "|            encoder.block.6.layer.0.SelfAttention.q.weight            |   589824   |\n",
      "|            encoder.block.6.layer.0.SelfAttention.k.weight            |   589824   |\n",
      "|            encoder.block.6.layer.0.SelfAttention.v.weight            |   589824   |\n",
      "|            encoder.block.6.layer.0.SelfAttention.o.weight            |   589824   |\n",
      "|              encoder.block.6.layer.0.layer_norm.weight               |    768     |\n",
      "|          encoder.block.6.layer.1.DenseReluDense.wi_0.weight          |  1572864   |\n",
      "|          encoder.block.6.layer.1.DenseReluDense.wi_1.weight          |  1572864   |\n",
      "|           encoder.block.6.layer.1.DenseReluDense.wo.weight           |  1572864   |\n",
      "|              encoder.block.6.layer.1.layer_norm.weight               |    768     |\n",
      "|            encoder.block.7.layer.0.SelfAttention.q.weight            |   589824   |\n",
      "|            encoder.block.7.layer.0.SelfAttention.k.weight            |   589824   |\n",
      "|            encoder.block.7.layer.0.SelfAttention.v.weight            |   589824   |\n",
      "|            encoder.block.7.layer.0.SelfAttention.o.weight            |   589824   |\n",
      "|              encoder.block.7.layer.0.layer_norm.weight               |    768     |\n",
      "|          encoder.block.7.layer.1.DenseReluDense.wi_0.weight          |  1572864   |\n",
      "|          encoder.block.7.layer.1.DenseReluDense.wi_1.weight          |  1572864   |\n",
      "|           encoder.block.7.layer.1.DenseReluDense.wo.weight           |  1572864   |\n",
      "|              encoder.block.7.layer.1.layer_norm.weight               |    768     |\n",
      "|            encoder.block.8.layer.0.SelfAttention.q.weight            |   589824   |\n",
      "|            encoder.block.8.layer.0.SelfAttention.k.weight            |   589824   |\n",
      "|            encoder.block.8.layer.0.SelfAttention.v.weight            |   589824   |\n",
      "|            encoder.block.8.layer.0.SelfAttention.o.weight            |   589824   |\n",
      "|              encoder.block.8.layer.0.layer_norm.weight               |    768     |\n",
      "|          encoder.block.8.layer.1.DenseReluDense.wi_0.weight          |  1572864   |\n",
      "|          encoder.block.8.layer.1.DenseReluDense.wi_1.weight          |  1572864   |\n",
      "|           encoder.block.8.layer.1.DenseReluDense.wo.weight           |  1572864   |\n",
      "|              encoder.block.8.layer.1.layer_norm.weight               |    768     |\n",
      "|            encoder.block.9.layer.0.SelfAttention.q.weight            |   589824   |\n",
      "|            encoder.block.9.layer.0.SelfAttention.k.weight            |   589824   |\n",
      "|            encoder.block.9.layer.0.SelfAttention.v.weight            |   589824   |\n",
      "|            encoder.block.9.layer.0.SelfAttention.o.weight            |   589824   |\n",
      "|              encoder.block.9.layer.0.layer_norm.weight               |    768     |\n",
      "|          encoder.block.9.layer.1.DenseReluDense.wi_0.weight          |  1572864   |\n",
      "|          encoder.block.9.layer.1.DenseReluDense.wi_1.weight          |  1572864   |\n",
      "|           encoder.block.9.layer.1.DenseReluDense.wo.weight           |  1572864   |\n",
      "|              encoder.block.9.layer.1.layer_norm.weight               |    768     |\n",
      "|           encoder.block.10.layer.0.SelfAttention.q.weight            |   589824   |\n",
      "|           encoder.block.10.layer.0.SelfAttention.k.weight            |   589824   |\n",
      "|           encoder.block.10.layer.0.SelfAttention.v.weight            |   589824   |\n",
      "|           encoder.block.10.layer.0.SelfAttention.o.weight            |   589824   |\n",
      "|              encoder.block.10.layer.0.layer_norm.weight              |    768     |\n",
      "|         encoder.block.10.layer.1.DenseReluDense.wi_0.weight          |  1572864   |\n",
      "|         encoder.block.10.layer.1.DenseReluDense.wi_1.weight          |  1572864   |\n",
      "|          encoder.block.10.layer.1.DenseReluDense.wo.weight           |  1572864   |\n",
      "|              encoder.block.10.layer.1.layer_norm.weight              |    768     |\n",
      "|           encoder.block.11.layer.0.SelfAttention.q.weight            |   589824   |\n",
      "|           encoder.block.11.layer.0.SelfAttention.k.weight            |   589824   |\n",
      "|           encoder.block.11.layer.0.SelfAttention.v.weight            |   589824   |\n",
      "|           encoder.block.11.layer.0.SelfAttention.o.weight            |   589824   |\n",
      "|              encoder.block.11.layer.0.layer_norm.weight              |    768     |\n",
      "|         encoder.block.11.layer.1.DenseReluDense.wi_0.weight          |  1572864   |\n",
      "|         encoder.block.11.layer.1.DenseReluDense.wi_1.weight          |  1572864   |\n",
      "|          encoder.block.11.layer.1.DenseReluDense.wo.weight           |  1572864   |\n",
      "|              encoder.block.11.layer.1.layer_norm.weight              |    768     |\n",
      "|                   encoder.final_layer_norm.weight                    |    768     |\n",
      "|            decoder.block.0.layer.0.SelfAttention.q.weight            |   589824   |\n",
      "|            decoder.block.0.layer.0.SelfAttention.k.weight            |   589824   |\n",
      "|            decoder.block.0.layer.0.SelfAttention.v.weight            |   589824   |\n",
      "|            decoder.block.0.layer.0.SelfAttention.o.weight            |   589824   |\n",
      "| decoder.block.0.layer.0.SelfAttention.relative_attention_bias.weight |    384     |\n",
      "|              decoder.block.0.layer.0.layer_norm.weight               |    768     |\n",
      "|           decoder.block.0.layer.1.EncDecAttention.q.weight           |   589824   |\n",
      "|           decoder.block.0.layer.1.EncDecAttention.k.weight           |   589824   |\n",
      "|           decoder.block.0.layer.1.EncDecAttention.v.weight           |   589824   |\n",
      "|           decoder.block.0.layer.1.EncDecAttention.o.weight           |   589824   |\n",
      "|              decoder.block.0.layer.1.layer_norm.weight               |    768     |\n",
      "|          decoder.block.0.layer.2.DenseReluDense.wi_0.weight          |  1572864   |\n",
      "|          decoder.block.0.layer.2.DenseReluDense.wi_1.weight          |  1572864   |\n",
      "|           decoder.block.0.layer.2.DenseReluDense.wo.weight           |  1572864   |\n",
      "|              decoder.block.0.layer.2.layer_norm.weight               |    768     |\n",
      "|            decoder.block.1.layer.0.SelfAttention.q.weight            |   589824   |\n",
      "|            decoder.block.1.layer.0.SelfAttention.k.weight            |   589824   |\n",
      "|            decoder.block.1.layer.0.SelfAttention.v.weight            |   589824   |\n",
      "|            decoder.block.1.layer.0.SelfAttention.o.weight            |   589824   |\n",
      "|              decoder.block.1.layer.0.layer_norm.weight               |    768     |\n",
      "|           decoder.block.1.layer.1.EncDecAttention.q.weight           |   589824   |\n",
      "|           decoder.block.1.layer.1.EncDecAttention.k.weight           |   589824   |\n",
      "|           decoder.block.1.layer.1.EncDecAttention.v.weight           |   589824   |\n",
      "|           decoder.block.1.layer.1.EncDecAttention.o.weight           |   589824   |\n",
      "|              decoder.block.1.layer.1.layer_norm.weight               |    768     |\n",
      "|          decoder.block.1.layer.2.DenseReluDense.wi_0.weight          |  1572864   |\n",
      "|          decoder.block.1.layer.2.DenseReluDense.wi_1.weight          |  1572864   |\n",
      "|           decoder.block.1.layer.2.DenseReluDense.wo.weight           |  1572864   |\n",
      "|              decoder.block.1.layer.2.layer_norm.weight               |    768     |\n",
      "|            decoder.block.2.layer.0.SelfAttention.q.weight            |   589824   |\n",
      "|            decoder.block.2.layer.0.SelfAttention.k.weight            |   589824   |\n",
      "|            decoder.block.2.layer.0.SelfAttention.v.weight            |   589824   |\n",
      "|            decoder.block.2.layer.0.SelfAttention.o.weight            |   589824   |\n",
      "|              decoder.block.2.layer.0.layer_norm.weight               |    768     |\n",
      "|           decoder.block.2.layer.1.EncDecAttention.q.weight           |   589824   |\n",
      "|           decoder.block.2.layer.1.EncDecAttention.k.weight           |   589824   |\n",
      "|           decoder.block.2.layer.1.EncDecAttention.v.weight           |   589824   |\n",
      "|           decoder.block.2.layer.1.EncDecAttention.o.weight           |   589824   |\n",
      "|              decoder.block.2.layer.1.layer_norm.weight               |    768     |\n",
      "|          decoder.block.2.layer.2.DenseReluDense.wi_0.weight          |  1572864   |\n",
      "|          decoder.block.2.layer.2.DenseReluDense.wi_1.weight          |  1572864   |\n",
      "|           decoder.block.2.layer.2.DenseReluDense.wo.weight           |  1572864   |\n",
      "|              decoder.block.2.layer.2.layer_norm.weight               |    768     |\n",
      "|            decoder.block.3.layer.0.SelfAttention.q.weight            |   589824   |\n",
      "|            decoder.block.3.layer.0.SelfAttention.k.weight            |   589824   |\n",
      "|            decoder.block.3.layer.0.SelfAttention.v.weight            |   589824   |\n",
      "|            decoder.block.3.layer.0.SelfAttention.o.weight            |   589824   |\n",
      "|              decoder.block.3.layer.0.layer_norm.weight               |    768     |\n",
      "|           decoder.block.3.layer.1.EncDecAttention.q.weight           |   589824   |\n",
      "|           decoder.block.3.layer.1.EncDecAttention.k.weight           |   589824   |\n",
      "|           decoder.block.3.layer.1.EncDecAttention.v.weight           |   589824   |\n",
      "|           decoder.block.3.layer.1.EncDecAttention.o.weight           |   589824   |\n",
      "|              decoder.block.3.layer.1.layer_norm.weight               |    768     |\n",
      "|          decoder.block.3.layer.2.DenseReluDense.wi_0.weight          |  1572864   |\n",
      "|          decoder.block.3.layer.2.DenseReluDense.wi_1.weight          |  1572864   |\n",
      "|           decoder.block.3.layer.2.DenseReluDense.wo.weight           |  1572864   |\n",
      "|              decoder.block.3.layer.2.layer_norm.weight               |    768     |\n",
      "|            decoder.block.4.layer.0.SelfAttention.q.weight            |   589824   |\n",
      "|            decoder.block.4.layer.0.SelfAttention.k.weight            |   589824   |\n",
      "|            decoder.block.4.layer.0.SelfAttention.v.weight            |   589824   |\n",
      "|            decoder.block.4.layer.0.SelfAttention.o.weight            |   589824   |\n",
      "|              decoder.block.4.layer.0.layer_norm.weight               |    768     |\n",
      "|           decoder.block.4.layer.1.EncDecAttention.q.weight           |   589824   |\n",
      "|           decoder.block.4.layer.1.EncDecAttention.k.weight           |   589824   |\n",
      "|           decoder.block.4.layer.1.EncDecAttention.v.weight           |   589824   |\n",
      "|           decoder.block.4.layer.1.EncDecAttention.o.weight           |   589824   |\n",
      "|              decoder.block.4.layer.1.layer_norm.weight               |    768     |\n",
      "|          decoder.block.4.layer.2.DenseReluDense.wi_0.weight          |  1572864   |\n",
      "|          decoder.block.4.layer.2.DenseReluDense.wi_1.weight          |  1572864   |\n",
      "|           decoder.block.4.layer.2.DenseReluDense.wo.weight           |  1572864   |\n",
      "|              decoder.block.4.layer.2.layer_norm.weight               |    768     |\n",
      "|            decoder.block.5.layer.0.SelfAttention.q.weight            |   589824   |\n",
      "|            decoder.block.5.layer.0.SelfAttention.k.weight            |   589824   |\n",
      "|            decoder.block.5.layer.0.SelfAttention.v.weight            |   589824   |\n",
      "|            decoder.block.5.layer.0.SelfAttention.o.weight            |   589824   |\n",
      "|              decoder.block.5.layer.0.layer_norm.weight               |    768     |\n",
      "|           decoder.block.5.layer.1.EncDecAttention.q.weight           |   589824   |\n",
      "|           decoder.block.5.layer.1.EncDecAttention.k.weight           |   589824   |\n",
      "|           decoder.block.5.layer.1.EncDecAttention.v.weight           |   589824   |\n",
      "|           decoder.block.5.layer.1.EncDecAttention.o.weight           |   589824   |\n",
      "|              decoder.block.5.layer.1.layer_norm.weight               |    768     |\n",
      "|          decoder.block.5.layer.2.DenseReluDense.wi_0.weight          |  1572864   |\n",
      "|          decoder.block.5.layer.2.DenseReluDense.wi_1.weight          |  1572864   |\n",
      "|           decoder.block.5.layer.2.DenseReluDense.wo.weight           |  1572864   |\n",
      "|              decoder.block.5.layer.2.layer_norm.weight               |    768     |\n",
      "|            decoder.block.6.layer.0.SelfAttention.q.weight            |   589824   |\n",
      "|            decoder.block.6.layer.0.SelfAttention.k.weight            |   589824   |\n",
      "|            decoder.block.6.layer.0.SelfAttention.v.weight            |   589824   |\n",
      "|            decoder.block.6.layer.0.SelfAttention.o.weight            |   589824   |\n",
      "|              decoder.block.6.layer.0.layer_norm.weight               |    768     |\n",
      "|           decoder.block.6.layer.1.EncDecAttention.q.weight           |   589824   |\n",
      "|           decoder.block.6.layer.1.EncDecAttention.k.weight           |   589824   |\n",
      "|           decoder.block.6.layer.1.EncDecAttention.v.weight           |   589824   |\n",
      "|           decoder.block.6.layer.1.EncDecAttention.o.weight           |   589824   |\n",
      "|              decoder.block.6.layer.1.layer_norm.weight               |    768     |\n",
      "|          decoder.block.6.layer.2.DenseReluDense.wi_0.weight          |  1572864   |\n",
      "|          decoder.block.6.layer.2.DenseReluDense.wi_1.weight          |  1572864   |\n",
      "|           decoder.block.6.layer.2.DenseReluDense.wo.weight           |  1572864   |\n",
      "|              decoder.block.6.layer.2.layer_norm.weight               |    768     |\n",
      "|            decoder.block.7.layer.0.SelfAttention.q.weight            |   589824   |\n",
      "|            decoder.block.7.layer.0.SelfAttention.k.weight            |   589824   |\n",
      "|            decoder.block.7.layer.0.SelfAttention.v.weight            |   589824   |\n",
      "|            decoder.block.7.layer.0.SelfAttention.o.weight            |   589824   |\n",
      "|              decoder.block.7.layer.0.layer_norm.weight               |    768     |\n",
      "|           decoder.block.7.layer.1.EncDecAttention.q.weight           |   589824   |\n",
      "|           decoder.block.7.layer.1.EncDecAttention.k.weight           |   589824   |\n",
      "|           decoder.block.7.layer.1.EncDecAttention.v.weight           |   589824   |\n",
      "|           decoder.block.7.layer.1.EncDecAttention.o.weight           |   589824   |\n",
      "|              decoder.block.7.layer.1.layer_norm.weight               |    768     |\n",
      "|          decoder.block.7.layer.2.DenseReluDense.wi_0.weight          |  1572864   |\n",
      "|          decoder.block.7.layer.2.DenseReluDense.wi_1.weight          |  1572864   |\n",
      "|           decoder.block.7.layer.2.DenseReluDense.wo.weight           |  1572864   |\n",
      "|              decoder.block.7.layer.2.layer_norm.weight               |    768     |\n",
      "|            decoder.block.8.layer.0.SelfAttention.q.weight            |   589824   |\n",
      "|            decoder.block.8.layer.0.SelfAttention.k.weight            |   589824   |\n",
      "|            decoder.block.8.layer.0.SelfAttention.v.weight            |   589824   |\n",
      "|            decoder.block.8.layer.0.SelfAttention.o.weight            |   589824   |\n",
      "|              decoder.block.8.layer.0.layer_norm.weight               |    768     |\n",
      "|           decoder.block.8.layer.1.EncDecAttention.q.weight           |   589824   |\n",
      "|           decoder.block.8.layer.1.EncDecAttention.k.weight           |   589824   |\n",
      "|           decoder.block.8.layer.1.EncDecAttention.v.weight           |   589824   |\n",
      "|           decoder.block.8.layer.1.EncDecAttention.o.weight           |   589824   |\n",
      "|              decoder.block.8.layer.1.layer_norm.weight               |    768     |\n",
      "|          decoder.block.8.layer.2.DenseReluDense.wi_0.weight          |  1572864   |\n",
      "|          decoder.block.8.layer.2.DenseReluDense.wi_1.weight          |  1572864   |\n",
      "|           decoder.block.8.layer.2.DenseReluDense.wo.weight           |  1572864   |\n",
      "|              decoder.block.8.layer.2.layer_norm.weight               |    768     |\n",
      "|            decoder.block.9.layer.0.SelfAttention.q.weight            |   589824   |\n",
      "|            decoder.block.9.layer.0.SelfAttention.k.weight            |   589824   |\n",
      "|            decoder.block.9.layer.0.SelfAttention.v.weight            |   589824   |\n",
      "|            decoder.block.9.layer.0.SelfAttention.o.weight            |   589824   |\n",
      "|              decoder.block.9.layer.0.layer_norm.weight               |    768     |\n",
      "|           decoder.block.9.layer.1.EncDecAttention.q.weight           |   589824   |\n",
      "|           decoder.block.9.layer.1.EncDecAttention.k.weight           |   589824   |\n",
      "|           decoder.block.9.layer.1.EncDecAttention.v.weight           |   589824   |\n",
      "|           decoder.block.9.layer.1.EncDecAttention.o.weight           |   589824   |\n",
      "|              decoder.block.9.layer.1.layer_norm.weight               |    768     |\n",
      "|          decoder.block.9.layer.2.DenseReluDense.wi_0.weight          |  1572864   |\n",
      "|          decoder.block.9.layer.2.DenseReluDense.wi_1.weight          |  1572864   |\n",
      "|           decoder.block.9.layer.2.DenseReluDense.wo.weight           |  1572864   |\n",
      "|              decoder.block.9.layer.2.layer_norm.weight               |    768     |\n",
      "|           decoder.block.10.layer.0.SelfAttention.q.weight            |   589824   |\n",
      "|           decoder.block.10.layer.0.SelfAttention.k.weight            |   589824   |\n",
      "|           decoder.block.10.layer.0.SelfAttention.v.weight            |   589824   |\n",
      "|           decoder.block.10.layer.0.SelfAttention.o.weight            |   589824   |\n",
      "|              decoder.block.10.layer.0.layer_norm.weight              |    768     |\n",
      "|          decoder.block.10.layer.1.EncDecAttention.q.weight           |   589824   |\n",
      "|          decoder.block.10.layer.1.EncDecAttention.k.weight           |   589824   |\n",
      "|          decoder.block.10.layer.1.EncDecAttention.v.weight           |   589824   |\n",
      "|          decoder.block.10.layer.1.EncDecAttention.o.weight           |   589824   |\n",
      "|              decoder.block.10.layer.1.layer_norm.weight              |    768     |\n",
      "|         decoder.block.10.layer.2.DenseReluDense.wi_0.weight          |  1572864   |\n",
      "|         decoder.block.10.layer.2.DenseReluDense.wi_1.weight          |  1572864   |\n",
      "|          decoder.block.10.layer.2.DenseReluDense.wo.weight           |  1572864   |\n",
      "|              decoder.block.10.layer.2.layer_norm.weight              |    768     |\n",
      "|           decoder.block.11.layer.0.SelfAttention.q.weight            |   589824   |\n",
      "|           decoder.block.11.layer.0.SelfAttention.k.weight            |   589824   |\n",
      "|           decoder.block.11.layer.0.SelfAttention.v.weight            |   589824   |\n",
      "|           decoder.block.11.layer.0.SelfAttention.o.weight            |   589824   |\n",
      "|              decoder.block.11.layer.0.layer_norm.weight              |    768     |\n",
      "|          decoder.block.11.layer.1.EncDecAttention.q.weight           |   589824   |\n",
      "|          decoder.block.11.layer.1.EncDecAttention.k.weight           |   589824   |\n",
      "|          decoder.block.11.layer.1.EncDecAttention.v.weight           |   589824   |\n",
      "|          decoder.block.11.layer.1.EncDecAttention.o.weight           |   589824   |\n",
      "|              decoder.block.11.layer.1.layer_norm.weight              |    768     |\n",
      "|         decoder.block.11.layer.2.DenseReluDense.wi_0.weight          |  1572864   |\n",
      "|         decoder.block.11.layer.2.DenseReluDense.wi_1.weight          |  1572864   |\n",
      "|          decoder.block.11.layer.2.DenseReluDense.wo.weight           |  1572864   |\n",
      "|              decoder.block.11.layer.2.layer_norm.weight              |    768     |\n",
      "|                   decoder.final_layer_norm.weight                    |    768     |\n",
      "|                            lm_head.weight                            |  24655104  |\n",
      "+----------------------------------------------------------------------+------------+\n",
      "Total Trainable Params: 247539456\n"
     ]
    },
    {
     "data": {
      "text/plain": [
       "247539456"
      ]
     },
     "execution_count": 39,
     "metadata": {},
     "output_type": "execute_result"
    }
   ],
   "source": [
    "from prettytable import PrettyTable\n",
    "def count_parameters(model):\n",
    "    table = PrettyTable([\"Modules\", \"Parameters\"])\n",
    "    total_params = 0\n",
    "    for name, parameter in model.named_parameters():\n",
    "        if not parameter.requires_grad: continue\n",
    "        params = parameter.numel()\n",
    "        table.add_row([name, params])\n",
    "        total_params+=params\n",
    "    print(table)\n",
    "    print(f\"Total Trainable Params: {total_params}\")\n",
    "    return total_params\n",
    "\n",
    "count_parameters(model_test)"
   ]
  },
  {
   "cell_type": "code",
   "execution_count": null,
   "metadata": {},
   "outputs": [],
   "source": []
  }
 ],
 "metadata": {
  "accelerator": "GPU",
  "colab": {
   "provenance": []
  },
  "kernelspec": {
   "display_name": "Python 3 (ipykernel)",
   "language": "python",
   "name": "python3"
  },
  "language_info": {
   "codemirror_mode": {
    "name": "ipython",
    "version": 3
   },
   "file_extension": ".py",
   "mimetype": "text/x-python",
   "name": "python",
   "nbconvert_exporter": "python",
   "pygments_lexer": "ipython3",
   "version": "3.10.12"
  },
  "widgets": {
   "application/vnd.jupyter.widget-state+json": {
    "00073899677d4a25865fa07f0bcd4509": {
     "model_module": "@jupyter-widgets/base",
     "model_module_version": "1.2.0",
     "model_name": "LayoutModel",
     "state": {
      "_model_module": "@jupyter-widgets/base",
      "_model_module_version": "1.2.0",
      "_model_name": "LayoutModel",
      "_view_count": null,
      "_view_module": "@jupyter-widgets/base",
      "_view_module_version": "1.2.0",
      "_view_name": "LayoutView",
      "align_content": null,
      "align_items": null,
      "align_self": null,
      "border": null,
      "bottom": null,
      "display": null,
      "flex": null,
      "flex_flow": null,
      "grid_area": null,
      "grid_auto_columns": null,
      "grid_auto_flow": null,
      "grid_auto_rows": null,
      "grid_column": null,
      "grid_gap": null,
      "grid_row": null,
      "grid_template_areas": null,
      "grid_template_columns": null,
      "grid_template_rows": null,
      "height": null,
      "justify_content": null,
      "justify_items": null,
      "left": null,
      "margin": null,
      "max_height": null,
      "max_width": null,
      "min_height": null,
      "min_width": null,
      "object_fit": null,
      "object_position": null,
      "order": null,
      "overflow": null,
      "overflow_x": null,
      "overflow_y": null,
      "padding": null,
      "right": null,
      "top": null,
      "visibility": null,
      "width": null
     }
    },
    "085c8c0ee3374c9995ffd7d2fd4dbe6b": {
     "model_module": "@jupyter-widgets/base",
     "model_module_version": "1.2.0",
     "model_name": "LayoutModel",
     "state": {
      "_model_module": "@jupyter-widgets/base",
      "_model_module_version": "1.2.0",
      "_model_name": "LayoutModel",
      "_view_count": null,
      "_view_module": "@jupyter-widgets/base",
      "_view_module_version": "1.2.0",
      "_view_name": "LayoutView",
      "align_content": null,
      "align_items": null,
      "align_self": null,
      "border": null,
      "bottom": null,
      "display": null,
      "flex": null,
      "flex_flow": null,
      "grid_area": null,
      "grid_auto_columns": null,
      "grid_auto_flow": null,
      "grid_auto_rows": null,
      "grid_column": null,
      "grid_gap": null,
      "grid_row": null,
      "grid_template_areas": null,
      "grid_template_columns": null,
      "grid_template_rows": null,
      "height": null,
      "justify_content": null,
      "justify_items": null,
      "left": null,
      "margin": null,
      "max_height": null,
      "max_width": null,
      "min_height": null,
      "min_width": null,
      "object_fit": null,
      "object_position": null,
      "order": null,
      "overflow": null,
      "overflow_x": null,
      "overflow_y": null,
      "padding": null,
      "right": null,
      "top": null,
      "visibility": null,
      "width": null
     }
    },
    "0930fc1a776c4fc0bda024fe15f82cfe": {
     "model_module": "@jupyter-widgets/controls",
     "model_module_version": "1.5.0",
     "model_name": "HBoxModel",
     "state": {
      "_dom_classes": [],
      "_model_module": "@jupyter-widgets/controls",
      "_model_module_version": "1.5.0",
      "_model_name": "HBoxModel",
      "_view_count": null,
      "_view_module": "@jupyter-widgets/controls",
      "_view_module_version": "1.5.0",
      "_view_name": "HBoxView",
      "box_style": "",
      "children": [
       "IPY_MODEL_de9a482c2e544590b685b39259267d0d",
       "IPY_MODEL_641048a7c9e64c65b8d71bda353199b6",
       "IPY_MODEL_c6c3071b4af64ffdad6284729e75f9d5"
      ],
      "layout": "IPY_MODEL_f7f2c42a055b43aeb8aea78ca7d03417"
     }
    },
    "0db520f2677749e2875bf7a6965e3785": {
     "model_module": "@jupyter-widgets/controls",
     "model_module_version": "1.5.0",
     "model_name": "DescriptionStyleModel",
     "state": {
      "_model_module": "@jupyter-widgets/controls",
      "_model_module_version": "1.5.0",
      "_model_name": "DescriptionStyleModel",
      "_view_count": null,
      "_view_module": "@jupyter-widgets/base",
      "_view_module_version": "1.2.0",
      "_view_name": "StyleView",
      "description_width": ""
     }
    },
    "0e698f259fb54888be3635bd9fc29ed6": {
     "model_module": "@jupyter-widgets/controls",
     "model_module_version": "1.5.0",
     "model_name": "DescriptionStyleModel",
     "state": {
      "_model_module": "@jupyter-widgets/controls",
      "_model_module_version": "1.5.0",
      "_model_name": "DescriptionStyleModel",
      "_view_count": null,
      "_view_module": "@jupyter-widgets/base",
      "_view_module_version": "1.2.0",
      "_view_name": "StyleView",
      "description_width": ""
     }
    },
    "10a9d1055c8f43c0aa58d19671013290": {
     "model_module": "@jupyter-widgets/controls",
     "model_module_version": "1.5.0",
     "model_name": "FloatProgressModel",
     "state": {
      "_dom_classes": [],
      "_model_module": "@jupyter-widgets/controls",
      "_model_module_version": "1.5.0",
      "_model_name": "FloatProgressModel",
      "_view_count": null,
      "_view_module": "@jupyter-widgets/controls",
      "_view_module_version": "1.5.0",
      "_view_name": "ProgressView",
      "bar_style": "success",
      "description": "",
      "description_tooltip": null,
      "layout": "IPY_MODEL_eb78d926a86c4a0781d596e8e8115de5",
      "max": 1723,
      "min": 0,
      "orientation": "horizontal",
      "style": "IPY_MODEL_346117ec988743289fa6f1a7d009f87b",
      "value": 1723
     }
    },
    "112a2ea418644fdeb82e432cd50bfef2": {
     "model_module": "@jupyter-widgets/controls",
     "model_module_version": "1.5.0",
     "model_name": "HTMLModel",
     "state": {
      "_dom_classes": [],
      "_model_module": "@jupyter-widgets/controls",
      "_model_module_version": "1.5.0",
      "_model_name": "HTMLModel",
      "_view_count": null,
      "_view_module": "@jupyter-widgets/controls",
      "_view_module_version": "1.5.0",
      "_view_name": "HTMLView",
      "description": "",
      "description_tooltip": null,
      "layout": "IPY_MODEL_52abacaa40f1414c90fb566cd6bb7c38",
      "placeholder": "​",
      "style": "IPY_MODEL_0e698f259fb54888be3635bd9fc29ed6",
      "value": " 579/579 [00:00&lt;00:00, 35.7kB/s]"
     }
    },
    "1153e1c551fa4adc9547902357832cb6": {
     "model_module": "@jupyter-widgets/base",
     "model_module_version": "1.2.0",
     "model_name": "LayoutModel",
     "state": {
      "_model_module": "@jupyter-widgets/base",
      "_model_module_version": "1.2.0",
      "_model_name": "LayoutModel",
      "_view_count": null,
      "_view_module": "@jupyter-widgets/base",
      "_view_module_version": "1.2.0",
      "_view_name": "LayoutView",
      "align_content": null,
      "align_items": null,
      "align_self": null,
      "border": null,
      "bottom": null,
      "display": null,
      "flex": null,
      "flex_flow": null,
      "grid_area": null,
      "grid_auto_columns": null,
      "grid_auto_flow": null,
      "grid_auto_rows": null,
      "grid_column": null,
      "grid_gap": null,
      "grid_row": null,
      "grid_template_areas": null,
      "grid_template_columns": null,
      "grid_template_rows": null,
      "height": null,
      "justify_content": null,
      "justify_items": null,
      "left": null,
      "margin": null,
      "max_height": null,
      "max_width": null,
      "min_height": null,
      "min_width": null,
      "object_fit": null,
      "object_position": null,
      "order": null,
      "overflow": null,
      "overflow_x": null,
      "overflow_y": null,
      "padding": null,
      "right": null,
      "top": null,
      "visibility": null,
      "width": null
     }
    },
    "11dc804922a64e7aa5a0549c2988a231": {
     "model_module": "@jupyter-widgets/base",
     "model_module_version": "1.2.0",
     "model_name": "LayoutModel",
     "state": {
      "_model_module": "@jupyter-widgets/base",
      "_model_module_version": "1.2.0",
      "_model_name": "LayoutModel",
      "_view_count": null,
      "_view_module": "@jupyter-widgets/base",
      "_view_module_version": "1.2.0",
      "_view_name": "LayoutView",
      "align_content": null,
      "align_items": null,
      "align_self": null,
      "border": null,
      "bottom": null,
      "display": null,
      "flex": null,
      "flex_flow": null,
      "grid_area": null,
      "grid_auto_columns": null,
      "grid_auto_flow": null,
      "grid_auto_rows": null,
      "grid_column": null,
      "grid_gap": null,
      "grid_row": null,
      "grid_template_areas": null,
      "grid_template_columns": null,
      "grid_template_rows": null,
      "height": null,
      "justify_content": null,
      "justify_items": null,
      "left": null,
      "margin": null,
      "max_height": null,
      "max_width": null,
      "min_height": null,
      "min_width": null,
      "object_fit": null,
      "object_position": null,
      "order": null,
      "overflow": null,
      "overflow_x": null,
      "overflow_y": null,
      "padding": null,
      "right": null,
      "top": null,
      "visibility": null,
      "width": null
     }
    },
    "145f24f64a544484ab326381e7f105c6": {
     "model_module": "@jupyter-widgets/base",
     "model_module_version": "1.2.0",
     "model_name": "LayoutModel",
     "state": {
      "_model_module": "@jupyter-widgets/base",
      "_model_module_version": "1.2.0",
      "_model_name": "LayoutModel",
      "_view_count": null,
      "_view_module": "@jupyter-widgets/base",
      "_view_module_version": "1.2.0",
      "_view_name": "LayoutView",
      "align_content": null,
      "align_items": null,
      "align_self": null,
      "border": null,
      "bottom": null,
      "display": null,
      "flex": null,
      "flex_flow": null,
      "grid_area": null,
      "grid_auto_columns": null,
      "grid_auto_flow": null,
      "grid_auto_rows": null,
      "grid_column": null,
      "grid_gap": null,
      "grid_row": null,
      "grid_template_areas": null,
      "grid_template_columns": null,
      "grid_template_rows": null,
      "height": null,
      "justify_content": null,
      "justify_items": null,
      "left": null,
      "margin": null,
      "max_height": null,
      "max_width": null,
      "min_height": null,
      "min_width": null,
      "object_fit": null,
      "object_position": null,
      "order": null,
      "overflow": null,
      "overflow_x": null,
      "overflow_y": null,
      "padding": null,
      "right": null,
      "top": null,
      "visibility": null,
      "width": null
     }
    },
    "14d8c54878d0481fbc956c003218a36b": {
     "model_module": "@jupyter-widgets/controls",
     "model_module_version": "1.5.0",
     "model_name": "DescriptionStyleModel",
     "state": {
      "_model_module": "@jupyter-widgets/controls",
      "_model_module_version": "1.5.0",
      "_model_name": "DescriptionStyleModel",
      "_view_count": null,
      "_view_module": "@jupyter-widgets/base",
      "_view_module_version": "1.2.0",
      "_view_name": "StyleView",
      "description_width": ""
     }
    },
    "1af2989c54704fbf9f7fc0f2bbfa8fbd": {
     "model_module": "@jupyter-widgets/controls",
     "model_module_version": "1.5.0",
     "model_name": "DescriptionStyleModel",
     "state": {
      "_model_module": "@jupyter-widgets/controls",
      "_model_module_version": "1.5.0",
      "_model_name": "DescriptionStyleModel",
      "_view_count": null,
      "_view_module": "@jupyter-widgets/base",
      "_view_module_version": "1.2.0",
      "_view_name": "StyleView",
      "description_width": ""
     }
    },
    "1b8339e81668476f8ae92add476eb0cc": {
     "model_module": "@jupyter-widgets/controls",
     "model_module_version": "1.5.0",
     "model_name": "HTMLModel",
     "state": {
      "_dom_classes": [],
      "_model_module": "@jupyter-widgets/controls",
      "_model_module_version": "1.5.0",
      "_model_name": "HTMLModel",
      "_view_count": null,
      "_view_module": "@jupyter-widgets/controls",
      "_view_module_version": "1.5.0",
      "_view_name": "HTMLView",
      "description": "",
      "description_tooltip": null,
      "layout": "IPY_MODEL_d36ed9086fa5440b8d20197a91808043",
      "placeholder": "​",
      "style": "IPY_MODEL_3257c57604dc48b2bf2a044e68a143ab",
      "value": "Downloading (…)okenizer_config.json: 100%"
     }
    },
    "1be8f4726a4d4b96ad1214250801f007": {
     "model_module": "@jupyter-widgets/controls",
     "model_module_version": "1.5.0",
     "model_name": "HBoxModel",
     "state": {
      "_dom_classes": [],
      "_model_module": "@jupyter-widgets/controls",
      "_model_module_version": "1.5.0",
      "_model_name": "HBoxModel",
      "_view_count": null,
      "_view_module": "@jupyter-widgets/controls",
      "_view_module_version": "1.5.0",
      "_view_name": "HBoxView",
      "box_style": "",
      "children": [
       "IPY_MODEL_db2a88ef2dee4f13ab91f207d60b9566",
       "IPY_MODEL_10a9d1055c8f43c0aa58d19671013290",
       "IPY_MODEL_8520b656c8084744bf01ef4a6582961b"
      ],
      "layout": "IPY_MODEL_674bcd5d674e438489a44cea7a3fb517"
     }
    },
    "1c9dbc37addf4078975f157507ca1fba": {
     "model_module": "@jupyter-widgets/base",
     "model_module_version": "1.2.0",
     "model_name": "LayoutModel",
     "state": {
      "_model_module": "@jupyter-widgets/base",
      "_model_module_version": "1.2.0",
      "_model_name": "LayoutModel",
      "_view_count": null,
      "_view_module": "@jupyter-widgets/base",
      "_view_module_version": "1.2.0",
      "_view_name": "LayoutView",
      "align_content": null,
      "align_items": null,
      "align_self": null,
      "border": null,
      "bottom": null,
      "display": null,
      "flex": null,
      "flex_flow": null,
      "grid_area": null,
      "grid_auto_columns": null,
      "grid_auto_flow": null,
      "grid_auto_rows": null,
      "grid_column": null,
      "grid_gap": null,
      "grid_row": null,
      "grid_template_areas": null,
      "grid_template_columns": null,
      "grid_template_rows": null,
      "height": null,
      "justify_content": null,
      "justify_items": null,
      "left": null,
      "margin": null,
      "max_height": null,
      "max_width": null,
      "min_height": null,
      "min_width": null,
      "object_fit": null,
      "object_position": null,
      "order": null,
      "overflow": null,
      "overflow_x": null,
      "overflow_y": null,
      "padding": null,
      "right": null,
      "top": null,
      "visibility": null,
      "width": null
     }
    },
    "1cd1f13eb5804d07ac6b15c85c3569bb": {
     "model_module": "@jupyter-widgets/controls",
     "model_module_version": "1.5.0",
     "model_name": "HTMLModel",
     "state": {
      "_dom_classes": [],
      "_model_module": "@jupyter-widgets/controls",
      "_model_module_version": "1.5.0",
      "_model_name": "HTMLModel",
      "_view_count": null,
      "_view_module": "@jupyter-widgets/controls",
      "_view_module_version": "1.5.0",
      "_view_name": "HTMLView",
      "description": "",
      "description_tooltip": null,
      "layout": "IPY_MODEL_b10b7ab2c60b4ac389d40dd001ff0463",
      "placeholder": "​",
      "style": "IPY_MODEL_0db520f2677749e2875bf7a6965e3785",
      "value": " 169/169 [00:00&lt;00:00, 10.8kB/s]"
     }
    },
    "1d506b75563a40d7bcc9e38a5b040cd6": {
     "model_module": "@jupyter-widgets/controls",
     "model_module_version": "1.5.0",
     "model_name": "DescriptionStyleModel",
     "state": {
      "_model_module": "@jupyter-widgets/controls",
      "_model_module_version": "1.5.0",
      "_model_name": "DescriptionStyleModel",
      "_view_count": null,
      "_view_module": "@jupyter-widgets/base",
      "_view_module_version": "1.2.0",
      "_view_name": "StyleView",
      "description_width": ""
     }
    },
    "20fb1bc55bc147c3a2c64505a7c076f9": {
     "model_module": "@jupyter-widgets/base",
     "model_module_version": "1.2.0",
     "model_name": "LayoutModel",
     "state": {
      "_model_module": "@jupyter-widgets/base",
      "_model_module_version": "1.2.0",
      "_model_name": "LayoutModel",
      "_view_count": null,
      "_view_module": "@jupyter-widgets/base",
      "_view_module_version": "1.2.0",
      "_view_name": "LayoutView",
      "align_content": null,
      "align_items": null,
      "align_self": null,
      "border": null,
      "bottom": null,
      "display": null,
      "flex": null,
      "flex_flow": null,
      "grid_area": null,
      "grid_auto_columns": null,
      "grid_auto_flow": null,
      "grid_auto_rows": null,
      "grid_column": null,
      "grid_gap": null,
      "grid_row": null,
      "grid_template_areas": null,
      "grid_template_columns": null,
      "grid_template_rows": null,
      "height": null,
      "justify_content": null,
      "justify_items": null,
      "left": null,
      "margin": null,
      "max_height": null,
      "max_width": null,
      "min_height": null,
      "min_width": null,
      "object_fit": null,
      "object_position": null,
      "order": null,
      "overflow": null,
      "overflow_x": null,
      "overflow_y": null,
      "padding": null,
      "right": null,
      "top": null,
      "visibility": null,
      "width": null
     }
    },
    "268e257aba9a405da9017970e7d4026d": {
     "model_module": "@jupyter-widgets/controls",
     "model_module_version": "1.5.0",
     "model_name": "FloatProgressModel",
     "state": {
      "_dom_classes": [],
      "_model_module": "@jupyter-widgets/controls",
      "_model_module_version": "1.5.0",
      "_model_name": "FloatProgressModel",
      "_view_count": null,
      "_view_module": "@jupyter-widgets/controls",
      "_view_module_version": "1.5.0",
      "_view_name": "ProgressView",
      "bar_style": "success",
      "description": "",
      "description_tooltip": null,
      "layout": "IPY_MODEL_95ff9fda0ec44d18a2fbc4cade898bda",
      "max": 192,
      "min": 0,
      "orientation": "horizontal",
      "style": "IPY_MODEL_a4b1eb31e71544968702af008ff57e92",
      "value": 192
     }
    },
    "27172230bd324928a0eefb0f5dc730c7": {
     "model_module": "@jupyter-widgets/base",
     "model_module_version": "1.2.0",
     "model_name": "LayoutModel",
     "state": {
      "_model_module": "@jupyter-widgets/base",
      "_model_module_version": "1.2.0",
      "_model_name": "LayoutModel",
      "_view_count": null,
      "_view_module": "@jupyter-widgets/base",
      "_view_module_version": "1.2.0",
      "_view_name": "LayoutView",
      "align_content": null,
      "align_items": null,
      "align_self": null,
      "border": null,
      "bottom": null,
      "display": null,
      "flex": null,
      "flex_flow": null,
      "grid_area": null,
      "grid_auto_columns": null,
      "grid_auto_flow": null,
      "grid_auto_rows": null,
      "grid_column": null,
      "grid_gap": null,
      "grid_row": null,
      "grid_template_areas": null,
      "grid_template_columns": null,
      "grid_template_rows": null,
      "height": null,
      "justify_content": null,
      "justify_items": null,
      "left": null,
      "margin": null,
      "max_height": null,
      "max_width": null,
      "min_height": null,
      "min_width": null,
      "object_fit": null,
      "object_position": null,
      "order": null,
      "overflow": null,
      "overflow_x": null,
      "overflow_y": null,
      "padding": null,
      "right": null,
      "top": null,
      "visibility": null,
      "width": null
     }
    },
    "283ac4bfb9644c50853173e5fe021773": {
     "model_module": "@jupyter-widgets/controls",
     "model_module_version": "1.5.0",
     "model_name": "DescriptionStyleModel",
     "state": {
      "_model_module": "@jupyter-widgets/controls",
      "_model_module_version": "1.5.0",
      "_model_name": "DescriptionStyleModel",
      "_view_count": null,
      "_view_module": "@jupyter-widgets/base",
      "_view_module_version": "1.2.0",
      "_view_name": "StyleView",
      "description_width": ""
     }
    },
    "29e0b298294448408423c9943ff8983b": {
     "model_module": "@jupyter-widgets/base",
     "model_module_version": "1.2.0",
     "model_name": "LayoutModel",
     "state": {
      "_model_module": "@jupyter-widgets/base",
      "_model_module_version": "1.2.0",
      "_model_name": "LayoutModel",
      "_view_count": null,
      "_view_module": "@jupyter-widgets/base",
      "_view_module_version": "1.2.0",
      "_view_name": "LayoutView",
      "align_content": null,
      "align_items": null,
      "align_self": null,
      "border": null,
      "bottom": null,
      "display": null,
      "flex": null,
      "flex_flow": null,
      "grid_area": null,
      "grid_auto_columns": null,
      "grid_auto_flow": null,
      "grid_auto_rows": null,
      "grid_column": null,
      "grid_gap": null,
      "grid_row": null,
      "grid_template_areas": null,
      "grid_template_columns": null,
      "grid_template_rows": null,
      "height": null,
      "justify_content": null,
      "justify_items": null,
      "left": null,
      "margin": null,
      "max_height": null,
      "max_width": null,
      "min_height": null,
      "min_width": null,
      "object_fit": null,
      "object_position": null,
      "order": null,
      "overflow": null,
      "overflow_x": null,
      "overflow_y": null,
      "padding": null,
      "right": null,
      "top": null,
      "visibility": null,
      "width": null
     }
    },
    "2b199872fad44e27b349b9936c91a1b9": {
     "model_module": "@jupyter-widgets/controls",
     "model_module_version": "1.5.0",
     "model_name": "FloatProgressModel",
     "state": {
      "_dom_classes": [],
      "_model_module": "@jupyter-widgets/controls",
      "_model_module_version": "1.5.0",
      "_model_name": "FloatProgressModel",
      "_view_count": null,
      "_view_module": "@jupyter-widgets/controls",
      "_view_module_version": "1.5.0",
      "_view_name": "ProgressView",
      "bar_style": "success",
      "description": "",
      "description_tooltip": null,
      "layout": "IPY_MODEL_58f6d174857f4824b3e16fb56d3e41f1",
      "max": 2349,
      "min": 0,
      "orientation": "horizontal",
      "style": "IPY_MODEL_a750598bb6864fb481a08018c411f6d1",
      "value": 2349
     }
    },
    "2b6eb614650847bc89a1e1b866065864": {
     "model_module": "@jupyter-widgets/controls",
     "model_module_version": "1.5.0",
     "model_name": "FloatProgressModel",
     "state": {
      "_dom_classes": [],
      "_model_module": "@jupyter-widgets/controls",
      "_model_module_version": "1.5.0",
      "_model_name": "FloatProgressModel",
      "_view_count": null,
      "_view_module": "@jupyter-widgets/controls",
      "_view_module_version": "1.5.0",
      "_view_name": "ProgressView",
      "bar_style": "success",
      "description": "",
      "description_tooltip": null,
      "layout": "IPY_MODEL_9dc3fc232f684e449991e162a971d288",
      "max": 990191464,
      "min": 0,
      "orientation": "horizontal",
      "style": "IPY_MODEL_3240325935c74d69bc5b0184faec0f04",
      "value": 990191464
     }
    },
    "2cdaec2980074527b5a068de1070e455": {
     "model_module": "@jupyter-widgets/controls",
     "model_module_version": "1.5.0",
     "model_name": "HBoxModel",
     "state": {
      "_dom_classes": [],
      "_model_module": "@jupyter-widgets/controls",
      "_model_module_version": "1.5.0",
      "_model_name": "HBoxModel",
      "_view_count": null,
      "_view_module": "@jupyter-widgets/controls",
      "_view_module_version": "1.5.0",
      "_view_name": "HBoxView",
      "box_style": "",
      "children": [
       "IPY_MODEL_d6a9c258d6fc4efeafd6dd86b40cb6cb",
       "IPY_MODEL_581c674d6a594261b10a28e1409442b7",
       "IPY_MODEL_43d0bca6e1984533be86e8a3cf0ad22e"
      ],
      "layout": "IPY_MODEL_9863a1dcda5f43d69125b76ce80d6ce9"
     }
    },
    "2dd65fbcd5564839bf14ab5d30585188": {
     "model_module": "@jupyter-widgets/base",
     "model_module_version": "1.2.0",
     "model_name": "LayoutModel",
     "state": {
      "_model_module": "@jupyter-widgets/base",
      "_model_module_version": "1.2.0",
      "_model_name": "LayoutModel",
      "_view_count": null,
      "_view_module": "@jupyter-widgets/base",
      "_view_module_version": "1.2.0",
      "_view_name": "LayoutView",
      "align_content": null,
      "align_items": null,
      "align_self": null,
      "border": null,
      "bottom": null,
      "display": null,
      "flex": null,
      "flex_flow": null,
      "grid_area": null,
      "grid_auto_columns": null,
      "grid_auto_flow": null,
      "grid_auto_rows": null,
      "grid_column": null,
      "grid_gap": null,
      "grid_row": null,
      "grid_template_areas": null,
      "grid_template_columns": null,
      "grid_template_rows": null,
      "height": null,
      "justify_content": null,
      "justify_items": null,
      "left": null,
      "margin": null,
      "max_height": null,
      "max_width": null,
      "min_height": null,
      "min_width": null,
      "object_fit": null,
      "object_position": null,
      "order": null,
      "overflow": null,
      "overflow_x": null,
      "overflow_y": null,
      "padding": null,
      "right": null,
      "top": null,
      "visibility": null,
      "width": null
     }
    },
    "2e6903d1bef045dea5e8d7eb28eb7e28": {
     "model_module": "@jupyter-widgets/base",
     "model_module_version": "1.2.0",
     "model_name": "LayoutModel",
     "state": {
      "_model_module": "@jupyter-widgets/base",
      "_model_module_version": "1.2.0",
      "_model_name": "LayoutModel",
      "_view_count": null,
      "_view_module": "@jupyter-widgets/base",
      "_view_module_version": "1.2.0",
      "_view_name": "LayoutView",
      "align_content": null,
      "align_items": null,
      "align_self": null,
      "border": null,
      "bottom": null,
      "display": null,
      "flex": null,
      "flex_flow": null,
      "grid_area": null,
      "grid_auto_columns": null,
      "grid_auto_flow": null,
      "grid_auto_rows": null,
      "grid_column": null,
      "grid_gap": null,
      "grid_row": null,
      "grid_template_areas": null,
      "grid_template_columns": null,
      "grid_template_rows": null,
      "height": null,
      "justify_content": null,
      "justify_items": null,
      "left": null,
      "margin": null,
      "max_height": null,
      "max_width": null,
      "min_height": null,
      "min_width": null,
      "object_fit": null,
      "object_position": null,
      "order": null,
      "overflow": null,
      "overflow_x": null,
      "overflow_y": null,
      "padding": null,
      "right": null,
      "top": null,
      "visibility": null,
      "width": null
     }
    },
    "2e6f9bea248040239b4aecf0155f3b20": {
     "model_module": "@jupyter-widgets/controls",
     "model_module_version": "1.5.0",
     "model_name": "HTMLModel",
     "state": {
      "_dom_classes": [],
      "_model_module": "@jupyter-widgets/controls",
      "_model_module_version": "1.5.0",
      "_model_name": "HTMLModel",
      "_view_count": null,
      "_view_module": "@jupyter-widgets/controls",
      "_view_module_version": "1.5.0",
      "_view_name": "HTMLView",
      "description": "",
      "description_tooltip": null,
      "layout": "IPY_MODEL_145f24f64a544484ab326381e7f105c6",
      "placeholder": "​",
      "style": "IPY_MODEL_7d79a9a1c93d4a549211ca41d4d7dc6b",
      "value": "Downloading (…)neration_config.json: 100%"
     }
    },
    "2ee39d8a7b0547b2aec28338f965c33c": {
     "model_module": "@jupyter-widgets/controls",
     "model_module_version": "1.5.0",
     "model_name": "HBoxModel",
     "state": {
      "_dom_classes": [],
      "_model_module": "@jupyter-widgets/controls",
      "_model_module_version": "1.5.0",
      "_model_name": "HBoxModel",
      "_view_count": null,
      "_view_module": "@jupyter-widgets/controls",
      "_view_module_version": "1.5.0",
      "_view_name": "HBoxView",
      "box_style": "",
      "children": [
       "IPY_MODEL_abca497869374c559309c3a18ac857e5",
       "IPY_MODEL_3034cefbce3247ddb7a8e7c7c2929eab",
       "IPY_MODEL_b4bd889101ec464795180c192cc05183"
      ],
      "layout": "IPY_MODEL_e6fdb7e08d194a83a3d71bd421b45a5f"
     }
    },
    "2f5af1c41f8f431da7194e8e02ac0f1a": {
     "model_module": "@jupyter-widgets/controls",
     "model_module_version": "1.5.0",
     "model_name": "ProgressStyleModel",
     "state": {
      "_model_module": "@jupyter-widgets/controls",
      "_model_module_version": "1.5.0",
      "_model_name": "ProgressStyleModel",
      "_view_count": null,
      "_view_module": "@jupyter-widgets/base",
      "_view_module_version": "1.2.0",
      "_view_name": "StyleView",
      "bar_color": null,
      "description_width": ""
     }
    },
    "3034cefbce3247ddb7a8e7c7c2929eab": {
     "model_module": "@jupyter-widgets/controls",
     "model_module_version": "1.5.0",
     "model_name": "FloatProgressModel",
     "state": {
      "_dom_classes": [],
      "_model_module": "@jupyter-widgets/controls",
      "_model_module_version": "1.5.0",
      "_model_name": "FloatProgressModel",
      "_view_count": null,
      "_view_module": "@jupyter-widgets/controls",
      "_view_module_version": "1.5.0",
      "_view_name": "ProgressView",
      "bar_style": "success",
      "description": "",
      "description_tooltip": null,
      "layout": "IPY_MODEL_99d2dfeca5414409b210e7433baca529",
      "max": 1545,
      "min": 0,
      "orientation": "horizontal",
      "style": "IPY_MODEL_b2a6e6064e3b42ccb9e1548bb60c4af3",
      "value": 1545
     }
    },
    "3240325935c74d69bc5b0184faec0f04": {
     "model_module": "@jupyter-widgets/controls",
     "model_module_version": "1.5.0",
     "model_name": "ProgressStyleModel",
     "state": {
      "_model_module": "@jupyter-widgets/controls",
      "_model_module_version": "1.5.0",
      "_model_name": "ProgressStyleModel",
      "_view_count": null,
      "_view_module": "@jupyter-widgets/base",
      "_view_module_version": "1.2.0",
      "_view_name": "StyleView",
      "bar_color": null,
      "description_width": ""
     }
    },
    "3257c57604dc48b2bf2a044e68a143ab": {
     "model_module": "@jupyter-widgets/controls",
     "model_module_version": "1.5.0",
     "model_name": "DescriptionStyleModel",
     "state": {
      "_model_module": "@jupyter-widgets/controls",
      "_model_module_version": "1.5.0",
      "_model_name": "DescriptionStyleModel",
      "_view_count": null,
      "_view_module": "@jupyter-widgets/base",
      "_view_module_version": "1.2.0",
      "_view_name": "StyleView",
      "description_width": ""
     }
    },
    "33c93f5a50c049969eaa2d83cf330453": {
     "model_module": "@jupyter-widgets/controls",
     "model_module_version": "1.5.0",
     "model_name": "HTMLModel",
     "state": {
      "_dom_classes": [],
      "_model_module": "@jupyter-widgets/controls",
      "_model_module_version": "1.5.0",
      "_model_name": "HTMLModel",
      "_view_count": null,
      "_view_module": "@jupyter-widgets/controls",
      "_view_module_version": "1.5.0",
      "_view_name": "HTMLView",
      "description": "",
      "description_tooltip": null,
      "layout": "IPY_MODEL_53c54721b1ff46c98330a8a5ce257a73",
      "placeholder": "​",
      "style": "IPY_MODEL_50a892bd8b1a43d3ae1ab53302142e20",
      "value": " 76.0/76.0 [00:00&lt;00:00, 3.88kB/s]"
     }
    },
    "346117ec988743289fa6f1a7d009f87b": {
     "model_module": "@jupyter-widgets/controls",
     "model_module_version": "1.5.0",
     "model_name": "ProgressStyleModel",
     "state": {
      "_model_module": "@jupyter-widgets/controls",
      "_model_module_version": "1.5.0",
      "_model_name": "ProgressStyleModel",
      "_view_count": null,
      "_view_module": "@jupyter-widgets/base",
      "_view_module_version": "1.2.0",
      "_view_name": "StyleView",
      "bar_color": null,
      "description_width": ""
     }
    },
    "3837cb52768e40e18110504628b85d7c": {
     "model_module": "@jupyter-widgets/base",
     "model_module_version": "1.2.0",
     "model_name": "LayoutModel",
     "state": {
      "_model_module": "@jupyter-widgets/base",
      "_model_module_version": "1.2.0",
      "_model_name": "LayoutModel",
      "_view_count": null,
      "_view_module": "@jupyter-widgets/base",
      "_view_module_version": "1.2.0",
      "_view_name": "LayoutView",
      "align_content": null,
      "align_items": null,
      "align_self": null,
      "border": null,
      "bottom": null,
      "display": null,
      "flex": null,
      "flex_flow": null,
      "grid_area": null,
      "grid_auto_columns": null,
      "grid_auto_flow": null,
      "grid_auto_rows": null,
      "grid_column": null,
      "grid_gap": null,
      "grid_row": null,
      "grid_template_areas": null,
      "grid_template_columns": null,
      "grid_template_rows": null,
      "height": null,
      "justify_content": null,
      "justify_items": null,
      "left": null,
      "margin": null,
      "max_height": null,
      "max_width": null,
      "min_height": null,
      "min_width": null,
      "object_fit": null,
      "object_position": null,
      "order": null,
      "overflow": null,
      "overflow_x": null,
      "overflow_y": null,
      "padding": null,
      "right": null,
      "top": null,
      "visibility": null,
      "width": null
     }
    },
    "388a113a27204108be7f581b5e6e0398": {
     "model_module": "@jupyter-widgets/controls",
     "model_module_version": "1.5.0",
     "model_name": "FloatProgressModel",
     "state": {
      "_dom_classes": [],
      "_model_module": "@jupyter-widgets/controls",
      "_model_module_version": "1.5.0",
      "_model_name": "FloatProgressModel",
      "_view_count": null,
      "_view_module": "@jupyter-widgets/controls",
      "_view_module_version": "1.5.0",
      "_view_name": "ProgressView",
      "bar_style": "success",
      "description": "",
      "description_tooltip": null,
      "layout": "IPY_MODEL_29e0b298294448408423c9943ff8983b",
      "max": 579,
      "min": 0,
      "orientation": "horizontal",
      "style": "IPY_MODEL_7f2ad0f8647f4a17be718bd9b30291c1",
      "value": 579
     }
    },
    "38d16501f40141fa8ce3a8b794313c44": {
     "model_module": "@jupyter-widgets/base",
     "model_module_version": "1.2.0",
     "model_name": "LayoutModel",
     "state": {
      "_model_module": "@jupyter-widgets/base",
      "_model_module_version": "1.2.0",
      "_model_name": "LayoutModel",
      "_view_count": null,
      "_view_module": "@jupyter-widgets/base",
      "_view_module_version": "1.2.0",
      "_view_name": "LayoutView",
      "align_content": null,
      "align_items": null,
      "align_self": null,
      "border": null,
      "bottom": null,
      "display": null,
      "flex": null,
      "flex_flow": null,
      "grid_area": null,
      "grid_auto_columns": null,
      "grid_auto_flow": null,
      "grid_auto_rows": null,
      "grid_column": null,
      "grid_gap": null,
      "grid_row": null,
      "grid_template_areas": null,
      "grid_template_columns": null,
      "grid_template_rows": null,
      "height": null,
      "justify_content": null,
      "justify_items": null,
      "left": null,
      "margin": null,
      "max_height": null,
      "max_width": null,
      "min_height": null,
      "min_width": null,
      "object_fit": null,
      "object_position": null,
      "order": null,
      "overflow": null,
      "overflow_x": null,
      "overflow_y": null,
      "padding": null,
      "right": null,
      "top": null,
      "visibility": null,
      "width": null
     }
    },
    "39db8c459c8c4dc389ab6f5834fe5bb5": {
     "model_module": "@jupyter-widgets/base",
     "model_module_version": "1.2.0",
     "model_name": "LayoutModel",
     "state": {
      "_model_module": "@jupyter-widgets/base",
      "_model_module_version": "1.2.0",
      "_model_name": "LayoutModel",
      "_view_count": null,
      "_view_module": "@jupyter-widgets/base",
      "_view_module_version": "1.2.0",
      "_view_name": "LayoutView",
      "align_content": null,
      "align_items": null,
      "align_self": null,
      "border": null,
      "bottom": null,
      "display": null,
      "flex": null,
      "flex_flow": null,
      "grid_area": null,
      "grid_auto_columns": null,
      "grid_auto_flow": null,
      "grid_auto_rows": null,
      "grid_column": null,
      "grid_gap": null,
      "grid_row": null,
      "grid_template_areas": null,
      "grid_template_columns": null,
      "grid_template_rows": null,
      "height": null,
      "justify_content": null,
      "justify_items": null,
      "left": null,
      "margin": null,
      "max_height": null,
      "max_width": null,
      "min_height": null,
      "min_width": null,
      "object_fit": null,
      "object_position": null,
      "order": null,
      "overflow": null,
      "overflow_x": null,
      "overflow_y": null,
      "padding": null,
      "right": null,
      "top": null,
      "visibility": null,
      "width": null
     }
    },
    "3ac039758c7346debbf0a87d5bcbc8aa": {
     "model_module": "@jupyter-widgets/controls",
     "model_module_version": "1.5.0",
     "model_name": "FloatProgressModel",
     "state": {
      "_dom_classes": [],
      "_model_module": "@jupyter-widgets/controls",
      "_model_module_version": "1.5.0",
      "_model_name": "FloatProgressModel",
      "_view_count": null,
      "_view_module": "@jupyter-widgets/controls",
      "_view_module_version": "1.5.0",
      "_view_name": "ProgressView",
      "bar_style": "success",
      "description": "",
      "description_tooltip": null,
      "layout": "IPY_MODEL_97680d33688c4bcc8829d02fce7de9e4",
      "max": 165843,
      "min": 0,
      "orientation": "horizontal",
      "style": "IPY_MODEL_2f5af1c41f8f431da7194e8e02ac0f1a",
      "value": 165843
     }
    },
    "3e13d9b36e0244c3aada616a1d7d4cd5": {
     "model_module": "@jupyter-widgets/controls",
     "model_module_version": "1.5.0",
     "model_name": "DescriptionStyleModel",
     "state": {
      "_model_module": "@jupyter-widgets/controls",
      "_model_module_version": "1.5.0",
      "_model_name": "DescriptionStyleModel",
      "_view_count": null,
      "_view_module": "@jupyter-widgets/base",
      "_view_module_version": "1.2.0",
      "_view_name": "StyleView",
      "description_width": ""
     }
    },
    "3f9fddd038f84f9e9b02ced4f1f6dd92": {
     "model_module": "@jupyter-widgets/controls",
     "model_module_version": "1.5.0",
     "model_name": "DescriptionStyleModel",
     "state": {
      "_model_module": "@jupyter-widgets/controls",
      "_model_module_version": "1.5.0",
      "_model_name": "DescriptionStyleModel",
      "_view_count": null,
      "_view_module": "@jupyter-widgets/base",
      "_view_module_version": "1.2.0",
      "_view_name": "StyleView",
      "description_width": ""
     }
    },
    "406af557de9c45d982e3b0dc545f860a": {
     "model_module": "@jupyter-widgets/base",
     "model_module_version": "1.2.0",
     "model_name": "LayoutModel",
     "state": {
      "_model_module": "@jupyter-widgets/base",
      "_model_module_version": "1.2.0",
      "_model_name": "LayoutModel",
      "_view_count": null,
      "_view_module": "@jupyter-widgets/base",
      "_view_module_version": "1.2.0",
      "_view_name": "LayoutView",
      "align_content": null,
      "align_items": null,
      "align_self": null,
      "border": null,
      "bottom": null,
      "display": null,
      "flex": null,
      "flex_flow": null,
      "grid_area": null,
      "grid_auto_columns": null,
      "grid_auto_flow": null,
      "grid_auto_rows": null,
      "grid_column": null,
      "grid_gap": null,
      "grid_row": null,
      "grid_template_areas": null,
      "grid_template_columns": null,
      "grid_template_rows": null,
      "height": null,
      "justify_content": null,
      "justify_items": null,
      "left": null,
      "margin": null,
      "max_height": null,
      "max_width": null,
      "min_height": null,
      "min_width": null,
      "object_fit": null,
      "object_position": null,
      "order": null,
      "overflow": null,
      "overflow_x": null,
      "overflow_y": null,
      "padding": null,
      "right": null,
      "top": null,
      "visibility": null,
      "width": null
     }
    },
    "43ac54e9540147e8ab371792c60d0fa9": {
     "model_module": "@jupyter-widgets/controls",
     "model_module_version": "1.5.0",
     "model_name": "FloatProgressModel",
     "state": {
      "_dom_classes": [],
      "_model_module": "@jupyter-widgets/controls",
      "_model_module_version": "1.5.0",
      "_model_name": "FloatProgressModel",
      "_view_count": null,
      "_view_module": "@jupyter-widgets/controls",
      "_view_module_version": "1.5.0",
      "_view_name": "ProgressView",
      "bar_style": "success",
      "description": "",
      "description_tooltip": null,
      "layout": "IPY_MODEL_a6188ae077884dd89fc34e131ffd9244",
      "max": 791656,
      "min": 0,
      "orientation": "horizontal",
      "style": "IPY_MODEL_b808f60f0aa24482a53889a4663d509a",
      "value": 791656
     }
    },
    "43d0bca6e1984533be86e8a3cf0ad22e": {
     "model_module": "@jupyter-widgets/controls",
     "model_module_version": "1.5.0",
     "model_name": "HTMLModel",
     "state": {
      "_dom_classes": [],
      "_model_module": "@jupyter-widgets/controls",
      "_model_module_version": "1.5.0",
      "_model_name": "HTMLModel",
      "_view_count": null,
      "_view_module": "@jupyter-widgets/controls",
      "_view_module_version": "1.5.0",
      "_view_name": "HTMLView",
      "description": "",
      "description_tooltip": null,
      "layout": "IPY_MODEL_00073899677d4a25865fa07f0bcd4509",
      "placeholder": "​",
      "style": "IPY_MODEL_3f9fddd038f84f9e9b02ced4f1f6dd92",
      "value": " 2/2 [00:00&lt;00:00, 50.58it/s]"
     }
    },
    "440e10e105cd425c8a079d05191126ca": {
     "model_module": "@jupyter-widgets/base",
     "model_module_version": "1.2.0",
     "model_name": "LayoutModel",
     "state": {
      "_model_module": "@jupyter-widgets/base",
      "_model_module_version": "1.2.0",
      "_model_name": "LayoutModel",
      "_view_count": null,
      "_view_module": "@jupyter-widgets/base",
      "_view_module_version": "1.2.0",
      "_view_name": "LayoutView",
      "align_content": null,
      "align_items": null,
      "align_self": null,
      "border": null,
      "bottom": null,
      "display": null,
      "flex": null,
      "flex_flow": null,
      "grid_area": null,
      "grid_auto_columns": null,
      "grid_auto_flow": null,
      "grid_auto_rows": null,
      "grid_column": null,
      "grid_gap": null,
      "grid_row": null,
      "grid_template_areas": null,
      "grid_template_columns": null,
      "grid_template_rows": null,
      "height": null,
      "justify_content": null,
      "justify_items": null,
      "left": null,
      "margin": null,
      "max_height": null,
      "max_width": null,
      "min_height": null,
      "min_width": null,
      "object_fit": null,
      "object_position": null,
      "order": null,
      "overflow": null,
      "overflow_x": null,
      "overflow_y": null,
      "padding": null,
      "right": null,
      "top": null,
      "visibility": null,
      "width": null
     }
    },
    "490223f6e75e41de936be695fdd3ac47": {
     "model_module": "@jupyter-widgets/base",
     "model_module_version": "1.2.0",
     "model_name": "LayoutModel",
     "state": {
      "_model_module": "@jupyter-widgets/base",
      "_model_module_version": "1.2.0",
      "_model_name": "LayoutModel",
      "_view_count": null,
      "_view_module": "@jupyter-widgets/base",
      "_view_module_version": "1.2.0",
      "_view_name": "LayoutView",
      "align_content": null,
      "align_items": null,
      "align_self": null,
      "border": null,
      "bottom": null,
      "display": null,
      "flex": null,
      "flex_flow": null,
      "grid_area": null,
      "grid_auto_columns": null,
      "grid_auto_flow": null,
      "grid_auto_rows": null,
      "grid_column": null,
      "grid_gap": null,
      "grid_row": null,
      "grid_template_areas": null,
      "grid_template_columns": null,
      "grid_template_rows": null,
      "height": null,
      "justify_content": null,
      "justify_items": null,
      "left": null,
      "margin": null,
      "max_height": null,
      "max_width": null,
      "min_height": null,
      "min_width": null,
      "object_fit": null,
      "object_position": null,
      "order": null,
      "overflow": null,
      "overflow_x": null,
      "overflow_y": null,
      "padding": null,
      "right": null,
      "top": null,
      "visibility": null,
      "width": null
     }
    },
    "4aab16b273974232aa674d522b77e817": {
     "model_module": "@jupyter-widgets/base",
     "model_module_version": "1.2.0",
     "model_name": "LayoutModel",
     "state": {
      "_model_module": "@jupyter-widgets/base",
      "_model_module_version": "1.2.0",
      "_model_name": "LayoutModel",
      "_view_count": null,
      "_view_module": "@jupyter-widgets/base",
      "_view_module_version": "1.2.0",
      "_view_name": "LayoutView",
      "align_content": null,
      "align_items": null,
      "align_self": null,
      "border": null,
      "bottom": null,
      "display": null,
      "flex": null,
      "flex_flow": null,
      "grid_area": null,
      "grid_auto_columns": null,
      "grid_auto_flow": null,
      "grid_auto_rows": null,
      "grid_column": null,
      "grid_gap": null,
      "grid_row": null,
      "grid_template_areas": null,
      "grid_template_columns": null,
      "grid_template_rows": null,
      "height": null,
      "justify_content": null,
      "justify_items": null,
      "left": null,
      "margin": null,
      "max_height": null,
      "max_width": null,
      "min_height": null,
      "min_width": null,
      "object_fit": null,
      "object_position": null,
      "order": null,
      "overflow": null,
      "overflow_x": null,
      "overflow_y": null,
      "padding": null,
      "right": null,
      "top": null,
      "visibility": null,
      "width": null
     }
    },
    "4b41540685db41c78e0319b8771b0d99": {
     "model_module": "@jupyter-widgets/base",
     "model_module_version": "1.2.0",
     "model_name": "LayoutModel",
     "state": {
      "_model_module": "@jupyter-widgets/base",
      "_model_module_version": "1.2.0",
      "_model_name": "LayoutModel",
      "_view_count": null,
      "_view_module": "@jupyter-widgets/base",
      "_view_module_version": "1.2.0",
      "_view_name": "LayoutView",
      "align_content": null,
      "align_items": null,
      "align_self": null,
      "border": null,
      "bottom": null,
      "display": null,
      "flex": null,
      "flex_flow": null,
      "grid_area": null,
      "grid_auto_columns": null,
      "grid_auto_flow": null,
      "grid_auto_rows": null,
      "grid_column": null,
      "grid_gap": null,
      "grid_row": null,
      "grid_template_areas": null,
      "grid_template_columns": null,
      "grid_template_rows": null,
      "height": null,
      "justify_content": null,
      "justify_items": null,
      "left": null,
      "margin": null,
      "max_height": null,
      "max_width": null,
      "min_height": null,
      "min_width": null,
      "object_fit": null,
      "object_position": null,
      "order": null,
      "overflow": null,
      "overflow_x": null,
      "overflow_y": null,
      "padding": null,
      "right": null,
      "top": null,
      "visibility": null,
      "width": null
     }
    },
    "4c90f28ef8484d5aa6ba1ef96e25265d": {
     "model_module": "@jupyter-widgets/base",
     "model_module_version": "1.2.0",
     "model_name": "LayoutModel",
     "state": {
      "_model_module": "@jupyter-widgets/base",
      "_model_module_version": "1.2.0",
      "_model_name": "LayoutModel",
      "_view_count": null,
      "_view_module": "@jupyter-widgets/base",
      "_view_module_version": "1.2.0",
      "_view_name": "LayoutView",
      "align_content": null,
      "align_items": null,
      "align_self": null,
      "border": null,
      "bottom": null,
      "display": null,
      "flex": null,
      "flex_flow": null,
      "grid_area": null,
      "grid_auto_columns": null,
      "grid_auto_flow": null,
      "grid_auto_rows": null,
      "grid_column": null,
      "grid_gap": null,
      "grid_row": null,
      "grid_template_areas": null,
      "grid_template_columns": null,
      "grid_template_rows": null,
      "height": null,
      "justify_content": null,
      "justify_items": null,
      "left": null,
      "margin": null,
      "max_height": null,
      "max_width": null,
      "min_height": null,
      "min_width": null,
      "object_fit": null,
      "object_position": null,
      "order": null,
      "overflow": null,
      "overflow_x": null,
      "overflow_y": null,
      "padding": null,
      "right": null,
      "top": null,
      "visibility": null,
      "width": null
     }
    },
    "4f6be19cea3d448ba52b54d1b70e6e31": {
     "model_module": "@jupyter-widgets/controls",
     "model_module_version": "1.5.0",
     "model_name": "DescriptionStyleModel",
     "state": {
      "_model_module": "@jupyter-widgets/controls",
      "_model_module_version": "1.5.0",
      "_model_name": "DescriptionStyleModel",
      "_view_count": null,
      "_view_module": "@jupyter-widgets/base",
      "_view_module_version": "1.2.0",
      "_view_name": "StyleView",
      "description_width": ""
     }
    },
    "50852fbff5d3425a848e1ff795f6dc6d": {
     "model_module": "@jupyter-widgets/controls",
     "model_module_version": "1.5.0",
     "model_name": "HBoxModel",
     "state": {
      "_dom_classes": [],
      "_model_module": "@jupyter-widgets/controls",
      "_model_module_version": "1.5.0",
      "_model_name": "HBoxModel",
      "_view_count": null,
      "_view_module": "@jupyter-widgets/controls",
      "_view_module_version": "1.5.0",
      "_view_name": "HBoxView",
      "box_style": "",
      "children": [
       "IPY_MODEL_88bd54e0759141c69b7abc8e22380a00",
       "IPY_MODEL_a26eae761f2740b18ac01b8940c03158",
       "IPY_MODEL_a5352ebb6d92498a942edd871bc89fcf"
      ],
      "layout": "IPY_MODEL_ed978ff06e894721a14ceb789675c6f0"
     }
    },
    "50a892bd8b1a43d3ae1ab53302142e20": {
     "model_module": "@jupyter-widgets/controls",
     "model_module_version": "1.5.0",
     "model_name": "DescriptionStyleModel",
     "state": {
      "_model_module": "@jupyter-widgets/controls",
      "_model_module_version": "1.5.0",
      "_model_name": "DescriptionStyleModel",
      "_view_count": null,
      "_view_module": "@jupyter-widgets/base",
      "_view_module_version": "1.2.0",
      "_view_name": "StyleView",
      "description_width": ""
     }
    },
    "52abacaa40f1414c90fb566cd6bb7c38": {
     "model_module": "@jupyter-widgets/base",
     "model_module_version": "1.2.0",
     "model_name": "LayoutModel",
     "state": {
      "_model_module": "@jupyter-widgets/base",
      "_model_module_version": "1.2.0",
      "_model_name": "LayoutModel",
      "_view_count": null,
      "_view_module": "@jupyter-widgets/base",
      "_view_module_version": "1.2.0",
      "_view_name": "LayoutView",
      "align_content": null,
      "align_items": null,
      "align_self": null,
      "border": null,
      "bottom": null,
      "display": null,
      "flex": null,
      "flex_flow": null,
      "grid_area": null,
      "grid_auto_columns": null,
      "grid_auto_flow": null,
      "grid_auto_rows": null,
      "grid_column": null,
      "grid_gap": null,
      "grid_row": null,
      "grid_template_areas": null,
      "grid_template_columns": null,
      "grid_template_rows": null,
      "height": null,
      "justify_content": null,
      "justify_items": null,
      "left": null,
      "margin": null,
      "max_height": null,
      "max_width": null,
      "min_height": null,
      "min_width": null,
      "object_fit": null,
      "object_position": null,
      "order": null,
      "overflow": null,
      "overflow_x": null,
      "overflow_y": null,
      "padding": null,
      "right": null,
      "top": null,
      "visibility": null,
      "width": null
     }
    },
    "53c54721b1ff46c98330a8a5ce257a73": {
     "model_module": "@jupyter-widgets/base",
     "model_module_version": "1.2.0",
     "model_name": "LayoutModel",
     "state": {
      "_model_module": "@jupyter-widgets/base",
      "_model_module_version": "1.2.0",
      "_model_name": "LayoutModel",
      "_view_count": null,
      "_view_module": "@jupyter-widgets/base",
      "_view_module_version": "1.2.0",
      "_view_name": "LayoutView",
      "align_content": null,
      "align_items": null,
      "align_self": null,
      "border": null,
      "bottom": null,
      "display": null,
      "flex": null,
      "flex_flow": null,
      "grid_area": null,
      "grid_auto_columns": null,
      "grid_auto_flow": null,
      "grid_auto_rows": null,
      "grid_column": null,
      "grid_gap": null,
      "grid_row": null,
      "grid_template_areas": null,
      "grid_template_columns": null,
      "grid_template_rows": null,
      "height": null,
      "justify_content": null,
      "justify_items": null,
      "left": null,
      "margin": null,
      "max_height": null,
      "max_width": null,
      "min_height": null,
      "min_width": null,
      "object_fit": null,
      "object_position": null,
      "order": null,
      "overflow": null,
      "overflow_x": null,
      "overflow_y": null,
      "padding": null,
      "right": null,
      "top": null,
      "visibility": null,
      "width": null
     }
    },
    "56f2a57d0eea4491980b281a55e5d04e": {
     "model_module": "@jupyter-widgets/controls",
     "model_module_version": "1.5.0",
     "model_name": "DescriptionStyleModel",
     "state": {
      "_model_module": "@jupyter-widgets/controls",
      "_model_module_version": "1.5.0",
      "_model_name": "DescriptionStyleModel",
      "_view_count": null,
      "_view_module": "@jupyter-widgets/base",
      "_view_module_version": "1.2.0",
      "_view_name": "StyleView",
      "description_width": ""
     }
    },
    "57ca840acbfa42049bdd6fbbc8d52755": {
     "model_module": "@jupyter-widgets/base",
     "model_module_version": "1.2.0",
     "model_name": "LayoutModel",
     "state": {
      "_model_module": "@jupyter-widgets/base",
      "_model_module_version": "1.2.0",
      "_model_name": "LayoutModel",
      "_view_count": null,
      "_view_module": "@jupyter-widgets/base",
      "_view_module_version": "1.2.0",
      "_view_name": "LayoutView",
      "align_content": null,
      "align_items": null,
      "align_self": null,
      "border": null,
      "bottom": null,
      "display": null,
      "flex": null,
      "flex_flow": null,
      "grid_area": null,
      "grid_auto_columns": null,
      "grid_auto_flow": null,
      "grid_auto_rows": null,
      "grid_column": null,
      "grid_gap": null,
      "grid_row": null,
      "grid_template_areas": null,
      "grid_template_columns": null,
      "grid_template_rows": null,
      "height": null,
      "justify_content": null,
      "justify_items": null,
      "left": null,
      "margin": null,
      "max_height": null,
      "max_width": null,
      "min_height": null,
      "min_width": null,
      "object_fit": null,
      "object_position": null,
      "order": null,
      "overflow": null,
      "overflow_x": null,
      "overflow_y": null,
      "padding": null,
      "right": null,
      "top": null,
      "visibility": null,
      "width": null
     }
    },
    "581c674d6a594261b10a28e1409442b7": {
     "model_module": "@jupyter-widgets/controls",
     "model_module_version": "1.5.0",
     "model_name": "FloatProgressModel",
     "state": {
      "_dom_classes": [],
      "_model_module": "@jupyter-widgets/controls",
      "_model_module_version": "1.5.0",
      "_model_name": "FloatProgressModel",
      "_view_count": null,
      "_view_module": "@jupyter-widgets/controls",
      "_view_module_version": "1.5.0",
      "_view_name": "ProgressView",
      "bar_style": "success",
      "description": "",
      "description_tooltip": null,
      "layout": "IPY_MODEL_11dc804922a64e7aa5a0549c2988a231",
      "max": 2,
      "min": 0,
      "orientation": "horizontal",
      "style": "IPY_MODEL_b17a098269bf4becbed5c64b467a6b3f",
      "value": 2
     }
    },
    "585af7f9e38d497197a371d0ebb9840a": {
     "model_module": "@jupyter-widgets/base",
     "model_module_version": "1.2.0",
     "model_name": "LayoutModel",
     "state": {
      "_model_module": "@jupyter-widgets/base",
      "_model_module_version": "1.2.0",
      "_model_name": "LayoutModel",
      "_view_count": null,
      "_view_module": "@jupyter-widgets/base",
      "_view_module_version": "1.2.0",
      "_view_name": "LayoutView",
      "align_content": null,
      "align_items": null,
      "align_self": null,
      "border": null,
      "bottom": null,
      "display": null,
      "flex": null,
      "flex_flow": null,
      "grid_area": null,
      "grid_auto_columns": null,
      "grid_auto_flow": null,
      "grid_auto_rows": null,
      "grid_column": null,
      "grid_gap": null,
      "grid_row": null,
      "grid_template_areas": null,
      "grid_template_columns": null,
      "grid_template_rows": null,
      "height": null,
      "justify_content": null,
      "justify_items": null,
      "left": null,
      "margin": null,
      "max_height": null,
      "max_width": null,
      "min_height": null,
      "min_width": null,
      "object_fit": null,
      "object_position": null,
      "order": null,
      "overflow": null,
      "overflow_x": null,
      "overflow_y": null,
      "padding": null,
      "right": null,
      "top": null,
      "visibility": null,
      "width": null
     }
    },
    "58f6d174857f4824b3e16fb56d3e41f1": {
     "model_module": "@jupyter-widgets/base",
     "model_module_version": "1.2.0",
     "model_name": "LayoutModel",
     "state": {
      "_model_module": "@jupyter-widgets/base",
      "_model_module_version": "1.2.0",
      "_model_name": "LayoutModel",
      "_view_count": null,
      "_view_module": "@jupyter-widgets/base",
      "_view_module_version": "1.2.0",
      "_view_name": "LayoutView",
      "align_content": null,
      "align_items": null,
      "align_self": null,
      "border": null,
      "bottom": null,
      "display": null,
      "flex": null,
      "flex_flow": null,
      "grid_area": null,
      "grid_auto_columns": null,
      "grid_auto_flow": null,
      "grid_auto_rows": null,
      "grid_column": null,
      "grid_gap": null,
      "grid_row": null,
      "grid_template_areas": null,
      "grid_template_columns": null,
      "grid_template_rows": null,
      "height": null,
      "justify_content": null,
      "justify_items": null,
      "left": null,
      "margin": null,
      "max_height": null,
      "max_width": null,
      "min_height": null,
      "min_width": null,
      "object_fit": null,
      "object_position": null,
      "order": null,
      "overflow": null,
      "overflow_x": null,
      "overflow_y": null,
      "padding": null,
      "right": null,
      "top": null,
      "visibility": null,
      "width": null
     }
    },
    "594aa0ff107c4cbea850b046362df62b": {
     "model_module": "@jupyter-widgets/base",
     "model_module_version": "1.2.0",
     "model_name": "LayoutModel",
     "state": {
      "_model_module": "@jupyter-widgets/base",
      "_model_module_version": "1.2.0",
      "_model_name": "LayoutModel",
      "_view_count": null,
      "_view_module": "@jupyter-widgets/base",
      "_view_module_version": "1.2.0",
      "_view_name": "LayoutView",
      "align_content": null,
      "align_items": null,
      "align_self": null,
      "border": null,
      "bottom": null,
      "display": null,
      "flex": null,
      "flex_flow": null,
      "grid_area": null,
      "grid_auto_columns": null,
      "grid_auto_flow": null,
      "grid_auto_rows": null,
      "grid_column": null,
      "grid_gap": null,
      "grid_row": null,
      "grid_template_areas": null,
      "grid_template_columns": null,
      "grid_template_rows": null,
      "height": null,
      "justify_content": null,
      "justify_items": null,
      "left": null,
      "margin": null,
      "max_height": null,
      "max_width": null,
      "min_height": null,
      "min_width": null,
      "object_fit": null,
      "object_position": null,
      "order": null,
      "overflow": null,
      "overflow_x": null,
      "overflow_y": null,
      "padding": null,
      "right": null,
      "top": null,
      "visibility": null,
      "width": null
     }
    },
    "5b489f24b8bd4156b7d3dede7a3c8f8b": {
     "model_module": "@jupyter-widgets/controls",
     "model_module_version": "1.5.0",
     "model_name": "HBoxModel",
     "state": {
      "_dom_classes": [],
      "_model_module": "@jupyter-widgets/controls",
      "_model_module_version": "1.5.0",
      "_model_name": "HBoxModel",
      "_view_count": null,
      "_view_module": "@jupyter-widgets/controls",
      "_view_module_version": "1.5.0",
      "_view_name": "HBoxView",
      "box_style": "",
      "children": [
       "IPY_MODEL_ce5ae24c01794afa85b3d4895063a7be",
       "IPY_MODEL_2b6eb614650847bc89a1e1b866065864",
       "IPY_MODEL_8b3b5733fc2145e7b20e69c2555ba760"
      ],
      "layout": "IPY_MODEL_4b41540685db41c78e0319b8771b0d99"
     }
    },
    "5d09fedbd58d43f7b521fa2aa93987c0": {
     "model_module": "@jupyter-widgets/controls",
     "model_module_version": "1.5.0",
     "model_name": "HTMLModel",
     "state": {
      "_dom_classes": [],
      "_model_module": "@jupyter-widgets/controls",
      "_model_module_version": "1.5.0",
      "_model_name": "HTMLModel",
      "_view_count": null,
      "_view_module": "@jupyter-widgets/controls",
      "_view_module_version": "1.5.0",
      "_view_name": "HTMLView",
      "description": "",
      "description_tooltip": null,
      "layout": "IPY_MODEL_2e6903d1bef045dea5e8d7eb28eb7e28",
      "placeholder": "​",
      "style": "IPY_MODEL_1d506b75563a40d7bcc9e38a5b040cd6",
      "value": " 142/142 [00:00&lt;00:00, 7.93kB/s]"
     }
    },
    "5e8fff729296479c8ffea7ea67c9875b": {
     "model_module": "@jupyter-widgets/controls",
     "model_module_version": "1.5.0",
     "model_name": "HTMLModel",
     "state": {
      "_dom_classes": [],
      "_model_module": "@jupyter-widgets/controls",
      "_model_module_version": "1.5.0",
      "_model_name": "HTMLModel",
      "_view_count": null,
      "_view_module": "@jupyter-widgets/controls",
      "_view_module_version": "1.5.0",
      "_view_name": "HTMLView",
      "description": "",
      "description_tooltip": null,
      "layout": "IPY_MODEL_4c90f28ef8484d5aa6ba1ef96e25265d",
      "placeholder": "​",
      "style": "IPY_MODEL_9292febefa154b6598d4710639c9a05d",
      "value": "Generating test split: 100%"
     }
    },
    "61431c23d7b942da9004b74f78f9d4fe": {
     "model_module": "@jupyter-widgets/controls",
     "model_module_version": "1.5.0",
     "model_name": "ProgressStyleModel",
     "state": {
      "_model_module": "@jupyter-widgets/controls",
      "_model_module_version": "1.5.0",
      "_model_name": "ProgressStyleModel",
      "_view_count": null,
      "_view_module": "@jupyter-widgets/base",
      "_view_module_version": "1.2.0",
      "_view_name": "StyleView",
      "bar_color": null,
      "description_width": ""
     }
    },
    "6148e6f61e1944809ba740eea0d64899": {
     "model_module": "@jupyter-widgets/controls",
     "model_module_version": "1.5.0",
     "model_name": "FloatProgressModel",
     "state": {
      "_dom_classes": [],
      "_model_module": "@jupyter-widgets/controls",
      "_model_module_version": "1.5.0",
      "_model_name": "FloatProgressModel",
      "_view_count": null,
      "_view_module": "@jupyter-widgets/controls",
      "_view_module_version": "1.5.0",
      "_view_name": "ProgressView",
      "bar_style": "success",
      "description": "",
      "description_tooltip": null,
      "layout": "IPY_MODEL_953a60bf71a34cc6ab853977fd578834",
      "max": 142,
      "min": 0,
      "orientation": "horizontal",
      "style": "IPY_MODEL_f5a0fa4e05004f1c90ddadeefa4c0919",
      "value": 142
     }
    },
    "641048a7c9e64c65b8d71bda353199b6": {
     "model_module": "@jupyter-widgets/controls",
     "model_module_version": "1.5.0",
     "model_name": "FloatProgressModel",
     "state": {
      "_dom_classes": [],
      "_model_module": "@jupyter-widgets/controls",
      "_model_module_version": "1.5.0",
      "_model_name": "FloatProgressModel",
      "_view_count": null,
      "_view_module": "@jupyter-widgets/controls",
      "_view_module_version": "1.5.0",
      "_view_name": "ProgressView",
      "bar_style": "success",
      "description": "",
      "description_tooltip": null,
      "layout": "IPY_MODEL_82732efe91ed4db9b45d9be8d321adb9",
      "max": 35716,
      "min": 0,
      "orientation": "horizontal",
      "style": "IPY_MODEL_cabb11bc14604d308021214c2715cecd",
      "value": 35716
     }
    },
    "641b46dff6dc4b53b94db90023817c96": {
     "model_module": "@jupyter-widgets/controls",
     "model_module_version": "1.5.0",
     "model_name": "DescriptionStyleModel",
     "state": {
      "_model_module": "@jupyter-widgets/controls",
      "_model_module_version": "1.5.0",
      "_model_name": "DescriptionStyleModel",
      "_view_count": null,
      "_view_module": "@jupyter-widgets/base",
      "_view_module_version": "1.2.0",
      "_view_name": "StyleView",
      "description_width": ""
     }
    },
    "6455ca6d461d4e66839b6539246108ff": {
     "model_module": "@jupyter-widgets/base",
     "model_module_version": "1.2.0",
     "model_name": "LayoutModel",
     "state": {
      "_model_module": "@jupyter-widgets/base",
      "_model_module_version": "1.2.0",
      "_model_name": "LayoutModel",
      "_view_count": null,
      "_view_module": "@jupyter-widgets/base",
      "_view_module_version": "1.2.0",
      "_view_name": "LayoutView",
      "align_content": null,
      "align_items": null,
      "align_self": null,
      "border": null,
      "bottom": null,
      "display": null,
      "flex": null,
      "flex_flow": null,
      "grid_area": null,
      "grid_auto_columns": null,
      "grid_auto_flow": null,
      "grid_auto_rows": null,
      "grid_column": null,
      "grid_gap": null,
      "grid_row": null,
      "grid_template_areas": null,
      "grid_template_columns": null,
      "grid_template_rows": null,
      "height": null,
      "justify_content": null,
      "justify_items": null,
      "left": null,
      "margin": null,
      "max_height": null,
      "max_width": null,
      "min_height": null,
      "min_width": null,
      "object_fit": null,
      "object_position": null,
      "order": null,
      "overflow": null,
      "overflow_x": null,
      "overflow_y": null,
      "padding": null,
      "right": null,
      "top": null,
      "visibility": null,
      "width": null
     }
    },
    "659156721c794a5bbc5d447cf75c0425": {
     "model_module": "@jupyter-widgets/controls",
     "model_module_version": "1.5.0",
     "model_name": "HTMLModel",
     "state": {
      "_dom_classes": [],
      "_model_module": "@jupyter-widgets/controls",
      "_model_module_version": "1.5.0",
      "_model_name": "HTMLModel",
      "_view_count": null,
      "_view_module": "@jupyter-widgets/controls",
      "_view_module_version": "1.5.0",
      "_view_name": "HTMLView",
      "description": "",
      "description_tooltip": null,
      "layout": "IPY_MODEL_4aab16b273974232aa674d522b77e817",
      "placeholder": "​",
      "style": "IPY_MODEL_4f6be19cea3d448ba52b54d1b70e6e31",
      "value": " 792k/792k [00:00&lt;00:00, 9.97MB/s]"
     }
    },
    "674bcd5d674e438489a44cea7a3fb517": {
     "model_module": "@jupyter-widgets/base",
     "model_module_version": "1.2.0",
     "model_name": "LayoutModel",
     "state": {
      "_model_module": "@jupyter-widgets/base",
      "_model_module_version": "1.2.0",
      "_model_name": "LayoutModel",
      "_view_count": null,
      "_view_module": "@jupyter-widgets/base",
      "_view_module_version": "1.2.0",
      "_view_name": "LayoutView",
      "align_content": null,
      "align_items": null,
      "align_self": null,
      "border": null,
      "bottom": null,
      "display": null,
      "flex": null,
      "flex_flow": null,
      "grid_area": null,
      "grid_auto_columns": null,
      "grid_auto_flow": null,
      "grid_auto_rows": null,
      "grid_column": null,
      "grid_gap": null,
      "grid_row": null,
      "grid_template_areas": null,
      "grid_template_columns": null,
      "grid_template_rows": null,
      "height": null,
      "justify_content": null,
      "justify_items": null,
      "left": null,
      "margin": null,
      "max_height": null,
      "max_width": null,
      "min_height": null,
      "min_width": null,
      "object_fit": null,
      "object_position": null,
      "order": null,
      "overflow": null,
      "overflow_x": null,
      "overflow_y": null,
      "padding": null,
      "right": null,
      "top": null,
      "visibility": null,
      "width": null
     }
    },
    "682662d4c830421db331a32d5e929841": {
     "model_module": "@jupyter-widgets/controls",
     "model_module_version": "1.5.0",
     "model_name": "DescriptionStyleModel",
     "state": {
      "_model_module": "@jupyter-widgets/controls",
      "_model_module_version": "1.5.0",
      "_model_name": "DescriptionStyleModel",
      "_view_count": null,
      "_view_module": "@jupyter-widgets/base",
      "_view_module_version": "1.2.0",
      "_view_name": "StyleView",
      "description_width": ""
     }
    },
    "6a504b73c2484dd3a4c5cd44fccfbc79": {
     "model_module": "@jupyter-widgets/controls",
     "model_module_version": "1.5.0",
     "model_name": "HTMLModel",
     "state": {
      "_dom_classes": [],
      "_model_module": "@jupyter-widgets/controls",
      "_model_module_version": "1.5.0",
      "_model_name": "HTMLModel",
      "_view_count": null,
      "_view_module": "@jupyter-widgets/controls",
      "_view_module_version": "1.5.0",
      "_view_name": "HTMLView",
      "description": "",
      "description_tooltip": null,
      "layout": "IPY_MODEL_cfeeaafe40df48c9af01a27aebcbcf6a",
      "placeholder": "​",
      "style": "IPY_MODEL_e3c9bd4f17f3418d8f47cc3f0412bad1",
      "value": " 2.35k/2.35k [00:00&lt;00:00, 121kB/s]"
     }
    },
    "712d2fee6b9840c2aaeff315e376b03e": {
     "model_module": "@jupyter-widgets/controls",
     "model_module_version": "1.5.0",
     "model_name": "DescriptionStyleModel",
     "state": {
      "_model_module": "@jupyter-widgets/controls",
      "_model_module_version": "1.5.0",
      "_model_name": "DescriptionStyleModel",
      "_view_count": null,
      "_view_module": "@jupyter-widgets/base",
      "_view_module_version": "1.2.0",
      "_view_name": "StyleView",
      "description_width": ""
     }
    },
    "78704bca2f094dc2a4af6afe7184c3bd": {
     "model_module": "@jupyter-widgets/controls",
     "model_module_version": "1.5.0",
     "model_name": "DescriptionStyleModel",
     "state": {
      "_model_module": "@jupyter-widgets/controls",
      "_model_module_version": "1.5.0",
      "_model_name": "DescriptionStyleModel",
      "_view_count": null,
      "_view_module": "@jupyter-widgets/base",
      "_view_module_version": "1.2.0",
      "_view_name": "StyleView",
      "description_width": ""
     }
    },
    "7aa7054a209d4057abab6e9ba39fd441": {
     "model_module": "@jupyter-widgets/controls",
     "model_module_version": "1.5.0",
     "model_name": "DescriptionStyleModel",
     "state": {
      "_model_module": "@jupyter-widgets/controls",
      "_model_module_version": "1.5.0",
      "_model_name": "DescriptionStyleModel",
      "_view_count": null,
      "_view_module": "@jupyter-widgets/base",
      "_view_module_version": "1.2.0",
      "_view_name": "StyleView",
      "description_width": ""
     }
    },
    "7acbd56b38134b109d899d440bae747c": {
     "model_module": "@jupyter-widgets/controls",
     "model_module_version": "1.5.0",
     "model_name": "DescriptionStyleModel",
     "state": {
      "_model_module": "@jupyter-widgets/controls",
      "_model_module_version": "1.5.0",
      "_model_name": "DescriptionStyleModel",
      "_view_count": null,
      "_view_module": "@jupyter-widgets/base",
      "_view_module_version": "1.2.0",
      "_view_name": "StyleView",
      "description_width": ""
     }
    },
    "7d79a9a1c93d4a549211ca41d4d7dc6b": {
     "model_module": "@jupyter-widgets/controls",
     "model_module_version": "1.5.0",
     "model_name": "DescriptionStyleModel",
     "state": {
      "_model_module": "@jupyter-widgets/controls",
      "_model_module_version": "1.5.0",
      "_model_name": "DescriptionStyleModel",
      "_view_count": null,
      "_view_module": "@jupyter-widgets/base",
      "_view_module_version": "1.2.0",
      "_view_name": "StyleView",
      "description_width": ""
     }
    },
    "7e4347862aab4cdfafc9a045a01522c0": {
     "model_module": "@jupyter-widgets/controls",
     "model_module_version": "1.5.0",
     "model_name": "DescriptionStyleModel",
     "state": {
      "_model_module": "@jupyter-widgets/controls",
      "_model_module_version": "1.5.0",
      "_model_name": "DescriptionStyleModel",
      "_view_count": null,
      "_view_module": "@jupyter-widgets/base",
      "_view_module_version": "1.2.0",
      "_view_name": "StyleView",
      "description_width": ""
     }
    },
    "7f2ad0f8647f4a17be718bd9b30291c1": {
     "model_module": "@jupyter-widgets/controls",
     "model_module_version": "1.5.0",
     "model_name": "ProgressStyleModel",
     "state": {
      "_model_module": "@jupyter-widgets/controls",
      "_model_module_version": "1.5.0",
      "_model_name": "ProgressStyleModel",
      "_view_count": null,
      "_view_module": "@jupyter-widgets/base",
      "_view_module_version": "1.2.0",
      "_view_name": "StyleView",
      "bar_color": null,
      "description_width": ""
     }
    },
    "80d56e3f7400471785a06b562721668f": {
     "model_module": "@jupyter-widgets/controls",
     "model_module_version": "1.5.0",
     "model_name": "HBoxModel",
     "state": {
      "_dom_classes": [],
      "_model_module": "@jupyter-widgets/controls",
      "_model_module_version": "1.5.0",
      "_model_name": "HBoxModel",
      "_view_count": null,
      "_view_module": "@jupyter-widgets/controls",
      "_view_module_version": "1.5.0",
      "_view_name": "HBoxView",
      "box_style": "",
      "children": [
       "IPY_MODEL_80ef672351324237ad6ba9fa38543b51",
       "IPY_MODEL_b210f6994c484801b19a7ecceb6a20c8",
       "IPY_MODEL_1cd1f13eb5804d07ac6b15c85c3569bb"
      ],
      "layout": "IPY_MODEL_490223f6e75e41de936be695fdd3ac47"
     }
    },
    "80ef672351324237ad6ba9fa38543b51": {
     "model_module": "@jupyter-widgets/controls",
     "model_module_version": "1.5.0",
     "model_name": "HTMLModel",
     "state": {
      "_dom_classes": [],
      "_model_module": "@jupyter-widgets/controls",
      "_model_module_version": "1.5.0",
      "_model_name": "HTMLModel",
      "_view_count": null,
      "_view_module": "@jupyter-widgets/controls",
      "_view_module_version": "1.5.0",
      "_view_name": "HTMLView",
      "description": "",
      "description_tooltip": null,
      "layout": "IPY_MODEL_fc42f8fb88de472aae7dce509c3608d6",
      "placeholder": "​",
      "style": "IPY_MODEL_641b46dff6dc4b53b94db90023817c96",
      "value": "Downloading (…)cial_tokens_map.json: 100%"
     }
    },
    "822b42ffb70f45668e2e043a4911dcec": {
     "model_module": "@jupyter-widgets/controls",
     "model_module_version": "1.5.0",
     "model_name": "HTMLModel",
     "state": {
      "_dom_classes": [],
      "_model_module": "@jupyter-widgets/controls",
      "_model_module_version": "1.5.0",
      "_model_name": "HTMLModel",
      "_view_count": null,
      "_view_module": "@jupyter-widgets/controls",
      "_view_module_version": "1.5.0",
      "_view_name": "HTMLView",
      "description": "",
      "description_tooltip": null,
      "layout": "IPY_MODEL_20fb1bc55bc147c3a2c64505a7c076f9",
      "placeholder": "​",
      "style": "IPY_MODEL_7acbd56b38134b109d899d440bae747c",
      "value": " 192/192 [00:00&lt;00:00, 4540.36 examples/s]"
     }
    },
    "82732efe91ed4db9b45d9be8d321adb9": {
     "model_module": "@jupyter-widgets/base",
     "model_module_version": "1.2.0",
     "model_name": "LayoutModel",
     "state": {
      "_model_module": "@jupyter-widgets/base",
      "_model_module_version": "1.2.0",
      "_model_name": "LayoutModel",
      "_view_count": null,
      "_view_module": "@jupyter-widgets/base",
      "_view_module_version": "1.2.0",
      "_view_name": "LayoutView",
      "align_content": null,
      "align_items": null,
      "align_self": null,
      "border": null,
      "bottom": null,
      "display": null,
      "flex": null,
      "flex_flow": null,
      "grid_area": null,
      "grid_auto_columns": null,
      "grid_auto_flow": null,
      "grid_auto_rows": null,
      "grid_column": null,
      "grid_gap": null,
      "grid_row": null,
      "grid_template_areas": null,
      "grid_template_columns": null,
      "grid_template_rows": null,
      "height": null,
      "justify_content": null,
      "justify_items": null,
      "left": null,
      "margin": null,
      "max_height": null,
      "max_width": null,
      "min_height": null,
      "min_width": null,
      "object_fit": null,
      "object_position": null,
      "order": null,
      "overflow": null,
      "overflow_x": null,
      "overflow_y": null,
      "padding": null,
      "right": null,
      "top": null,
      "visibility": null,
      "width": null
     }
    },
    "8369c04fce2e4a1e8f7a704d7b46f83b": {
     "model_module": "@jupyter-widgets/controls",
     "model_module_version": "1.5.0",
     "model_name": "HTMLModel",
     "state": {
      "_dom_classes": [],
      "_model_module": "@jupyter-widgets/controls",
      "_model_module_version": "1.5.0",
      "_model_name": "HTMLModel",
      "_view_count": null,
      "_view_module": "@jupyter-widgets/controls",
      "_view_module_version": "1.5.0",
      "_view_name": "HTMLView",
      "description": "",
      "description_tooltip": null,
      "layout": "IPY_MODEL_1c9dbc37addf4078975f157507ca1fba",
      "placeholder": "​",
      "style": "IPY_MODEL_b9d8eef8bed740068e2d00bc26095048",
      "value": "Downloading (…)in/added_tokens.json: 100%"
     }
    },
    "8466d9be51304647a7f40b54e36d077d": {
     "model_module": "@jupyter-widgets/base",
     "model_module_version": "1.2.0",
     "model_name": "LayoutModel",
     "state": {
      "_model_module": "@jupyter-widgets/base",
      "_model_module_version": "1.2.0",
      "_model_name": "LayoutModel",
      "_view_count": null,
      "_view_module": "@jupyter-widgets/base",
      "_view_module_version": "1.2.0",
      "_view_name": "LayoutView",
      "align_content": null,
      "align_items": null,
      "align_self": null,
      "border": null,
      "bottom": null,
      "display": null,
      "flex": null,
      "flex_flow": null,
      "grid_area": null,
      "grid_auto_columns": null,
      "grid_auto_flow": null,
      "grid_auto_rows": null,
      "grid_column": null,
      "grid_gap": null,
      "grid_row": null,
      "grid_template_areas": null,
      "grid_template_columns": null,
      "grid_template_rows": null,
      "height": null,
      "justify_content": null,
      "justify_items": null,
      "left": null,
      "margin": null,
      "max_height": null,
      "max_width": null,
      "min_height": null,
      "min_width": null,
      "object_fit": null,
      "object_position": null,
      "order": null,
      "overflow": null,
      "overflow_x": null,
      "overflow_y": null,
      "padding": null,
      "right": null,
      "top": null,
      "visibility": null,
      "width": null
     }
    },
    "8520b656c8084744bf01ef4a6582961b": {
     "model_module": "@jupyter-widgets/controls",
     "model_module_version": "1.5.0",
     "model_name": "HTMLModel",
     "state": {
      "_dom_classes": [],
      "_model_module": "@jupyter-widgets/controls",
      "_model_module_version": "1.5.0",
      "_model_name": "HTMLModel",
      "_view_count": null,
      "_view_module": "@jupyter-widgets/controls",
      "_view_module_version": "1.5.0",
      "_view_name": "HTMLView",
      "description": "",
      "description_tooltip": null,
      "layout": "IPY_MODEL_dbff0b490cd94510baecb5a3a603d072",
      "placeholder": "​",
      "style": "IPY_MODEL_682662d4c830421db331a32d5e929841",
      "value": " 1723/1723 [00:00&lt;00:00, 27788.70 examples/s]"
     }
    },
    "88bd54e0759141c69b7abc8e22380a00": {
     "model_module": "@jupyter-widgets/controls",
     "model_module_version": "1.5.0",
     "model_name": "HTMLModel",
     "state": {
      "_dom_classes": [],
      "_model_module": "@jupyter-widgets/controls",
      "_model_module_version": "1.5.0",
      "_model_name": "HTMLModel",
      "_view_count": null,
      "_view_module": "@jupyter-widgets/controls",
      "_view_module_version": "1.5.0",
      "_view_name": "HTMLView",
      "description": "",
      "description_tooltip": null,
      "layout": "IPY_MODEL_bbcbd8187ae14de5a7166008b9a049c1",
      "placeholder": "​",
      "style": "IPY_MODEL_3e13d9b36e0244c3aada616a1d7d4cd5",
      "value": "Downloading data files: 100%"
     }
    },
    "895842fb0b5a47eb8dee2f6a805f97c6": {
     "model_module": "@jupyter-widgets/controls",
     "model_module_version": "1.5.0",
     "model_name": "DescriptionStyleModel",
     "state": {
      "_model_module": "@jupyter-widgets/controls",
      "_model_module_version": "1.5.0",
      "_model_name": "DescriptionStyleModel",
      "_view_count": null,
      "_view_module": "@jupyter-widgets/base",
      "_view_module_version": "1.2.0",
      "_view_name": "StyleView",
      "description_width": ""
     }
    },
    "8a017a50eff2470986a7b2bfb950065a": {
     "model_module": "@jupyter-widgets/controls",
     "model_module_version": "1.5.0",
     "model_name": "HBoxModel",
     "state": {
      "_dom_classes": [],
      "_model_module": "@jupyter-widgets/controls",
      "_model_module_version": "1.5.0",
      "_model_name": "HBoxModel",
      "_view_count": null,
      "_view_module": "@jupyter-widgets/controls",
      "_view_module_version": "1.5.0",
      "_view_name": "HBoxView",
      "box_style": "",
      "children": [
       "IPY_MODEL_2e6f9bea248040239b4aecf0155f3b20",
       "IPY_MODEL_6148e6f61e1944809ba740eea0d64899",
       "IPY_MODEL_5d09fedbd58d43f7b521fa2aa93987c0"
      ],
      "layout": "IPY_MODEL_39db8c459c8c4dc389ab6f5834fe5bb5"
     }
    },
    "8a1dd77358594cd2bb54daee4ca69c53": {
     "model_module": "@jupyter-widgets/controls",
     "model_module_version": "1.5.0",
     "model_name": "DescriptionStyleModel",
     "state": {
      "_model_module": "@jupyter-widgets/controls",
      "_model_module_version": "1.5.0",
      "_model_name": "DescriptionStyleModel",
      "_view_count": null,
      "_view_module": "@jupyter-widgets/base",
      "_view_module_version": "1.2.0",
      "_view_name": "StyleView",
      "description_width": ""
     }
    },
    "8b3b5733fc2145e7b20e69c2555ba760": {
     "model_module": "@jupyter-widgets/controls",
     "model_module_version": "1.5.0",
     "model_name": "HTMLModel",
     "state": {
      "_dom_classes": [],
      "_model_module": "@jupyter-widgets/controls",
      "_model_module_version": "1.5.0",
      "_model_name": "HTMLModel",
      "_view_count": null,
      "_view_module": "@jupyter-widgets/controls",
      "_view_module_version": "1.5.0",
      "_view_name": "HTMLView",
      "description": "",
      "description_tooltip": null,
      "layout": "IPY_MODEL_440e10e105cd425c8a079d05191126ca",
      "placeholder": "​",
      "style": "IPY_MODEL_7e4347862aab4cdfafc9a045a01522c0",
      "value": " 990M/990M [00:28&lt;00:00, 29.8MB/s]"
     }
    },
    "8bf34382a31e4ded935deae1389f35c6": {
     "model_module": "@jupyter-widgets/controls",
     "model_module_version": "1.5.0",
     "model_name": "HBoxModel",
     "state": {
      "_dom_classes": [],
      "_model_module": "@jupyter-widgets/controls",
      "_model_module_version": "1.5.0",
      "_model_name": "HBoxModel",
      "_view_count": null,
      "_view_module": "@jupyter-widgets/controls",
      "_view_module_version": "1.5.0",
      "_view_name": "HBoxView",
      "box_style": "",
      "children": [
       "IPY_MODEL_ed14c311d9f845329e8544633a35667e",
       "IPY_MODEL_96f76c42eed64caa9461299293183a70",
       "IPY_MODEL_d60dc630bc934c59946604028fab07db"
      ],
      "layout": "IPY_MODEL_a3077cb4f53a4ae49dbd682109bebddb"
     }
    },
    "8c4b2cdf56f145caa090eeb780d8984d": {
     "model_module": "@jupyter-widgets/controls",
     "model_module_version": "1.5.0",
     "model_name": "HBoxModel",
     "state": {
      "_dom_classes": [],
      "_model_module": "@jupyter-widgets/controls",
      "_model_module_version": "1.5.0",
      "_model_name": "HBoxModel",
      "_view_count": null,
      "_view_module": "@jupyter-widgets/controls",
      "_view_module_version": "1.5.0",
      "_view_name": "HBoxView",
      "box_style": "",
      "children": [
       "IPY_MODEL_8369c04fce2e4a1e8f7a704d7b46f83b",
       "IPY_MODEL_ae6f86c35afa45cab4cb2acecc0995da",
       "IPY_MODEL_33c93f5a50c049969eaa2d83cf330453"
      ],
      "layout": "IPY_MODEL_fa5703c615e74447a545c4e99974e86e"
     }
    },
    "917846a88d32494e8de2be2469649615": {
     "model_module": "@jupyter-widgets/controls",
     "model_module_version": "1.5.0",
     "model_name": "HTMLModel",
     "state": {
      "_dom_classes": [],
      "_model_module": "@jupyter-widgets/controls",
      "_model_module_version": "1.5.0",
      "_model_name": "HTMLModel",
      "_view_count": null,
      "_view_module": "@jupyter-widgets/controls",
      "_view_module_version": "1.5.0",
      "_view_name": "HTMLView",
      "description": "",
      "description_tooltip": null,
      "layout": "IPY_MODEL_aff76ab884e949fe9a3b1f9653897b43",
      "placeholder": "​",
      "style": "IPY_MODEL_ea55653ec8864e6c8f218e68d90a4df6",
      "value": "Downloading readme: 100%"
     }
    },
    "9292febefa154b6598d4710639c9a05d": {
     "model_module": "@jupyter-widgets/controls",
     "model_module_version": "1.5.0",
     "model_name": "DescriptionStyleModel",
     "state": {
      "_model_module": "@jupyter-widgets/controls",
      "_model_module_version": "1.5.0",
      "_model_name": "DescriptionStyleModel",
      "_view_count": null,
      "_view_module": "@jupyter-widgets/base",
      "_view_module_version": "1.2.0",
      "_view_name": "StyleView",
      "description_width": ""
     }
    },
    "93c7ca5af7034e49a15d4ce2ecdb366c": {
     "model_module": "@jupyter-widgets/controls",
     "model_module_version": "1.5.0",
     "model_name": "ProgressStyleModel",
     "state": {
      "_model_module": "@jupyter-widgets/controls",
      "_model_module_version": "1.5.0",
      "_model_name": "ProgressStyleModel",
      "_view_count": null,
      "_view_module": "@jupyter-widgets/base",
      "_view_module_version": "1.2.0",
      "_view_name": "StyleView",
      "bar_color": null,
      "description_width": ""
     }
    },
    "953a60bf71a34cc6ab853977fd578834": {
     "model_module": "@jupyter-widgets/base",
     "model_module_version": "1.2.0",
     "model_name": "LayoutModel",
     "state": {
      "_model_module": "@jupyter-widgets/base",
      "_model_module_version": "1.2.0",
      "_model_name": "LayoutModel",
      "_view_count": null,
      "_view_module": "@jupyter-widgets/base",
      "_view_module_version": "1.2.0",
      "_view_name": "LayoutView",
      "align_content": null,
      "align_items": null,
      "align_self": null,
      "border": null,
      "bottom": null,
      "display": null,
      "flex": null,
      "flex_flow": null,
      "grid_area": null,
      "grid_auto_columns": null,
      "grid_auto_flow": null,
      "grid_auto_rows": null,
      "grid_column": null,
      "grid_gap": null,
      "grid_row": null,
      "grid_template_areas": null,
      "grid_template_columns": null,
      "grid_template_rows": null,
      "height": null,
      "justify_content": null,
      "justify_items": null,
      "left": null,
      "margin": null,
      "max_height": null,
      "max_width": null,
      "min_height": null,
      "min_width": null,
      "object_fit": null,
      "object_position": null,
      "order": null,
      "overflow": null,
      "overflow_x": null,
      "overflow_y": null,
      "padding": null,
      "right": null,
      "top": null,
      "visibility": null,
      "width": null
     }
    },
    "95edc8bbbac44d7a8b174cda2002bec5": {
     "model_module": "@jupyter-widgets/controls",
     "model_module_version": "1.5.0",
     "model_name": "HBoxModel",
     "state": {
      "_dom_classes": [],
      "_model_module": "@jupyter-widgets/controls",
      "_model_module_version": "1.5.0",
      "_model_name": "HBoxModel",
      "_view_count": null,
      "_view_module": "@jupyter-widgets/controls",
      "_view_module_version": "1.5.0",
      "_view_name": "HBoxView",
      "box_style": "",
      "children": [
       "IPY_MODEL_e5848efa411b4833855a4edbdc2ea0cd",
       "IPY_MODEL_43ac54e9540147e8ab371792c60d0fa9",
       "IPY_MODEL_659156721c794a5bbc5d447cf75c0425"
      ],
      "layout": "IPY_MODEL_f688fee526634e5a8f3feb986284b387"
     }
    },
    "95ff9fda0ec44d18a2fbc4cade898bda": {
     "model_module": "@jupyter-widgets/base",
     "model_module_version": "1.2.0",
     "model_name": "LayoutModel",
     "state": {
      "_model_module": "@jupyter-widgets/base",
      "_model_module_version": "1.2.0",
      "_model_name": "LayoutModel",
      "_view_count": null,
      "_view_module": "@jupyter-widgets/base",
      "_view_module_version": "1.2.0",
      "_view_name": "LayoutView",
      "align_content": null,
      "align_items": null,
      "align_self": null,
      "border": null,
      "bottom": null,
      "display": null,
      "flex": null,
      "flex_flow": null,
      "grid_area": null,
      "grid_auto_columns": null,
      "grid_auto_flow": null,
      "grid_auto_rows": null,
      "grid_column": null,
      "grid_gap": null,
      "grid_row": null,
      "grid_template_areas": null,
      "grid_template_columns": null,
      "grid_template_rows": null,
      "height": null,
      "justify_content": null,
      "justify_items": null,
      "left": null,
      "margin": null,
      "max_height": null,
      "max_width": null,
      "min_height": null,
      "min_width": null,
      "object_fit": null,
      "object_position": null,
      "order": null,
      "overflow": null,
      "overflow_x": null,
      "overflow_y": null,
      "padding": null,
      "right": null,
      "top": null,
      "visibility": null,
      "width": null
     }
    },
    "96f76c42eed64caa9461299293183a70": {
     "model_module": "@jupyter-widgets/controls",
     "model_module_version": "1.5.0",
     "model_name": "FloatProgressModel",
     "state": {
      "_dom_classes": [],
      "_model_module": "@jupyter-widgets/controls",
      "_model_module_version": "1.5.0",
      "_model_name": "FloatProgressModel",
      "_view_count": null,
      "_view_module": "@jupyter-widgets/controls",
      "_view_module_version": "1.5.0",
      "_view_name": "ProgressView",
      "bar_style": "success",
      "description": "",
      "description_tooltip": null,
      "layout": "IPY_MODEL_6455ca6d461d4e66839b6539246108ff",
      "max": 2422979,
      "min": 0,
      "orientation": "horizontal",
      "style": "IPY_MODEL_61431c23d7b942da9004b74f78f9d4fe",
      "value": 2422979
     }
    },
    "97680d33688c4bcc8829d02fce7de9e4": {
     "model_module": "@jupyter-widgets/base",
     "model_module_version": "1.2.0",
     "model_name": "LayoutModel",
     "state": {
      "_model_module": "@jupyter-widgets/base",
      "_model_module_version": "1.2.0",
      "_model_name": "LayoutModel",
      "_view_count": null,
      "_view_module": "@jupyter-widgets/base",
      "_view_module_version": "1.2.0",
      "_view_name": "LayoutView",
      "align_content": null,
      "align_items": null,
      "align_self": null,
      "border": null,
      "bottom": null,
      "display": null,
      "flex": null,
      "flex_flow": null,
      "grid_area": null,
      "grid_auto_columns": null,
      "grid_auto_flow": null,
      "grid_auto_rows": null,
      "grid_column": null,
      "grid_gap": null,
      "grid_row": null,
      "grid_template_areas": null,
      "grid_template_columns": null,
      "grid_template_rows": null,
      "height": null,
      "justify_content": null,
      "justify_items": null,
      "left": null,
      "margin": null,
      "max_height": null,
      "max_width": null,
      "min_height": null,
      "min_width": null,
      "object_fit": null,
      "object_position": null,
      "order": null,
      "overflow": null,
      "overflow_x": null,
      "overflow_y": null,
      "padding": null,
      "right": null,
      "top": null,
      "visibility": null,
      "width": null
     }
    },
    "9863a1dcda5f43d69125b76ce80d6ce9": {
     "model_module": "@jupyter-widgets/base",
     "model_module_version": "1.2.0",
     "model_name": "LayoutModel",
     "state": {
      "_model_module": "@jupyter-widgets/base",
      "_model_module_version": "1.2.0",
      "_model_name": "LayoutModel",
      "_view_count": null,
      "_view_module": "@jupyter-widgets/base",
      "_view_module_version": "1.2.0",
      "_view_name": "LayoutView",
      "align_content": null,
      "align_items": null,
      "align_self": null,
      "border": null,
      "bottom": null,
      "display": null,
      "flex": null,
      "flex_flow": null,
      "grid_area": null,
      "grid_auto_columns": null,
      "grid_auto_flow": null,
      "grid_auto_rows": null,
      "grid_column": null,
      "grid_gap": null,
      "grid_row": null,
      "grid_template_areas": null,
      "grid_template_columns": null,
      "grid_template_rows": null,
      "height": null,
      "justify_content": null,
      "justify_items": null,
      "left": null,
      "margin": null,
      "max_height": null,
      "max_width": null,
      "min_height": null,
      "min_width": null,
      "object_fit": null,
      "object_position": null,
      "order": null,
      "overflow": null,
      "overflow_x": null,
      "overflow_y": null,
      "padding": null,
      "right": null,
      "top": null,
      "visibility": null,
      "width": null
     }
    },
    "9866eb15aab14f9c952794dbf819e01f": {
     "model_module": "@jupyter-widgets/base",
     "model_module_version": "1.2.0",
     "model_name": "LayoutModel",
     "state": {
      "_model_module": "@jupyter-widgets/base",
      "_model_module_version": "1.2.0",
      "_model_name": "LayoutModel",
      "_view_count": null,
      "_view_module": "@jupyter-widgets/base",
      "_view_module_version": "1.2.0",
      "_view_name": "LayoutView",
      "align_content": null,
      "align_items": null,
      "align_self": null,
      "border": null,
      "bottom": null,
      "display": null,
      "flex": null,
      "flex_flow": null,
      "grid_area": null,
      "grid_auto_columns": null,
      "grid_auto_flow": null,
      "grid_auto_rows": null,
      "grid_column": null,
      "grid_gap": null,
      "grid_row": null,
      "grid_template_areas": null,
      "grid_template_columns": null,
      "grid_template_rows": null,
      "height": null,
      "justify_content": null,
      "justify_items": null,
      "left": null,
      "margin": null,
      "max_height": null,
      "max_width": null,
      "min_height": null,
      "min_width": null,
      "object_fit": null,
      "object_position": null,
      "order": null,
      "overflow": null,
      "overflow_x": null,
      "overflow_y": null,
      "padding": null,
      "right": null,
      "top": null,
      "visibility": null,
      "width": null
     }
    },
    "99d2dfeca5414409b210e7433baca529": {
     "model_module": "@jupyter-widgets/base",
     "model_module_version": "1.2.0",
     "model_name": "LayoutModel",
     "state": {
      "_model_module": "@jupyter-widgets/base",
      "_model_module_version": "1.2.0",
      "_model_name": "LayoutModel",
      "_view_count": null,
      "_view_module": "@jupyter-widgets/base",
      "_view_module_version": "1.2.0",
      "_view_name": "LayoutView",
      "align_content": null,
      "align_items": null,
      "align_self": null,
      "border": null,
      "bottom": null,
      "display": null,
      "flex": null,
      "flex_flow": null,
      "grid_area": null,
      "grid_auto_columns": null,
      "grid_auto_flow": null,
      "grid_auto_rows": null,
      "grid_column": null,
      "grid_gap": null,
      "grid_row": null,
      "grid_template_areas": null,
      "grid_template_columns": null,
      "grid_template_rows": null,
      "height": null,
      "justify_content": null,
      "justify_items": null,
      "left": null,
      "margin": null,
      "max_height": null,
      "max_width": null,
      "min_height": null,
      "min_width": null,
      "object_fit": null,
      "object_position": null,
      "order": null,
      "overflow": null,
      "overflow_x": null,
      "overflow_y": null,
      "padding": null,
      "right": null,
      "top": null,
      "visibility": null,
      "width": null
     }
    },
    "9dc3fc232f684e449991e162a971d288": {
     "model_module": "@jupyter-widgets/base",
     "model_module_version": "1.2.0",
     "model_name": "LayoutModel",
     "state": {
      "_model_module": "@jupyter-widgets/base",
      "_model_module_version": "1.2.0",
      "_model_name": "LayoutModel",
      "_view_count": null,
      "_view_module": "@jupyter-widgets/base",
      "_view_module_version": "1.2.0",
      "_view_name": "LayoutView",
      "align_content": null,
      "align_items": null,
      "align_self": null,
      "border": null,
      "bottom": null,
      "display": null,
      "flex": null,
      "flex_flow": null,
      "grid_area": null,
      "grid_auto_columns": null,
      "grid_auto_flow": null,
      "grid_auto_rows": null,
      "grid_column": null,
      "grid_gap": null,
      "grid_row": null,
      "grid_template_areas": null,
      "grid_template_columns": null,
      "grid_template_rows": null,
      "height": null,
      "justify_content": null,
      "justify_items": null,
      "left": null,
      "margin": null,
      "max_height": null,
      "max_width": null,
      "min_height": null,
      "min_width": null,
      "object_fit": null,
      "object_position": null,
      "order": null,
      "overflow": null,
      "overflow_x": null,
      "overflow_y": null,
      "padding": null,
      "right": null,
      "top": null,
      "visibility": null,
      "width": null
     }
    },
    "a26eae761f2740b18ac01b8940c03158": {
     "model_module": "@jupyter-widgets/controls",
     "model_module_version": "1.5.0",
     "model_name": "FloatProgressModel",
     "state": {
      "_dom_classes": [],
      "_model_module": "@jupyter-widgets/controls",
      "_model_module_version": "1.5.0",
      "_model_name": "FloatProgressModel",
      "_view_count": null,
      "_view_module": "@jupyter-widgets/controls",
      "_view_module_version": "1.5.0",
      "_view_name": "ProgressView",
      "bar_style": "success",
      "description": "",
      "description_tooltip": null,
      "layout": "IPY_MODEL_3837cb52768e40e18110504628b85d7c",
      "max": 2,
      "min": 0,
      "orientation": "horizontal",
      "style": "IPY_MODEL_bbfe563d903742cfbbe4610802726d31",
      "value": 2
     }
    },
    "a3077cb4f53a4ae49dbd682109bebddb": {
     "model_module": "@jupyter-widgets/base",
     "model_module_version": "1.2.0",
     "model_name": "LayoutModel",
     "state": {
      "_model_module": "@jupyter-widgets/base",
      "_model_module_version": "1.2.0",
      "_model_name": "LayoutModel",
      "_view_count": null,
      "_view_module": "@jupyter-widgets/base",
      "_view_module_version": "1.2.0",
      "_view_name": "LayoutView",
      "align_content": null,
      "align_items": null,
      "align_self": null,
      "border": null,
      "bottom": null,
      "display": null,
      "flex": null,
      "flex_flow": null,
      "grid_area": null,
      "grid_auto_columns": null,
      "grid_auto_flow": null,
      "grid_auto_rows": null,
      "grid_column": null,
      "grid_gap": null,
      "grid_row": null,
      "grid_template_areas": null,
      "grid_template_columns": null,
      "grid_template_rows": null,
      "height": null,
      "justify_content": null,
      "justify_items": null,
      "left": null,
      "margin": null,
      "max_height": null,
      "max_width": null,
      "min_height": null,
      "min_width": null,
      "object_fit": null,
      "object_position": null,
      "order": null,
      "overflow": null,
      "overflow_x": null,
      "overflow_y": null,
      "padding": null,
      "right": null,
      "top": null,
      "visibility": null,
      "width": null
     }
    },
    "a4b1eb31e71544968702af008ff57e92": {
     "model_module": "@jupyter-widgets/controls",
     "model_module_version": "1.5.0",
     "model_name": "ProgressStyleModel",
     "state": {
      "_model_module": "@jupyter-widgets/controls",
      "_model_module_version": "1.5.0",
      "_model_name": "ProgressStyleModel",
      "_view_count": null,
      "_view_module": "@jupyter-widgets/base",
      "_view_module_version": "1.2.0",
      "_view_name": "StyleView",
      "bar_color": null,
      "description_width": ""
     }
    },
    "a5352ebb6d92498a942edd871bc89fcf": {
     "model_module": "@jupyter-widgets/controls",
     "model_module_version": "1.5.0",
     "model_name": "HTMLModel",
     "state": {
      "_dom_classes": [],
      "_model_module": "@jupyter-widgets/controls",
      "_model_module_version": "1.5.0",
      "_model_name": "HTMLModel",
      "_view_count": null,
      "_view_module": "@jupyter-widgets/controls",
      "_view_module_version": "1.5.0",
      "_view_name": "HTMLView",
      "description": "",
      "description_tooltip": null,
      "layout": "IPY_MODEL_f484bd240c2140eaae7af9ba090e1d2d",
      "placeholder": "​",
      "style": "IPY_MODEL_712d2fee6b9840c2aaeff315e376b03e",
      "value": " 2/2 [00:00&lt;00:00,  9.34it/s]"
     }
    },
    "a6188ae077884dd89fc34e131ffd9244": {
     "model_module": "@jupyter-widgets/base",
     "model_module_version": "1.2.0",
     "model_name": "LayoutModel",
     "state": {
      "_model_module": "@jupyter-widgets/base",
      "_model_module_version": "1.2.0",
      "_model_name": "LayoutModel",
      "_view_count": null,
      "_view_module": "@jupyter-widgets/base",
      "_view_module_version": "1.2.0",
      "_view_name": "LayoutView",
      "align_content": null,
      "align_items": null,
      "align_self": null,
      "border": null,
      "bottom": null,
      "display": null,
      "flex": null,
      "flex_flow": null,
      "grid_area": null,
      "grid_auto_columns": null,
      "grid_auto_flow": null,
      "grid_auto_rows": null,
      "grid_column": null,
      "grid_gap": null,
      "grid_row": null,
      "grid_template_areas": null,
      "grid_template_columns": null,
      "grid_template_rows": null,
      "height": null,
      "justify_content": null,
      "justify_items": null,
      "left": null,
      "margin": null,
      "max_height": null,
      "max_width": null,
      "min_height": null,
      "min_width": null,
      "object_fit": null,
      "object_position": null,
      "order": null,
      "overflow": null,
      "overflow_x": null,
      "overflow_y": null,
      "padding": null,
      "right": null,
      "top": null,
      "visibility": null,
      "width": null
     }
    },
    "a6534313cb6647b1b743e9204deb43dd": {
     "model_module": "@jupyter-widgets/base",
     "model_module_version": "1.2.0",
     "model_name": "LayoutModel",
     "state": {
      "_model_module": "@jupyter-widgets/base",
      "_model_module_version": "1.2.0",
      "_model_name": "LayoutModel",
      "_view_count": null,
      "_view_module": "@jupyter-widgets/base",
      "_view_module_version": "1.2.0",
      "_view_name": "LayoutView",
      "align_content": null,
      "align_items": null,
      "align_self": null,
      "border": null,
      "bottom": null,
      "display": null,
      "flex": null,
      "flex_flow": null,
      "grid_area": null,
      "grid_auto_columns": null,
      "grid_auto_flow": null,
      "grid_auto_rows": null,
      "grid_column": null,
      "grid_gap": null,
      "grid_row": null,
      "grid_template_areas": null,
      "grid_template_columns": null,
      "grid_template_rows": null,
      "height": null,
      "justify_content": null,
      "justify_items": null,
      "left": null,
      "margin": null,
      "max_height": null,
      "max_width": null,
      "min_height": null,
      "min_width": null,
      "object_fit": null,
      "object_position": null,
      "order": null,
      "overflow": null,
      "overflow_x": null,
      "overflow_y": null,
      "padding": null,
      "right": null,
      "top": null,
      "visibility": null,
      "width": null
     }
    },
    "a750598bb6864fb481a08018c411f6d1": {
     "model_module": "@jupyter-widgets/controls",
     "model_module_version": "1.5.0",
     "model_name": "ProgressStyleModel",
     "state": {
      "_model_module": "@jupyter-widgets/controls",
      "_model_module_version": "1.5.0",
      "_model_name": "ProgressStyleModel",
      "_view_count": null,
      "_view_module": "@jupyter-widgets/base",
      "_view_module_version": "1.2.0",
      "_view_name": "StyleView",
      "bar_color": null,
      "description_width": ""
     }
    },
    "a9683e675e9b47599a68065aa9da3e50": {
     "model_module": "@jupyter-widgets/controls",
     "model_module_version": "1.5.0",
     "model_name": "HBoxModel",
     "state": {
      "_dom_classes": [],
      "_model_module": "@jupyter-widgets/controls",
      "_model_module_version": "1.5.0",
      "_model_name": "HBoxModel",
      "_view_count": null,
      "_view_module": "@jupyter-widgets/controls",
      "_view_module_version": "1.5.0",
      "_view_name": "HBoxView",
      "box_style": "",
      "children": [
       "IPY_MODEL_5e8fff729296479c8ffea7ea67c9875b",
       "IPY_MODEL_268e257aba9a405da9017970e7d4026d",
       "IPY_MODEL_822b42ffb70f45668e2e043a4911dcec"
      ],
      "layout": "IPY_MODEL_9866eb15aab14f9c952794dbf819e01f"
     }
    },
    "abca497869374c559309c3a18ac857e5": {
     "model_module": "@jupyter-widgets/controls",
     "model_module_version": "1.5.0",
     "model_name": "HTMLModel",
     "state": {
      "_dom_classes": [],
      "_model_module": "@jupyter-widgets/controls",
      "_model_module_version": "1.5.0",
      "_model_name": "HTMLModel",
      "_view_count": null,
      "_view_module": "@jupyter-widgets/controls",
      "_view_module_version": "1.5.0",
      "_view_name": "HTMLView",
      "description": "",
      "description_tooltip": null,
      "layout": "IPY_MODEL_fbc115982c0943a1924b98a13f51f340",
      "placeholder": "​",
      "style": "IPY_MODEL_ffda1fb6bdaa4aff97b6188cd5d23e5d",
      "value": "Downloading (…)lve/main/config.json: 100%"
     }
    },
    "ae6f86c35afa45cab4cb2acecc0995da": {
     "model_module": "@jupyter-widgets/controls",
     "model_module_version": "1.5.0",
     "model_name": "FloatProgressModel",
     "state": {
      "_dom_classes": [],
      "_model_module": "@jupyter-widgets/controls",
      "_model_module_version": "1.5.0",
      "_model_name": "FloatProgressModel",
      "_view_count": null,
      "_view_module": "@jupyter-widgets/controls",
      "_view_module_version": "1.5.0",
      "_view_name": "ProgressView",
      "bar_style": "success",
      "description": "",
      "description_tooltip": null,
      "layout": "IPY_MODEL_57ca840acbfa42049bdd6fbbc8d52755",
      "max": 76,
      "min": 0,
      "orientation": "horizontal",
      "style": "IPY_MODEL_cc63ad3540d949feb63ea1a7c1490816",
      "value": 76
     }
    },
    "aff76ab884e949fe9a3b1f9653897b43": {
     "model_module": "@jupyter-widgets/base",
     "model_module_version": "1.2.0",
     "model_name": "LayoutModel",
     "state": {
      "_model_module": "@jupyter-widgets/base",
      "_model_module_version": "1.2.0",
      "_model_name": "LayoutModel",
      "_view_count": null,
      "_view_module": "@jupyter-widgets/base",
      "_view_module_version": "1.2.0",
      "_view_name": "LayoutView",
      "align_content": null,
      "align_items": null,
      "align_self": null,
      "border": null,
      "bottom": null,
      "display": null,
      "flex": null,
      "flex_flow": null,
      "grid_area": null,
      "grid_auto_columns": null,
      "grid_auto_flow": null,
      "grid_auto_rows": null,
      "grid_column": null,
      "grid_gap": null,
      "grid_row": null,
      "grid_template_areas": null,
      "grid_template_columns": null,
      "grid_template_rows": null,
      "height": null,
      "justify_content": null,
      "justify_items": null,
      "left": null,
      "margin": null,
      "max_height": null,
      "max_width": null,
      "min_height": null,
      "min_width": null,
      "object_fit": null,
      "object_position": null,
      "order": null,
      "overflow": null,
      "overflow_x": null,
      "overflow_y": null,
      "padding": null,
      "right": null,
      "top": null,
      "visibility": null,
      "width": null
     }
    },
    "b10b7ab2c60b4ac389d40dd001ff0463": {
     "model_module": "@jupyter-widgets/base",
     "model_module_version": "1.2.0",
     "model_name": "LayoutModel",
     "state": {
      "_model_module": "@jupyter-widgets/base",
      "_model_module_version": "1.2.0",
      "_model_name": "LayoutModel",
      "_view_count": null,
      "_view_module": "@jupyter-widgets/base",
      "_view_module_version": "1.2.0",
      "_view_name": "LayoutView",
      "align_content": null,
      "align_items": null,
      "align_self": null,
      "border": null,
      "bottom": null,
      "display": null,
      "flex": null,
      "flex_flow": null,
      "grid_area": null,
      "grid_auto_columns": null,
      "grid_auto_flow": null,
      "grid_auto_rows": null,
      "grid_column": null,
      "grid_gap": null,
      "grid_row": null,
      "grid_template_areas": null,
      "grid_template_columns": null,
      "grid_template_rows": null,
      "height": null,
      "justify_content": null,
      "justify_items": null,
      "left": null,
      "margin": null,
      "max_height": null,
      "max_width": null,
      "min_height": null,
      "min_width": null,
      "object_fit": null,
      "object_position": null,
      "order": null,
      "overflow": null,
      "overflow_x": null,
      "overflow_y": null,
      "padding": null,
      "right": null,
      "top": null,
      "visibility": null,
      "width": null
     }
    },
    "b12bf2d5fcce42509d4168c2b5e012a4": {
     "model_module": "@jupyter-widgets/base",
     "model_module_version": "1.2.0",
     "model_name": "LayoutModel",
     "state": {
      "_model_module": "@jupyter-widgets/base",
      "_model_module_version": "1.2.0",
      "_model_name": "LayoutModel",
      "_view_count": null,
      "_view_module": "@jupyter-widgets/base",
      "_view_module_version": "1.2.0",
      "_view_name": "LayoutView",
      "align_content": null,
      "align_items": null,
      "align_self": null,
      "border": null,
      "bottom": null,
      "display": null,
      "flex": null,
      "flex_flow": null,
      "grid_area": null,
      "grid_auto_columns": null,
      "grid_auto_flow": null,
      "grid_auto_rows": null,
      "grid_column": null,
      "grid_gap": null,
      "grid_row": null,
      "grid_template_areas": null,
      "grid_template_columns": null,
      "grid_template_rows": null,
      "height": null,
      "justify_content": null,
      "justify_items": null,
      "left": null,
      "margin": null,
      "max_height": null,
      "max_width": null,
      "min_height": null,
      "min_width": null,
      "object_fit": null,
      "object_position": null,
      "order": null,
      "overflow": null,
      "overflow_x": null,
      "overflow_y": null,
      "padding": null,
      "right": null,
      "top": null,
      "visibility": null,
      "width": null
     }
    },
    "b17a098269bf4becbed5c64b467a6b3f": {
     "model_module": "@jupyter-widgets/controls",
     "model_module_version": "1.5.0",
     "model_name": "ProgressStyleModel",
     "state": {
      "_model_module": "@jupyter-widgets/controls",
      "_model_module_version": "1.5.0",
      "_model_name": "ProgressStyleModel",
      "_view_count": null,
      "_view_module": "@jupyter-widgets/base",
      "_view_module_version": "1.2.0",
      "_view_name": "StyleView",
      "bar_color": null,
      "description_width": ""
     }
    },
    "b210f6994c484801b19a7ecceb6a20c8": {
     "model_module": "@jupyter-widgets/controls",
     "model_module_version": "1.5.0",
     "model_name": "FloatProgressModel",
     "state": {
      "_dom_classes": [],
      "_model_module": "@jupyter-widgets/controls",
      "_model_module_version": "1.5.0",
      "_model_name": "FloatProgressModel",
      "_view_count": null,
      "_view_module": "@jupyter-widgets/controls",
      "_view_module_version": "1.5.0",
      "_view_name": "ProgressView",
      "bar_style": "success",
      "description": "",
      "description_tooltip": null,
      "layout": "IPY_MODEL_594aa0ff107c4cbea850b046362df62b",
      "max": 169,
      "min": 0,
      "orientation": "horizontal",
      "style": "IPY_MODEL_93c7ca5af7034e49a15d4ce2ecdb366c",
      "value": 169
     }
    },
    "b2a6e6064e3b42ccb9e1548bb60c4af3": {
     "model_module": "@jupyter-widgets/controls",
     "model_module_version": "1.5.0",
     "model_name": "ProgressStyleModel",
     "state": {
      "_model_module": "@jupyter-widgets/controls",
      "_model_module_version": "1.5.0",
      "_model_name": "ProgressStyleModel",
      "_view_count": null,
      "_view_module": "@jupyter-widgets/base",
      "_view_module_version": "1.2.0",
      "_view_name": "StyleView",
      "bar_color": null,
      "description_width": ""
     }
    },
    "b4bd889101ec464795180c192cc05183": {
     "model_module": "@jupyter-widgets/controls",
     "model_module_version": "1.5.0",
     "model_name": "HTMLModel",
     "state": {
      "_dom_classes": [],
      "_model_module": "@jupyter-widgets/controls",
      "_model_module_version": "1.5.0",
      "_model_name": "HTMLModel",
      "_view_count": null,
      "_view_module": "@jupyter-widgets/controls",
      "_view_module_version": "1.5.0",
      "_view_name": "HTMLView",
      "description": "",
      "description_tooltip": null,
      "layout": "IPY_MODEL_a6534313cb6647b1b743e9204deb43dd",
      "placeholder": "​",
      "style": "IPY_MODEL_78704bca2f094dc2a4af6afe7184c3bd",
      "value": " 1.54k/1.54k [00:00&lt;00:00, 86.1kB/s]"
     }
    },
    "b7194e787ad54906aa499a02ee0fe9ef": {
     "model_module": "@jupyter-widgets/base",
     "model_module_version": "1.2.0",
     "model_name": "LayoutModel",
     "state": {
      "_model_module": "@jupyter-widgets/base",
      "_model_module_version": "1.2.0",
      "_model_name": "LayoutModel",
      "_view_count": null,
      "_view_module": "@jupyter-widgets/base",
      "_view_module_version": "1.2.0",
      "_view_name": "LayoutView",
      "align_content": null,
      "align_items": null,
      "align_self": null,
      "border": null,
      "bottom": null,
      "display": null,
      "flex": null,
      "flex_flow": null,
      "grid_area": null,
      "grid_auto_columns": null,
      "grid_auto_flow": null,
      "grid_auto_rows": null,
      "grid_column": null,
      "grid_gap": null,
      "grid_row": null,
      "grid_template_areas": null,
      "grid_template_columns": null,
      "grid_template_rows": null,
      "height": null,
      "justify_content": null,
      "justify_items": null,
      "left": null,
      "margin": null,
      "max_height": null,
      "max_width": null,
      "min_height": null,
      "min_width": null,
      "object_fit": null,
      "object_position": null,
      "order": null,
      "overflow": null,
      "overflow_x": null,
      "overflow_y": null,
      "padding": null,
      "right": null,
      "top": null,
      "visibility": null,
      "width": null
     }
    },
    "b808f60f0aa24482a53889a4663d509a": {
     "model_module": "@jupyter-widgets/controls",
     "model_module_version": "1.5.0",
     "model_name": "ProgressStyleModel",
     "state": {
      "_model_module": "@jupyter-widgets/controls",
      "_model_module_version": "1.5.0",
      "_model_name": "ProgressStyleModel",
      "_view_count": null,
      "_view_module": "@jupyter-widgets/base",
      "_view_module_version": "1.2.0",
      "_view_name": "StyleView",
      "bar_color": null,
      "description_width": ""
     }
    },
    "b8ab6f5b116c4494b40c41ad8730a6e9": {
     "model_module": "@jupyter-widgets/controls",
     "model_module_version": "1.5.0",
     "model_name": "HBoxModel",
     "state": {
      "_dom_classes": [],
      "_model_module": "@jupyter-widgets/controls",
      "_model_module_version": "1.5.0",
      "_model_name": "HBoxModel",
      "_view_count": null,
      "_view_module": "@jupyter-widgets/controls",
      "_view_module_version": "1.5.0",
      "_view_name": "HBoxView",
      "box_style": "",
      "children": [
       "IPY_MODEL_917846a88d32494e8de2be2469649615",
       "IPY_MODEL_388a113a27204108be7f581b5e6e0398",
       "IPY_MODEL_112a2ea418644fdeb82e432cd50bfef2"
      ],
      "layout": "IPY_MODEL_2dd65fbcd5564839bf14ab5d30585188"
     }
    },
    "b9d8eef8bed740068e2d00bc26095048": {
     "model_module": "@jupyter-widgets/controls",
     "model_module_version": "1.5.0",
     "model_name": "DescriptionStyleModel",
     "state": {
      "_model_module": "@jupyter-widgets/controls",
      "_model_module_version": "1.5.0",
      "_model_name": "DescriptionStyleModel",
      "_view_count": null,
      "_view_module": "@jupyter-widgets/base",
      "_view_module_version": "1.2.0",
      "_view_name": "StyleView",
      "description_width": ""
     }
    },
    "bad13f03cb6e4ae59e81bbaba1022022": {
     "model_module": "@jupyter-widgets/controls",
     "model_module_version": "1.5.0",
     "model_name": "HTMLModel",
     "state": {
      "_dom_classes": [],
      "_model_module": "@jupyter-widgets/controls",
      "_model_module_version": "1.5.0",
      "_model_name": "HTMLModel",
      "_view_count": null,
      "_view_module": "@jupyter-widgets/controls",
      "_view_module_version": "1.5.0",
      "_view_name": "HTMLView",
      "description": "",
      "description_tooltip": null,
      "layout": "IPY_MODEL_8466d9be51304647a7f40b54e36d077d",
      "placeholder": "​",
      "style": "IPY_MODEL_e1e0856c6d0142ad9a0895e6ff6b4f39",
      "value": " 166k/166k [00:00&lt;00:00, 1.90MB/s]"
     }
    },
    "bbcbd8187ae14de5a7166008b9a049c1": {
     "model_module": "@jupyter-widgets/base",
     "model_module_version": "1.2.0",
     "model_name": "LayoutModel",
     "state": {
      "_model_module": "@jupyter-widgets/base",
      "_model_module_version": "1.2.0",
      "_model_name": "LayoutModel",
      "_view_count": null,
      "_view_module": "@jupyter-widgets/base",
      "_view_module_version": "1.2.0",
      "_view_name": "LayoutView",
      "align_content": null,
      "align_items": null,
      "align_self": null,
      "border": null,
      "bottom": null,
      "display": null,
      "flex": null,
      "flex_flow": null,
      "grid_area": null,
      "grid_auto_columns": null,
      "grid_auto_flow": null,
      "grid_auto_rows": null,
      "grid_column": null,
      "grid_gap": null,
      "grid_row": null,
      "grid_template_areas": null,
      "grid_template_columns": null,
      "grid_template_rows": null,
      "height": null,
      "justify_content": null,
      "justify_items": null,
      "left": null,
      "margin": null,
      "max_height": null,
      "max_width": null,
      "min_height": null,
      "min_width": null,
      "object_fit": null,
      "object_position": null,
      "order": null,
      "overflow": null,
      "overflow_x": null,
      "overflow_y": null,
      "padding": null,
      "right": null,
      "top": null,
      "visibility": null,
      "width": null
     }
    },
    "bbfe563d903742cfbbe4610802726d31": {
     "model_module": "@jupyter-widgets/controls",
     "model_module_version": "1.5.0",
     "model_name": "ProgressStyleModel",
     "state": {
      "_model_module": "@jupyter-widgets/controls",
      "_model_module_version": "1.5.0",
      "_model_name": "ProgressStyleModel",
      "_view_count": null,
      "_view_module": "@jupyter-widgets/base",
      "_view_module_version": "1.2.0",
      "_view_name": "StyleView",
      "bar_color": null,
      "description_width": ""
     }
    },
    "bf63a5e5923444ebb5c08ce7c78c1ba3": {
     "model_module": "@jupyter-widgets/controls",
     "model_module_version": "1.5.0",
     "model_name": "HBoxModel",
     "state": {
      "_dom_classes": [],
      "_model_module": "@jupyter-widgets/controls",
      "_model_module_version": "1.5.0",
      "_model_name": "HBoxModel",
      "_view_count": null,
      "_view_module": "@jupyter-widgets/controls",
      "_view_module_version": "1.5.0",
      "_view_name": "HBoxView",
      "box_style": "",
      "children": [
       "IPY_MODEL_c4e242921b294e1d91823e904f384cab",
       "IPY_MODEL_3ac039758c7346debbf0a87d5bcbc8aa",
       "IPY_MODEL_bad13f03cb6e4ae59e81bbaba1022022"
      ],
      "layout": "IPY_MODEL_b12bf2d5fcce42509d4168c2b5e012a4"
     }
    },
    "c2f92c58de944321a2774251848d8fbc": {
     "model_module": "@jupyter-widgets/controls",
     "model_module_version": "1.5.0",
     "model_name": "DescriptionStyleModel",
     "state": {
      "_model_module": "@jupyter-widgets/controls",
      "_model_module_version": "1.5.0",
      "_model_name": "DescriptionStyleModel",
      "_view_count": null,
      "_view_module": "@jupyter-widgets/base",
      "_view_module_version": "1.2.0",
      "_view_name": "StyleView",
      "description_width": ""
     }
    },
    "c4e242921b294e1d91823e904f384cab": {
     "model_module": "@jupyter-widgets/controls",
     "model_module_version": "1.5.0",
     "model_name": "HTMLModel",
     "state": {
      "_dom_classes": [],
      "_model_module": "@jupyter-widgets/controls",
      "_model_module_version": "1.5.0",
      "_model_name": "HTMLModel",
      "_view_count": null,
      "_view_module": "@jupyter-widgets/controls",
      "_view_module_version": "1.5.0",
      "_view_name": "HTMLView",
      "description": "",
      "description_tooltip": null,
      "layout": "IPY_MODEL_1153e1c551fa4adc9547902357832cb6",
      "placeholder": "​",
      "style": "IPY_MODEL_c2f92c58de944321a2774251848d8fbc",
      "value": "Downloading data: 100%"
     }
    },
    "c5dfc4f33a9340a094843e88f60faa69": {
     "model_module": "@jupyter-widgets/base",
     "model_module_version": "1.2.0",
     "model_name": "LayoutModel",
     "state": {
      "_model_module": "@jupyter-widgets/base",
      "_model_module_version": "1.2.0",
      "_model_name": "LayoutModel",
      "_view_count": null,
      "_view_module": "@jupyter-widgets/base",
      "_view_module_version": "1.2.0",
      "_view_name": "LayoutView",
      "align_content": null,
      "align_items": null,
      "align_self": null,
      "border": null,
      "bottom": null,
      "display": null,
      "flex": null,
      "flex_flow": null,
      "grid_area": null,
      "grid_auto_columns": null,
      "grid_auto_flow": null,
      "grid_auto_rows": null,
      "grid_column": null,
      "grid_gap": null,
      "grid_row": null,
      "grid_template_areas": null,
      "grid_template_columns": null,
      "grid_template_rows": null,
      "height": null,
      "justify_content": null,
      "justify_items": null,
      "left": null,
      "margin": null,
      "max_height": null,
      "max_width": null,
      "min_height": null,
      "min_width": null,
      "object_fit": null,
      "object_position": null,
      "order": null,
      "overflow": null,
      "overflow_x": null,
      "overflow_y": null,
      "padding": null,
      "right": null,
      "top": null,
      "visibility": null,
      "width": null
     }
    },
    "c6c3071b4af64ffdad6284729e75f9d5": {
     "model_module": "@jupyter-widgets/controls",
     "model_module_version": "1.5.0",
     "model_name": "HTMLModel",
     "state": {
      "_dom_classes": [],
      "_model_module": "@jupyter-widgets/controls",
      "_model_module_version": "1.5.0",
      "_model_name": "HTMLModel",
      "_view_count": null,
      "_view_module": "@jupyter-widgets/controls",
      "_view_module_version": "1.5.0",
      "_view_name": "HTMLView",
      "description": "",
      "description_tooltip": null,
      "layout": "IPY_MODEL_585af7f9e38d497197a371d0ebb9840a",
      "placeholder": "​",
      "style": "IPY_MODEL_14d8c54878d0481fbc956c003218a36b",
      "value": " 35.7k/35.7k [00:00&lt;00:00, 374kB/s]"
     }
    },
    "cabb11bc14604d308021214c2715cecd": {
     "model_module": "@jupyter-widgets/controls",
     "model_module_version": "1.5.0",
     "model_name": "ProgressStyleModel",
     "state": {
      "_model_module": "@jupyter-widgets/controls",
      "_model_module_version": "1.5.0",
      "_model_name": "ProgressStyleModel",
      "_view_count": null,
      "_view_module": "@jupyter-widgets/base",
      "_view_module_version": "1.2.0",
      "_view_name": "StyleView",
      "bar_color": null,
      "description_width": ""
     }
    },
    "cc63ad3540d949feb63ea1a7c1490816": {
     "model_module": "@jupyter-widgets/controls",
     "model_module_version": "1.5.0",
     "model_name": "ProgressStyleModel",
     "state": {
      "_model_module": "@jupyter-widgets/controls",
      "_model_module_version": "1.5.0",
      "_model_name": "ProgressStyleModel",
      "_view_count": null,
      "_view_module": "@jupyter-widgets/base",
      "_view_module_version": "1.2.0",
      "_view_name": "StyleView",
      "bar_color": null,
      "description_width": ""
     }
    },
    "cc888f4d12714695a1b880eeb59bad63": {
     "model_module": "@jupyter-widgets/controls",
     "model_module_version": "1.5.0",
     "model_name": "DescriptionStyleModel",
     "state": {
      "_model_module": "@jupyter-widgets/controls",
      "_model_module_version": "1.5.0",
      "_model_name": "DescriptionStyleModel",
      "_view_count": null,
      "_view_module": "@jupyter-widgets/base",
      "_view_module_version": "1.2.0",
      "_view_name": "StyleView",
      "description_width": ""
     }
    },
    "ce36c0cd24d74b52afc1c461881f6856": {
     "model_module": "@jupyter-widgets/base",
     "model_module_version": "1.2.0",
     "model_name": "LayoutModel",
     "state": {
      "_model_module": "@jupyter-widgets/base",
      "_model_module_version": "1.2.0",
      "_model_name": "LayoutModel",
      "_view_count": null,
      "_view_module": "@jupyter-widgets/base",
      "_view_module_version": "1.2.0",
      "_view_name": "LayoutView",
      "align_content": null,
      "align_items": null,
      "align_self": null,
      "border": null,
      "bottom": null,
      "display": null,
      "flex": null,
      "flex_flow": null,
      "grid_area": null,
      "grid_auto_columns": null,
      "grid_auto_flow": null,
      "grid_auto_rows": null,
      "grid_column": null,
      "grid_gap": null,
      "grid_row": null,
      "grid_template_areas": null,
      "grid_template_columns": null,
      "grid_template_rows": null,
      "height": null,
      "justify_content": null,
      "justify_items": null,
      "left": null,
      "margin": null,
      "max_height": null,
      "max_width": null,
      "min_height": null,
      "min_width": null,
      "object_fit": null,
      "object_position": null,
      "order": null,
      "overflow": null,
      "overflow_x": null,
      "overflow_y": null,
      "padding": null,
      "right": null,
      "top": null,
      "visibility": null,
      "width": null
     }
    },
    "ce5ae24c01794afa85b3d4895063a7be": {
     "model_module": "@jupyter-widgets/controls",
     "model_module_version": "1.5.0",
     "model_name": "HTMLModel",
     "state": {
      "_dom_classes": [],
      "_model_module": "@jupyter-widgets/controls",
      "_model_module_version": "1.5.0",
      "_model_name": "HTMLModel",
      "_view_count": null,
      "_view_module": "@jupyter-widgets/controls",
      "_view_module_version": "1.5.0",
      "_view_name": "HTMLView",
      "description": "",
      "description_tooltip": null,
      "layout": "IPY_MODEL_b7194e787ad54906aa499a02ee0fe9ef",
      "placeholder": "​",
      "style": "IPY_MODEL_895842fb0b5a47eb8dee2f6a805f97c6",
      "value": "Downloading model.safetensors: 100%"
     }
    },
    "cfeeaafe40df48c9af01a27aebcbcf6a": {
     "model_module": "@jupyter-widgets/base",
     "model_module_version": "1.2.0",
     "model_name": "LayoutModel",
     "state": {
      "_model_module": "@jupyter-widgets/base",
      "_model_module_version": "1.2.0",
      "_model_name": "LayoutModel",
      "_view_count": null,
      "_view_module": "@jupyter-widgets/base",
      "_view_module_version": "1.2.0",
      "_view_name": "LayoutView",
      "align_content": null,
      "align_items": null,
      "align_self": null,
      "border": null,
      "bottom": null,
      "display": null,
      "flex": null,
      "flex_flow": null,
      "grid_area": null,
      "grid_auto_columns": null,
      "grid_auto_flow": null,
      "grid_auto_rows": null,
      "grid_column": null,
      "grid_gap": null,
      "grid_row": null,
      "grid_template_areas": null,
      "grid_template_columns": null,
      "grid_template_rows": null,
      "height": null,
      "justify_content": null,
      "justify_items": null,
      "left": null,
      "margin": null,
      "max_height": null,
      "max_width": null,
      "min_height": null,
      "min_width": null,
      "object_fit": null,
      "object_position": null,
      "order": null,
      "overflow": null,
      "overflow_x": null,
      "overflow_y": null,
      "padding": null,
      "right": null,
      "top": null,
      "visibility": null,
      "width": null
     }
    },
    "d36ed9086fa5440b8d20197a91808043": {
     "model_module": "@jupyter-widgets/base",
     "model_module_version": "1.2.0",
     "model_name": "LayoutModel",
     "state": {
      "_model_module": "@jupyter-widgets/base",
      "_model_module_version": "1.2.0",
      "_model_name": "LayoutModel",
      "_view_count": null,
      "_view_module": "@jupyter-widgets/base",
      "_view_module_version": "1.2.0",
      "_view_name": "LayoutView",
      "align_content": null,
      "align_items": null,
      "align_self": null,
      "border": null,
      "bottom": null,
      "display": null,
      "flex": null,
      "flex_flow": null,
      "grid_area": null,
      "grid_auto_columns": null,
      "grid_auto_flow": null,
      "grid_auto_rows": null,
      "grid_column": null,
      "grid_gap": null,
      "grid_row": null,
      "grid_template_areas": null,
      "grid_template_columns": null,
      "grid_template_rows": null,
      "height": null,
      "justify_content": null,
      "justify_items": null,
      "left": null,
      "margin": null,
      "max_height": null,
      "max_width": null,
      "min_height": null,
      "min_width": null,
      "object_fit": null,
      "object_position": null,
      "order": null,
      "overflow": null,
      "overflow_x": null,
      "overflow_y": null,
      "padding": null,
      "right": null,
      "top": null,
      "visibility": null,
      "width": null
     }
    },
    "d60dc630bc934c59946604028fab07db": {
     "model_module": "@jupyter-widgets/controls",
     "model_module_version": "1.5.0",
     "model_name": "HTMLModel",
     "state": {
      "_dom_classes": [],
      "_model_module": "@jupyter-widgets/controls",
      "_model_module_version": "1.5.0",
      "_model_name": "HTMLModel",
      "_view_count": null,
      "_view_module": "@jupyter-widgets/controls",
      "_view_module_version": "1.5.0",
      "_view_name": "HTMLView",
      "description": "",
      "description_tooltip": null,
      "layout": "IPY_MODEL_ce36c0cd24d74b52afc1c461881f6856",
      "placeholder": "​",
      "style": "IPY_MODEL_283ac4bfb9644c50853173e5fe021773",
      "value": " 2.42M/2.42M [00:00&lt;00:00, 28.4MB/s]"
     }
    },
    "d6a9c258d6fc4efeafd6dd86b40cb6cb": {
     "model_module": "@jupyter-widgets/controls",
     "model_module_version": "1.5.0",
     "model_name": "HTMLModel",
     "state": {
      "_dom_classes": [],
      "_model_module": "@jupyter-widgets/controls",
      "_model_module_version": "1.5.0",
      "_model_name": "HTMLModel",
      "_view_count": null,
      "_view_module": "@jupyter-widgets/controls",
      "_view_module_version": "1.5.0",
      "_view_name": "HTMLView",
      "description": "",
      "description_tooltip": null,
      "layout": "IPY_MODEL_085c8c0ee3374c9995ffd7d2fd4dbe6b",
      "placeholder": "​",
      "style": "IPY_MODEL_1af2989c54704fbf9f7fc0f2bbfa8fbd",
      "value": "Extracting data files: 100%"
     }
    },
    "d6ad660d06bd4036adc6727b497107f9": {
     "model_module": "@jupyter-widgets/base",
     "model_module_version": "1.2.0",
     "model_name": "LayoutModel",
     "state": {
      "_model_module": "@jupyter-widgets/base",
      "_model_module_version": "1.2.0",
      "_model_name": "LayoutModel",
      "_view_count": null,
      "_view_module": "@jupyter-widgets/base",
      "_view_module_version": "1.2.0",
      "_view_name": "LayoutView",
      "align_content": null,
      "align_items": null,
      "align_self": null,
      "border": null,
      "bottom": null,
      "display": null,
      "flex": null,
      "flex_flow": null,
      "grid_area": null,
      "grid_auto_columns": null,
      "grid_auto_flow": null,
      "grid_auto_rows": null,
      "grid_column": null,
      "grid_gap": null,
      "grid_row": null,
      "grid_template_areas": null,
      "grid_template_columns": null,
      "grid_template_rows": null,
      "height": null,
      "justify_content": null,
      "justify_items": null,
      "left": null,
      "margin": null,
      "max_height": null,
      "max_width": null,
      "min_height": null,
      "min_width": null,
      "object_fit": null,
      "object_position": null,
      "order": null,
      "overflow": null,
      "overflow_x": null,
      "overflow_y": null,
      "padding": null,
      "right": null,
      "top": null,
      "visibility": null,
      "width": null
     }
    },
    "db2a88ef2dee4f13ab91f207d60b9566": {
     "model_module": "@jupyter-widgets/controls",
     "model_module_version": "1.5.0",
     "model_name": "HTMLModel",
     "state": {
      "_dom_classes": [],
      "_model_module": "@jupyter-widgets/controls",
      "_model_module_version": "1.5.0",
      "_model_name": "HTMLModel",
      "_view_count": null,
      "_view_module": "@jupyter-widgets/controls",
      "_view_module_version": "1.5.0",
      "_view_name": "HTMLView",
      "description": "",
      "description_tooltip": null,
      "layout": "IPY_MODEL_27172230bd324928a0eefb0f5dc730c7",
      "placeholder": "​",
      "style": "IPY_MODEL_56f2a57d0eea4491980b281a55e5d04e",
      "value": "Generating train split: 100%"
     }
    },
    "dbff0b490cd94510baecb5a3a603d072": {
     "model_module": "@jupyter-widgets/base",
     "model_module_version": "1.2.0",
     "model_name": "LayoutModel",
     "state": {
      "_model_module": "@jupyter-widgets/base",
      "_model_module_version": "1.2.0",
      "_model_name": "LayoutModel",
      "_view_count": null,
      "_view_module": "@jupyter-widgets/base",
      "_view_module_version": "1.2.0",
      "_view_name": "LayoutView",
      "align_content": null,
      "align_items": null,
      "align_self": null,
      "border": null,
      "bottom": null,
      "display": null,
      "flex": null,
      "flex_flow": null,
      "grid_area": null,
      "grid_auto_columns": null,
      "grid_auto_flow": null,
      "grid_auto_rows": null,
      "grid_column": null,
      "grid_gap": null,
      "grid_row": null,
      "grid_template_areas": null,
      "grid_template_columns": null,
      "grid_template_rows": null,
      "height": null,
      "justify_content": null,
      "justify_items": null,
      "left": null,
      "margin": null,
      "max_height": null,
      "max_width": null,
      "min_height": null,
      "min_width": null,
      "object_fit": null,
      "object_position": null,
      "order": null,
      "overflow": null,
      "overflow_x": null,
      "overflow_y": null,
      "padding": null,
      "right": null,
      "top": null,
      "visibility": null,
      "width": null
     }
    },
    "de9a482c2e544590b685b39259267d0d": {
     "model_module": "@jupyter-widgets/controls",
     "model_module_version": "1.5.0",
     "model_name": "HTMLModel",
     "state": {
      "_dom_classes": [],
      "_model_module": "@jupyter-widgets/controls",
      "_model_module_version": "1.5.0",
      "_model_name": "HTMLModel",
      "_view_count": null,
      "_view_module": "@jupyter-widgets/controls",
      "_view_module_version": "1.5.0",
      "_view_name": "HTMLView",
      "description": "",
      "description_tooltip": null,
      "layout": "IPY_MODEL_38d16501f40141fa8ce3a8b794313c44",
      "placeholder": "​",
      "style": "IPY_MODEL_cc888f4d12714695a1b880eeb59bad63",
      "value": "Downloading data: 100%"
     }
    },
    "e1e0856c6d0142ad9a0895e6ff6b4f39": {
     "model_module": "@jupyter-widgets/controls",
     "model_module_version": "1.5.0",
     "model_name": "DescriptionStyleModel",
     "state": {
      "_model_module": "@jupyter-widgets/controls",
      "_model_module_version": "1.5.0",
      "_model_name": "DescriptionStyleModel",
      "_view_count": null,
      "_view_module": "@jupyter-widgets/base",
      "_view_module_version": "1.2.0",
      "_view_name": "StyleView",
      "description_width": ""
     }
    },
    "e3c9bd4f17f3418d8f47cc3f0412bad1": {
     "model_module": "@jupyter-widgets/controls",
     "model_module_version": "1.5.0",
     "model_name": "DescriptionStyleModel",
     "state": {
      "_model_module": "@jupyter-widgets/controls",
      "_model_module_version": "1.5.0",
      "_model_name": "DescriptionStyleModel",
      "_view_count": null,
      "_view_module": "@jupyter-widgets/base",
      "_view_module_version": "1.2.0",
      "_view_name": "StyleView",
      "description_width": ""
     }
    },
    "e5848efa411b4833855a4edbdc2ea0cd": {
     "model_module": "@jupyter-widgets/controls",
     "model_module_version": "1.5.0",
     "model_name": "HTMLModel",
     "state": {
      "_dom_classes": [],
      "_model_module": "@jupyter-widgets/controls",
      "_model_module_version": "1.5.0",
      "_model_name": "HTMLModel",
      "_view_count": null,
      "_view_module": "@jupyter-widgets/controls",
      "_view_module_version": "1.5.0",
      "_view_name": "HTMLView",
      "description": "",
      "description_tooltip": null,
      "layout": "IPY_MODEL_406af557de9c45d982e3b0dc545f860a",
      "placeholder": "​",
      "style": "IPY_MODEL_7aa7054a209d4057abab6e9ba39fd441",
      "value": "Downloading spiece.model: 100%"
     }
    },
    "e6fdb7e08d194a83a3d71bd421b45a5f": {
     "model_module": "@jupyter-widgets/base",
     "model_module_version": "1.2.0",
     "model_name": "LayoutModel",
     "state": {
      "_model_module": "@jupyter-widgets/base",
      "_model_module_version": "1.2.0",
      "_model_name": "LayoutModel",
      "_view_count": null,
      "_view_module": "@jupyter-widgets/base",
      "_view_module_version": "1.2.0",
      "_view_name": "LayoutView",
      "align_content": null,
      "align_items": null,
      "align_self": null,
      "border": null,
      "bottom": null,
      "display": null,
      "flex": null,
      "flex_flow": null,
      "grid_area": null,
      "grid_auto_columns": null,
      "grid_auto_flow": null,
      "grid_auto_rows": null,
      "grid_column": null,
      "grid_gap": null,
      "grid_row": null,
      "grid_template_areas": null,
      "grid_template_columns": null,
      "grid_template_rows": null,
      "height": null,
      "justify_content": null,
      "justify_items": null,
      "left": null,
      "margin": null,
      "max_height": null,
      "max_width": null,
      "min_height": null,
      "min_width": null,
      "object_fit": null,
      "object_position": null,
      "order": null,
      "overflow": null,
      "overflow_x": null,
      "overflow_y": null,
      "padding": null,
      "right": null,
      "top": null,
      "visibility": null,
      "width": null
     }
    },
    "ea55653ec8864e6c8f218e68d90a4df6": {
     "model_module": "@jupyter-widgets/controls",
     "model_module_version": "1.5.0",
     "model_name": "DescriptionStyleModel",
     "state": {
      "_model_module": "@jupyter-widgets/controls",
      "_model_module_version": "1.5.0",
      "_model_name": "DescriptionStyleModel",
      "_view_count": null,
      "_view_module": "@jupyter-widgets/base",
      "_view_module_version": "1.2.0",
      "_view_name": "StyleView",
      "description_width": ""
     }
    },
    "eb78d926a86c4a0781d596e8e8115de5": {
     "model_module": "@jupyter-widgets/base",
     "model_module_version": "1.2.0",
     "model_name": "LayoutModel",
     "state": {
      "_model_module": "@jupyter-widgets/base",
      "_model_module_version": "1.2.0",
      "_model_name": "LayoutModel",
      "_view_count": null,
      "_view_module": "@jupyter-widgets/base",
      "_view_module_version": "1.2.0",
      "_view_name": "LayoutView",
      "align_content": null,
      "align_items": null,
      "align_self": null,
      "border": null,
      "bottom": null,
      "display": null,
      "flex": null,
      "flex_flow": null,
      "grid_area": null,
      "grid_auto_columns": null,
      "grid_auto_flow": null,
      "grid_auto_rows": null,
      "grid_column": null,
      "grid_gap": null,
      "grid_row": null,
      "grid_template_areas": null,
      "grid_template_columns": null,
      "grid_template_rows": null,
      "height": null,
      "justify_content": null,
      "justify_items": null,
      "left": null,
      "margin": null,
      "max_height": null,
      "max_width": null,
      "min_height": null,
      "min_width": null,
      "object_fit": null,
      "object_position": null,
      "order": null,
      "overflow": null,
      "overflow_x": null,
      "overflow_y": null,
      "padding": null,
      "right": null,
      "top": null,
      "visibility": null,
      "width": null
     }
    },
    "ed14c311d9f845329e8544633a35667e": {
     "model_module": "@jupyter-widgets/controls",
     "model_module_version": "1.5.0",
     "model_name": "HTMLModel",
     "state": {
      "_dom_classes": [],
      "_model_module": "@jupyter-widgets/controls",
      "_model_module_version": "1.5.0",
      "_model_name": "HTMLModel",
      "_view_count": null,
      "_view_module": "@jupyter-widgets/controls",
      "_view_module_version": "1.5.0",
      "_view_name": "HTMLView",
      "description": "",
      "description_tooltip": null,
      "layout": "IPY_MODEL_d6ad660d06bd4036adc6727b497107f9",
      "placeholder": "​",
      "style": "IPY_MODEL_8a1dd77358594cd2bb54daee4ca69c53",
      "value": "Downloading (…)/main/tokenizer.json: 100%"
     }
    },
    "ed978ff06e894721a14ceb789675c6f0": {
     "model_module": "@jupyter-widgets/base",
     "model_module_version": "1.2.0",
     "model_name": "LayoutModel",
     "state": {
      "_model_module": "@jupyter-widgets/base",
      "_model_module_version": "1.2.0",
      "_model_name": "LayoutModel",
      "_view_count": null,
      "_view_module": "@jupyter-widgets/base",
      "_view_module_version": "1.2.0",
      "_view_name": "LayoutView",
      "align_content": null,
      "align_items": null,
      "align_self": null,
      "border": null,
      "bottom": null,
      "display": null,
      "flex": null,
      "flex_flow": null,
      "grid_area": null,
      "grid_auto_columns": null,
      "grid_auto_flow": null,
      "grid_auto_rows": null,
      "grid_column": null,
      "grid_gap": null,
      "grid_row": null,
      "grid_template_areas": null,
      "grid_template_columns": null,
      "grid_template_rows": null,
      "height": null,
      "justify_content": null,
      "justify_items": null,
      "left": null,
      "margin": null,
      "max_height": null,
      "max_width": null,
      "min_height": null,
      "min_width": null,
      "object_fit": null,
      "object_position": null,
      "order": null,
      "overflow": null,
      "overflow_x": null,
      "overflow_y": null,
      "padding": null,
      "right": null,
      "top": null,
      "visibility": null,
      "width": null
     }
    },
    "efef45425f8241f39c68a3db9a4cb9a4": {
     "model_module": "@jupyter-widgets/controls",
     "model_module_version": "1.5.0",
     "model_name": "HBoxModel",
     "state": {
      "_dom_classes": [],
      "_model_module": "@jupyter-widgets/controls",
      "_model_module_version": "1.5.0",
      "_model_name": "HBoxModel",
      "_view_count": null,
      "_view_module": "@jupyter-widgets/controls",
      "_view_module_version": "1.5.0",
      "_view_name": "HBoxView",
      "box_style": "",
      "children": [
       "IPY_MODEL_1b8339e81668476f8ae92add476eb0cc",
       "IPY_MODEL_2b199872fad44e27b349b9936c91a1b9",
       "IPY_MODEL_6a504b73c2484dd3a4c5cd44fccfbc79"
      ],
      "layout": "IPY_MODEL_c5dfc4f33a9340a094843e88f60faa69"
     }
    },
    "f484bd240c2140eaae7af9ba090e1d2d": {
     "model_module": "@jupyter-widgets/base",
     "model_module_version": "1.2.0",
     "model_name": "LayoutModel",
     "state": {
      "_model_module": "@jupyter-widgets/base",
      "_model_module_version": "1.2.0",
      "_model_name": "LayoutModel",
      "_view_count": null,
      "_view_module": "@jupyter-widgets/base",
      "_view_module_version": "1.2.0",
      "_view_name": "LayoutView",
      "align_content": null,
      "align_items": null,
      "align_self": null,
      "border": null,
      "bottom": null,
      "display": null,
      "flex": null,
      "flex_flow": null,
      "grid_area": null,
      "grid_auto_columns": null,
      "grid_auto_flow": null,
      "grid_auto_rows": null,
      "grid_column": null,
      "grid_gap": null,
      "grid_row": null,
      "grid_template_areas": null,
      "grid_template_columns": null,
      "grid_template_rows": null,
      "height": null,
      "justify_content": null,
      "justify_items": null,
      "left": null,
      "margin": null,
      "max_height": null,
      "max_width": null,
      "min_height": null,
      "min_width": null,
      "object_fit": null,
      "object_position": null,
      "order": null,
      "overflow": null,
      "overflow_x": null,
      "overflow_y": null,
      "padding": null,
      "right": null,
      "top": null,
      "visibility": null,
      "width": null
     }
    },
    "f5a0fa4e05004f1c90ddadeefa4c0919": {
     "model_module": "@jupyter-widgets/controls",
     "model_module_version": "1.5.0",
     "model_name": "ProgressStyleModel",
     "state": {
      "_model_module": "@jupyter-widgets/controls",
      "_model_module_version": "1.5.0",
      "_model_name": "ProgressStyleModel",
      "_view_count": null,
      "_view_module": "@jupyter-widgets/base",
      "_view_module_version": "1.2.0",
      "_view_name": "StyleView",
      "bar_color": null,
      "description_width": ""
     }
    },
    "f688fee526634e5a8f3feb986284b387": {
     "model_module": "@jupyter-widgets/base",
     "model_module_version": "1.2.0",
     "model_name": "LayoutModel",
     "state": {
      "_model_module": "@jupyter-widgets/base",
      "_model_module_version": "1.2.0",
      "_model_name": "LayoutModel",
      "_view_count": null,
      "_view_module": "@jupyter-widgets/base",
      "_view_module_version": "1.2.0",
      "_view_name": "LayoutView",
      "align_content": null,
      "align_items": null,
      "align_self": null,
      "border": null,
      "bottom": null,
      "display": null,
      "flex": null,
      "flex_flow": null,
      "grid_area": null,
      "grid_auto_columns": null,
      "grid_auto_flow": null,
      "grid_auto_rows": null,
      "grid_column": null,
      "grid_gap": null,
      "grid_row": null,
      "grid_template_areas": null,
      "grid_template_columns": null,
      "grid_template_rows": null,
      "height": null,
      "justify_content": null,
      "justify_items": null,
      "left": null,
      "margin": null,
      "max_height": null,
      "max_width": null,
      "min_height": null,
      "min_width": null,
      "object_fit": null,
      "object_position": null,
      "order": null,
      "overflow": null,
      "overflow_x": null,
      "overflow_y": null,
      "padding": null,
      "right": null,
      "top": null,
      "visibility": null,
      "width": null
     }
    },
    "f7f2c42a055b43aeb8aea78ca7d03417": {
     "model_module": "@jupyter-widgets/base",
     "model_module_version": "1.2.0",
     "model_name": "LayoutModel",
     "state": {
      "_model_module": "@jupyter-widgets/base",
      "_model_module_version": "1.2.0",
      "_model_name": "LayoutModel",
      "_view_count": null,
      "_view_module": "@jupyter-widgets/base",
      "_view_module_version": "1.2.0",
      "_view_name": "LayoutView",
      "align_content": null,
      "align_items": null,
      "align_self": null,
      "border": null,
      "bottom": null,
      "display": null,
      "flex": null,
      "flex_flow": null,
      "grid_area": null,
      "grid_auto_columns": null,
      "grid_auto_flow": null,
      "grid_auto_rows": null,
      "grid_column": null,
      "grid_gap": null,
      "grid_row": null,
      "grid_template_areas": null,
      "grid_template_columns": null,
      "grid_template_rows": null,
      "height": null,
      "justify_content": null,
      "justify_items": null,
      "left": null,
      "margin": null,
      "max_height": null,
      "max_width": null,
      "min_height": null,
      "min_width": null,
      "object_fit": null,
      "object_position": null,
      "order": null,
      "overflow": null,
      "overflow_x": null,
      "overflow_y": null,
      "padding": null,
      "right": null,
      "top": null,
      "visibility": null,
      "width": null
     }
    },
    "fa5703c615e74447a545c4e99974e86e": {
     "model_module": "@jupyter-widgets/base",
     "model_module_version": "1.2.0",
     "model_name": "LayoutModel",
     "state": {
      "_model_module": "@jupyter-widgets/base",
      "_model_module_version": "1.2.0",
      "_model_name": "LayoutModel",
      "_view_count": null,
      "_view_module": "@jupyter-widgets/base",
      "_view_module_version": "1.2.0",
      "_view_name": "LayoutView",
      "align_content": null,
      "align_items": null,
      "align_self": null,
      "border": null,
      "bottom": null,
      "display": null,
      "flex": null,
      "flex_flow": null,
      "grid_area": null,
      "grid_auto_columns": null,
      "grid_auto_flow": null,
      "grid_auto_rows": null,
      "grid_column": null,
      "grid_gap": null,
      "grid_row": null,
      "grid_template_areas": null,
      "grid_template_columns": null,
      "grid_template_rows": null,
      "height": null,
      "justify_content": null,
      "justify_items": null,
      "left": null,
      "margin": null,
      "max_height": null,
      "max_width": null,
      "min_height": null,
      "min_width": null,
      "object_fit": null,
      "object_position": null,
      "order": null,
      "overflow": null,
      "overflow_x": null,
      "overflow_y": null,
      "padding": null,
      "right": null,
      "top": null,
      "visibility": null,
      "width": null
     }
    },
    "fbc115982c0943a1924b98a13f51f340": {
     "model_module": "@jupyter-widgets/base",
     "model_module_version": "1.2.0",
     "model_name": "LayoutModel",
     "state": {
      "_model_module": "@jupyter-widgets/base",
      "_model_module_version": "1.2.0",
      "_model_name": "LayoutModel",
      "_view_count": null,
      "_view_module": "@jupyter-widgets/base",
      "_view_module_version": "1.2.0",
      "_view_name": "LayoutView",
      "align_content": null,
      "align_items": null,
      "align_self": null,
      "border": null,
      "bottom": null,
      "display": null,
      "flex": null,
      "flex_flow": null,
      "grid_area": null,
      "grid_auto_columns": null,
      "grid_auto_flow": null,
      "grid_auto_rows": null,
      "grid_column": null,
      "grid_gap": null,
      "grid_row": null,
      "grid_template_areas": null,
      "grid_template_columns": null,
      "grid_template_rows": null,
      "height": null,
      "justify_content": null,
      "justify_items": null,
      "left": null,
      "margin": null,
      "max_height": null,
      "max_width": null,
      "min_height": null,
      "min_width": null,
      "object_fit": null,
      "object_position": null,
      "order": null,
      "overflow": null,
      "overflow_x": null,
      "overflow_y": null,
      "padding": null,
      "right": null,
      "top": null,
      "visibility": null,
      "width": null
     }
    },
    "fc42f8fb88de472aae7dce509c3608d6": {
     "model_module": "@jupyter-widgets/base",
     "model_module_version": "1.2.0",
     "model_name": "LayoutModel",
     "state": {
      "_model_module": "@jupyter-widgets/base",
      "_model_module_version": "1.2.0",
      "_model_name": "LayoutModel",
      "_view_count": null,
      "_view_module": "@jupyter-widgets/base",
      "_view_module_version": "1.2.0",
      "_view_name": "LayoutView",
      "align_content": null,
      "align_items": null,
      "align_self": null,
      "border": null,
      "bottom": null,
      "display": null,
      "flex": null,
      "flex_flow": null,
      "grid_area": null,
      "grid_auto_columns": null,
      "grid_auto_flow": null,
      "grid_auto_rows": null,
      "grid_column": null,
      "grid_gap": null,
      "grid_row": null,
      "grid_template_areas": null,
      "grid_template_columns": null,
      "grid_template_rows": null,
      "height": null,
      "justify_content": null,
      "justify_items": null,
      "left": null,
      "margin": null,
      "max_height": null,
      "max_width": null,
      "min_height": null,
      "min_width": null,
      "object_fit": null,
      "object_position": null,
      "order": null,
      "overflow": null,
      "overflow_x": null,
      "overflow_y": null,
      "padding": null,
      "right": null,
      "top": null,
      "visibility": null,
      "width": null
     }
    },
    "ffda1fb6bdaa4aff97b6188cd5d23e5d": {
     "model_module": "@jupyter-widgets/controls",
     "model_module_version": "1.5.0",
     "model_name": "DescriptionStyleModel",
     "state": {
      "_model_module": "@jupyter-widgets/controls",
      "_model_module_version": "1.5.0",
      "_model_name": "DescriptionStyleModel",
      "_view_count": null,
      "_view_module": "@jupyter-widgets/base",
      "_view_module_version": "1.2.0",
      "_view_name": "StyleView",
      "description_width": ""
     }
    }
   }
  }
 },
 "nbformat": 4,
 "nbformat_minor": 4
}
