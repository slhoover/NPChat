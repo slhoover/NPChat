{
 "cells": [
  {
   "cell_type": "code",
   "execution_count": 1,
   "id": "060da34f",
   "metadata": {},
   "outputs": [
    {
     "name": "stderr",
     "output_type": "stream",
     "text": [
      "/Users/sarahhoover/miniforge3/envs/w207_final/lib/python3.10/site-packages/tqdm/auto.py:22: TqdmWarning: IProgress not found. Please update jupyter and ipywidgets. See https://ipywidgets.readthedocs.io/en/stable/user_install.html\n",
      "  from .autonotebook import tqdm as notebook_tqdm\n"
     ]
    }
   ],
   "source": [
    "from transformers import AutoModelForSeq2SeqLM, DataCollatorForSeq2Seq, Seq2SeqTrainingArguments, Seq2SeqTrainer\n",
    "from transformers import T5Tokenizer, T5Model, T5ForConditionalGeneration, AutoModelForSequenceClassification, AutoModelForSeq2SeqLM\n",
    "\n",
    "from transformers import AutoTokenizer\n",
    "import os\n",
    "import nltk\n",
    "from nltk.data import find\n",
    "\n",
    "import transformers\n",
    "\n",
    "import re\n",
    "import torch"
   ]
  },
  {
   "cell_type": "code",
   "execution_count": 2,
   "id": "7c905e1a",
   "metadata": {},
   "outputs": [],
   "source": [
    "# Indicator for whether we want to delete the existing DB or append to what's already there\n",
    "delete = False"
   ]
  },
  {
   "cell_type": "code",
   "execution_count": 3,
   "id": "6739c0dc",
   "metadata": {},
   "outputs": [
    {
     "name": "stdout",
     "output_type": "stream",
     "text": [
      "(2, 384)\n"
     ]
    }
   ],
   "source": [
    "# Code borrowed and adapted from: https://www.pinecone.io/learn/retrieval-augmented-generation/\n",
    "\n",
    "# Import an encoder for sentence-level embeddings\n",
    "from sentence_transformers import SentenceTransformer\n",
    "\n",
    "# Check that it works with an example\n",
    "sentences = [\"This is an example sentence\", \"Each sentence is converted\"]\n",
    "\n",
    "encoder = SentenceTransformer('sentence-transformers/all-MiniLM-L6-v2')\n",
    "embeddings = encoder.encode(sentences)\n",
    "print(embeddings.shape)"
   ]
  },
  {
   "cell_type": "code",
   "execution_count": 4,
   "id": "84905a00",
   "metadata": {},
   "outputs": [],
   "source": [
    "from typing import List\n",
    "import numpy as np\n",
    "\n",
    "# Function to encode a list of text into the embedding space we just imported\n",
    "def embed_docs(docs: List[str]) -> List[List[float]]:\n",
    "    out = encoder.encode(docs)\n",
    "    return out.tolist()"
   ]
  },
  {
   "cell_type": "code",
   "execution_count": 5,
   "id": "331c4a05",
   "metadata": {},
   "outputs": [],
   "source": [
    "import pinecone"
   ]
  },
  {
   "cell_type": "code",
   "execution_count": 6,
   "id": "042fa510",
   "metadata": {},
   "outputs": [],
   "source": [
    "# add Pinecone API key from app.pinecone.io\n",
    "api_key = \"828c0ba7-fbe7-4f81-bd61-5b9c8ae0912a\"\n",
    "# set Pinecone environment - find next to API key in console\n",
    "env = \"gcp-starter\"\n",
    "pinecone.init(\n",
    "    api_key=api_key,\n",
    "    environment=env\n",
    ")"
   ]
  },
  {
   "cell_type": "code",
   "execution_count": 7,
   "id": "0aa74b66",
   "metadata": {},
   "outputs": [],
   "source": [
    "import time\n",
    "\n",
    "# Actually create the database\n",
    "index_name = 'npc-rag'\n",
    "\n",
    "# If it's already there, delete it and replace it\n",
    "if delete:\n",
    "    if index_name in pinecone.list_indexes():\n",
    "        pinecone.delete_index(index_name)\n",
    "\n",
    "    # Instantiate it\n",
    "        pinecone.create_index(\n",
    "            name=index_name,\n",
    "            # Dimension will be the dimension of the embeddings model we imported\n",
    "            dimension=embeddings.shape[1],\n",
    "            # Using cosine similarity to query the docs\n",
    "            metric='cosine'\n",
    "            )\n",
    "        \n",
    "\n",
    "    # wait for index to finish initialization\n",
    "    while not pinecone.describe_index(index_name).status['ready']:\n",
    "        time.sleep(1)\n",
    "        \n",
    "# Otherwise we will just add to the existing DB"
   ]
  },
  {
   "cell_type": "code",
   "execution_count": 8,
   "id": "e9b57164",
   "metadata": {},
   "outputs": [
    {
     "name": "stderr",
     "output_type": "stream",
     "text": [
      "100%|████████████████████████████████████████████████████████████████████████████████████████████████████| 3/3 [00:02<00:00,  1.01it/s]\n"
     ]
    }
   ],
   "source": [
    "# Now we need to encode the data we want to use and upload that to the pinecone db\n",
    "from tqdm.auto import tqdm\n",
    "\n",
    "# Keeping defaults from code\n",
    "batch_size = 2  # can increase but needs larger instance size otherwise instance runs out of memory\n",
    "vector_limit = 1000\n",
    "\n",
    "answers = [\"The magic key is under the bridge\", \"The sword is in the cave next to town\",\n",
    "          \"The magic wand is located at Olivander's wand shop\", \"The shield is in the spirit temple\",\n",
    "          \"When paired together the sword and the shield can defeat the boss\"]\n",
    "\n",
    "index_name = 'npc-rag'\n",
    "index = pinecone.Index(index_name)\n",
    "\n",
    "for i in tqdm(range(0, len(answers), batch_size)):\n",
    "    # find end of batch\n",
    "    i_end = min(i+batch_size, len(answers))\n",
    "    # create IDs batch\n",
    "    ids = [str(x+900) for x in range(i, i_end)]\n",
    "    # create metadata batch\n",
    "    metadatas = [{'text': text} for text in answers[i:i_end]]\n",
    "    # create embeddings\n",
    "    texts = answers[i:i_end]\n",
    "    embeddings = embed_docs(texts)\n",
    "    # create records list for upsert\n",
    "    records = zip(ids, embeddings, metadatas)\n",
    "    # upsert to Pinecone\n",
    "    index.upsert(vectors=records)"
   ]
  },
  {
   "cell_type": "code",
   "execution_count": 14,
   "id": "385f2664",
   "metadata": {},
   "outputs": [
    {
     "data": {
      "text/plain": [
       "{'dimension': 384,\n",
       " 'index_fullness': 6e-05,\n",
       " 'namespaces': {'': {'vector_count': 6}},\n",
       " 'total_vector_count': 6}"
      ]
     },
     "execution_count": 14,
     "metadata": {},
     "output_type": "execute_result"
    }
   ],
   "source": [
    "# check number of records in the index\n",
    "index.describe_index_stats()"
   ]
  },
  {
   "cell_type": "code",
   "execution_count": 15,
   "id": "7d9468de",
   "metadata": {},
   "outputs": [],
   "source": [
    "question = [\"Where is the magic key?\"]"
   ]
  },
  {
   "cell_type": "code",
   "execution_count": 16,
   "id": "cbc67f07",
   "metadata": {},
   "outputs": [
    {
     "data": {
      "text/plain": [
       "{'matches': [{'id': '900',\n",
       "              'metadata': {'text': 'The magic key is under the bridge'},\n",
       "              'score': 0.758217931,\n",
       "              'values': []},\n",
       "             {'id': '0',\n",
       "              'metadata': {'text': 'The magic key is under the bridge'},\n",
       "              'score': 0.758217931,\n",
       "              'values': []},\n",
       "             {'id': '902',\n",
       "              'metadata': {'text': \"The magic wand is located at Olivander's \"\n",
       "                                   'wand shop'},\n",
       "              'score': 0.497206271,\n",
       "              'values': []},\n",
       "             {'id': '901',\n",
       "              'metadata': {'text': 'The sword is in the cave next to town'},\n",
       "              'score': 0.320037067,\n",
       "              'values': []},\n",
       "             {'id': '903',\n",
       "              'metadata': {'text': 'The shield is in the spirit temple'},\n",
       "              'score': 0.312742978,\n",
       "              'values': []},\n",
       "             {'id': '904',\n",
       "              'metadata': {'text': 'When paired together the sword and the '\n",
       "                                   'shield can defeat the boss'},\n",
       "              'score': 0.13391155,\n",
       "              'values': []}],\n",
       " 'namespace': ''}"
      ]
     },
     "execution_count": 16,
     "metadata": {},
     "output_type": "execute_result"
    }
   ],
   "source": [
    "# extract embeddings for the questions\n",
    "query_vec = embed_docs(question)[0]\n",
    "\n",
    "# query pinecone\n",
    "res = index.query(query_vec, top_k=10, include_metadata=True)\n",
    "\n",
    "# show the results\n",
    "res"
   ]
  },
  {
   "cell_type": "code",
   "execution_count": null,
   "id": "daa1e6cf",
   "metadata": {},
   "outputs": [],
   "source": [
    "index.delete(ids=['0'])"
   ]
  },
  {
   "cell_type": "code",
   "execution_count": null,
   "id": "bdb607aa",
   "metadata": {},
   "outputs": [],
   "source": []
  }
 ],
 "metadata": {
  "kernelspec": {
   "display_name": "Python 3 (ipykernel)",
   "language": "python",
   "name": "python3"
  },
  "language_info": {
   "codemirror_mode": {
    "name": "ipython",
    "version": 3
   },
   "file_extension": ".py",
   "mimetype": "text/x-python",
   "name": "python",
   "nbconvert_exporter": "python",
   "pygments_lexer": "ipython3",
   "version": "3.10.5"
  }
 },
 "nbformat": 4,
 "nbformat_minor": 5
}
