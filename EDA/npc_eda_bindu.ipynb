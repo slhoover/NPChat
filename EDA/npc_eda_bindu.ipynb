{
  "nbformat": 4,
  "nbformat_minor": 0,
  "metadata": {
    "colab": {
      "provenance": [],
      "machine_shape": "hm",
      "gpuType": "T4"
    },
    "kernelspec": {
      "name": "python3",
      "display_name": "Python 3"
    },
    "language_info": {
      "name": "python"
    },
    "accelerator": "GPU",
    "widgets": {
      "application/vnd.jupyter.widget-state+json": {
        "d3f3f2f3eae14a17b9477f952b4d4fee": {
          "model_module": "@jupyter-widgets/controls",
          "model_name": "HBoxModel",
          "model_module_version": "1.5.0",
          "state": {
            "_dom_classes": [],
            "_model_module": "@jupyter-widgets/controls",
            "_model_module_version": "1.5.0",
            "_model_name": "HBoxModel",
            "_view_count": null,
            "_view_module": "@jupyter-widgets/controls",
            "_view_module_version": "1.5.0",
            "_view_name": "HBoxView",
            "box_style": "",
            "children": [
              "IPY_MODEL_ab4d7db78f2740ce8e0252c00b241c49",
              "IPY_MODEL_4b22ddcc099f4aa28efdebfe1c2c515b",
              "IPY_MODEL_95db17a0f6e140adaf911ec6df14fee5"
            ],
            "layout": "IPY_MODEL_59f9c42edda04e43bfcea2774a8882b3"
          }
        },
        "ab4d7db78f2740ce8e0252c00b241c49": {
          "model_module": "@jupyter-widgets/controls",
          "model_name": "HTMLModel",
          "model_module_version": "1.5.0",
          "state": {
            "_dom_classes": [],
            "_model_module": "@jupyter-widgets/controls",
            "_model_module_version": "1.5.0",
            "_model_name": "HTMLModel",
            "_view_count": null,
            "_view_module": "@jupyter-widgets/controls",
            "_view_module_version": "1.5.0",
            "_view_name": "HTMLView",
            "description": "",
            "description_tooltip": null,
            "layout": "IPY_MODEL_10aea599454c43269a63164324caa4a3",
            "placeholder": "​",
            "style": "IPY_MODEL_310af01276e443a0aeb98c70fd2e5b64",
            "value": "Downloading readme: 100%"
          }
        },
        "4b22ddcc099f4aa28efdebfe1c2c515b": {
          "model_module": "@jupyter-widgets/controls",
          "model_name": "FloatProgressModel",
          "model_module_version": "1.5.0",
          "state": {
            "_dom_classes": [],
            "_model_module": "@jupyter-widgets/controls",
            "_model_module_version": "1.5.0",
            "_model_name": "FloatProgressModel",
            "_view_count": null,
            "_view_module": "@jupyter-widgets/controls",
            "_view_module_version": "1.5.0",
            "_view_name": "ProgressView",
            "bar_style": "success",
            "description": "",
            "description_tooltip": null,
            "layout": "IPY_MODEL_455139a352f54e2a9ccefe6023fd7139",
            "max": 579,
            "min": 0,
            "orientation": "horizontal",
            "style": "IPY_MODEL_b6ce19c157584b87ae9c5ed05c2b54c2",
            "value": 579
          }
        },
        "95db17a0f6e140adaf911ec6df14fee5": {
          "model_module": "@jupyter-widgets/controls",
          "model_name": "HTMLModel",
          "model_module_version": "1.5.0",
          "state": {
            "_dom_classes": [],
            "_model_module": "@jupyter-widgets/controls",
            "_model_module_version": "1.5.0",
            "_model_name": "HTMLModel",
            "_view_count": null,
            "_view_module": "@jupyter-widgets/controls",
            "_view_module_version": "1.5.0",
            "_view_name": "HTMLView",
            "description": "",
            "description_tooltip": null,
            "layout": "IPY_MODEL_7a7223d4a50e4b0db5cf9ac3128dbc35",
            "placeholder": "​",
            "style": "IPY_MODEL_fc71160191ee48bcbb0925afc78b5b00",
            "value": " 579/579 [00:00&lt;00:00, 42.1kB/s]"
          }
        },
        "59f9c42edda04e43bfcea2774a8882b3": {
          "model_module": "@jupyter-widgets/base",
          "model_name": "LayoutModel",
          "model_module_version": "1.2.0",
          "state": {
            "_model_module": "@jupyter-widgets/base",
            "_model_module_version": "1.2.0",
            "_model_name": "LayoutModel",
            "_view_count": null,
            "_view_module": "@jupyter-widgets/base",
            "_view_module_version": "1.2.0",
            "_view_name": "LayoutView",
            "align_content": null,
            "align_items": null,
            "align_self": null,
            "border": null,
            "bottom": null,
            "display": null,
            "flex": null,
            "flex_flow": null,
            "grid_area": null,
            "grid_auto_columns": null,
            "grid_auto_flow": null,
            "grid_auto_rows": null,
            "grid_column": null,
            "grid_gap": null,
            "grid_row": null,
            "grid_template_areas": null,
            "grid_template_columns": null,
            "grid_template_rows": null,
            "height": null,
            "justify_content": null,
            "justify_items": null,
            "left": null,
            "margin": null,
            "max_height": null,
            "max_width": null,
            "min_height": null,
            "min_width": null,
            "object_fit": null,
            "object_position": null,
            "order": null,
            "overflow": null,
            "overflow_x": null,
            "overflow_y": null,
            "padding": null,
            "right": null,
            "top": null,
            "visibility": null,
            "width": null
          }
        },
        "10aea599454c43269a63164324caa4a3": {
          "model_module": "@jupyter-widgets/base",
          "model_name": "LayoutModel",
          "model_module_version": "1.2.0",
          "state": {
            "_model_module": "@jupyter-widgets/base",
            "_model_module_version": "1.2.0",
            "_model_name": "LayoutModel",
            "_view_count": null,
            "_view_module": "@jupyter-widgets/base",
            "_view_module_version": "1.2.0",
            "_view_name": "LayoutView",
            "align_content": null,
            "align_items": null,
            "align_self": null,
            "border": null,
            "bottom": null,
            "display": null,
            "flex": null,
            "flex_flow": null,
            "grid_area": null,
            "grid_auto_columns": null,
            "grid_auto_flow": null,
            "grid_auto_rows": null,
            "grid_column": null,
            "grid_gap": null,
            "grid_row": null,
            "grid_template_areas": null,
            "grid_template_columns": null,
            "grid_template_rows": null,
            "height": null,
            "justify_content": null,
            "justify_items": null,
            "left": null,
            "margin": null,
            "max_height": null,
            "max_width": null,
            "min_height": null,
            "min_width": null,
            "object_fit": null,
            "object_position": null,
            "order": null,
            "overflow": null,
            "overflow_x": null,
            "overflow_y": null,
            "padding": null,
            "right": null,
            "top": null,
            "visibility": null,
            "width": null
          }
        },
        "310af01276e443a0aeb98c70fd2e5b64": {
          "model_module": "@jupyter-widgets/controls",
          "model_name": "DescriptionStyleModel",
          "model_module_version": "1.5.0",
          "state": {
            "_model_module": "@jupyter-widgets/controls",
            "_model_module_version": "1.5.0",
            "_model_name": "DescriptionStyleModel",
            "_view_count": null,
            "_view_module": "@jupyter-widgets/base",
            "_view_module_version": "1.2.0",
            "_view_name": "StyleView",
            "description_width": ""
          }
        },
        "455139a352f54e2a9ccefe6023fd7139": {
          "model_module": "@jupyter-widgets/base",
          "model_name": "LayoutModel",
          "model_module_version": "1.2.0",
          "state": {
            "_model_module": "@jupyter-widgets/base",
            "_model_module_version": "1.2.0",
            "_model_name": "LayoutModel",
            "_view_count": null,
            "_view_module": "@jupyter-widgets/base",
            "_view_module_version": "1.2.0",
            "_view_name": "LayoutView",
            "align_content": null,
            "align_items": null,
            "align_self": null,
            "border": null,
            "bottom": null,
            "display": null,
            "flex": null,
            "flex_flow": null,
            "grid_area": null,
            "grid_auto_columns": null,
            "grid_auto_flow": null,
            "grid_auto_rows": null,
            "grid_column": null,
            "grid_gap": null,
            "grid_row": null,
            "grid_template_areas": null,
            "grid_template_columns": null,
            "grid_template_rows": null,
            "height": null,
            "justify_content": null,
            "justify_items": null,
            "left": null,
            "margin": null,
            "max_height": null,
            "max_width": null,
            "min_height": null,
            "min_width": null,
            "object_fit": null,
            "object_position": null,
            "order": null,
            "overflow": null,
            "overflow_x": null,
            "overflow_y": null,
            "padding": null,
            "right": null,
            "top": null,
            "visibility": null,
            "width": null
          }
        },
        "b6ce19c157584b87ae9c5ed05c2b54c2": {
          "model_module": "@jupyter-widgets/controls",
          "model_name": "ProgressStyleModel",
          "model_module_version": "1.5.0",
          "state": {
            "_model_module": "@jupyter-widgets/controls",
            "_model_module_version": "1.5.0",
            "_model_name": "ProgressStyleModel",
            "_view_count": null,
            "_view_module": "@jupyter-widgets/base",
            "_view_module_version": "1.2.0",
            "_view_name": "StyleView",
            "bar_color": null,
            "description_width": ""
          }
        },
        "7a7223d4a50e4b0db5cf9ac3128dbc35": {
          "model_module": "@jupyter-widgets/base",
          "model_name": "LayoutModel",
          "model_module_version": "1.2.0",
          "state": {
            "_model_module": "@jupyter-widgets/base",
            "_model_module_version": "1.2.0",
            "_model_name": "LayoutModel",
            "_view_count": null,
            "_view_module": "@jupyter-widgets/base",
            "_view_module_version": "1.2.0",
            "_view_name": "LayoutView",
            "align_content": null,
            "align_items": null,
            "align_self": null,
            "border": null,
            "bottom": null,
            "display": null,
            "flex": null,
            "flex_flow": null,
            "grid_area": null,
            "grid_auto_columns": null,
            "grid_auto_flow": null,
            "grid_auto_rows": null,
            "grid_column": null,
            "grid_gap": null,
            "grid_row": null,
            "grid_template_areas": null,
            "grid_template_columns": null,
            "grid_template_rows": null,
            "height": null,
            "justify_content": null,
            "justify_items": null,
            "left": null,
            "margin": null,
            "max_height": null,
            "max_width": null,
            "min_height": null,
            "min_width": null,
            "object_fit": null,
            "object_position": null,
            "order": null,
            "overflow": null,
            "overflow_x": null,
            "overflow_y": null,
            "padding": null,
            "right": null,
            "top": null,
            "visibility": null,
            "width": null
          }
        },
        "fc71160191ee48bcbb0925afc78b5b00": {
          "model_module": "@jupyter-widgets/controls",
          "model_name": "DescriptionStyleModel",
          "model_module_version": "1.5.0",
          "state": {
            "_model_module": "@jupyter-widgets/controls",
            "_model_module_version": "1.5.0",
            "_model_name": "DescriptionStyleModel",
            "_view_count": null,
            "_view_module": "@jupyter-widgets/base",
            "_view_module_version": "1.2.0",
            "_view_name": "StyleView",
            "description_width": ""
          }
        },
        "7aa0fa880b8043f6a016bebdcefc784e": {
          "model_module": "@jupyter-widgets/controls",
          "model_name": "HBoxModel",
          "model_module_version": "1.5.0",
          "state": {
            "_dom_classes": [],
            "_model_module": "@jupyter-widgets/controls",
            "_model_module_version": "1.5.0",
            "_model_name": "HBoxModel",
            "_view_count": null,
            "_view_module": "@jupyter-widgets/controls",
            "_view_module_version": "1.5.0",
            "_view_name": "HBoxView",
            "box_style": "",
            "children": [
              "IPY_MODEL_83fcda8042ea4eb1a4cf8bdb85ff2b54",
              "IPY_MODEL_697a286bc79f49bd85d6e5ced3b4e17b",
              "IPY_MODEL_aa83f86ad2e4429b8d5b089204c9fee1"
            ],
            "layout": "IPY_MODEL_1de7f7e7dbef4633ad4e9816f935a358"
          }
        },
        "83fcda8042ea4eb1a4cf8bdb85ff2b54": {
          "model_module": "@jupyter-widgets/controls",
          "model_name": "HTMLModel",
          "model_module_version": "1.5.0",
          "state": {
            "_dom_classes": [],
            "_model_module": "@jupyter-widgets/controls",
            "_model_module_version": "1.5.0",
            "_model_name": "HTMLModel",
            "_view_count": null,
            "_view_module": "@jupyter-widgets/controls",
            "_view_module_version": "1.5.0",
            "_view_name": "HTMLView",
            "description": "",
            "description_tooltip": null,
            "layout": "IPY_MODEL_d441a1d9363c48df905b27ac47ce6357",
            "placeholder": "​",
            "style": "IPY_MODEL_c31c7df9935b467b9f039510643d5593",
            "value": "Downloading data files: 100%"
          }
        },
        "697a286bc79f49bd85d6e5ced3b4e17b": {
          "model_module": "@jupyter-widgets/controls",
          "model_name": "FloatProgressModel",
          "model_module_version": "1.5.0",
          "state": {
            "_dom_classes": [],
            "_model_module": "@jupyter-widgets/controls",
            "_model_module_version": "1.5.0",
            "_model_name": "FloatProgressModel",
            "_view_count": null,
            "_view_module": "@jupyter-widgets/controls",
            "_view_module_version": "1.5.0",
            "_view_name": "ProgressView",
            "bar_style": "success",
            "description": "",
            "description_tooltip": null,
            "layout": "IPY_MODEL_21674ed0a6784dc0b51fa2a857591d24",
            "max": 2,
            "min": 0,
            "orientation": "horizontal",
            "style": "IPY_MODEL_2e3c089925c4410a8a199812bd083c20",
            "value": 2
          }
        },
        "aa83f86ad2e4429b8d5b089204c9fee1": {
          "model_module": "@jupyter-widgets/controls",
          "model_name": "HTMLModel",
          "model_module_version": "1.5.0",
          "state": {
            "_dom_classes": [],
            "_model_module": "@jupyter-widgets/controls",
            "_model_module_version": "1.5.0",
            "_model_name": "HTMLModel",
            "_view_count": null,
            "_view_module": "@jupyter-widgets/controls",
            "_view_module_version": "1.5.0",
            "_view_name": "HTMLView",
            "description": "",
            "description_tooltip": null,
            "layout": "IPY_MODEL_70e48cc2a6e74728b8a67bcb38874e10",
            "placeholder": "​",
            "style": "IPY_MODEL_dbf1ab4beda64612b26bfbad886164b2",
            "value": " 2/2 [00:03&lt;00:00,  1.79s/it]"
          }
        },
        "1de7f7e7dbef4633ad4e9816f935a358": {
          "model_module": "@jupyter-widgets/base",
          "model_name": "LayoutModel",
          "model_module_version": "1.2.0",
          "state": {
            "_model_module": "@jupyter-widgets/base",
            "_model_module_version": "1.2.0",
            "_model_name": "LayoutModel",
            "_view_count": null,
            "_view_module": "@jupyter-widgets/base",
            "_view_module_version": "1.2.0",
            "_view_name": "LayoutView",
            "align_content": null,
            "align_items": null,
            "align_self": null,
            "border": null,
            "bottom": null,
            "display": null,
            "flex": null,
            "flex_flow": null,
            "grid_area": null,
            "grid_auto_columns": null,
            "grid_auto_flow": null,
            "grid_auto_rows": null,
            "grid_column": null,
            "grid_gap": null,
            "grid_row": null,
            "grid_template_areas": null,
            "grid_template_columns": null,
            "grid_template_rows": null,
            "height": null,
            "justify_content": null,
            "justify_items": null,
            "left": null,
            "margin": null,
            "max_height": null,
            "max_width": null,
            "min_height": null,
            "min_width": null,
            "object_fit": null,
            "object_position": null,
            "order": null,
            "overflow": null,
            "overflow_x": null,
            "overflow_y": null,
            "padding": null,
            "right": null,
            "top": null,
            "visibility": null,
            "width": null
          }
        },
        "d441a1d9363c48df905b27ac47ce6357": {
          "model_module": "@jupyter-widgets/base",
          "model_name": "LayoutModel",
          "model_module_version": "1.2.0",
          "state": {
            "_model_module": "@jupyter-widgets/base",
            "_model_module_version": "1.2.0",
            "_model_name": "LayoutModel",
            "_view_count": null,
            "_view_module": "@jupyter-widgets/base",
            "_view_module_version": "1.2.0",
            "_view_name": "LayoutView",
            "align_content": null,
            "align_items": null,
            "align_self": null,
            "border": null,
            "bottom": null,
            "display": null,
            "flex": null,
            "flex_flow": null,
            "grid_area": null,
            "grid_auto_columns": null,
            "grid_auto_flow": null,
            "grid_auto_rows": null,
            "grid_column": null,
            "grid_gap": null,
            "grid_row": null,
            "grid_template_areas": null,
            "grid_template_columns": null,
            "grid_template_rows": null,
            "height": null,
            "justify_content": null,
            "justify_items": null,
            "left": null,
            "margin": null,
            "max_height": null,
            "max_width": null,
            "min_height": null,
            "min_width": null,
            "object_fit": null,
            "object_position": null,
            "order": null,
            "overflow": null,
            "overflow_x": null,
            "overflow_y": null,
            "padding": null,
            "right": null,
            "top": null,
            "visibility": null,
            "width": null
          }
        },
        "c31c7df9935b467b9f039510643d5593": {
          "model_module": "@jupyter-widgets/controls",
          "model_name": "DescriptionStyleModel",
          "model_module_version": "1.5.0",
          "state": {
            "_model_module": "@jupyter-widgets/controls",
            "_model_module_version": "1.5.0",
            "_model_name": "DescriptionStyleModel",
            "_view_count": null,
            "_view_module": "@jupyter-widgets/base",
            "_view_module_version": "1.2.0",
            "_view_name": "StyleView",
            "description_width": ""
          }
        },
        "21674ed0a6784dc0b51fa2a857591d24": {
          "model_module": "@jupyter-widgets/base",
          "model_name": "LayoutModel",
          "model_module_version": "1.2.0",
          "state": {
            "_model_module": "@jupyter-widgets/base",
            "_model_module_version": "1.2.0",
            "_model_name": "LayoutModel",
            "_view_count": null,
            "_view_module": "@jupyter-widgets/base",
            "_view_module_version": "1.2.0",
            "_view_name": "LayoutView",
            "align_content": null,
            "align_items": null,
            "align_self": null,
            "border": null,
            "bottom": null,
            "display": null,
            "flex": null,
            "flex_flow": null,
            "grid_area": null,
            "grid_auto_columns": null,
            "grid_auto_flow": null,
            "grid_auto_rows": null,
            "grid_column": null,
            "grid_gap": null,
            "grid_row": null,
            "grid_template_areas": null,
            "grid_template_columns": null,
            "grid_template_rows": null,
            "height": null,
            "justify_content": null,
            "justify_items": null,
            "left": null,
            "margin": null,
            "max_height": null,
            "max_width": null,
            "min_height": null,
            "min_width": null,
            "object_fit": null,
            "object_position": null,
            "order": null,
            "overflow": null,
            "overflow_x": null,
            "overflow_y": null,
            "padding": null,
            "right": null,
            "top": null,
            "visibility": null,
            "width": null
          }
        },
        "2e3c089925c4410a8a199812bd083c20": {
          "model_module": "@jupyter-widgets/controls",
          "model_name": "ProgressStyleModel",
          "model_module_version": "1.5.0",
          "state": {
            "_model_module": "@jupyter-widgets/controls",
            "_model_module_version": "1.5.0",
            "_model_name": "ProgressStyleModel",
            "_view_count": null,
            "_view_module": "@jupyter-widgets/base",
            "_view_module_version": "1.2.0",
            "_view_name": "StyleView",
            "bar_color": null,
            "description_width": ""
          }
        },
        "70e48cc2a6e74728b8a67bcb38874e10": {
          "model_module": "@jupyter-widgets/base",
          "model_name": "LayoutModel",
          "model_module_version": "1.2.0",
          "state": {
            "_model_module": "@jupyter-widgets/base",
            "_model_module_version": "1.2.0",
            "_model_name": "LayoutModel",
            "_view_count": null,
            "_view_module": "@jupyter-widgets/base",
            "_view_module_version": "1.2.0",
            "_view_name": "LayoutView",
            "align_content": null,
            "align_items": null,
            "align_self": null,
            "border": null,
            "bottom": null,
            "display": null,
            "flex": null,
            "flex_flow": null,
            "grid_area": null,
            "grid_auto_columns": null,
            "grid_auto_flow": null,
            "grid_auto_rows": null,
            "grid_column": null,
            "grid_gap": null,
            "grid_row": null,
            "grid_template_areas": null,
            "grid_template_columns": null,
            "grid_template_rows": null,
            "height": null,
            "justify_content": null,
            "justify_items": null,
            "left": null,
            "margin": null,
            "max_height": null,
            "max_width": null,
            "min_height": null,
            "min_width": null,
            "object_fit": null,
            "object_position": null,
            "order": null,
            "overflow": null,
            "overflow_x": null,
            "overflow_y": null,
            "padding": null,
            "right": null,
            "top": null,
            "visibility": null,
            "width": null
          }
        },
        "dbf1ab4beda64612b26bfbad886164b2": {
          "model_module": "@jupyter-widgets/controls",
          "model_name": "DescriptionStyleModel",
          "model_module_version": "1.5.0",
          "state": {
            "_model_module": "@jupyter-widgets/controls",
            "_model_module_version": "1.5.0",
            "_model_name": "DescriptionStyleModel",
            "_view_count": null,
            "_view_module": "@jupyter-widgets/base",
            "_view_module_version": "1.2.0",
            "_view_name": "StyleView",
            "description_width": ""
          }
        },
        "36abc91cad184ceb8ddb6319f3e3b012": {
          "model_module": "@jupyter-widgets/controls",
          "model_name": "HBoxModel",
          "model_module_version": "1.5.0",
          "state": {
            "_dom_classes": [],
            "_model_module": "@jupyter-widgets/controls",
            "_model_module_version": "1.5.0",
            "_model_name": "HBoxModel",
            "_view_count": null,
            "_view_module": "@jupyter-widgets/controls",
            "_view_module_version": "1.5.0",
            "_view_name": "HBoxView",
            "box_style": "",
            "children": [
              "IPY_MODEL_e7abdcb1f0b54647892b0c53a2227892",
              "IPY_MODEL_a01d5007714e4cf0adc9bee7fc760a0e",
              "IPY_MODEL_3181843cf568428abdd663baa2f9442a"
            ],
            "layout": "IPY_MODEL_29784444eea447328794aaf3aae86e91"
          }
        },
        "e7abdcb1f0b54647892b0c53a2227892": {
          "model_module": "@jupyter-widgets/controls",
          "model_name": "HTMLModel",
          "model_module_version": "1.5.0",
          "state": {
            "_dom_classes": [],
            "_model_module": "@jupyter-widgets/controls",
            "_model_module_version": "1.5.0",
            "_model_name": "HTMLModel",
            "_view_count": null,
            "_view_module": "@jupyter-widgets/controls",
            "_view_module_version": "1.5.0",
            "_view_name": "HTMLView",
            "description": "",
            "description_tooltip": null,
            "layout": "IPY_MODEL_c86b175230a54fd2b071f3a3660ea71a",
            "placeholder": "​",
            "style": "IPY_MODEL_ffe534a3158e4bc4af120bf18799db29",
            "value": "Downloading data: 100%"
          }
        },
        "a01d5007714e4cf0adc9bee7fc760a0e": {
          "model_module": "@jupyter-widgets/controls",
          "model_name": "FloatProgressModel",
          "model_module_version": "1.5.0",
          "state": {
            "_dom_classes": [],
            "_model_module": "@jupyter-widgets/controls",
            "_model_module_version": "1.5.0",
            "_model_name": "FloatProgressModel",
            "_view_count": null,
            "_view_module": "@jupyter-widgets/controls",
            "_view_module_version": "1.5.0",
            "_view_name": "ProgressView",
            "bar_style": "success",
            "description": "",
            "description_tooltip": null,
            "layout": "IPY_MODEL_99b6c616349b43d3af1b7dd1a74d8f6a",
            "max": 165843,
            "min": 0,
            "orientation": "horizontal",
            "style": "IPY_MODEL_9d6db77d435e4780b177d2ac257f0b56",
            "value": 165843
          }
        },
        "3181843cf568428abdd663baa2f9442a": {
          "model_module": "@jupyter-widgets/controls",
          "model_name": "HTMLModel",
          "model_module_version": "1.5.0",
          "state": {
            "_dom_classes": [],
            "_model_module": "@jupyter-widgets/controls",
            "_model_module_version": "1.5.0",
            "_model_name": "HTMLModel",
            "_view_count": null,
            "_view_module": "@jupyter-widgets/controls",
            "_view_module_version": "1.5.0",
            "_view_name": "HTMLView",
            "description": "",
            "description_tooltip": null,
            "layout": "IPY_MODEL_0b3f641425c5411ea42929e75be7d9c3",
            "placeholder": "​",
            "style": "IPY_MODEL_92bf36ac47e8489993667d1416c0c513",
            "value": " 166k/166k [00:02&lt;00:00, 77.0kB/s]"
          }
        },
        "29784444eea447328794aaf3aae86e91": {
          "model_module": "@jupyter-widgets/base",
          "model_name": "LayoutModel",
          "model_module_version": "1.2.0",
          "state": {
            "_model_module": "@jupyter-widgets/base",
            "_model_module_version": "1.2.0",
            "_model_name": "LayoutModel",
            "_view_count": null,
            "_view_module": "@jupyter-widgets/base",
            "_view_module_version": "1.2.0",
            "_view_name": "LayoutView",
            "align_content": null,
            "align_items": null,
            "align_self": null,
            "border": null,
            "bottom": null,
            "display": null,
            "flex": null,
            "flex_flow": null,
            "grid_area": null,
            "grid_auto_columns": null,
            "grid_auto_flow": null,
            "grid_auto_rows": null,
            "grid_column": null,
            "grid_gap": null,
            "grid_row": null,
            "grid_template_areas": null,
            "grid_template_columns": null,
            "grid_template_rows": null,
            "height": null,
            "justify_content": null,
            "justify_items": null,
            "left": null,
            "margin": null,
            "max_height": null,
            "max_width": null,
            "min_height": null,
            "min_width": null,
            "object_fit": null,
            "object_position": null,
            "order": null,
            "overflow": null,
            "overflow_x": null,
            "overflow_y": null,
            "padding": null,
            "right": null,
            "top": null,
            "visibility": null,
            "width": null
          }
        },
        "c86b175230a54fd2b071f3a3660ea71a": {
          "model_module": "@jupyter-widgets/base",
          "model_name": "LayoutModel",
          "model_module_version": "1.2.0",
          "state": {
            "_model_module": "@jupyter-widgets/base",
            "_model_module_version": "1.2.0",
            "_model_name": "LayoutModel",
            "_view_count": null,
            "_view_module": "@jupyter-widgets/base",
            "_view_module_version": "1.2.0",
            "_view_name": "LayoutView",
            "align_content": null,
            "align_items": null,
            "align_self": null,
            "border": null,
            "bottom": null,
            "display": null,
            "flex": null,
            "flex_flow": null,
            "grid_area": null,
            "grid_auto_columns": null,
            "grid_auto_flow": null,
            "grid_auto_rows": null,
            "grid_column": null,
            "grid_gap": null,
            "grid_row": null,
            "grid_template_areas": null,
            "grid_template_columns": null,
            "grid_template_rows": null,
            "height": null,
            "justify_content": null,
            "justify_items": null,
            "left": null,
            "margin": null,
            "max_height": null,
            "max_width": null,
            "min_height": null,
            "min_width": null,
            "object_fit": null,
            "object_position": null,
            "order": null,
            "overflow": null,
            "overflow_x": null,
            "overflow_y": null,
            "padding": null,
            "right": null,
            "top": null,
            "visibility": null,
            "width": null
          }
        },
        "ffe534a3158e4bc4af120bf18799db29": {
          "model_module": "@jupyter-widgets/controls",
          "model_name": "DescriptionStyleModel",
          "model_module_version": "1.5.0",
          "state": {
            "_model_module": "@jupyter-widgets/controls",
            "_model_module_version": "1.5.0",
            "_model_name": "DescriptionStyleModel",
            "_view_count": null,
            "_view_module": "@jupyter-widgets/base",
            "_view_module_version": "1.2.0",
            "_view_name": "StyleView",
            "description_width": ""
          }
        },
        "99b6c616349b43d3af1b7dd1a74d8f6a": {
          "model_module": "@jupyter-widgets/base",
          "model_name": "LayoutModel",
          "model_module_version": "1.2.0",
          "state": {
            "_model_module": "@jupyter-widgets/base",
            "_model_module_version": "1.2.0",
            "_model_name": "LayoutModel",
            "_view_count": null,
            "_view_module": "@jupyter-widgets/base",
            "_view_module_version": "1.2.0",
            "_view_name": "LayoutView",
            "align_content": null,
            "align_items": null,
            "align_self": null,
            "border": null,
            "bottom": null,
            "display": null,
            "flex": null,
            "flex_flow": null,
            "grid_area": null,
            "grid_auto_columns": null,
            "grid_auto_flow": null,
            "grid_auto_rows": null,
            "grid_column": null,
            "grid_gap": null,
            "grid_row": null,
            "grid_template_areas": null,
            "grid_template_columns": null,
            "grid_template_rows": null,
            "height": null,
            "justify_content": null,
            "justify_items": null,
            "left": null,
            "margin": null,
            "max_height": null,
            "max_width": null,
            "min_height": null,
            "min_width": null,
            "object_fit": null,
            "object_position": null,
            "order": null,
            "overflow": null,
            "overflow_x": null,
            "overflow_y": null,
            "padding": null,
            "right": null,
            "top": null,
            "visibility": null,
            "width": null
          }
        },
        "9d6db77d435e4780b177d2ac257f0b56": {
          "model_module": "@jupyter-widgets/controls",
          "model_name": "ProgressStyleModel",
          "model_module_version": "1.5.0",
          "state": {
            "_model_module": "@jupyter-widgets/controls",
            "_model_module_version": "1.5.0",
            "_model_name": "ProgressStyleModel",
            "_view_count": null,
            "_view_module": "@jupyter-widgets/base",
            "_view_module_version": "1.2.0",
            "_view_name": "StyleView",
            "bar_color": null,
            "description_width": ""
          }
        },
        "0b3f641425c5411ea42929e75be7d9c3": {
          "model_module": "@jupyter-widgets/base",
          "model_name": "LayoutModel",
          "model_module_version": "1.2.0",
          "state": {
            "_model_module": "@jupyter-widgets/base",
            "_model_module_version": "1.2.0",
            "_model_name": "LayoutModel",
            "_view_count": null,
            "_view_module": "@jupyter-widgets/base",
            "_view_module_version": "1.2.0",
            "_view_name": "LayoutView",
            "align_content": null,
            "align_items": null,
            "align_self": null,
            "border": null,
            "bottom": null,
            "display": null,
            "flex": null,
            "flex_flow": null,
            "grid_area": null,
            "grid_auto_columns": null,
            "grid_auto_flow": null,
            "grid_auto_rows": null,
            "grid_column": null,
            "grid_gap": null,
            "grid_row": null,
            "grid_template_areas": null,
            "grid_template_columns": null,
            "grid_template_rows": null,
            "height": null,
            "justify_content": null,
            "justify_items": null,
            "left": null,
            "margin": null,
            "max_height": null,
            "max_width": null,
            "min_height": null,
            "min_width": null,
            "object_fit": null,
            "object_position": null,
            "order": null,
            "overflow": null,
            "overflow_x": null,
            "overflow_y": null,
            "padding": null,
            "right": null,
            "top": null,
            "visibility": null,
            "width": null
          }
        },
        "92bf36ac47e8489993667d1416c0c513": {
          "model_module": "@jupyter-widgets/controls",
          "model_name": "DescriptionStyleModel",
          "model_module_version": "1.5.0",
          "state": {
            "_model_module": "@jupyter-widgets/controls",
            "_model_module_version": "1.5.0",
            "_model_name": "DescriptionStyleModel",
            "_view_count": null,
            "_view_module": "@jupyter-widgets/base",
            "_view_module_version": "1.2.0",
            "_view_name": "StyleView",
            "description_width": ""
          }
        },
        "2de562287c884566abdb3c9b7772a70f": {
          "model_module": "@jupyter-widgets/controls",
          "model_name": "HBoxModel",
          "model_module_version": "1.5.0",
          "state": {
            "_dom_classes": [],
            "_model_module": "@jupyter-widgets/controls",
            "_model_module_version": "1.5.0",
            "_model_name": "HBoxModel",
            "_view_count": null,
            "_view_module": "@jupyter-widgets/controls",
            "_view_module_version": "1.5.0",
            "_view_name": "HBoxView",
            "box_style": "",
            "children": [
              "IPY_MODEL_841d2e0a96f54ff38ed6a63b93218a69",
              "IPY_MODEL_06c7e9edddb14faf9596fe8327c3a749",
              "IPY_MODEL_d58a130211ff4fc4914defa42f6ceb45"
            ],
            "layout": "IPY_MODEL_e782e6dad66e4535a48a4663c165830b"
          }
        },
        "841d2e0a96f54ff38ed6a63b93218a69": {
          "model_module": "@jupyter-widgets/controls",
          "model_name": "HTMLModel",
          "model_module_version": "1.5.0",
          "state": {
            "_dom_classes": [],
            "_model_module": "@jupyter-widgets/controls",
            "_model_module_version": "1.5.0",
            "_model_name": "HTMLModel",
            "_view_count": null,
            "_view_module": "@jupyter-widgets/controls",
            "_view_module_version": "1.5.0",
            "_view_name": "HTMLView",
            "description": "",
            "description_tooltip": null,
            "layout": "IPY_MODEL_80877b47986e46f9b96142fd3059d17d",
            "placeholder": "​",
            "style": "IPY_MODEL_815bb914e02d41ed8677c0345c7059ac",
            "value": "Downloading data: 100%"
          }
        },
        "06c7e9edddb14faf9596fe8327c3a749": {
          "model_module": "@jupyter-widgets/controls",
          "model_name": "FloatProgressModel",
          "model_module_version": "1.5.0",
          "state": {
            "_dom_classes": [],
            "_model_module": "@jupyter-widgets/controls",
            "_model_module_version": "1.5.0",
            "_model_name": "FloatProgressModel",
            "_view_count": null,
            "_view_module": "@jupyter-widgets/controls",
            "_view_module_version": "1.5.0",
            "_view_name": "ProgressView",
            "bar_style": "success",
            "description": "",
            "description_tooltip": null,
            "layout": "IPY_MODEL_59252518db8d47febddf77363e8c04f4",
            "max": 35716,
            "min": 0,
            "orientation": "horizontal",
            "style": "IPY_MODEL_b65cab5ba0c049889174520d60d2c491",
            "value": 35716
          }
        },
        "d58a130211ff4fc4914defa42f6ceb45": {
          "model_module": "@jupyter-widgets/controls",
          "model_name": "HTMLModel",
          "model_module_version": "1.5.0",
          "state": {
            "_dom_classes": [],
            "_model_module": "@jupyter-widgets/controls",
            "_model_module_version": "1.5.0",
            "_model_name": "HTMLModel",
            "_view_count": null,
            "_view_module": "@jupyter-widgets/controls",
            "_view_module_version": "1.5.0",
            "_view_name": "HTMLView",
            "description": "",
            "description_tooltip": null,
            "layout": "IPY_MODEL_b48b92928b594ccf8952d48cebec580e",
            "placeholder": "​",
            "style": "IPY_MODEL_f63c97d20ecd4dfd91628b16dc1334a8",
            "value": " 35.7k/35.7k [00:01&lt;00:00, 23.5kB/s]"
          }
        },
        "e782e6dad66e4535a48a4663c165830b": {
          "model_module": "@jupyter-widgets/base",
          "model_name": "LayoutModel",
          "model_module_version": "1.2.0",
          "state": {
            "_model_module": "@jupyter-widgets/base",
            "_model_module_version": "1.2.0",
            "_model_name": "LayoutModel",
            "_view_count": null,
            "_view_module": "@jupyter-widgets/base",
            "_view_module_version": "1.2.0",
            "_view_name": "LayoutView",
            "align_content": null,
            "align_items": null,
            "align_self": null,
            "border": null,
            "bottom": null,
            "display": null,
            "flex": null,
            "flex_flow": null,
            "grid_area": null,
            "grid_auto_columns": null,
            "grid_auto_flow": null,
            "grid_auto_rows": null,
            "grid_column": null,
            "grid_gap": null,
            "grid_row": null,
            "grid_template_areas": null,
            "grid_template_columns": null,
            "grid_template_rows": null,
            "height": null,
            "justify_content": null,
            "justify_items": null,
            "left": null,
            "margin": null,
            "max_height": null,
            "max_width": null,
            "min_height": null,
            "min_width": null,
            "object_fit": null,
            "object_position": null,
            "order": null,
            "overflow": null,
            "overflow_x": null,
            "overflow_y": null,
            "padding": null,
            "right": null,
            "top": null,
            "visibility": null,
            "width": null
          }
        },
        "80877b47986e46f9b96142fd3059d17d": {
          "model_module": "@jupyter-widgets/base",
          "model_name": "LayoutModel",
          "model_module_version": "1.2.0",
          "state": {
            "_model_module": "@jupyter-widgets/base",
            "_model_module_version": "1.2.0",
            "_model_name": "LayoutModel",
            "_view_count": null,
            "_view_module": "@jupyter-widgets/base",
            "_view_module_version": "1.2.0",
            "_view_name": "LayoutView",
            "align_content": null,
            "align_items": null,
            "align_self": null,
            "border": null,
            "bottom": null,
            "display": null,
            "flex": null,
            "flex_flow": null,
            "grid_area": null,
            "grid_auto_columns": null,
            "grid_auto_flow": null,
            "grid_auto_rows": null,
            "grid_column": null,
            "grid_gap": null,
            "grid_row": null,
            "grid_template_areas": null,
            "grid_template_columns": null,
            "grid_template_rows": null,
            "height": null,
            "justify_content": null,
            "justify_items": null,
            "left": null,
            "margin": null,
            "max_height": null,
            "max_width": null,
            "min_height": null,
            "min_width": null,
            "object_fit": null,
            "object_position": null,
            "order": null,
            "overflow": null,
            "overflow_x": null,
            "overflow_y": null,
            "padding": null,
            "right": null,
            "top": null,
            "visibility": null,
            "width": null
          }
        },
        "815bb914e02d41ed8677c0345c7059ac": {
          "model_module": "@jupyter-widgets/controls",
          "model_name": "DescriptionStyleModel",
          "model_module_version": "1.5.0",
          "state": {
            "_model_module": "@jupyter-widgets/controls",
            "_model_module_version": "1.5.0",
            "_model_name": "DescriptionStyleModel",
            "_view_count": null,
            "_view_module": "@jupyter-widgets/base",
            "_view_module_version": "1.2.0",
            "_view_name": "StyleView",
            "description_width": ""
          }
        },
        "59252518db8d47febddf77363e8c04f4": {
          "model_module": "@jupyter-widgets/base",
          "model_name": "LayoutModel",
          "model_module_version": "1.2.0",
          "state": {
            "_model_module": "@jupyter-widgets/base",
            "_model_module_version": "1.2.0",
            "_model_name": "LayoutModel",
            "_view_count": null,
            "_view_module": "@jupyter-widgets/base",
            "_view_module_version": "1.2.0",
            "_view_name": "LayoutView",
            "align_content": null,
            "align_items": null,
            "align_self": null,
            "border": null,
            "bottom": null,
            "display": null,
            "flex": null,
            "flex_flow": null,
            "grid_area": null,
            "grid_auto_columns": null,
            "grid_auto_flow": null,
            "grid_auto_rows": null,
            "grid_column": null,
            "grid_gap": null,
            "grid_row": null,
            "grid_template_areas": null,
            "grid_template_columns": null,
            "grid_template_rows": null,
            "height": null,
            "justify_content": null,
            "justify_items": null,
            "left": null,
            "margin": null,
            "max_height": null,
            "max_width": null,
            "min_height": null,
            "min_width": null,
            "object_fit": null,
            "object_position": null,
            "order": null,
            "overflow": null,
            "overflow_x": null,
            "overflow_y": null,
            "padding": null,
            "right": null,
            "top": null,
            "visibility": null,
            "width": null
          }
        },
        "b65cab5ba0c049889174520d60d2c491": {
          "model_module": "@jupyter-widgets/controls",
          "model_name": "ProgressStyleModel",
          "model_module_version": "1.5.0",
          "state": {
            "_model_module": "@jupyter-widgets/controls",
            "_model_module_version": "1.5.0",
            "_model_name": "ProgressStyleModel",
            "_view_count": null,
            "_view_module": "@jupyter-widgets/base",
            "_view_module_version": "1.2.0",
            "_view_name": "StyleView",
            "bar_color": null,
            "description_width": ""
          }
        },
        "b48b92928b594ccf8952d48cebec580e": {
          "model_module": "@jupyter-widgets/base",
          "model_name": "LayoutModel",
          "model_module_version": "1.2.0",
          "state": {
            "_model_module": "@jupyter-widgets/base",
            "_model_module_version": "1.2.0",
            "_model_name": "LayoutModel",
            "_view_count": null,
            "_view_module": "@jupyter-widgets/base",
            "_view_module_version": "1.2.0",
            "_view_name": "LayoutView",
            "align_content": null,
            "align_items": null,
            "align_self": null,
            "border": null,
            "bottom": null,
            "display": null,
            "flex": null,
            "flex_flow": null,
            "grid_area": null,
            "grid_auto_columns": null,
            "grid_auto_flow": null,
            "grid_auto_rows": null,
            "grid_column": null,
            "grid_gap": null,
            "grid_row": null,
            "grid_template_areas": null,
            "grid_template_columns": null,
            "grid_template_rows": null,
            "height": null,
            "justify_content": null,
            "justify_items": null,
            "left": null,
            "margin": null,
            "max_height": null,
            "max_width": null,
            "min_height": null,
            "min_width": null,
            "object_fit": null,
            "object_position": null,
            "order": null,
            "overflow": null,
            "overflow_x": null,
            "overflow_y": null,
            "padding": null,
            "right": null,
            "top": null,
            "visibility": null,
            "width": null
          }
        },
        "f63c97d20ecd4dfd91628b16dc1334a8": {
          "model_module": "@jupyter-widgets/controls",
          "model_name": "DescriptionStyleModel",
          "model_module_version": "1.5.0",
          "state": {
            "_model_module": "@jupyter-widgets/controls",
            "_model_module_version": "1.5.0",
            "_model_name": "DescriptionStyleModel",
            "_view_count": null,
            "_view_module": "@jupyter-widgets/base",
            "_view_module_version": "1.2.0",
            "_view_name": "StyleView",
            "description_width": ""
          }
        },
        "1c297b2defd742be807d18dfcf551f4c": {
          "model_module": "@jupyter-widgets/controls",
          "model_name": "HBoxModel",
          "model_module_version": "1.5.0",
          "state": {
            "_dom_classes": [],
            "_model_module": "@jupyter-widgets/controls",
            "_model_module_version": "1.5.0",
            "_model_name": "HBoxModel",
            "_view_count": null,
            "_view_module": "@jupyter-widgets/controls",
            "_view_module_version": "1.5.0",
            "_view_name": "HBoxView",
            "box_style": "",
            "children": [
              "IPY_MODEL_977c9b6dbe17410caa921827417d3c77",
              "IPY_MODEL_b9f8fae13bb643fda45aa01e835b4678",
              "IPY_MODEL_aa587257c40141fe922824fa93595fea"
            ],
            "layout": "IPY_MODEL_de8893070f3e4d57b8a7f94981b53020"
          }
        },
        "977c9b6dbe17410caa921827417d3c77": {
          "model_module": "@jupyter-widgets/controls",
          "model_name": "HTMLModel",
          "model_module_version": "1.5.0",
          "state": {
            "_dom_classes": [],
            "_model_module": "@jupyter-widgets/controls",
            "_model_module_version": "1.5.0",
            "_model_name": "HTMLModel",
            "_view_count": null,
            "_view_module": "@jupyter-widgets/controls",
            "_view_module_version": "1.5.0",
            "_view_name": "HTMLView",
            "description": "",
            "description_tooltip": null,
            "layout": "IPY_MODEL_10343f68c6ab47e3b480b1b3afa88eed",
            "placeholder": "​",
            "style": "IPY_MODEL_ef2607ce11d74c2d80aa4d7f3501ae80",
            "value": "Extracting data files: 100%"
          }
        },
        "b9f8fae13bb643fda45aa01e835b4678": {
          "model_module": "@jupyter-widgets/controls",
          "model_name": "FloatProgressModel",
          "model_module_version": "1.5.0",
          "state": {
            "_dom_classes": [],
            "_model_module": "@jupyter-widgets/controls",
            "_model_module_version": "1.5.0",
            "_model_name": "FloatProgressModel",
            "_view_count": null,
            "_view_module": "@jupyter-widgets/controls",
            "_view_module_version": "1.5.0",
            "_view_name": "ProgressView",
            "bar_style": "success",
            "description": "",
            "description_tooltip": null,
            "layout": "IPY_MODEL_657b3fb0e9b64d55a938edf74495dac3",
            "max": 2,
            "min": 0,
            "orientation": "horizontal",
            "style": "IPY_MODEL_63141a0583b5427ca5361a76388f15c3",
            "value": 2
          }
        },
        "aa587257c40141fe922824fa93595fea": {
          "model_module": "@jupyter-widgets/controls",
          "model_name": "HTMLModel",
          "model_module_version": "1.5.0",
          "state": {
            "_dom_classes": [],
            "_model_module": "@jupyter-widgets/controls",
            "_model_module_version": "1.5.0",
            "_model_name": "HTMLModel",
            "_view_count": null,
            "_view_module": "@jupyter-widgets/controls",
            "_view_module_version": "1.5.0",
            "_view_name": "HTMLView",
            "description": "",
            "description_tooltip": null,
            "layout": "IPY_MODEL_46063bbab63d4bf1b2583b6769136645",
            "placeholder": "​",
            "style": "IPY_MODEL_30ff49e37c6f4e68a563352d50601a77",
            "value": " 2/2 [00:00&lt;00:00, 120.28it/s]"
          }
        },
        "de8893070f3e4d57b8a7f94981b53020": {
          "model_module": "@jupyter-widgets/base",
          "model_name": "LayoutModel",
          "model_module_version": "1.2.0",
          "state": {
            "_model_module": "@jupyter-widgets/base",
            "_model_module_version": "1.2.0",
            "_model_name": "LayoutModel",
            "_view_count": null,
            "_view_module": "@jupyter-widgets/base",
            "_view_module_version": "1.2.0",
            "_view_name": "LayoutView",
            "align_content": null,
            "align_items": null,
            "align_self": null,
            "border": null,
            "bottom": null,
            "display": null,
            "flex": null,
            "flex_flow": null,
            "grid_area": null,
            "grid_auto_columns": null,
            "grid_auto_flow": null,
            "grid_auto_rows": null,
            "grid_column": null,
            "grid_gap": null,
            "grid_row": null,
            "grid_template_areas": null,
            "grid_template_columns": null,
            "grid_template_rows": null,
            "height": null,
            "justify_content": null,
            "justify_items": null,
            "left": null,
            "margin": null,
            "max_height": null,
            "max_width": null,
            "min_height": null,
            "min_width": null,
            "object_fit": null,
            "object_position": null,
            "order": null,
            "overflow": null,
            "overflow_x": null,
            "overflow_y": null,
            "padding": null,
            "right": null,
            "top": null,
            "visibility": null,
            "width": null
          }
        },
        "10343f68c6ab47e3b480b1b3afa88eed": {
          "model_module": "@jupyter-widgets/base",
          "model_name": "LayoutModel",
          "model_module_version": "1.2.0",
          "state": {
            "_model_module": "@jupyter-widgets/base",
            "_model_module_version": "1.2.0",
            "_model_name": "LayoutModel",
            "_view_count": null,
            "_view_module": "@jupyter-widgets/base",
            "_view_module_version": "1.2.0",
            "_view_name": "LayoutView",
            "align_content": null,
            "align_items": null,
            "align_self": null,
            "border": null,
            "bottom": null,
            "display": null,
            "flex": null,
            "flex_flow": null,
            "grid_area": null,
            "grid_auto_columns": null,
            "grid_auto_flow": null,
            "grid_auto_rows": null,
            "grid_column": null,
            "grid_gap": null,
            "grid_row": null,
            "grid_template_areas": null,
            "grid_template_columns": null,
            "grid_template_rows": null,
            "height": null,
            "justify_content": null,
            "justify_items": null,
            "left": null,
            "margin": null,
            "max_height": null,
            "max_width": null,
            "min_height": null,
            "min_width": null,
            "object_fit": null,
            "object_position": null,
            "order": null,
            "overflow": null,
            "overflow_x": null,
            "overflow_y": null,
            "padding": null,
            "right": null,
            "top": null,
            "visibility": null,
            "width": null
          }
        },
        "ef2607ce11d74c2d80aa4d7f3501ae80": {
          "model_module": "@jupyter-widgets/controls",
          "model_name": "DescriptionStyleModel",
          "model_module_version": "1.5.0",
          "state": {
            "_model_module": "@jupyter-widgets/controls",
            "_model_module_version": "1.5.0",
            "_model_name": "DescriptionStyleModel",
            "_view_count": null,
            "_view_module": "@jupyter-widgets/base",
            "_view_module_version": "1.2.0",
            "_view_name": "StyleView",
            "description_width": ""
          }
        },
        "657b3fb0e9b64d55a938edf74495dac3": {
          "model_module": "@jupyter-widgets/base",
          "model_name": "LayoutModel",
          "model_module_version": "1.2.0",
          "state": {
            "_model_module": "@jupyter-widgets/base",
            "_model_module_version": "1.2.0",
            "_model_name": "LayoutModel",
            "_view_count": null,
            "_view_module": "@jupyter-widgets/base",
            "_view_module_version": "1.2.0",
            "_view_name": "LayoutView",
            "align_content": null,
            "align_items": null,
            "align_self": null,
            "border": null,
            "bottom": null,
            "display": null,
            "flex": null,
            "flex_flow": null,
            "grid_area": null,
            "grid_auto_columns": null,
            "grid_auto_flow": null,
            "grid_auto_rows": null,
            "grid_column": null,
            "grid_gap": null,
            "grid_row": null,
            "grid_template_areas": null,
            "grid_template_columns": null,
            "grid_template_rows": null,
            "height": null,
            "justify_content": null,
            "justify_items": null,
            "left": null,
            "margin": null,
            "max_height": null,
            "max_width": null,
            "min_height": null,
            "min_width": null,
            "object_fit": null,
            "object_position": null,
            "order": null,
            "overflow": null,
            "overflow_x": null,
            "overflow_y": null,
            "padding": null,
            "right": null,
            "top": null,
            "visibility": null,
            "width": null
          }
        },
        "63141a0583b5427ca5361a76388f15c3": {
          "model_module": "@jupyter-widgets/controls",
          "model_name": "ProgressStyleModel",
          "model_module_version": "1.5.0",
          "state": {
            "_model_module": "@jupyter-widgets/controls",
            "_model_module_version": "1.5.0",
            "_model_name": "ProgressStyleModel",
            "_view_count": null,
            "_view_module": "@jupyter-widgets/base",
            "_view_module_version": "1.2.0",
            "_view_name": "StyleView",
            "bar_color": null,
            "description_width": ""
          }
        },
        "46063bbab63d4bf1b2583b6769136645": {
          "model_module": "@jupyter-widgets/base",
          "model_name": "LayoutModel",
          "model_module_version": "1.2.0",
          "state": {
            "_model_module": "@jupyter-widgets/base",
            "_model_module_version": "1.2.0",
            "_model_name": "LayoutModel",
            "_view_count": null,
            "_view_module": "@jupyter-widgets/base",
            "_view_module_version": "1.2.0",
            "_view_name": "LayoutView",
            "align_content": null,
            "align_items": null,
            "align_self": null,
            "border": null,
            "bottom": null,
            "display": null,
            "flex": null,
            "flex_flow": null,
            "grid_area": null,
            "grid_auto_columns": null,
            "grid_auto_flow": null,
            "grid_auto_rows": null,
            "grid_column": null,
            "grid_gap": null,
            "grid_row": null,
            "grid_template_areas": null,
            "grid_template_columns": null,
            "grid_template_rows": null,
            "height": null,
            "justify_content": null,
            "justify_items": null,
            "left": null,
            "margin": null,
            "max_height": null,
            "max_width": null,
            "min_height": null,
            "min_width": null,
            "object_fit": null,
            "object_position": null,
            "order": null,
            "overflow": null,
            "overflow_x": null,
            "overflow_y": null,
            "padding": null,
            "right": null,
            "top": null,
            "visibility": null,
            "width": null
          }
        },
        "30ff49e37c6f4e68a563352d50601a77": {
          "model_module": "@jupyter-widgets/controls",
          "model_name": "DescriptionStyleModel",
          "model_module_version": "1.5.0",
          "state": {
            "_model_module": "@jupyter-widgets/controls",
            "_model_module_version": "1.5.0",
            "_model_name": "DescriptionStyleModel",
            "_view_count": null,
            "_view_module": "@jupyter-widgets/base",
            "_view_module_version": "1.2.0",
            "_view_name": "StyleView",
            "description_width": ""
          }
        },
        "57ffe2641223461490acbf9e7d18d102": {
          "model_module": "@jupyter-widgets/controls",
          "model_name": "HBoxModel",
          "model_module_version": "1.5.0",
          "state": {
            "_dom_classes": [],
            "_model_module": "@jupyter-widgets/controls",
            "_model_module_version": "1.5.0",
            "_model_name": "HBoxModel",
            "_view_count": null,
            "_view_module": "@jupyter-widgets/controls",
            "_view_module_version": "1.5.0",
            "_view_name": "HBoxView",
            "box_style": "",
            "children": [
              "IPY_MODEL_14dcc0e7e740405b9428b52e4b5eab26",
              "IPY_MODEL_be9ad850612c484796f10bc2e1ebb5f5",
              "IPY_MODEL_f14279015f9f4a939600e93f0514db9e"
            ],
            "layout": "IPY_MODEL_6ad93515afc945f88d94209278746e60"
          }
        },
        "14dcc0e7e740405b9428b52e4b5eab26": {
          "model_module": "@jupyter-widgets/controls",
          "model_name": "HTMLModel",
          "model_module_version": "1.5.0",
          "state": {
            "_dom_classes": [],
            "_model_module": "@jupyter-widgets/controls",
            "_model_module_version": "1.5.0",
            "_model_name": "HTMLModel",
            "_view_count": null,
            "_view_module": "@jupyter-widgets/controls",
            "_view_module_version": "1.5.0",
            "_view_name": "HTMLView",
            "description": "",
            "description_tooltip": null,
            "layout": "IPY_MODEL_07c0b88f0d874626b4746bece14bb552",
            "placeholder": "​",
            "style": "IPY_MODEL_6017329d137b4b9e8a386820b70c9553",
            "value": "Generating train split: 100%"
          }
        },
        "be9ad850612c484796f10bc2e1ebb5f5": {
          "model_module": "@jupyter-widgets/controls",
          "model_name": "FloatProgressModel",
          "model_module_version": "1.5.0",
          "state": {
            "_dom_classes": [],
            "_model_module": "@jupyter-widgets/controls",
            "_model_module_version": "1.5.0",
            "_model_name": "FloatProgressModel",
            "_view_count": null,
            "_view_module": "@jupyter-widgets/controls",
            "_view_module_version": "1.5.0",
            "_view_name": "ProgressView",
            "bar_style": "success",
            "description": "",
            "description_tooltip": null,
            "layout": "IPY_MODEL_7d0d8975e10f49e8911b3326908367c0",
            "max": 1723,
            "min": 0,
            "orientation": "horizontal",
            "style": "IPY_MODEL_cb5d8d0998df47cabfb649582fa145ea",
            "value": 1723
          }
        },
        "f14279015f9f4a939600e93f0514db9e": {
          "model_module": "@jupyter-widgets/controls",
          "model_name": "HTMLModel",
          "model_module_version": "1.5.0",
          "state": {
            "_dom_classes": [],
            "_model_module": "@jupyter-widgets/controls",
            "_model_module_version": "1.5.0",
            "_model_name": "HTMLModel",
            "_view_count": null,
            "_view_module": "@jupyter-widgets/controls",
            "_view_module_version": "1.5.0",
            "_view_name": "HTMLView",
            "description": "",
            "description_tooltip": null,
            "layout": "IPY_MODEL_d0fab301571f4df2a67a9aecf4f032aa",
            "placeholder": "​",
            "style": "IPY_MODEL_300a7c5396f64484a0df77585f7ed8fb",
            "value": " 1723/1723 [00:00&lt;00:00, 37058.16 examples/s]"
          }
        },
        "6ad93515afc945f88d94209278746e60": {
          "model_module": "@jupyter-widgets/base",
          "model_name": "LayoutModel",
          "model_module_version": "1.2.0",
          "state": {
            "_model_module": "@jupyter-widgets/base",
            "_model_module_version": "1.2.0",
            "_model_name": "LayoutModel",
            "_view_count": null,
            "_view_module": "@jupyter-widgets/base",
            "_view_module_version": "1.2.0",
            "_view_name": "LayoutView",
            "align_content": null,
            "align_items": null,
            "align_self": null,
            "border": null,
            "bottom": null,
            "display": null,
            "flex": null,
            "flex_flow": null,
            "grid_area": null,
            "grid_auto_columns": null,
            "grid_auto_flow": null,
            "grid_auto_rows": null,
            "grid_column": null,
            "grid_gap": null,
            "grid_row": null,
            "grid_template_areas": null,
            "grid_template_columns": null,
            "grid_template_rows": null,
            "height": null,
            "justify_content": null,
            "justify_items": null,
            "left": null,
            "margin": null,
            "max_height": null,
            "max_width": null,
            "min_height": null,
            "min_width": null,
            "object_fit": null,
            "object_position": null,
            "order": null,
            "overflow": null,
            "overflow_x": null,
            "overflow_y": null,
            "padding": null,
            "right": null,
            "top": null,
            "visibility": null,
            "width": null
          }
        },
        "07c0b88f0d874626b4746bece14bb552": {
          "model_module": "@jupyter-widgets/base",
          "model_name": "LayoutModel",
          "model_module_version": "1.2.0",
          "state": {
            "_model_module": "@jupyter-widgets/base",
            "_model_module_version": "1.2.0",
            "_model_name": "LayoutModel",
            "_view_count": null,
            "_view_module": "@jupyter-widgets/base",
            "_view_module_version": "1.2.0",
            "_view_name": "LayoutView",
            "align_content": null,
            "align_items": null,
            "align_self": null,
            "border": null,
            "bottom": null,
            "display": null,
            "flex": null,
            "flex_flow": null,
            "grid_area": null,
            "grid_auto_columns": null,
            "grid_auto_flow": null,
            "grid_auto_rows": null,
            "grid_column": null,
            "grid_gap": null,
            "grid_row": null,
            "grid_template_areas": null,
            "grid_template_columns": null,
            "grid_template_rows": null,
            "height": null,
            "justify_content": null,
            "justify_items": null,
            "left": null,
            "margin": null,
            "max_height": null,
            "max_width": null,
            "min_height": null,
            "min_width": null,
            "object_fit": null,
            "object_position": null,
            "order": null,
            "overflow": null,
            "overflow_x": null,
            "overflow_y": null,
            "padding": null,
            "right": null,
            "top": null,
            "visibility": null,
            "width": null
          }
        },
        "6017329d137b4b9e8a386820b70c9553": {
          "model_module": "@jupyter-widgets/controls",
          "model_name": "DescriptionStyleModel",
          "model_module_version": "1.5.0",
          "state": {
            "_model_module": "@jupyter-widgets/controls",
            "_model_module_version": "1.5.0",
            "_model_name": "DescriptionStyleModel",
            "_view_count": null,
            "_view_module": "@jupyter-widgets/base",
            "_view_module_version": "1.2.0",
            "_view_name": "StyleView",
            "description_width": ""
          }
        },
        "7d0d8975e10f49e8911b3326908367c0": {
          "model_module": "@jupyter-widgets/base",
          "model_name": "LayoutModel",
          "model_module_version": "1.2.0",
          "state": {
            "_model_module": "@jupyter-widgets/base",
            "_model_module_version": "1.2.0",
            "_model_name": "LayoutModel",
            "_view_count": null,
            "_view_module": "@jupyter-widgets/base",
            "_view_module_version": "1.2.0",
            "_view_name": "LayoutView",
            "align_content": null,
            "align_items": null,
            "align_self": null,
            "border": null,
            "bottom": null,
            "display": null,
            "flex": null,
            "flex_flow": null,
            "grid_area": null,
            "grid_auto_columns": null,
            "grid_auto_flow": null,
            "grid_auto_rows": null,
            "grid_column": null,
            "grid_gap": null,
            "grid_row": null,
            "grid_template_areas": null,
            "grid_template_columns": null,
            "grid_template_rows": null,
            "height": null,
            "justify_content": null,
            "justify_items": null,
            "left": null,
            "margin": null,
            "max_height": null,
            "max_width": null,
            "min_height": null,
            "min_width": null,
            "object_fit": null,
            "object_position": null,
            "order": null,
            "overflow": null,
            "overflow_x": null,
            "overflow_y": null,
            "padding": null,
            "right": null,
            "top": null,
            "visibility": null,
            "width": null
          }
        },
        "cb5d8d0998df47cabfb649582fa145ea": {
          "model_module": "@jupyter-widgets/controls",
          "model_name": "ProgressStyleModel",
          "model_module_version": "1.5.0",
          "state": {
            "_model_module": "@jupyter-widgets/controls",
            "_model_module_version": "1.5.0",
            "_model_name": "ProgressStyleModel",
            "_view_count": null,
            "_view_module": "@jupyter-widgets/base",
            "_view_module_version": "1.2.0",
            "_view_name": "StyleView",
            "bar_color": null,
            "description_width": ""
          }
        },
        "d0fab301571f4df2a67a9aecf4f032aa": {
          "model_module": "@jupyter-widgets/base",
          "model_name": "LayoutModel",
          "model_module_version": "1.2.0",
          "state": {
            "_model_module": "@jupyter-widgets/base",
            "_model_module_version": "1.2.0",
            "_model_name": "LayoutModel",
            "_view_count": null,
            "_view_module": "@jupyter-widgets/base",
            "_view_module_version": "1.2.0",
            "_view_name": "LayoutView",
            "align_content": null,
            "align_items": null,
            "align_self": null,
            "border": null,
            "bottom": null,
            "display": null,
            "flex": null,
            "flex_flow": null,
            "grid_area": null,
            "grid_auto_columns": null,
            "grid_auto_flow": null,
            "grid_auto_rows": null,
            "grid_column": null,
            "grid_gap": null,
            "grid_row": null,
            "grid_template_areas": null,
            "grid_template_columns": null,
            "grid_template_rows": null,
            "height": null,
            "justify_content": null,
            "justify_items": null,
            "left": null,
            "margin": null,
            "max_height": null,
            "max_width": null,
            "min_height": null,
            "min_width": null,
            "object_fit": null,
            "object_position": null,
            "order": null,
            "overflow": null,
            "overflow_x": null,
            "overflow_y": null,
            "padding": null,
            "right": null,
            "top": null,
            "visibility": null,
            "width": null
          }
        },
        "300a7c5396f64484a0df77585f7ed8fb": {
          "model_module": "@jupyter-widgets/controls",
          "model_name": "DescriptionStyleModel",
          "model_module_version": "1.5.0",
          "state": {
            "_model_module": "@jupyter-widgets/controls",
            "_model_module_version": "1.5.0",
            "_model_name": "DescriptionStyleModel",
            "_view_count": null,
            "_view_module": "@jupyter-widgets/base",
            "_view_module_version": "1.2.0",
            "_view_name": "StyleView",
            "description_width": ""
          }
        },
        "77915f9872534073bfd6c1c14b0475cc": {
          "model_module": "@jupyter-widgets/controls",
          "model_name": "HBoxModel",
          "model_module_version": "1.5.0",
          "state": {
            "_dom_classes": [],
            "_model_module": "@jupyter-widgets/controls",
            "_model_module_version": "1.5.0",
            "_model_name": "HBoxModel",
            "_view_count": null,
            "_view_module": "@jupyter-widgets/controls",
            "_view_module_version": "1.5.0",
            "_view_name": "HBoxView",
            "box_style": "",
            "children": [
              "IPY_MODEL_49b6db47c9d247b88a0b7d5cabe6ba39",
              "IPY_MODEL_ffffc32de7404112b2a26e6f4b64cd77",
              "IPY_MODEL_0b1598d7e92e486fa1618a31497a453c"
            ],
            "layout": "IPY_MODEL_52eee3f50aa844ec8c3f59fd2dfd59d7"
          }
        },
        "49b6db47c9d247b88a0b7d5cabe6ba39": {
          "model_module": "@jupyter-widgets/controls",
          "model_name": "HTMLModel",
          "model_module_version": "1.5.0",
          "state": {
            "_dom_classes": [],
            "_model_module": "@jupyter-widgets/controls",
            "_model_module_version": "1.5.0",
            "_model_name": "HTMLModel",
            "_view_count": null,
            "_view_module": "@jupyter-widgets/controls",
            "_view_module_version": "1.5.0",
            "_view_name": "HTMLView",
            "description": "",
            "description_tooltip": null,
            "layout": "IPY_MODEL_fdcc3fb39b2a4dcbacad164b59c678a4",
            "placeholder": "​",
            "style": "IPY_MODEL_099e71584d164c0ca24c6d60d846c095",
            "value": "Generating test split: 100%"
          }
        },
        "ffffc32de7404112b2a26e6f4b64cd77": {
          "model_module": "@jupyter-widgets/controls",
          "model_name": "FloatProgressModel",
          "model_module_version": "1.5.0",
          "state": {
            "_dom_classes": [],
            "_model_module": "@jupyter-widgets/controls",
            "_model_module_version": "1.5.0",
            "_model_name": "FloatProgressModel",
            "_view_count": null,
            "_view_module": "@jupyter-widgets/controls",
            "_view_module_version": "1.5.0",
            "_view_name": "ProgressView",
            "bar_style": "success",
            "description": "",
            "description_tooltip": null,
            "layout": "IPY_MODEL_1aed204338ec4be1883b0d9aded137a3",
            "max": 192,
            "min": 0,
            "orientation": "horizontal",
            "style": "IPY_MODEL_3a9c2a888e2a4c62b0dd506ca0bcdd4f",
            "value": 192
          }
        },
        "0b1598d7e92e486fa1618a31497a453c": {
          "model_module": "@jupyter-widgets/controls",
          "model_name": "HTMLModel",
          "model_module_version": "1.5.0",
          "state": {
            "_dom_classes": [],
            "_model_module": "@jupyter-widgets/controls",
            "_model_module_version": "1.5.0",
            "_model_name": "HTMLModel",
            "_view_count": null,
            "_view_module": "@jupyter-widgets/controls",
            "_view_module_version": "1.5.0",
            "_view_name": "HTMLView",
            "description": "",
            "description_tooltip": null,
            "layout": "IPY_MODEL_7be2d94a85c14e1082a293d2f9690153",
            "placeholder": "​",
            "style": "IPY_MODEL_3bf9bb2051e74e2aae0a9d59d6e7bb85",
            "value": " 192/192 [00:00&lt;00:00, 11415.50 examples/s]"
          }
        },
        "52eee3f50aa844ec8c3f59fd2dfd59d7": {
          "model_module": "@jupyter-widgets/base",
          "model_name": "LayoutModel",
          "model_module_version": "1.2.0",
          "state": {
            "_model_module": "@jupyter-widgets/base",
            "_model_module_version": "1.2.0",
            "_model_name": "LayoutModel",
            "_view_count": null,
            "_view_module": "@jupyter-widgets/base",
            "_view_module_version": "1.2.0",
            "_view_name": "LayoutView",
            "align_content": null,
            "align_items": null,
            "align_self": null,
            "border": null,
            "bottom": null,
            "display": null,
            "flex": null,
            "flex_flow": null,
            "grid_area": null,
            "grid_auto_columns": null,
            "grid_auto_flow": null,
            "grid_auto_rows": null,
            "grid_column": null,
            "grid_gap": null,
            "grid_row": null,
            "grid_template_areas": null,
            "grid_template_columns": null,
            "grid_template_rows": null,
            "height": null,
            "justify_content": null,
            "justify_items": null,
            "left": null,
            "margin": null,
            "max_height": null,
            "max_width": null,
            "min_height": null,
            "min_width": null,
            "object_fit": null,
            "object_position": null,
            "order": null,
            "overflow": null,
            "overflow_x": null,
            "overflow_y": null,
            "padding": null,
            "right": null,
            "top": null,
            "visibility": null,
            "width": null
          }
        },
        "fdcc3fb39b2a4dcbacad164b59c678a4": {
          "model_module": "@jupyter-widgets/base",
          "model_name": "LayoutModel",
          "model_module_version": "1.2.0",
          "state": {
            "_model_module": "@jupyter-widgets/base",
            "_model_module_version": "1.2.0",
            "_model_name": "LayoutModel",
            "_view_count": null,
            "_view_module": "@jupyter-widgets/base",
            "_view_module_version": "1.2.0",
            "_view_name": "LayoutView",
            "align_content": null,
            "align_items": null,
            "align_self": null,
            "border": null,
            "bottom": null,
            "display": null,
            "flex": null,
            "flex_flow": null,
            "grid_area": null,
            "grid_auto_columns": null,
            "grid_auto_flow": null,
            "grid_auto_rows": null,
            "grid_column": null,
            "grid_gap": null,
            "grid_row": null,
            "grid_template_areas": null,
            "grid_template_columns": null,
            "grid_template_rows": null,
            "height": null,
            "justify_content": null,
            "justify_items": null,
            "left": null,
            "margin": null,
            "max_height": null,
            "max_width": null,
            "min_height": null,
            "min_width": null,
            "object_fit": null,
            "object_position": null,
            "order": null,
            "overflow": null,
            "overflow_x": null,
            "overflow_y": null,
            "padding": null,
            "right": null,
            "top": null,
            "visibility": null,
            "width": null
          }
        },
        "099e71584d164c0ca24c6d60d846c095": {
          "model_module": "@jupyter-widgets/controls",
          "model_name": "DescriptionStyleModel",
          "model_module_version": "1.5.0",
          "state": {
            "_model_module": "@jupyter-widgets/controls",
            "_model_module_version": "1.5.0",
            "_model_name": "DescriptionStyleModel",
            "_view_count": null,
            "_view_module": "@jupyter-widgets/base",
            "_view_module_version": "1.2.0",
            "_view_name": "StyleView",
            "description_width": ""
          }
        },
        "1aed204338ec4be1883b0d9aded137a3": {
          "model_module": "@jupyter-widgets/base",
          "model_name": "LayoutModel",
          "model_module_version": "1.2.0",
          "state": {
            "_model_module": "@jupyter-widgets/base",
            "_model_module_version": "1.2.0",
            "_model_name": "LayoutModel",
            "_view_count": null,
            "_view_module": "@jupyter-widgets/base",
            "_view_module_version": "1.2.0",
            "_view_name": "LayoutView",
            "align_content": null,
            "align_items": null,
            "align_self": null,
            "border": null,
            "bottom": null,
            "display": null,
            "flex": null,
            "flex_flow": null,
            "grid_area": null,
            "grid_auto_columns": null,
            "grid_auto_flow": null,
            "grid_auto_rows": null,
            "grid_column": null,
            "grid_gap": null,
            "grid_row": null,
            "grid_template_areas": null,
            "grid_template_columns": null,
            "grid_template_rows": null,
            "height": null,
            "justify_content": null,
            "justify_items": null,
            "left": null,
            "margin": null,
            "max_height": null,
            "max_width": null,
            "min_height": null,
            "min_width": null,
            "object_fit": null,
            "object_position": null,
            "order": null,
            "overflow": null,
            "overflow_x": null,
            "overflow_y": null,
            "padding": null,
            "right": null,
            "top": null,
            "visibility": null,
            "width": null
          }
        },
        "3a9c2a888e2a4c62b0dd506ca0bcdd4f": {
          "model_module": "@jupyter-widgets/controls",
          "model_name": "ProgressStyleModel",
          "model_module_version": "1.5.0",
          "state": {
            "_model_module": "@jupyter-widgets/controls",
            "_model_module_version": "1.5.0",
            "_model_name": "ProgressStyleModel",
            "_view_count": null,
            "_view_module": "@jupyter-widgets/base",
            "_view_module_version": "1.2.0",
            "_view_name": "StyleView",
            "bar_color": null,
            "description_width": ""
          }
        },
        "7be2d94a85c14e1082a293d2f9690153": {
          "model_module": "@jupyter-widgets/base",
          "model_name": "LayoutModel",
          "model_module_version": "1.2.0",
          "state": {
            "_model_module": "@jupyter-widgets/base",
            "_model_module_version": "1.2.0",
            "_model_name": "LayoutModel",
            "_view_count": null,
            "_view_module": "@jupyter-widgets/base",
            "_view_module_version": "1.2.0",
            "_view_name": "LayoutView",
            "align_content": null,
            "align_items": null,
            "align_self": null,
            "border": null,
            "bottom": null,
            "display": null,
            "flex": null,
            "flex_flow": null,
            "grid_area": null,
            "grid_auto_columns": null,
            "grid_auto_flow": null,
            "grid_auto_rows": null,
            "grid_column": null,
            "grid_gap": null,
            "grid_row": null,
            "grid_template_areas": null,
            "grid_template_columns": null,
            "grid_template_rows": null,
            "height": null,
            "justify_content": null,
            "justify_items": null,
            "left": null,
            "margin": null,
            "max_height": null,
            "max_width": null,
            "min_height": null,
            "min_width": null,
            "object_fit": null,
            "object_position": null,
            "order": null,
            "overflow": null,
            "overflow_x": null,
            "overflow_y": null,
            "padding": null,
            "right": null,
            "top": null,
            "visibility": null,
            "width": null
          }
        },
        "3bf9bb2051e74e2aae0a9d59d6e7bb85": {
          "model_module": "@jupyter-widgets/controls",
          "model_name": "DescriptionStyleModel",
          "model_module_version": "1.5.0",
          "state": {
            "_model_module": "@jupyter-widgets/controls",
            "_model_module_version": "1.5.0",
            "_model_name": "DescriptionStyleModel",
            "_view_count": null,
            "_view_module": "@jupyter-widgets/base",
            "_view_module_version": "1.2.0",
            "_view_name": "StyleView",
            "description_width": ""
          }
        }
      }
    }
  },
  "cells": [
    {
      "cell_type": "markdown",
      "source": [
        "## Library Imports"
      ],
      "metadata": {
        "id": "TOxosoWA9hlr"
      }
    },
    {
      "cell_type": "code",
      "execution_count": 1,
      "metadata": {
        "id": "zICSFB_r7Iy3"
      },
      "outputs": [],
      "source": [
        "import numpy as np\n",
        "import pandas as pd\n",
        "import matplotlib.pyplot as plt\n",
        "%matplotlib inline\n",
        "import json"
      ]
    },
    {
      "cell_type": "markdown",
      "source": [
        "### Read the data and create a pandas DataFrame"
      ],
      "metadata": {
        "id": "Q2V1gENu-IeP"
      }
    },
    {
      "cell_type": "code",
      "source": [
        "df_train = pd.read_parquet('sample_data/train-00000-of-00001-4eeea4877d4ce970.parquet')\n",
        "df_train"
      ],
      "metadata": {
        "colab": {
          "base_uri": "https://localhost:8080/",
          "height": 346
        },
        "id": "1-2kggqEFEpN",
        "outputId": "48cf48f9-a0ed-43b5-9623-589a30960132"
      },
      "execution_count": 2,
      "outputs": [
        {
          "output_type": "error",
          "ename": "FileNotFoundError",
          "evalue": "ignored",
          "traceback": [
            "\u001b[0;31m---------------------------------------------------------------------------\u001b[0m",
            "\u001b[0;31mFileNotFoundError\u001b[0m                         Traceback (most recent call last)",
            "\u001b[0;32m<ipython-input-2-c5887bda4741>\u001b[0m in \u001b[0;36m<cell line: 1>\u001b[0;34m()\u001b[0m\n\u001b[0;32m----> 1\u001b[0;31m \u001b[0mdf_train\u001b[0m \u001b[0;34m=\u001b[0m \u001b[0mpd\u001b[0m\u001b[0;34m.\u001b[0m\u001b[0mread_parquet\u001b[0m\u001b[0;34m(\u001b[0m\u001b[0;34m'sample_data/train-00000-of-00001-4eeea4877d4ce970.parquet'\u001b[0m\u001b[0;34m)\u001b[0m\u001b[0;34m\u001b[0m\u001b[0;34m\u001b[0m\u001b[0m\n\u001b[0m\u001b[1;32m      2\u001b[0m \u001b[0mdf_train\u001b[0m\u001b[0;34m\u001b[0m\u001b[0;34m\u001b[0m\u001b[0m\n",
            "\u001b[0;32m/usr/local/lib/python3.10/dist-packages/pandas/io/parquet.py\u001b[0m in \u001b[0;36mread_parquet\u001b[0;34m(path, engine, columns, storage_options, use_nullable_dtypes, **kwargs)\u001b[0m\n\u001b[1;32m    501\u001b[0m     \u001b[0mimpl\u001b[0m \u001b[0;34m=\u001b[0m \u001b[0mget_engine\u001b[0m\u001b[0;34m(\u001b[0m\u001b[0mengine\u001b[0m\u001b[0;34m)\u001b[0m\u001b[0;34m\u001b[0m\u001b[0;34m\u001b[0m\u001b[0m\n\u001b[1;32m    502\u001b[0m \u001b[0;34m\u001b[0m\u001b[0m\n\u001b[0;32m--> 503\u001b[0;31m     return impl.read(\n\u001b[0m\u001b[1;32m    504\u001b[0m         \u001b[0mpath\u001b[0m\u001b[0;34m,\u001b[0m\u001b[0;34m\u001b[0m\u001b[0;34m\u001b[0m\u001b[0m\n\u001b[1;32m    505\u001b[0m         \u001b[0mcolumns\u001b[0m\u001b[0;34m=\u001b[0m\u001b[0mcolumns\u001b[0m\u001b[0;34m,\u001b[0m\u001b[0;34m\u001b[0m\u001b[0;34m\u001b[0m\u001b[0m\n",
            "\u001b[0;32m/usr/local/lib/python3.10/dist-packages/pandas/io/parquet.py\u001b[0m in \u001b[0;36mread\u001b[0;34m(self, path, columns, use_nullable_dtypes, storage_options, **kwargs)\u001b[0m\n\u001b[1;32m    242\u001b[0m             \u001b[0mto_pandas_kwargs\u001b[0m\u001b[0;34m[\u001b[0m\u001b[0;34m\"split_blocks\"\u001b[0m\u001b[0;34m]\u001b[0m \u001b[0;34m=\u001b[0m \u001b[0;32mTrue\u001b[0m  \u001b[0;31m# type: ignore[assignment]\u001b[0m\u001b[0;34m\u001b[0m\u001b[0;34m\u001b[0m\u001b[0m\n\u001b[1;32m    243\u001b[0m \u001b[0;34m\u001b[0m\u001b[0m\n\u001b[0;32m--> 244\u001b[0;31m         path_or_handle, handles, kwargs[\"filesystem\"] = _get_path_or_handle(\n\u001b[0m\u001b[1;32m    245\u001b[0m             \u001b[0mpath\u001b[0m\u001b[0;34m,\u001b[0m\u001b[0;34m\u001b[0m\u001b[0;34m\u001b[0m\u001b[0m\n\u001b[1;32m    246\u001b[0m             \u001b[0mkwargs\u001b[0m\u001b[0;34m.\u001b[0m\u001b[0mpop\u001b[0m\u001b[0;34m(\u001b[0m\u001b[0;34m\"filesystem\"\u001b[0m\u001b[0;34m,\u001b[0m \u001b[0;32mNone\u001b[0m\u001b[0;34m)\u001b[0m\u001b[0;34m,\u001b[0m\u001b[0;34m\u001b[0m\u001b[0;34m\u001b[0m\u001b[0m\n",
            "\u001b[0;32m/usr/local/lib/python3.10/dist-packages/pandas/io/parquet.py\u001b[0m in \u001b[0;36m_get_path_or_handle\u001b[0;34m(path, fs, storage_options, mode, is_dir)\u001b[0m\n\u001b[1;32m    100\u001b[0m         \u001b[0;31m# fsspec resources can also point to directories\u001b[0m\u001b[0;34m\u001b[0m\u001b[0;34m\u001b[0m\u001b[0m\n\u001b[1;32m    101\u001b[0m         \u001b[0;31m# this branch is used for example when reading from non-fsspec URLs\u001b[0m\u001b[0;34m\u001b[0m\u001b[0;34m\u001b[0m\u001b[0m\n\u001b[0;32m--> 102\u001b[0;31m         handles = get_handle(\n\u001b[0m\u001b[1;32m    103\u001b[0m             \u001b[0mpath_or_handle\u001b[0m\u001b[0;34m,\u001b[0m \u001b[0mmode\u001b[0m\u001b[0;34m,\u001b[0m \u001b[0mis_text\u001b[0m\u001b[0;34m=\u001b[0m\u001b[0;32mFalse\u001b[0m\u001b[0;34m,\u001b[0m \u001b[0mstorage_options\u001b[0m\u001b[0;34m=\u001b[0m\u001b[0mstorage_options\u001b[0m\u001b[0;34m\u001b[0m\u001b[0;34m\u001b[0m\u001b[0m\n\u001b[1;32m    104\u001b[0m         )\n",
            "\u001b[0;32m/usr/local/lib/python3.10/dist-packages/pandas/io/common.py\u001b[0m in \u001b[0;36mget_handle\u001b[0;34m(path_or_buf, mode, encoding, compression, memory_map, is_text, errors, storage_options)\u001b[0m\n\u001b[1;32m    863\u001b[0m         \u001b[0;32melse\u001b[0m\u001b[0;34m:\u001b[0m\u001b[0;34m\u001b[0m\u001b[0;34m\u001b[0m\u001b[0m\n\u001b[1;32m    864\u001b[0m             \u001b[0;31m# Binary mode\u001b[0m\u001b[0;34m\u001b[0m\u001b[0;34m\u001b[0m\u001b[0m\n\u001b[0;32m--> 865\u001b[0;31m             \u001b[0mhandle\u001b[0m \u001b[0;34m=\u001b[0m \u001b[0mopen\u001b[0m\u001b[0;34m(\u001b[0m\u001b[0mhandle\u001b[0m\u001b[0;34m,\u001b[0m \u001b[0mioargs\u001b[0m\u001b[0;34m.\u001b[0m\u001b[0mmode\u001b[0m\u001b[0;34m)\u001b[0m\u001b[0;34m\u001b[0m\u001b[0;34m\u001b[0m\u001b[0m\n\u001b[0m\u001b[1;32m    866\u001b[0m         \u001b[0mhandles\u001b[0m\u001b[0;34m.\u001b[0m\u001b[0mappend\u001b[0m\u001b[0;34m(\u001b[0m\u001b[0mhandle\u001b[0m\u001b[0;34m)\u001b[0m\u001b[0;34m\u001b[0m\u001b[0;34m\u001b[0m\u001b[0m\n\u001b[1;32m    867\u001b[0m \u001b[0;34m\u001b[0m\u001b[0m\n",
            "\u001b[0;31mFileNotFoundError\u001b[0m: [Errno 2] No such file or directory: 'sample_data/train-00000-of-00001-4eeea4877d4ce970.parquet'"
          ]
        }
      ]
    },
    {
      "cell_type": "code",
      "source": [
        "df_train.index"
      ],
      "metadata": {
        "colab": {
          "base_uri": "https://localhost:8080/"
        },
        "id": "vr_pk9GJIyYX",
        "outputId": "ddec1b08-3e93-430f-bc01-114daa2ecc1e"
      },
      "execution_count": null,
      "outputs": [
        {
          "output_type": "execute_result",
          "data": {
            "text/plain": [
              "RangeIndex(start=0, stop=1723, step=1)"
            ]
          },
          "metadata": {},
          "execution_count": 5
        }
      ]
    },
    {
      "cell_type": "code",
      "source": [
        "df_test = pd.read_parquet('sample_data/test-00000-of-00001-0408c6b1dfcc3c77.parquet')\n",
        "df_test"
      ],
      "metadata": {
        "colab": {
          "base_uri": "https://localhost:8080/",
          "height": 356
        },
        "id": "-SHf_wj5Htk5",
        "outputId": "c6f5fcdc-a783-428e-a599-d6930114c4c2"
      },
      "execution_count": null,
      "outputs": [
        {
          "output_type": "error",
          "ename": "FileNotFoundError",
          "evalue": "ignored",
          "traceback": [
            "\u001b[0;31m---------------------------------------------------------------------------\u001b[0m",
            "\u001b[0;31mFileNotFoundError\u001b[0m                         Traceback (most recent call last)",
            "\u001b[0;32m<ipython-input-4-1d67ba5b11ba>\u001b[0m in \u001b[0;36m<cell line: 1>\u001b[0;34m()\u001b[0m\n\u001b[0;32m----> 1\u001b[0;31m \u001b[0mdf_test\u001b[0m \u001b[0;34m=\u001b[0m \u001b[0mpd\u001b[0m\u001b[0;34m.\u001b[0m\u001b[0mread_parquet\u001b[0m\u001b[0;34m(\u001b[0m\u001b[0;34m'sample_data/test-00000-of-00001-0408c6b1dfcc3c77.parquet'\u001b[0m\u001b[0;34m)\u001b[0m\u001b[0;34m\u001b[0m\u001b[0;34m\u001b[0m\u001b[0m\n\u001b[0m\u001b[1;32m      2\u001b[0m \u001b[0mdf_test\u001b[0m\u001b[0;34m\u001b[0m\u001b[0;34m\u001b[0m\u001b[0m\n",
            "\u001b[0;32m/usr/local/lib/python3.10/dist-packages/pandas/io/parquet.py\u001b[0m in \u001b[0;36mread_parquet\u001b[0;34m(path, engine, columns, storage_options, use_nullable_dtypes, **kwargs)\u001b[0m\n\u001b[1;32m    501\u001b[0m     \u001b[0mimpl\u001b[0m \u001b[0;34m=\u001b[0m \u001b[0mget_engine\u001b[0m\u001b[0;34m(\u001b[0m\u001b[0mengine\u001b[0m\u001b[0;34m)\u001b[0m\u001b[0;34m\u001b[0m\u001b[0;34m\u001b[0m\u001b[0m\n\u001b[1;32m    502\u001b[0m \u001b[0;34m\u001b[0m\u001b[0m\n\u001b[0;32m--> 503\u001b[0;31m     return impl.read(\n\u001b[0m\u001b[1;32m    504\u001b[0m         \u001b[0mpath\u001b[0m\u001b[0;34m,\u001b[0m\u001b[0;34m\u001b[0m\u001b[0;34m\u001b[0m\u001b[0m\n\u001b[1;32m    505\u001b[0m         \u001b[0mcolumns\u001b[0m\u001b[0;34m=\u001b[0m\u001b[0mcolumns\u001b[0m\u001b[0;34m,\u001b[0m\u001b[0;34m\u001b[0m\u001b[0;34m\u001b[0m\u001b[0m\n",
            "\u001b[0;32m/usr/local/lib/python3.10/dist-packages/pandas/io/parquet.py\u001b[0m in \u001b[0;36mread\u001b[0;34m(self, path, columns, use_nullable_dtypes, storage_options, **kwargs)\u001b[0m\n\u001b[1;32m    242\u001b[0m             \u001b[0mto_pandas_kwargs\u001b[0m\u001b[0;34m[\u001b[0m\u001b[0;34m\"split_blocks\"\u001b[0m\u001b[0;34m]\u001b[0m \u001b[0;34m=\u001b[0m \u001b[0;32mTrue\u001b[0m  \u001b[0;31m# type: ignore[assignment]\u001b[0m\u001b[0;34m\u001b[0m\u001b[0;34m\u001b[0m\u001b[0m\n\u001b[1;32m    243\u001b[0m \u001b[0;34m\u001b[0m\u001b[0m\n\u001b[0;32m--> 244\u001b[0;31m         path_or_handle, handles, kwargs[\"filesystem\"] = _get_path_or_handle(\n\u001b[0m\u001b[1;32m    245\u001b[0m             \u001b[0mpath\u001b[0m\u001b[0;34m,\u001b[0m\u001b[0;34m\u001b[0m\u001b[0;34m\u001b[0m\u001b[0m\n\u001b[1;32m    246\u001b[0m             \u001b[0mkwargs\u001b[0m\u001b[0;34m.\u001b[0m\u001b[0mpop\u001b[0m\u001b[0;34m(\u001b[0m\u001b[0;34m\"filesystem\"\u001b[0m\u001b[0;34m,\u001b[0m \u001b[0;32mNone\u001b[0m\u001b[0;34m)\u001b[0m\u001b[0;34m,\u001b[0m\u001b[0;34m\u001b[0m\u001b[0;34m\u001b[0m\u001b[0m\n",
            "\u001b[0;32m/usr/local/lib/python3.10/dist-packages/pandas/io/parquet.py\u001b[0m in \u001b[0;36m_get_path_or_handle\u001b[0;34m(path, fs, storage_options, mode, is_dir)\u001b[0m\n\u001b[1;32m    100\u001b[0m         \u001b[0;31m# fsspec resources can also point to directories\u001b[0m\u001b[0;34m\u001b[0m\u001b[0;34m\u001b[0m\u001b[0m\n\u001b[1;32m    101\u001b[0m         \u001b[0;31m# this branch is used for example when reading from non-fsspec URLs\u001b[0m\u001b[0;34m\u001b[0m\u001b[0;34m\u001b[0m\u001b[0m\n\u001b[0;32m--> 102\u001b[0;31m         handles = get_handle(\n\u001b[0m\u001b[1;32m    103\u001b[0m             \u001b[0mpath_or_handle\u001b[0m\u001b[0;34m,\u001b[0m \u001b[0mmode\u001b[0m\u001b[0;34m,\u001b[0m \u001b[0mis_text\u001b[0m\u001b[0;34m=\u001b[0m\u001b[0;32mFalse\u001b[0m\u001b[0;34m,\u001b[0m \u001b[0mstorage_options\u001b[0m\u001b[0;34m=\u001b[0m\u001b[0mstorage_options\u001b[0m\u001b[0;34m\u001b[0m\u001b[0;34m\u001b[0m\u001b[0m\n\u001b[1;32m    104\u001b[0m         )\n",
            "\u001b[0;32m/usr/local/lib/python3.10/dist-packages/pandas/io/common.py\u001b[0m in \u001b[0;36mget_handle\u001b[0;34m(path_or_buf, mode, encoding, compression, memory_map, is_text, errors, storage_options)\u001b[0m\n\u001b[1;32m    863\u001b[0m         \u001b[0;32melse\u001b[0m\u001b[0;34m:\u001b[0m\u001b[0;34m\u001b[0m\u001b[0;34m\u001b[0m\u001b[0m\n\u001b[1;32m    864\u001b[0m             \u001b[0;31m# Binary mode\u001b[0m\u001b[0;34m\u001b[0m\u001b[0;34m\u001b[0m\u001b[0m\n\u001b[0;32m--> 865\u001b[0;31m             \u001b[0mhandle\u001b[0m \u001b[0;34m=\u001b[0m \u001b[0mopen\u001b[0m\u001b[0;34m(\u001b[0m\u001b[0mhandle\u001b[0m\u001b[0;34m,\u001b[0m \u001b[0mioargs\u001b[0m\u001b[0;34m.\u001b[0m\u001b[0mmode\u001b[0m\u001b[0;34m)\u001b[0m\u001b[0;34m\u001b[0m\u001b[0;34m\u001b[0m\u001b[0m\n\u001b[0m\u001b[1;32m    866\u001b[0m         \u001b[0mhandles\u001b[0m\u001b[0;34m.\u001b[0m\u001b[0mappend\u001b[0m\u001b[0;34m(\u001b[0m\u001b[0mhandle\u001b[0m\u001b[0;34m)\u001b[0m\u001b[0;34m\u001b[0m\u001b[0;34m\u001b[0m\u001b[0m\n\u001b[1;32m    867\u001b[0m \u001b[0;34m\u001b[0m\u001b[0m\n",
            "\u001b[0;31mFileNotFoundError\u001b[0m: [Errno 2] No such file or directory: 'sample_data/test-00000-of-00001-0408c6b1dfcc3c77.parquet'"
          ]
        }
      ]
    },
    {
      "cell_type": "code",
      "source": [
        "df_test.index"
      ],
      "metadata": {
        "colab": {
          "base_uri": "https://localhost:8080/"
        },
        "id": "MK8DEni2I1R8",
        "outputId": "389b611b-686e-41c5-cba8-ac7192c164f1"
      },
      "execution_count": null,
      "outputs": [
        {
          "output_type": "execute_result",
          "data": {
            "text/plain": [
              "RangeIndex(start=0, stop=192, step=1)"
            ]
          },
          "metadata": {},
          "execution_count": 7
        }
      ]
    },
    {
      "cell_type": "code",
      "source": [
        "!pip install datasets"
      ],
      "metadata": {
        "colab": {
          "base_uri": "https://localhost:8080/"
        },
        "id": "HFr2WxJ8_5ZP",
        "outputId": "cff6858e-93cf-4e27-e998-e587fa506e33"
      },
      "execution_count": 4,
      "outputs": [
        {
          "output_type": "stream",
          "name": "stdout",
          "text": [
            "Collecting datasets\n",
            "  Downloading datasets-2.14.6-py3-none-any.whl (493 kB)\n",
            "\u001b[2K     \u001b[90m━━━━━━━━━━━━━━━━━━━━━━━━━━━━━━━━━━━━━━━━\u001b[0m \u001b[32m493.7/493.7 kB\u001b[0m \u001b[31m11.4 MB/s\u001b[0m eta \u001b[36m0:00:00\u001b[0m\n",
            "\u001b[?25hRequirement already satisfied: numpy>=1.17 in /usr/local/lib/python3.10/dist-packages (from datasets) (1.23.5)\n",
            "Requirement already satisfied: pyarrow>=8.0.0 in /usr/local/lib/python3.10/dist-packages (from datasets) (9.0.0)\n",
            "Collecting dill<0.3.8,>=0.3.0 (from datasets)\n",
            "  Downloading dill-0.3.7-py3-none-any.whl (115 kB)\n",
            "\u001b[2K     \u001b[90m━━━━━━━━━━━━━━━━━━━━━━━━━━━━━━━━━━━━━━━━\u001b[0m \u001b[32m115.3/115.3 kB\u001b[0m \u001b[31m15.7 MB/s\u001b[0m eta \u001b[36m0:00:00\u001b[0m\n",
            "\u001b[?25hRequirement already satisfied: pandas in /usr/local/lib/python3.10/dist-packages (from datasets) (1.5.3)\n",
            "Requirement already satisfied: requests>=2.19.0 in /usr/local/lib/python3.10/dist-packages (from datasets) (2.31.0)\n",
            "Requirement already satisfied: tqdm>=4.62.1 in /usr/local/lib/python3.10/dist-packages (from datasets) (4.66.1)\n",
            "Requirement already satisfied: xxhash in /usr/local/lib/python3.10/dist-packages (from datasets) (3.4.1)\n",
            "Collecting multiprocess (from datasets)\n",
            "  Downloading multiprocess-0.70.15-py310-none-any.whl (134 kB)\n",
            "\u001b[2K     \u001b[90m━━━━━━━━━━━━━━━━━━━━━━━━━━━━━━━━━━━━━━━━\u001b[0m \u001b[32m134.8/134.8 kB\u001b[0m \u001b[31m17.9 MB/s\u001b[0m eta \u001b[36m0:00:00\u001b[0m\n",
            "\u001b[?25hRequirement already satisfied: fsspec[http]<=2023.10.0,>=2023.1.0 in /usr/local/lib/python3.10/dist-packages (from datasets) (2023.6.0)\n",
            "Requirement already satisfied: aiohttp in /usr/local/lib/python3.10/dist-packages (from datasets) (3.8.6)\n",
            "Collecting huggingface-hub<1.0.0,>=0.14.0 (from datasets)\n",
            "  Downloading huggingface_hub-0.18.0-py3-none-any.whl (301 kB)\n",
            "\u001b[2K     \u001b[90m━━━━━━━━━━━━━━━━━━━━━━━━━━━━━━━━━━━━━━━━\u001b[0m \u001b[32m302.0/302.0 kB\u001b[0m \u001b[31m30.2 MB/s\u001b[0m eta \u001b[36m0:00:00\u001b[0m\n",
            "\u001b[?25hRequirement already satisfied: packaging in /usr/local/lib/python3.10/dist-packages (from datasets) (23.2)\n",
            "Requirement already satisfied: pyyaml>=5.1 in /usr/local/lib/python3.10/dist-packages (from datasets) (6.0.1)\n",
            "Requirement already satisfied: attrs>=17.3.0 in /usr/local/lib/python3.10/dist-packages (from aiohttp->datasets) (23.1.0)\n",
            "Requirement already satisfied: charset-normalizer<4.0,>=2.0 in /usr/local/lib/python3.10/dist-packages (from aiohttp->datasets) (3.3.1)\n",
            "Requirement already satisfied: multidict<7.0,>=4.5 in /usr/local/lib/python3.10/dist-packages (from aiohttp->datasets) (6.0.4)\n",
            "Requirement already satisfied: async-timeout<5.0,>=4.0.0a3 in /usr/local/lib/python3.10/dist-packages (from aiohttp->datasets) (4.0.3)\n",
            "Requirement already satisfied: yarl<2.0,>=1.0 in /usr/local/lib/python3.10/dist-packages (from aiohttp->datasets) (1.9.2)\n",
            "Requirement already satisfied: frozenlist>=1.1.1 in /usr/local/lib/python3.10/dist-packages (from aiohttp->datasets) (1.4.0)\n",
            "Requirement already satisfied: aiosignal>=1.1.2 in /usr/local/lib/python3.10/dist-packages (from aiohttp->datasets) (1.3.1)\n",
            "Requirement already satisfied: filelock in /usr/local/lib/python3.10/dist-packages (from huggingface-hub<1.0.0,>=0.14.0->datasets) (3.12.4)\n",
            "Requirement already satisfied: typing-extensions>=3.7.4.3 in /usr/local/lib/python3.10/dist-packages (from huggingface-hub<1.0.0,>=0.14.0->datasets) (4.5.0)\n",
            "Requirement already satisfied: idna<4,>=2.5 in /usr/local/lib/python3.10/dist-packages (from requests>=2.19.0->datasets) (3.4)\n",
            "Requirement already satisfied: urllib3<3,>=1.21.1 in /usr/local/lib/python3.10/dist-packages (from requests>=2.19.0->datasets) (2.0.7)\n",
            "Requirement already satisfied: certifi>=2017.4.17 in /usr/local/lib/python3.10/dist-packages (from requests>=2.19.0->datasets) (2023.7.22)\n",
            "Requirement already satisfied: python-dateutil>=2.8.1 in /usr/local/lib/python3.10/dist-packages (from pandas->datasets) (2.8.2)\n",
            "Requirement already satisfied: pytz>=2020.1 in /usr/local/lib/python3.10/dist-packages (from pandas->datasets) (2023.3.post1)\n",
            "Requirement already satisfied: six>=1.5 in /usr/local/lib/python3.10/dist-packages (from python-dateutil>=2.8.1->pandas->datasets) (1.16.0)\n",
            "Installing collected packages: dill, multiprocess, huggingface-hub, datasets\n",
            "Successfully installed datasets-2.14.6 dill-0.3.7 huggingface-hub-0.18.0 multiprocess-0.70.15\n"
          ]
        }
      ]
    },
    {
      "cell_type": "code",
      "source": [
        "from datasets import load_dataset\n",
        "dataset = load_dataset(\"amaydle/npc-dialogue\")"
      ],
      "metadata": {
        "colab": {
          "base_uri": "https://localhost:8080/",
          "height": 241,
          "referenced_widgets": [
            "d3f3f2f3eae14a17b9477f952b4d4fee",
            "ab4d7db78f2740ce8e0252c00b241c49",
            "4b22ddcc099f4aa28efdebfe1c2c515b",
            "95db17a0f6e140adaf911ec6df14fee5",
            "59f9c42edda04e43bfcea2774a8882b3",
            "10aea599454c43269a63164324caa4a3",
            "310af01276e443a0aeb98c70fd2e5b64",
            "455139a352f54e2a9ccefe6023fd7139",
            "b6ce19c157584b87ae9c5ed05c2b54c2",
            "7a7223d4a50e4b0db5cf9ac3128dbc35",
            "fc71160191ee48bcbb0925afc78b5b00",
            "7aa0fa880b8043f6a016bebdcefc784e",
            "83fcda8042ea4eb1a4cf8bdb85ff2b54",
            "697a286bc79f49bd85d6e5ced3b4e17b",
            "aa83f86ad2e4429b8d5b089204c9fee1",
            "1de7f7e7dbef4633ad4e9816f935a358",
            "d441a1d9363c48df905b27ac47ce6357",
            "c31c7df9935b467b9f039510643d5593",
            "21674ed0a6784dc0b51fa2a857591d24",
            "2e3c089925c4410a8a199812bd083c20",
            "70e48cc2a6e74728b8a67bcb38874e10",
            "dbf1ab4beda64612b26bfbad886164b2",
            "36abc91cad184ceb8ddb6319f3e3b012",
            "e7abdcb1f0b54647892b0c53a2227892",
            "a01d5007714e4cf0adc9bee7fc760a0e",
            "3181843cf568428abdd663baa2f9442a",
            "29784444eea447328794aaf3aae86e91",
            "c86b175230a54fd2b071f3a3660ea71a",
            "ffe534a3158e4bc4af120bf18799db29",
            "99b6c616349b43d3af1b7dd1a74d8f6a",
            "9d6db77d435e4780b177d2ac257f0b56",
            "0b3f641425c5411ea42929e75be7d9c3",
            "92bf36ac47e8489993667d1416c0c513",
            "2de562287c884566abdb3c9b7772a70f",
            "841d2e0a96f54ff38ed6a63b93218a69",
            "06c7e9edddb14faf9596fe8327c3a749",
            "d58a130211ff4fc4914defa42f6ceb45",
            "e782e6dad66e4535a48a4663c165830b",
            "80877b47986e46f9b96142fd3059d17d",
            "815bb914e02d41ed8677c0345c7059ac",
            "59252518db8d47febddf77363e8c04f4",
            "b65cab5ba0c049889174520d60d2c491",
            "b48b92928b594ccf8952d48cebec580e",
            "f63c97d20ecd4dfd91628b16dc1334a8",
            "1c297b2defd742be807d18dfcf551f4c",
            "977c9b6dbe17410caa921827417d3c77",
            "b9f8fae13bb643fda45aa01e835b4678",
            "aa587257c40141fe922824fa93595fea",
            "de8893070f3e4d57b8a7f94981b53020",
            "10343f68c6ab47e3b480b1b3afa88eed",
            "ef2607ce11d74c2d80aa4d7f3501ae80",
            "657b3fb0e9b64d55a938edf74495dac3",
            "63141a0583b5427ca5361a76388f15c3",
            "46063bbab63d4bf1b2583b6769136645",
            "30ff49e37c6f4e68a563352d50601a77",
            "57ffe2641223461490acbf9e7d18d102",
            "14dcc0e7e740405b9428b52e4b5eab26",
            "be9ad850612c484796f10bc2e1ebb5f5",
            "f14279015f9f4a939600e93f0514db9e",
            "6ad93515afc945f88d94209278746e60",
            "07c0b88f0d874626b4746bece14bb552",
            "6017329d137b4b9e8a386820b70c9553",
            "7d0d8975e10f49e8911b3326908367c0",
            "cb5d8d0998df47cabfb649582fa145ea",
            "d0fab301571f4df2a67a9aecf4f032aa",
            "300a7c5396f64484a0df77585f7ed8fb",
            "77915f9872534073bfd6c1c14b0475cc",
            "49b6db47c9d247b88a0b7d5cabe6ba39",
            "ffffc32de7404112b2a26e6f4b64cd77",
            "0b1598d7e92e486fa1618a31497a453c",
            "52eee3f50aa844ec8c3f59fd2dfd59d7",
            "fdcc3fb39b2a4dcbacad164b59c678a4",
            "099e71584d164c0ca24c6d60d846c095",
            "1aed204338ec4be1883b0d9aded137a3",
            "3a9c2a888e2a4c62b0dd506ca0bcdd4f",
            "7be2d94a85c14e1082a293d2f9690153",
            "3bf9bb2051e74e2aae0a9d59d6e7bb85"
          ]
        },
        "id": "LM_lCbf-_tx_",
        "outputId": "f2cf502b-a995-4f99-e4b9-e3fcf347b1e2"
      },
      "execution_count": 5,
      "outputs": [
        {
          "output_type": "display_data",
          "data": {
            "text/plain": [
              "Downloading readme:   0%|          | 0.00/579 [00:00<?, ?B/s]"
            ],
            "application/vnd.jupyter.widget-view+json": {
              "version_major": 2,
              "version_minor": 0,
              "model_id": "d3f3f2f3eae14a17b9477f952b4d4fee"
            }
          },
          "metadata": {}
        },
        {
          "output_type": "display_data",
          "data": {
            "text/plain": [
              "Downloading data files:   0%|          | 0/2 [00:00<?, ?it/s]"
            ],
            "application/vnd.jupyter.widget-view+json": {
              "version_major": 2,
              "version_minor": 0,
              "model_id": "7aa0fa880b8043f6a016bebdcefc784e"
            }
          },
          "metadata": {}
        },
        {
          "output_type": "display_data",
          "data": {
            "text/plain": [
              "Downloading data:   0%|          | 0.00/166k [00:00<?, ?B/s]"
            ],
            "application/vnd.jupyter.widget-view+json": {
              "version_major": 2,
              "version_minor": 0,
              "model_id": "36abc91cad184ceb8ddb6319f3e3b012"
            }
          },
          "metadata": {}
        },
        {
          "output_type": "display_data",
          "data": {
            "text/plain": [
              "Downloading data:   0%|          | 0.00/35.7k [00:00<?, ?B/s]"
            ],
            "application/vnd.jupyter.widget-view+json": {
              "version_major": 2,
              "version_minor": 0,
              "model_id": "2de562287c884566abdb3c9b7772a70f"
            }
          },
          "metadata": {}
        },
        {
          "output_type": "display_data",
          "data": {
            "text/plain": [
              "Extracting data files:   0%|          | 0/2 [00:00<?, ?it/s]"
            ],
            "application/vnd.jupyter.widget-view+json": {
              "version_major": 2,
              "version_minor": 0,
              "model_id": "1c297b2defd742be807d18dfcf551f4c"
            }
          },
          "metadata": {}
        },
        {
          "output_type": "display_data",
          "data": {
            "text/plain": [
              "Generating train split:   0%|          | 0/1723 [00:00<?, ? examples/s]"
            ],
            "application/vnd.jupyter.widget-view+json": {
              "version_major": 2,
              "version_minor": 0,
              "model_id": "57ffe2641223461490acbf9e7d18d102"
            }
          },
          "metadata": {}
        },
        {
          "output_type": "display_data",
          "data": {
            "text/plain": [
              "Generating test split:   0%|          | 0/192 [00:00<?, ? examples/s]"
            ],
            "application/vnd.jupyter.widget-view+json": {
              "version_major": 2,
              "version_minor": 0,
              "model_id": "77915f9872534073bfd6c1c14b0475cc"
            }
          },
          "metadata": {}
        }
      ]
    },
    {
      "cell_type": "code",
      "source": [
        "dataset"
      ],
      "metadata": {
        "colab": {
          "base_uri": "https://localhost:8080/"
        },
        "id": "591wx3IBACcY",
        "outputId": "1dda0b95-0b1a-49bf-9273-b9add36fc221"
      },
      "execution_count": 6,
      "outputs": [
        {
          "output_type": "execute_result",
          "data": {
            "text/plain": [
              "DatasetDict({\n",
              "    train: Dataset({\n",
              "        features: ['Name', 'Biography', 'Query', 'Response', 'Emotion'],\n",
              "        num_rows: 1723\n",
              "    })\n",
              "    test: Dataset({\n",
              "        features: ['Name', 'Biography', 'Query', 'Response', 'Emotion'],\n",
              "        num_rows: 192\n",
              "    })\n",
              "})"
            ]
          },
          "metadata": {},
          "execution_count": 6
        }
      ]
    },
    {
      "cell_type": "code",
      "source": [
        "df_train = pd.DataFrame(dataset['train'])"
      ],
      "metadata": {
        "id": "JOBo6mZN_4fQ"
      },
      "execution_count": 7,
      "outputs": []
    },
    {
      "cell_type": "code",
      "source": [
        "df_test = pd.DataFrame(dataset['test'])"
      ],
      "metadata": {
        "id": "3Usm4qIGAcP9"
      },
      "execution_count": 9,
      "outputs": []
    },
    {
      "cell_type": "markdown",
      "source": [
        "#### sanity checks"
      ],
      "metadata": {
        "id": "TKWlLmJhIOP2"
      }
    },
    {
      "cell_type": "code",
      "source": [
        "assert df_train.shape[0] + df_test.shape[0] == 1915"
      ],
      "metadata": {
        "id": "FI9SdqFzIHbn"
      },
      "execution_count": 10,
      "outputs": []
    },
    {
      "cell_type": "code",
      "source": [
        "assert df_train.shape[1] == 5"
      ],
      "metadata": {
        "id": "C5zKMgQnIbqx"
      },
      "execution_count": 11,
      "outputs": []
    },
    {
      "cell_type": "code",
      "source": [
        "assert df_test.shape[1] == 5"
      ],
      "metadata": {
        "id": "VPm1hakgIfKK"
      },
      "execution_count": 12,
      "outputs": []
    },
    {
      "cell_type": "markdown",
      "source": [
        "### EDA"
      ],
      "metadata": {
        "id": "ejFSKJgVI9i9"
      }
    },
    {
      "cell_type": "code",
      "source": [
        "df_train['Name'].unique()"
      ],
      "metadata": {
        "colab": {
          "base_uri": "https://localhost:8080/"
        },
        "id": "eA6Qbk9S4_5x",
        "outputId": "4c55b124-6f03-4521-f445-5e1b0199b707"
      },
      "execution_count": 13,
      "outputs": [
        {
          "output_type": "execute_result",
          "data": {
            "text/plain": [
              "array(['Bikram', 'Arcturus the Bounty Hunter', 'Elena Gilbert',\n",
              "       'Arin the Cleric', 'Scott McCall', 'Indiana Jones',\n",
              "       'Garrick Stonefist', 'Thor', 'Naruto Uzumaki', 'John Constantine',\n",
              "       'Barra the Brave', 'Valtor the Fire Mage',\n",
              "       'Alistair the Enchanter', 'Eira', 'Hermione Granger', 'Merlin',\n",
              "       'Elsa', 'Drogthar the Mighty', 'Bugs Bunny', 'Althea', 'Alucard',\n",
              "       'Kaela the Enchantress', 'Reaper', 'Eryndor the Wise', 'Zuko',\n",
              "       'Sailor Moon', 'Saitama', 'Ariel', 'Adalyn the Huntress',\n",
              "       'Annabelle', 'Lelouch Lamperouge', 'Ben Tennyson',\n",
              "       'Lyra Shadowmoon', 'Aria Nightshade', 'Agent 47', 'Mike Ross',\n",
              "       'Arinthea the Enchantress', 'Aric Blackwood', 'Kiera Ravenwood',\n",
              "       'Rocky (K.G.F)', 'Katniss Everdeen', 'Harry Potter', 'K2',\n",
              "       'Vegeta', 'Drogath', 'Casey Bowman', 'Lyra Dawnstrider',\n",
              "       'Kiera the Blade Dancer', 'Tiger', 'Lucifer Morningstar',\n",
              "       'Aiden Stone', 'Lyra Starweaver', 'Zara the Brave', 'Faela',\n",
              "       'Michael \"Mike\" Harper', 'Neo', 'Sonic the Hedgehog',\n",
              "       'Thorgar the Mighty', 'Lady Hela', 'Vincenzo', 'Aragorn',\n",
              "       'Thalassa', 'Arinthea', 'Lyra Windrider', 'Monkey D. Luffy',\n",
              "       'Lady Kaelia', 'Jake Sully', 'Thorgar Ironfist', 'Percy Jackson',\n",
              "       'Mario', 'Goku', 'Eadric Frostweaver', 'Arn, the Knight Templar',\n",
              "       'Zephyr', 'Arinthal', 'Mr. Argent', 'Luna the Enchanter',\n",
              "       'Lyra Moonstone', 'James Bond', 'Marcella Ravenwood',\n",
              "       'Elara Moonwhisper', 'Captain Jack Sparrow', 'Naina Mathur',\n",
              "       'Hiccup Horrendous Haddock III', 'Thalia Windrider',\n",
              "       'Ragnar Ironfist', 'Fjorn Frostbeard', 'Galahad', 'Jack Bauer',\n",
              "       'Sam Fisher', 'Wednesday Addams', 'Cloud Strife', 'Natsu Dragneel',\n",
              "       'Arinon the Bold', 'Arin', 'Light Yagami', 'Dr. Shaun Murphy',\n",
              "       'Kaela', 'Tony Stark', 'Thorne', 'Lara Croft'], dtype=object)"
            ]
          },
          "metadata": {},
          "execution_count": 13
        }
      ]
    },
    {
      "cell_type": "code",
      "source": [
        "len(df_train['Name'].unique())"
      ],
      "metadata": {
        "colab": {
          "base_uri": "https://localhost:8080/"
        },
        "id": "YUMWQwmN5ELO",
        "outputId": "82e03c60-65cb-4bee-998a-c617ffd80f50"
      },
      "execution_count": 14,
      "outputs": [
        {
          "output_type": "execute_result",
          "data": {
            "text/plain": [
              "101"
            ]
          },
          "metadata": {},
          "execution_count": 14
        }
      ]
    },
    {
      "cell_type": "code",
      "source": [
        "df_train['Name'].value_counts()"
      ],
      "metadata": {
        "colab": {
          "base_uri": "https://localhost:8080/"
        },
        "id": "ZtiwWu6GI8EE",
        "outputId": "80e65aba-b3eb-4ea3-a6c9-ce1b08ce0e58"
      },
      "execution_count": 18,
      "outputs": [
        {
          "output_type": "execute_result",
          "data": {
            "text/plain": [
              "Arinthea            23\n",
              "Aria Nightshade     23\n",
              "Bikram              20\n",
              "Katniss Everdeen    20\n",
              "Mr. Argent          20\n",
              "                    ..\n",
              "Arin                 5\n",
              "Drogath              5\n",
              "Thorne               5\n",
              "Tony Stark           1\n",
              "Lara Croft           1\n",
              "Name: Name, Length: 101, dtype: int64"
            ]
          },
          "metadata": {},
          "execution_count": 18
        }
      ]
    },
    {
      "cell_type": "code",
      "source": [
        "df_train['Emotion'].value_counts()"
      ],
      "metadata": {
        "colab": {
          "base_uri": "https://localhost:8080/"
        },
        "id": "d3v4tT0rVrRA",
        "outputId": "d9f8747f-2b8f-4bc8-9d95-73977c3c3c95"
      },
      "execution_count": 17,
      "outputs": [
        {
          "output_type": "execute_result",
          "data": {
            "text/plain": [
              "Neutral          178\n",
              "Happiness        131\n",
              "Determination    100\n",
              "Fear              89\n",
              "Sadness           84\n",
              "                ... \n",
              "Trust.             1\n",
              "Busy               1\n",
              "Distrustful        1\n",
              "Heartbroken        1\n",
              "Understanding      1\n",
              "Name: Emotion, Length: 271, dtype: int64"
            ]
          },
          "metadata": {},
          "execution_count": 17
        }
      ]
    },
    {
      "cell_type": "code",
      "source": [
        "by_name = df_train.groupby('Name')\n",
        "\n",
        "# Equivalent\n",
        "# by_name = df_train.groupby(df_train['Name'])\n",
        "# by_name = df_train.groupby(df_train.Name)"
      ],
      "metadata": {
        "id": "KV4X6i9oJw5g"
      },
      "execution_count": 19,
      "outputs": []
    },
    {
      "cell_type": "code",
      "source": [
        "by_name"
      ],
      "metadata": {
        "colab": {
          "base_uri": "https://localhost:8080/"
        },
        "id": "TQQNJ8DLRETO",
        "outputId": "8aeab1ac-d50f-4533-f9d1-b76f1f20e32c"
      },
      "execution_count": 20,
      "outputs": [
        {
          "output_type": "execute_result",
          "data": {
            "text/plain": [
              "<pandas.core.groupby.generic.DataFrameGroupBy object at 0x79ad88120a90>"
            ]
          },
          "metadata": {},
          "execution_count": 20
        }
      ]
    },
    {
      "cell_type": "code",
      "source": [
        "by_name.first()"
      ],
      "metadata": {
        "colab": {
          "base_uri": "https://localhost:8080/",
          "height": 455
        },
        "id": "KJvWd9l7RGUW",
        "outputId": "54c55dd3-b86b-426e-c078-c9c68941ece5"
      },
      "execution_count": 21,
      "outputs": [
        {
          "output_type": "execute_result",
          "data": {
            "text/plain": [
              "                                                                Biography  \\\n",
              "Name                                                                        \n",
              "Adalyn the Huntress     Adalyn is a fearless and skilled hunter from t...   \n",
              "Agent 47                Agent 47 is a genetically engineered assassin,...   \n",
              "Aiden Stone             Aiden is a skilled thief who grew up on the st...   \n",
              "Alistair the Enchanter  Alistair is a powerful wizard who lived in the...   \n",
              "Althea                  Althea is a half-elf ranger with a fierce inde...   \n",
              "...                                                                   ...   \n",
              "Vincenzo                Vincenzo is a cunning and charismatic thief, w...   \n",
              "Wednesday Addams        Wednesday Addams is a teenage goth and the dau...   \n",
              "Zara the Brave          Zara was born in a small village, but her curi...   \n",
              "Zephyr                  Zephyr is a mischievous fairy who loves playin...   \n",
              "Zuko                    Zuko is a former prince of the Fire Nation and...   \n",
              "\n",
              "                                                                    Query  \\\n",
              "Name                                                                        \n",
              "Adalyn the Huntress      Have you ever hunted in a different environment?   \n",
              "Agent 47                                   Does Agent 47 have any allies?   \n",
              "Aiden Stone             Can you tell me about the first time you stole...   \n",
              "Alistair the Enchanter  Can you tell me about a magical item you have ...   \n",
              "Althea                  Althea, have you ever been betrayed by someone...   \n",
              "...                                                                   ...   \n",
              "Vincenzo                                 What is your opinion on justice?   \n",
              "Wednesday Addams                               Have you ever felt scared?   \n",
              "Zara the Brave          How does Zara feel about working with other wa...   \n",
              "Zephyr                                       Do you believe in true love?   \n",
              "Zuko                                          What is your favorite food?   \n",
              "\n",
              "                                                                 Response  \\\n",
              "Name                                                                        \n",
              "Adalyn the Huntress     Yes, I have hunted in many different environme...   \n",
              "Agent 47                                         Not many that I know of.   \n",
              "Aiden Stone             I was only six years old when I stole a loaf o...   \n",
              "Alistair the Enchanter  Created many, but favorite is my enchanted staff.   \n",
              "Althea                  (Narrows her eyes) Yes, I have. It's not somet...   \n",
              "...                                                                   ...   \n",
              "Vincenzo                                 \"Justice, for the wealthy only.\"   \n",
              "Wednesday Addams                         \"Scared, sometimes, embrace it.\"   \n",
              "Zara the Brave          Zara enjoys working with other warriors, as lo...   \n",
              "Zephyr                  I'm not sure what you mean by \"true love\", but...   \n",
              "Zuko                    I don't really have a favorite, but I enjoy sp...   \n",
              "\n",
              "                             Emotion  \n",
              "Name                                  \n",
              "Adalyn the Huntress     Adaptability  \n",
              "Agent 47                     Neutral  \n",
              "Aiden Stone                  Sadness  \n",
              "Alistair the Enchanter     Happiness  \n",
              "Althea                         Anger  \n",
              "...                              ...  \n",
              "Vincenzo                    Cynicism  \n",
              "Wednesday Addams          Acceptance  \n",
              "Zara the Brave             Happiness  \n",
              "Zephyr                  Indifference  \n",
              "Zuko                         Neutral  \n",
              "\n",
              "[101 rows x 4 columns]"
            ],
            "text/html": [
              "\n",
              "  <div id=\"df-39b1ae5e-8644-44b0-95eb-04d656c40547\" class=\"colab-df-container\">\n",
              "    <div>\n",
              "<style scoped>\n",
              "    .dataframe tbody tr th:only-of-type {\n",
              "        vertical-align: middle;\n",
              "    }\n",
              "\n",
              "    .dataframe tbody tr th {\n",
              "        vertical-align: top;\n",
              "    }\n",
              "\n",
              "    .dataframe thead th {\n",
              "        text-align: right;\n",
              "    }\n",
              "</style>\n",
              "<table border=\"1\" class=\"dataframe\">\n",
              "  <thead>\n",
              "    <tr style=\"text-align: right;\">\n",
              "      <th></th>\n",
              "      <th>Biography</th>\n",
              "      <th>Query</th>\n",
              "      <th>Response</th>\n",
              "      <th>Emotion</th>\n",
              "    </tr>\n",
              "    <tr>\n",
              "      <th>Name</th>\n",
              "      <th></th>\n",
              "      <th></th>\n",
              "      <th></th>\n",
              "      <th></th>\n",
              "    </tr>\n",
              "  </thead>\n",
              "  <tbody>\n",
              "    <tr>\n",
              "      <th>Adalyn the Huntress</th>\n",
              "      <td>Adalyn is a fearless and skilled hunter from t...</td>\n",
              "      <td>Have you ever hunted in a different environment?</td>\n",
              "      <td>Yes, I have hunted in many different environme...</td>\n",
              "      <td>Adaptability</td>\n",
              "    </tr>\n",
              "    <tr>\n",
              "      <th>Agent 47</th>\n",
              "      <td>Agent 47 is a genetically engineered assassin,...</td>\n",
              "      <td>Does Agent 47 have any allies?</td>\n",
              "      <td>Not many that I know of.</td>\n",
              "      <td>Neutral</td>\n",
              "    </tr>\n",
              "    <tr>\n",
              "      <th>Aiden Stone</th>\n",
              "      <td>Aiden is a skilled thief who grew up on the st...</td>\n",
              "      <td>Can you tell me about the first time you stole...</td>\n",
              "      <td>I was only six years old when I stole a loaf o...</td>\n",
              "      <td>Sadness</td>\n",
              "    </tr>\n",
              "    <tr>\n",
              "      <th>Alistair the Enchanter</th>\n",
              "      <td>Alistair is a powerful wizard who lived in the...</td>\n",
              "      <td>Can you tell me about a magical item you have ...</td>\n",
              "      <td>Created many, but favorite is my enchanted staff.</td>\n",
              "      <td>Happiness</td>\n",
              "    </tr>\n",
              "    <tr>\n",
              "      <th>Althea</th>\n",
              "      <td>Althea is a half-elf ranger with a fierce inde...</td>\n",
              "      <td>Althea, have you ever been betrayed by someone...</td>\n",
              "      <td>(Narrows her eyes) Yes, I have. It's not somet...</td>\n",
              "      <td>Anger</td>\n",
              "    </tr>\n",
              "    <tr>\n",
              "      <th>...</th>\n",
              "      <td>...</td>\n",
              "      <td>...</td>\n",
              "      <td>...</td>\n",
              "      <td>...</td>\n",
              "    </tr>\n",
              "    <tr>\n",
              "      <th>Vincenzo</th>\n",
              "      <td>Vincenzo is a cunning and charismatic thief, w...</td>\n",
              "      <td>What is your opinion on justice?</td>\n",
              "      <td>\"Justice, for the wealthy only.\"</td>\n",
              "      <td>Cynicism</td>\n",
              "    </tr>\n",
              "    <tr>\n",
              "      <th>Wednesday Addams</th>\n",
              "      <td>Wednesday Addams is a teenage goth and the dau...</td>\n",
              "      <td>Have you ever felt scared?</td>\n",
              "      <td>\"Scared, sometimes, embrace it.\"</td>\n",
              "      <td>Acceptance</td>\n",
              "    </tr>\n",
              "    <tr>\n",
              "      <th>Zara the Brave</th>\n",
              "      <td>Zara was born in a small village, but her curi...</td>\n",
              "      <td>How does Zara feel about working with other wa...</td>\n",
              "      <td>Zara enjoys working with other warriors, as lo...</td>\n",
              "      <td>Happiness</td>\n",
              "    </tr>\n",
              "    <tr>\n",
              "      <th>Zephyr</th>\n",
              "      <td>Zephyr is a mischievous fairy who loves playin...</td>\n",
              "      <td>Do you believe in true love?</td>\n",
              "      <td>I'm not sure what you mean by \"true love\", but...</td>\n",
              "      <td>Indifference</td>\n",
              "    </tr>\n",
              "    <tr>\n",
              "      <th>Zuko</th>\n",
              "      <td>Zuko is a former prince of the Fire Nation and...</td>\n",
              "      <td>What is your favorite food?</td>\n",
              "      <td>I don't really have a favorite, but I enjoy sp...</td>\n",
              "      <td>Neutral</td>\n",
              "    </tr>\n",
              "  </tbody>\n",
              "</table>\n",
              "<p>101 rows × 4 columns</p>\n",
              "</div>\n",
              "    <div class=\"colab-df-buttons\">\n",
              "\n",
              "  <div class=\"colab-df-container\">\n",
              "    <button class=\"colab-df-convert\" onclick=\"convertToInteractive('df-39b1ae5e-8644-44b0-95eb-04d656c40547')\"\n",
              "            title=\"Convert this dataframe to an interactive table.\"\n",
              "            style=\"display:none;\">\n",
              "\n",
              "  <svg xmlns=\"http://www.w3.org/2000/svg\" height=\"24px\" viewBox=\"0 -960 960 960\">\n",
              "    <path d=\"M120-120v-720h720v720H120Zm60-500h600v-160H180v160Zm220 220h160v-160H400v160Zm0 220h160v-160H400v160ZM180-400h160v-160H180v160Zm440 0h160v-160H620v160ZM180-180h160v-160H180v160Zm440 0h160v-160H620v160Z\"/>\n",
              "  </svg>\n",
              "    </button>\n",
              "\n",
              "  <style>\n",
              "    .colab-df-container {\n",
              "      display:flex;\n",
              "      gap: 12px;\n",
              "    }\n",
              "\n",
              "    .colab-df-convert {\n",
              "      background-color: #E8F0FE;\n",
              "      border: none;\n",
              "      border-radius: 50%;\n",
              "      cursor: pointer;\n",
              "      display: none;\n",
              "      fill: #1967D2;\n",
              "      height: 32px;\n",
              "      padding: 0 0 0 0;\n",
              "      width: 32px;\n",
              "    }\n",
              "\n",
              "    .colab-df-convert:hover {\n",
              "      background-color: #E2EBFA;\n",
              "      box-shadow: 0px 1px 2px rgba(60, 64, 67, 0.3), 0px 1px 3px 1px rgba(60, 64, 67, 0.15);\n",
              "      fill: #174EA6;\n",
              "    }\n",
              "\n",
              "    .colab-df-buttons div {\n",
              "      margin-bottom: 4px;\n",
              "    }\n",
              "\n",
              "    [theme=dark] .colab-df-convert {\n",
              "      background-color: #3B4455;\n",
              "      fill: #D2E3FC;\n",
              "    }\n",
              "\n",
              "    [theme=dark] .colab-df-convert:hover {\n",
              "      background-color: #434B5C;\n",
              "      box-shadow: 0px 1px 3px 1px rgba(0, 0, 0, 0.15);\n",
              "      filter: drop-shadow(0px 1px 2px rgba(0, 0, 0, 0.3));\n",
              "      fill: #FFFFFF;\n",
              "    }\n",
              "  </style>\n",
              "\n",
              "    <script>\n",
              "      const buttonEl =\n",
              "        document.querySelector('#df-39b1ae5e-8644-44b0-95eb-04d656c40547 button.colab-df-convert');\n",
              "      buttonEl.style.display =\n",
              "        google.colab.kernel.accessAllowed ? 'block' : 'none';\n",
              "\n",
              "      async function convertToInteractive(key) {\n",
              "        const element = document.querySelector('#df-39b1ae5e-8644-44b0-95eb-04d656c40547');\n",
              "        const dataTable =\n",
              "          await google.colab.kernel.invokeFunction('convertToInteractive',\n",
              "                                                    [key], {});\n",
              "        if (!dataTable) return;\n",
              "\n",
              "        const docLinkHtml = 'Like what you see? Visit the ' +\n",
              "          '<a target=\"_blank\" href=https://colab.research.google.com/notebooks/data_table.ipynb>data table notebook</a>'\n",
              "          + ' to learn more about interactive tables.';\n",
              "        element.innerHTML = '';\n",
              "        dataTable['output_type'] = 'display_data';\n",
              "        await google.colab.output.renderOutput(dataTable, element);\n",
              "        const docLink = document.createElement('div');\n",
              "        docLink.innerHTML = docLinkHtml;\n",
              "        element.appendChild(docLink);\n",
              "      }\n",
              "    </script>\n",
              "  </div>\n",
              "\n",
              "\n",
              "<div id=\"df-1f1a5776-6c5a-4428-8e73-80fb6530e8f3\">\n",
              "  <button class=\"colab-df-quickchart\" onclick=\"quickchart('df-1f1a5776-6c5a-4428-8e73-80fb6530e8f3')\"\n",
              "            title=\"Suggest charts.\"\n",
              "            style=\"display:none;\">\n",
              "\n",
              "<svg xmlns=\"http://www.w3.org/2000/svg\" height=\"24px\"viewBox=\"0 0 24 24\"\n",
              "     width=\"24px\">\n",
              "    <g>\n",
              "        <path d=\"M19 3H5c-1.1 0-2 .9-2 2v14c0 1.1.9 2 2 2h14c1.1 0 2-.9 2-2V5c0-1.1-.9-2-2-2zM9 17H7v-7h2v7zm4 0h-2V7h2v10zm4 0h-2v-4h2v4z\"/>\n",
              "    </g>\n",
              "</svg>\n",
              "  </button>\n",
              "\n",
              "<style>\n",
              "  .colab-df-quickchart {\n",
              "      --bg-color: #E8F0FE;\n",
              "      --fill-color: #1967D2;\n",
              "      --hover-bg-color: #E2EBFA;\n",
              "      --hover-fill-color: #174EA6;\n",
              "      --disabled-fill-color: #AAA;\n",
              "      --disabled-bg-color: #DDD;\n",
              "  }\n",
              "\n",
              "  [theme=dark] .colab-df-quickchart {\n",
              "      --bg-color: #3B4455;\n",
              "      --fill-color: #D2E3FC;\n",
              "      --hover-bg-color: #434B5C;\n",
              "      --hover-fill-color: #FFFFFF;\n",
              "      --disabled-bg-color: #3B4455;\n",
              "      --disabled-fill-color: #666;\n",
              "  }\n",
              "\n",
              "  .colab-df-quickchart {\n",
              "    background-color: var(--bg-color);\n",
              "    border: none;\n",
              "    border-radius: 50%;\n",
              "    cursor: pointer;\n",
              "    display: none;\n",
              "    fill: var(--fill-color);\n",
              "    height: 32px;\n",
              "    padding: 0;\n",
              "    width: 32px;\n",
              "  }\n",
              "\n",
              "  .colab-df-quickchart:hover {\n",
              "    background-color: var(--hover-bg-color);\n",
              "    box-shadow: 0 1px 2px rgba(60, 64, 67, 0.3), 0 1px 3px 1px rgba(60, 64, 67, 0.15);\n",
              "    fill: var(--button-hover-fill-color);\n",
              "  }\n",
              "\n",
              "  .colab-df-quickchart-complete:disabled,\n",
              "  .colab-df-quickchart-complete:disabled:hover {\n",
              "    background-color: var(--disabled-bg-color);\n",
              "    fill: var(--disabled-fill-color);\n",
              "    box-shadow: none;\n",
              "  }\n",
              "\n",
              "  .colab-df-spinner {\n",
              "    border: 2px solid var(--fill-color);\n",
              "    border-color: transparent;\n",
              "    border-bottom-color: var(--fill-color);\n",
              "    animation:\n",
              "      spin 1s steps(1) infinite;\n",
              "  }\n",
              "\n",
              "  @keyframes spin {\n",
              "    0% {\n",
              "      border-color: transparent;\n",
              "      border-bottom-color: var(--fill-color);\n",
              "      border-left-color: var(--fill-color);\n",
              "    }\n",
              "    20% {\n",
              "      border-color: transparent;\n",
              "      border-left-color: var(--fill-color);\n",
              "      border-top-color: var(--fill-color);\n",
              "    }\n",
              "    30% {\n",
              "      border-color: transparent;\n",
              "      border-left-color: var(--fill-color);\n",
              "      border-top-color: var(--fill-color);\n",
              "      border-right-color: var(--fill-color);\n",
              "    }\n",
              "    40% {\n",
              "      border-color: transparent;\n",
              "      border-right-color: var(--fill-color);\n",
              "      border-top-color: var(--fill-color);\n",
              "    }\n",
              "    60% {\n",
              "      border-color: transparent;\n",
              "      border-right-color: var(--fill-color);\n",
              "    }\n",
              "    80% {\n",
              "      border-color: transparent;\n",
              "      border-right-color: var(--fill-color);\n",
              "      border-bottom-color: var(--fill-color);\n",
              "    }\n",
              "    90% {\n",
              "      border-color: transparent;\n",
              "      border-bottom-color: var(--fill-color);\n",
              "    }\n",
              "  }\n",
              "</style>\n",
              "\n",
              "  <script>\n",
              "    async function quickchart(key) {\n",
              "      const quickchartButtonEl =\n",
              "        document.querySelector('#' + key + ' button');\n",
              "      quickchartButtonEl.disabled = true;  // To prevent multiple clicks.\n",
              "      quickchartButtonEl.classList.add('colab-df-spinner');\n",
              "      try {\n",
              "        const charts = await google.colab.kernel.invokeFunction(\n",
              "            'suggestCharts', [key], {});\n",
              "      } catch (error) {\n",
              "        console.error('Error during call to suggestCharts:', error);\n",
              "      }\n",
              "      quickchartButtonEl.classList.remove('colab-df-spinner');\n",
              "      quickchartButtonEl.classList.add('colab-df-quickchart-complete');\n",
              "    }\n",
              "    (() => {\n",
              "      let quickchartButtonEl =\n",
              "        document.querySelector('#df-1f1a5776-6c5a-4428-8e73-80fb6530e8f3 button');\n",
              "      quickchartButtonEl.style.display =\n",
              "        google.colab.kernel.accessAllowed ? 'block' : 'none';\n",
              "    })();\n",
              "  </script>\n",
              "</div>\n",
              "\n",
              "    </div>\n",
              "  </div>\n"
            ]
          },
          "metadata": {},
          "execution_count": 21
        }
      ]
    },
    {
      "cell_type": "code",
      "source": [
        "by_name.get_group('Indiana Jones')"
      ],
      "metadata": {
        "colab": {
          "base_uri": "https://localhost:8080/",
          "height": 582
        },
        "id": "67iEm0uxJwot",
        "outputId": "37695683-fcd3-48ec-a6ea-d0c3d12e1b3b"
      },
      "execution_count": 22,
      "outputs": [
        {
          "output_type": "execute_result",
          "data": {
            "text/plain": [
              "               Name                                          Biography  \\\n",
              "5     Indiana Jones  Dr. Henry Walton Jones Jr., also known as Indi...   \n",
              "7     Indiana Jones  Dr. Henry Walton Jones Jr., also known as Indi...   \n",
              "224   Indiana Jones  Dr. Henry Walton Jones Jr., also known as Indi...   \n",
              "287   Indiana Jones  Dr. Henry Walton Jones Jr., also known as Indi...   \n",
              "323   Indiana Jones  Dr. Henry Walton Jones Jr., also known as Indi...   \n",
              "340   Indiana Jones  Dr. Henry Walton Jones Jr., also known as Indi...   \n",
              "341   Indiana Jones  Dr. Henry Walton Jones Jr., also known as Indi...   \n",
              "427   Indiana Jones  Dr. Henry Walton Jones Jr., also known as Indi...   \n",
              "462   Indiana Jones  Dr. Henry Walton Jones Jr., also known as Indi...   \n",
              "637   Indiana Jones  Dr. Henry Walton Jones Jr., also known as Indi...   \n",
              "1061  Indiana Jones  Dr. Henry Walton Jones Jr., also known as Indi...   \n",
              "1135  Indiana Jones  Dr. Henry Walton Jones Jr., also known as Indi...   \n",
              "1308  Indiana Jones  Dr. Henry Walton Jones Jr., also known as Indi...   \n",
              "1408  Indiana Jones  Dr. Henry Walton Jones Jr., also known as Indi...   \n",
              "1543  Indiana Jones  Dr. Henry Walton Jones Jr., also known as Indi...   \n",
              "1659  Indiana Jones  Dr. Henry Walton Jones Jr., also known as Indi...   \n",
              "1684  Indiana Jones  Dr. Henry Walton Jones Jr., also known as Indi...   \n",
              "\n",
              "                                                  Query  \\\n",
              "5     What is the most important lesson you've learn...   \n",
              "7           Can you tell me about a specific adventure?   \n",
              "224   Can you tell me about a specific person you've...   \n",
              "287              Can you tell me about your background?   \n",
              "323                   What's your opinion on the Nazis?   \n",
              "340                            Do you have any regrets?   \n",
              "341        Have you ever been in a dangerous situation?   \n",
              "427                        How do you handle adversity?   \n",
              "462   How do you feel about the people you've met on...   \n",
              "637              Have you ever failed in your missions?   \n",
              "1061    What motivates you to keep going on adventures?   \n",
              "1135            How do you feel about treasure hunting?   \n",
              "1308       What is your favorite artifact you've found?   \n",
              "1408                            Do you believe in fate?   \n",
              "1543               Why did you become an archaeologist?   \n",
              "1659                Do you believe in the supernatural?   \n",
              "1684       What is the craziest thing you've ever done?   \n",
              "\n",
              "                                               Response    Emotion  \n",
              "5                                         Trust no one.    Disgust  \n",
              "7                   I once faced Nazis to find the Ark.       Fear  \n",
              "224          I once teamed up with a charismatic thief.  Happiness  \n",
              "287   Raised by adventure-loving parents, I was dest...  Happiness  \n",
              "323                              Evil, pure and simple.    Disgust  \n",
              "340                     Not living life to the fullest.    Sadness  \n",
              "341                All the time, it comes with the job.       Fear  \n",
              "427                                I always find a way.  Happiness  \n",
              "462       I've met some great people, some not so much.   Surprise  \n",
              "637                 Of course, but I always keep going.    Sadness  \n",
              "1061                           The thrill of discovery.  Happiness  \n",
              "1135                             It's a necessary evil.    Disgust  \n",
              "1308  That's a tough one, but maybe the Ark of the C...  Happiness  \n",
              "1408                                I make my own luck.  Happiness  \n",
              "1543            I have a love of history and adventure.  Happiness  \n",
              "1659            I've seen things that defy explanation.   Surprise  \n",
              "1684   Jumping out of a plane with a satchel of snakes.       Fear  "
            ],
            "text/html": [
              "\n",
              "  <div id=\"df-282bae13-3bdf-46f9-b8c1-9a1ddb6f297e\" class=\"colab-df-container\">\n",
              "    <div>\n",
              "<style scoped>\n",
              "    .dataframe tbody tr th:only-of-type {\n",
              "        vertical-align: middle;\n",
              "    }\n",
              "\n",
              "    .dataframe tbody tr th {\n",
              "        vertical-align: top;\n",
              "    }\n",
              "\n",
              "    .dataframe thead th {\n",
              "        text-align: right;\n",
              "    }\n",
              "</style>\n",
              "<table border=\"1\" class=\"dataframe\">\n",
              "  <thead>\n",
              "    <tr style=\"text-align: right;\">\n",
              "      <th></th>\n",
              "      <th>Name</th>\n",
              "      <th>Biography</th>\n",
              "      <th>Query</th>\n",
              "      <th>Response</th>\n",
              "      <th>Emotion</th>\n",
              "    </tr>\n",
              "  </thead>\n",
              "  <tbody>\n",
              "    <tr>\n",
              "      <th>5</th>\n",
              "      <td>Indiana Jones</td>\n",
              "      <td>Dr. Henry Walton Jones Jr., also known as Indi...</td>\n",
              "      <td>What is the most important lesson you've learn...</td>\n",
              "      <td>Trust no one.</td>\n",
              "      <td>Disgust</td>\n",
              "    </tr>\n",
              "    <tr>\n",
              "      <th>7</th>\n",
              "      <td>Indiana Jones</td>\n",
              "      <td>Dr. Henry Walton Jones Jr., also known as Indi...</td>\n",
              "      <td>Can you tell me about a specific adventure?</td>\n",
              "      <td>I once faced Nazis to find the Ark.</td>\n",
              "      <td>Fear</td>\n",
              "    </tr>\n",
              "    <tr>\n",
              "      <th>224</th>\n",
              "      <td>Indiana Jones</td>\n",
              "      <td>Dr. Henry Walton Jones Jr., also known as Indi...</td>\n",
              "      <td>Can you tell me about a specific person you've...</td>\n",
              "      <td>I once teamed up with a charismatic thief.</td>\n",
              "      <td>Happiness</td>\n",
              "    </tr>\n",
              "    <tr>\n",
              "      <th>287</th>\n",
              "      <td>Indiana Jones</td>\n",
              "      <td>Dr. Henry Walton Jones Jr., also known as Indi...</td>\n",
              "      <td>Can you tell me about your background?</td>\n",
              "      <td>Raised by adventure-loving parents, I was dest...</td>\n",
              "      <td>Happiness</td>\n",
              "    </tr>\n",
              "    <tr>\n",
              "      <th>323</th>\n",
              "      <td>Indiana Jones</td>\n",
              "      <td>Dr. Henry Walton Jones Jr., also known as Indi...</td>\n",
              "      <td>What's your opinion on the Nazis?</td>\n",
              "      <td>Evil, pure and simple.</td>\n",
              "      <td>Disgust</td>\n",
              "    </tr>\n",
              "    <tr>\n",
              "      <th>340</th>\n",
              "      <td>Indiana Jones</td>\n",
              "      <td>Dr. Henry Walton Jones Jr., also known as Indi...</td>\n",
              "      <td>Do you have any regrets?</td>\n",
              "      <td>Not living life to the fullest.</td>\n",
              "      <td>Sadness</td>\n",
              "    </tr>\n",
              "    <tr>\n",
              "      <th>341</th>\n",
              "      <td>Indiana Jones</td>\n",
              "      <td>Dr. Henry Walton Jones Jr., also known as Indi...</td>\n",
              "      <td>Have you ever been in a dangerous situation?</td>\n",
              "      <td>All the time, it comes with the job.</td>\n",
              "      <td>Fear</td>\n",
              "    </tr>\n",
              "    <tr>\n",
              "      <th>427</th>\n",
              "      <td>Indiana Jones</td>\n",
              "      <td>Dr. Henry Walton Jones Jr., also known as Indi...</td>\n",
              "      <td>How do you handle adversity?</td>\n",
              "      <td>I always find a way.</td>\n",
              "      <td>Happiness</td>\n",
              "    </tr>\n",
              "    <tr>\n",
              "      <th>462</th>\n",
              "      <td>Indiana Jones</td>\n",
              "      <td>Dr. Henry Walton Jones Jr., also known as Indi...</td>\n",
              "      <td>How do you feel about the people you've met on...</td>\n",
              "      <td>I've met some great people, some not so much.</td>\n",
              "      <td>Surprise</td>\n",
              "    </tr>\n",
              "    <tr>\n",
              "      <th>637</th>\n",
              "      <td>Indiana Jones</td>\n",
              "      <td>Dr. Henry Walton Jones Jr., also known as Indi...</td>\n",
              "      <td>Have you ever failed in your missions?</td>\n",
              "      <td>Of course, but I always keep going.</td>\n",
              "      <td>Sadness</td>\n",
              "    </tr>\n",
              "    <tr>\n",
              "      <th>1061</th>\n",
              "      <td>Indiana Jones</td>\n",
              "      <td>Dr. Henry Walton Jones Jr., also known as Indi...</td>\n",
              "      <td>What motivates you to keep going on adventures?</td>\n",
              "      <td>The thrill of discovery.</td>\n",
              "      <td>Happiness</td>\n",
              "    </tr>\n",
              "    <tr>\n",
              "      <th>1135</th>\n",
              "      <td>Indiana Jones</td>\n",
              "      <td>Dr. Henry Walton Jones Jr., also known as Indi...</td>\n",
              "      <td>How do you feel about treasure hunting?</td>\n",
              "      <td>It's a necessary evil.</td>\n",
              "      <td>Disgust</td>\n",
              "    </tr>\n",
              "    <tr>\n",
              "      <th>1308</th>\n",
              "      <td>Indiana Jones</td>\n",
              "      <td>Dr. Henry Walton Jones Jr., also known as Indi...</td>\n",
              "      <td>What is your favorite artifact you've found?</td>\n",
              "      <td>That's a tough one, but maybe the Ark of the C...</td>\n",
              "      <td>Happiness</td>\n",
              "    </tr>\n",
              "    <tr>\n",
              "      <th>1408</th>\n",
              "      <td>Indiana Jones</td>\n",
              "      <td>Dr. Henry Walton Jones Jr., also known as Indi...</td>\n",
              "      <td>Do you believe in fate?</td>\n",
              "      <td>I make my own luck.</td>\n",
              "      <td>Happiness</td>\n",
              "    </tr>\n",
              "    <tr>\n",
              "      <th>1543</th>\n",
              "      <td>Indiana Jones</td>\n",
              "      <td>Dr. Henry Walton Jones Jr., also known as Indi...</td>\n",
              "      <td>Why did you become an archaeologist?</td>\n",
              "      <td>I have a love of history and adventure.</td>\n",
              "      <td>Happiness</td>\n",
              "    </tr>\n",
              "    <tr>\n",
              "      <th>1659</th>\n",
              "      <td>Indiana Jones</td>\n",
              "      <td>Dr. Henry Walton Jones Jr., also known as Indi...</td>\n",
              "      <td>Do you believe in the supernatural?</td>\n",
              "      <td>I've seen things that defy explanation.</td>\n",
              "      <td>Surprise</td>\n",
              "    </tr>\n",
              "    <tr>\n",
              "      <th>1684</th>\n",
              "      <td>Indiana Jones</td>\n",
              "      <td>Dr. Henry Walton Jones Jr., also known as Indi...</td>\n",
              "      <td>What is the craziest thing you've ever done?</td>\n",
              "      <td>Jumping out of a plane with a satchel of snakes.</td>\n",
              "      <td>Fear</td>\n",
              "    </tr>\n",
              "  </tbody>\n",
              "</table>\n",
              "</div>\n",
              "    <div class=\"colab-df-buttons\">\n",
              "\n",
              "  <div class=\"colab-df-container\">\n",
              "    <button class=\"colab-df-convert\" onclick=\"convertToInteractive('df-282bae13-3bdf-46f9-b8c1-9a1ddb6f297e')\"\n",
              "            title=\"Convert this dataframe to an interactive table.\"\n",
              "            style=\"display:none;\">\n",
              "\n",
              "  <svg xmlns=\"http://www.w3.org/2000/svg\" height=\"24px\" viewBox=\"0 -960 960 960\">\n",
              "    <path d=\"M120-120v-720h720v720H120Zm60-500h600v-160H180v160Zm220 220h160v-160H400v160Zm0 220h160v-160H400v160ZM180-400h160v-160H180v160Zm440 0h160v-160H620v160ZM180-180h160v-160H180v160Zm440 0h160v-160H620v160Z\"/>\n",
              "  </svg>\n",
              "    </button>\n",
              "\n",
              "  <style>\n",
              "    .colab-df-container {\n",
              "      display:flex;\n",
              "      gap: 12px;\n",
              "    }\n",
              "\n",
              "    .colab-df-convert {\n",
              "      background-color: #E8F0FE;\n",
              "      border: none;\n",
              "      border-radius: 50%;\n",
              "      cursor: pointer;\n",
              "      display: none;\n",
              "      fill: #1967D2;\n",
              "      height: 32px;\n",
              "      padding: 0 0 0 0;\n",
              "      width: 32px;\n",
              "    }\n",
              "\n",
              "    .colab-df-convert:hover {\n",
              "      background-color: #E2EBFA;\n",
              "      box-shadow: 0px 1px 2px rgba(60, 64, 67, 0.3), 0px 1px 3px 1px rgba(60, 64, 67, 0.15);\n",
              "      fill: #174EA6;\n",
              "    }\n",
              "\n",
              "    .colab-df-buttons div {\n",
              "      margin-bottom: 4px;\n",
              "    }\n",
              "\n",
              "    [theme=dark] .colab-df-convert {\n",
              "      background-color: #3B4455;\n",
              "      fill: #D2E3FC;\n",
              "    }\n",
              "\n",
              "    [theme=dark] .colab-df-convert:hover {\n",
              "      background-color: #434B5C;\n",
              "      box-shadow: 0px 1px 3px 1px rgba(0, 0, 0, 0.15);\n",
              "      filter: drop-shadow(0px 1px 2px rgba(0, 0, 0, 0.3));\n",
              "      fill: #FFFFFF;\n",
              "    }\n",
              "  </style>\n",
              "\n",
              "    <script>\n",
              "      const buttonEl =\n",
              "        document.querySelector('#df-282bae13-3bdf-46f9-b8c1-9a1ddb6f297e button.colab-df-convert');\n",
              "      buttonEl.style.display =\n",
              "        google.colab.kernel.accessAllowed ? 'block' : 'none';\n",
              "\n",
              "      async function convertToInteractive(key) {\n",
              "        const element = document.querySelector('#df-282bae13-3bdf-46f9-b8c1-9a1ddb6f297e');\n",
              "        const dataTable =\n",
              "          await google.colab.kernel.invokeFunction('convertToInteractive',\n",
              "                                                    [key], {});\n",
              "        if (!dataTable) return;\n",
              "\n",
              "        const docLinkHtml = 'Like what you see? Visit the ' +\n",
              "          '<a target=\"_blank\" href=https://colab.research.google.com/notebooks/data_table.ipynb>data table notebook</a>'\n",
              "          + ' to learn more about interactive tables.';\n",
              "        element.innerHTML = '';\n",
              "        dataTable['output_type'] = 'display_data';\n",
              "        await google.colab.output.renderOutput(dataTable, element);\n",
              "        const docLink = document.createElement('div');\n",
              "        docLink.innerHTML = docLinkHtml;\n",
              "        element.appendChild(docLink);\n",
              "      }\n",
              "    </script>\n",
              "  </div>\n",
              "\n",
              "\n",
              "<div id=\"df-cfdd3792-a3c0-4086-b15d-7fbafdbbdbb7\">\n",
              "  <button class=\"colab-df-quickchart\" onclick=\"quickchart('df-cfdd3792-a3c0-4086-b15d-7fbafdbbdbb7')\"\n",
              "            title=\"Suggest charts.\"\n",
              "            style=\"display:none;\">\n",
              "\n",
              "<svg xmlns=\"http://www.w3.org/2000/svg\" height=\"24px\"viewBox=\"0 0 24 24\"\n",
              "     width=\"24px\">\n",
              "    <g>\n",
              "        <path d=\"M19 3H5c-1.1 0-2 .9-2 2v14c0 1.1.9 2 2 2h14c1.1 0 2-.9 2-2V5c0-1.1-.9-2-2-2zM9 17H7v-7h2v7zm4 0h-2V7h2v10zm4 0h-2v-4h2v4z\"/>\n",
              "    </g>\n",
              "</svg>\n",
              "  </button>\n",
              "\n",
              "<style>\n",
              "  .colab-df-quickchart {\n",
              "      --bg-color: #E8F0FE;\n",
              "      --fill-color: #1967D2;\n",
              "      --hover-bg-color: #E2EBFA;\n",
              "      --hover-fill-color: #174EA6;\n",
              "      --disabled-fill-color: #AAA;\n",
              "      --disabled-bg-color: #DDD;\n",
              "  }\n",
              "\n",
              "  [theme=dark] .colab-df-quickchart {\n",
              "      --bg-color: #3B4455;\n",
              "      --fill-color: #D2E3FC;\n",
              "      --hover-bg-color: #434B5C;\n",
              "      --hover-fill-color: #FFFFFF;\n",
              "      --disabled-bg-color: #3B4455;\n",
              "      --disabled-fill-color: #666;\n",
              "  }\n",
              "\n",
              "  .colab-df-quickchart {\n",
              "    background-color: var(--bg-color);\n",
              "    border: none;\n",
              "    border-radius: 50%;\n",
              "    cursor: pointer;\n",
              "    display: none;\n",
              "    fill: var(--fill-color);\n",
              "    height: 32px;\n",
              "    padding: 0;\n",
              "    width: 32px;\n",
              "  }\n",
              "\n",
              "  .colab-df-quickchart:hover {\n",
              "    background-color: var(--hover-bg-color);\n",
              "    box-shadow: 0 1px 2px rgba(60, 64, 67, 0.3), 0 1px 3px 1px rgba(60, 64, 67, 0.15);\n",
              "    fill: var(--button-hover-fill-color);\n",
              "  }\n",
              "\n",
              "  .colab-df-quickchart-complete:disabled,\n",
              "  .colab-df-quickchart-complete:disabled:hover {\n",
              "    background-color: var(--disabled-bg-color);\n",
              "    fill: var(--disabled-fill-color);\n",
              "    box-shadow: none;\n",
              "  }\n",
              "\n",
              "  .colab-df-spinner {\n",
              "    border: 2px solid var(--fill-color);\n",
              "    border-color: transparent;\n",
              "    border-bottom-color: var(--fill-color);\n",
              "    animation:\n",
              "      spin 1s steps(1) infinite;\n",
              "  }\n",
              "\n",
              "  @keyframes spin {\n",
              "    0% {\n",
              "      border-color: transparent;\n",
              "      border-bottom-color: var(--fill-color);\n",
              "      border-left-color: var(--fill-color);\n",
              "    }\n",
              "    20% {\n",
              "      border-color: transparent;\n",
              "      border-left-color: var(--fill-color);\n",
              "      border-top-color: var(--fill-color);\n",
              "    }\n",
              "    30% {\n",
              "      border-color: transparent;\n",
              "      border-left-color: var(--fill-color);\n",
              "      border-top-color: var(--fill-color);\n",
              "      border-right-color: var(--fill-color);\n",
              "    }\n",
              "    40% {\n",
              "      border-color: transparent;\n",
              "      border-right-color: var(--fill-color);\n",
              "      border-top-color: var(--fill-color);\n",
              "    }\n",
              "    60% {\n",
              "      border-color: transparent;\n",
              "      border-right-color: var(--fill-color);\n",
              "    }\n",
              "    80% {\n",
              "      border-color: transparent;\n",
              "      border-right-color: var(--fill-color);\n",
              "      border-bottom-color: var(--fill-color);\n",
              "    }\n",
              "    90% {\n",
              "      border-color: transparent;\n",
              "      border-bottom-color: var(--fill-color);\n",
              "    }\n",
              "  }\n",
              "</style>\n",
              "\n",
              "  <script>\n",
              "    async function quickchart(key) {\n",
              "      const quickchartButtonEl =\n",
              "        document.querySelector('#' + key + ' button');\n",
              "      quickchartButtonEl.disabled = true;  // To prevent multiple clicks.\n",
              "      quickchartButtonEl.classList.add('colab-df-spinner');\n",
              "      try {\n",
              "        const charts = await google.colab.kernel.invokeFunction(\n",
              "            'suggestCharts', [key], {});\n",
              "      } catch (error) {\n",
              "        console.error('Error during call to suggestCharts:', error);\n",
              "      }\n",
              "      quickchartButtonEl.classList.remove('colab-df-spinner');\n",
              "      quickchartButtonEl.classList.add('colab-df-quickchart-complete');\n",
              "    }\n",
              "    (() => {\n",
              "      let quickchartButtonEl =\n",
              "        document.querySelector('#df-cfdd3792-a3c0-4086-b15d-7fbafdbbdbb7 button');\n",
              "      quickchartButtonEl.style.display =\n",
              "        google.colab.kernel.accessAllowed ? 'block' : 'none';\n",
              "    })();\n",
              "  </script>\n",
              "</div>\n",
              "\n",
              "    </div>\n",
              "  </div>\n"
            ]
          },
          "metadata": {},
          "execution_count": 22
        }
      ]
    },
    {
      "cell_type": "code",
      "source": [
        "by_name.get_group('Elsa')"
      ],
      "metadata": {
        "colab": {
          "base_uri": "https://localhost:8080/",
          "height": 551
        },
        "id": "os7xvncvKmAh",
        "outputId": "8ff51ce3-cecd-45e0-d793-e8d0338daa66"
      },
      "execution_count": 23,
      "outputs": [
        {
          "output_type": "execute_result",
          "data": {
            "text/plain": [
              "      Name                                          Biography  \\\n",
              "17    Elsa  Elsa is the Snow Queen of Arendelle, with the ...   \n",
              "145   Elsa  Elsa is the Snow Queen of Arendelle, with the ...   \n",
              "181   Elsa  Elsa is the Snow Queen of Arendelle, with the ...   \n",
              "226   Elsa  Elsa is the Snow Queen of Arendelle, with the ...   \n",
              "243   Elsa  Elsa is the Snow Queen of Arendelle, with the ...   \n",
              "296   Elsa  Elsa is the Snow Queen of Arendelle, with the ...   \n",
              "304   Elsa  Elsa is the Snow Queen of Arendelle, with the ...   \n",
              "417   Elsa  Elsa is the Snow Queen of Arendelle, with the ...   \n",
              "526   Elsa  Elsa is the Snow Queen of Arendelle, with the ...   \n",
              "536   Elsa  Elsa is the Snow Queen of Arendelle, with the ...   \n",
              "629   Elsa  Elsa is the Snow Queen of Arendelle, with the ...   \n",
              "877   Elsa  Elsa is the Snow Queen of Arendelle, with the ...   \n",
              "1028  Elsa  Elsa is the Snow Queen of Arendelle, with the ...   \n",
              "1144  Elsa  Elsa is the Snow Queen of Arendelle, with the ...   \n",
              "1322  Elsa  Elsa is the Snow Queen of Arendelle, with the ...   \n",
              "1385  Elsa  Elsa is the Snow Queen of Arendelle, with the ...   \n",
              "\n",
              "                                                  Query  \\\n",
              "17                      How do you control your powers?   \n",
              "145                    What do you think of the trolls?   \n",
              "181                   What is your goal for the future?   \n",
              "226                       What do you think about Olaf?   \n",
              "243                         What is your favorite song?   \n",
              "296   What is the hardest part of being the Snow Queen?   \n",
              "304                   What do you think about Kristoff?   \n",
              "417                  What is your favorite thing to do?   \n",
              "526        What is your relationship with your parents?   \n",
              "536                         How do you feel about Hans?   \n",
              "629                        What is your favorite color?   \n",
              "877         How do you feel about being the Snow Queen?   \n",
              "1028                        What is your greatest fear?   \n",
              "1144                       What is your biggest regret?   \n",
              "1322  What advice would you give to someone with a s...   \n",
              "1385               What is your relationship with Anna?   \n",
              "\n",
              "                                               Response      Emotion  \n",
              "17     By focusing on happy thoughts and letting it go.    Confident  \n",
              "145   They're strange, but they helped me and Anna w...     Grateful  \n",
              "181   To be the best queen I can be and help my king...   Determined  \n",
              "226       He's a good friend and always makes me laugh.        Happy  \n",
              "243                             \"Let it Go,\" of course!        Happy  \n",
              "296   Trying to keep my powers a secret and not hurt...      Anxious  \n",
              "304   He's a loyal friend and a great help to Anna a...     Grateful  \n",
              "417                    Create beautiful ice sculptures.        Happy  \n",
              "526   My parents loved us very much, but they didn't...          Sad  \n",
              "536    He betrayed me and my sister. I don't trust him.        Angry  \n",
              "629                          Light blue, like my dress.        Happy  \n",
              "877   It's a big responsibility, but I'm honored to ...        Proud  \n",
              "1028    Losing control of my powers and hurting people.         Fear  \n",
              "1144  Not being honest with Anna about my powers for...          Sad  \n",
              "1322  You don't have to hide forever. It's okay to b...  Encouraging  \n",
              "1385           We're sisters, and I love her very much.         Love  "
            ],
            "text/html": [
              "\n",
              "  <div id=\"df-7012e2cf-5e51-4720-a394-246d2bd44289\" class=\"colab-df-container\">\n",
              "    <div>\n",
              "<style scoped>\n",
              "    .dataframe tbody tr th:only-of-type {\n",
              "        vertical-align: middle;\n",
              "    }\n",
              "\n",
              "    .dataframe tbody tr th {\n",
              "        vertical-align: top;\n",
              "    }\n",
              "\n",
              "    .dataframe thead th {\n",
              "        text-align: right;\n",
              "    }\n",
              "</style>\n",
              "<table border=\"1\" class=\"dataframe\">\n",
              "  <thead>\n",
              "    <tr style=\"text-align: right;\">\n",
              "      <th></th>\n",
              "      <th>Name</th>\n",
              "      <th>Biography</th>\n",
              "      <th>Query</th>\n",
              "      <th>Response</th>\n",
              "      <th>Emotion</th>\n",
              "    </tr>\n",
              "  </thead>\n",
              "  <tbody>\n",
              "    <tr>\n",
              "      <th>17</th>\n",
              "      <td>Elsa</td>\n",
              "      <td>Elsa is the Snow Queen of Arendelle, with the ...</td>\n",
              "      <td>How do you control your powers?</td>\n",
              "      <td>By focusing on happy thoughts and letting it go.</td>\n",
              "      <td>Confident</td>\n",
              "    </tr>\n",
              "    <tr>\n",
              "      <th>145</th>\n",
              "      <td>Elsa</td>\n",
              "      <td>Elsa is the Snow Queen of Arendelle, with the ...</td>\n",
              "      <td>What do you think of the trolls?</td>\n",
              "      <td>They're strange, but they helped me and Anna w...</td>\n",
              "      <td>Grateful</td>\n",
              "    </tr>\n",
              "    <tr>\n",
              "      <th>181</th>\n",
              "      <td>Elsa</td>\n",
              "      <td>Elsa is the Snow Queen of Arendelle, with the ...</td>\n",
              "      <td>What is your goal for the future?</td>\n",
              "      <td>To be the best queen I can be and help my king...</td>\n",
              "      <td>Determined</td>\n",
              "    </tr>\n",
              "    <tr>\n",
              "      <th>226</th>\n",
              "      <td>Elsa</td>\n",
              "      <td>Elsa is the Snow Queen of Arendelle, with the ...</td>\n",
              "      <td>What do you think about Olaf?</td>\n",
              "      <td>He's a good friend and always makes me laugh.</td>\n",
              "      <td>Happy</td>\n",
              "    </tr>\n",
              "    <tr>\n",
              "      <th>243</th>\n",
              "      <td>Elsa</td>\n",
              "      <td>Elsa is the Snow Queen of Arendelle, with the ...</td>\n",
              "      <td>What is your favorite song?</td>\n",
              "      <td>\"Let it Go,\" of course!</td>\n",
              "      <td>Happy</td>\n",
              "    </tr>\n",
              "    <tr>\n",
              "      <th>296</th>\n",
              "      <td>Elsa</td>\n",
              "      <td>Elsa is the Snow Queen of Arendelle, with the ...</td>\n",
              "      <td>What is the hardest part of being the Snow Queen?</td>\n",
              "      <td>Trying to keep my powers a secret and not hurt...</td>\n",
              "      <td>Anxious</td>\n",
              "    </tr>\n",
              "    <tr>\n",
              "      <th>304</th>\n",
              "      <td>Elsa</td>\n",
              "      <td>Elsa is the Snow Queen of Arendelle, with the ...</td>\n",
              "      <td>What do you think about Kristoff?</td>\n",
              "      <td>He's a loyal friend and a great help to Anna a...</td>\n",
              "      <td>Grateful</td>\n",
              "    </tr>\n",
              "    <tr>\n",
              "      <th>417</th>\n",
              "      <td>Elsa</td>\n",
              "      <td>Elsa is the Snow Queen of Arendelle, with the ...</td>\n",
              "      <td>What is your favorite thing to do?</td>\n",
              "      <td>Create beautiful ice sculptures.</td>\n",
              "      <td>Happy</td>\n",
              "    </tr>\n",
              "    <tr>\n",
              "      <th>526</th>\n",
              "      <td>Elsa</td>\n",
              "      <td>Elsa is the Snow Queen of Arendelle, with the ...</td>\n",
              "      <td>What is your relationship with your parents?</td>\n",
              "      <td>My parents loved us very much, but they didn't...</td>\n",
              "      <td>Sad</td>\n",
              "    </tr>\n",
              "    <tr>\n",
              "      <th>536</th>\n",
              "      <td>Elsa</td>\n",
              "      <td>Elsa is the Snow Queen of Arendelle, with the ...</td>\n",
              "      <td>How do you feel about Hans?</td>\n",
              "      <td>He betrayed me and my sister. I don't trust him.</td>\n",
              "      <td>Angry</td>\n",
              "    </tr>\n",
              "    <tr>\n",
              "      <th>629</th>\n",
              "      <td>Elsa</td>\n",
              "      <td>Elsa is the Snow Queen of Arendelle, with the ...</td>\n",
              "      <td>What is your favorite color?</td>\n",
              "      <td>Light blue, like my dress.</td>\n",
              "      <td>Happy</td>\n",
              "    </tr>\n",
              "    <tr>\n",
              "      <th>877</th>\n",
              "      <td>Elsa</td>\n",
              "      <td>Elsa is the Snow Queen of Arendelle, with the ...</td>\n",
              "      <td>How do you feel about being the Snow Queen?</td>\n",
              "      <td>It's a big responsibility, but I'm honored to ...</td>\n",
              "      <td>Proud</td>\n",
              "    </tr>\n",
              "    <tr>\n",
              "      <th>1028</th>\n",
              "      <td>Elsa</td>\n",
              "      <td>Elsa is the Snow Queen of Arendelle, with the ...</td>\n",
              "      <td>What is your greatest fear?</td>\n",
              "      <td>Losing control of my powers and hurting people.</td>\n",
              "      <td>Fear</td>\n",
              "    </tr>\n",
              "    <tr>\n",
              "      <th>1144</th>\n",
              "      <td>Elsa</td>\n",
              "      <td>Elsa is the Snow Queen of Arendelle, with the ...</td>\n",
              "      <td>What is your biggest regret?</td>\n",
              "      <td>Not being honest with Anna about my powers for...</td>\n",
              "      <td>Sad</td>\n",
              "    </tr>\n",
              "    <tr>\n",
              "      <th>1322</th>\n",
              "      <td>Elsa</td>\n",
              "      <td>Elsa is the Snow Queen of Arendelle, with the ...</td>\n",
              "      <td>What advice would you give to someone with a s...</td>\n",
              "      <td>You don't have to hide forever. It's okay to b...</td>\n",
              "      <td>Encouraging</td>\n",
              "    </tr>\n",
              "    <tr>\n",
              "      <th>1385</th>\n",
              "      <td>Elsa</td>\n",
              "      <td>Elsa is the Snow Queen of Arendelle, with the ...</td>\n",
              "      <td>What is your relationship with Anna?</td>\n",
              "      <td>We're sisters, and I love her very much.</td>\n",
              "      <td>Love</td>\n",
              "    </tr>\n",
              "  </tbody>\n",
              "</table>\n",
              "</div>\n",
              "    <div class=\"colab-df-buttons\">\n",
              "\n",
              "  <div class=\"colab-df-container\">\n",
              "    <button class=\"colab-df-convert\" onclick=\"convertToInteractive('df-7012e2cf-5e51-4720-a394-246d2bd44289')\"\n",
              "            title=\"Convert this dataframe to an interactive table.\"\n",
              "            style=\"display:none;\">\n",
              "\n",
              "  <svg xmlns=\"http://www.w3.org/2000/svg\" height=\"24px\" viewBox=\"0 -960 960 960\">\n",
              "    <path d=\"M120-120v-720h720v720H120Zm60-500h600v-160H180v160Zm220 220h160v-160H400v160Zm0 220h160v-160H400v160ZM180-400h160v-160H180v160Zm440 0h160v-160H620v160ZM180-180h160v-160H180v160Zm440 0h160v-160H620v160Z\"/>\n",
              "  </svg>\n",
              "    </button>\n",
              "\n",
              "  <style>\n",
              "    .colab-df-container {\n",
              "      display:flex;\n",
              "      gap: 12px;\n",
              "    }\n",
              "\n",
              "    .colab-df-convert {\n",
              "      background-color: #E8F0FE;\n",
              "      border: none;\n",
              "      border-radius: 50%;\n",
              "      cursor: pointer;\n",
              "      display: none;\n",
              "      fill: #1967D2;\n",
              "      height: 32px;\n",
              "      padding: 0 0 0 0;\n",
              "      width: 32px;\n",
              "    }\n",
              "\n",
              "    .colab-df-convert:hover {\n",
              "      background-color: #E2EBFA;\n",
              "      box-shadow: 0px 1px 2px rgba(60, 64, 67, 0.3), 0px 1px 3px 1px rgba(60, 64, 67, 0.15);\n",
              "      fill: #174EA6;\n",
              "    }\n",
              "\n",
              "    .colab-df-buttons div {\n",
              "      margin-bottom: 4px;\n",
              "    }\n",
              "\n",
              "    [theme=dark] .colab-df-convert {\n",
              "      background-color: #3B4455;\n",
              "      fill: #D2E3FC;\n",
              "    }\n",
              "\n",
              "    [theme=dark] .colab-df-convert:hover {\n",
              "      background-color: #434B5C;\n",
              "      box-shadow: 0px 1px 3px 1px rgba(0, 0, 0, 0.15);\n",
              "      filter: drop-shadow(0px 1px 2px rgba(0, 0, 0, 0.3));\n",
              "      fill: #FFFFFF;\n",
              "    }\n",
              "  </style>\n",
              "\n",
              "    <script>\n",
              "      const buttonEl =\n",
              "        document.querySelector('#df-7012e2cf-5e51-4720-a394-246d2bd44289 button.colab-df-convert');\n",
              "      buttonEl.style.display =\n",
              "        google.colab.kernel.accessAllowed ? 'block' : 'none';\n",
              "\n",
              "      async function convertToInteractive(key) {\n",
              "        const element = document.querySelector('#df-7012e2cf-5e51-4720-a394-246d2bd44289');\n",
              "        const dataTable =\n",
              "          await google.colab.kernel.invokeFunction('convertToInteractive',\n",
              "                                                    [key], {});\n",
              "        if (!dataTable) return;\n",
              "\n",
              "        const docLinkHtml = 'Like what you see? Visit the ' +\n",
              "          '<a target=\"_blank\" href=https://colab.research.google.com/notebooks/data_table.ipynb>data table notebook</a>'\n",
              "          + ' to learn more about interactive tables.';\n",
              "        element.innerHTML = '';\n",
              "        dataTable['output_type'] = 'display_data';\n",
              "        await google.colab.output.renderOutput(dataTable, element);\n",
              "        const docLink = document.createElement('div');\n",
              "        docLink.innerHTML = docLinkHtml;\n",
              "        element.appendChild(docLink);\n",
              "      }\n",
              "    </script>\n",
              "  </div>\n",
              "\n",
              "\n",
              "<div id=\"df-c76c05f2-fd42-43e1-920b-4f0bab09a8e0\">\n",
              "  <button class=\"colab-df-quickchart\" onclick=\"quickchart('df-c76c05f2-fd42-43e1-920b-4f0bab09a8e0')\"\n",
              "            title=\"Suggest charts.\"\n",
              "            style=\"display:none;\">\n",
              "\n",
              "<svg xmlns=\"http://www.w3.org/2000/svg\" height=\"24px\"viewBox=\"0 0 24 24\"\n",
              "     width=\"24px\">\n",
              "    <g>\n",
              "        <path d=\"M19 3H5c-1.1 0-2 .9-2 2v14c0 1.1.9 2 2 2h14c1.1 0 2-.9 2-2V5c0-1.1-.9-2-2-2zM9 17H7v-7h2v7zm4 0h-2V7h2v10zm4 0h-2v-4h2v4z\"/>\n",
              "    </g>\n",
              "</svg>\n",
              "  </button>\n",
              "\n",
              "<style>\n",
              "  .colab-df-quickchart {\n",
              "      --bg-color: #E8F0FE;\n",
              "      --fill-color: #1967D2;\n",
              "      --hover-bg-color: #E2EBFA;\n",
              "      --hover-fill-color: #174EA6;\n",
              "      --disabled-fill-color: #AAA;\n",
              "      --disabled-bg-color: #DDD;\n",
              "  }\n",
              "\n",
              "  [theme=dark] .colab-df-quickchart {\n",
              "      --bg-color: #3B4455;\n",
              "      --fill-color: #D2E3FC;\n",
              "      --hover-bg-color: #434B5C;\n",
              "      --hover-fill-color: #FFFFFF;\n",
              "      --disabled-bg-color: #3B4455;\n",
              "      --disabled-fill-color: #666;\n",
              "  }\n",
              "\n",
              "  .colab-df-quickchart {\n",
              "    background-color: var(--bg-color);\n",
              "    border: none;\n",
              "    border-radius: 50%;\n",
              "    cursor: pointer;\n",
              "    display: none;\n",
              "    fill: var(--fill-color);\n",
              "    height: 32px;\n",
              "    padding: 0;\n",
              "    width: 32px;\n",
              "  }\n",
              "\n",
              "  .colab-df-quickchart:hover {\n",
              "    background-color: var(--hover-bg-color);\n",
              "    box-shadow: 0 1px 2px rgba(60, 64, 67, 0.3), 0 1px 3px 1px rgba(60, 64, 67, 0.15);\n",
              "    fill: var(--button-hover-fill-color);\n",
              "  }\n",
              "\n",
              "  .colab-df-quickchart-complete:disabled,\n",
              "  .colab-df-quickchart-complete:disabled:hover {\n",
              "    background-color: var(--disabled-bg-color);\n",
              "    fill: var(--disabled-fill-color);\n",
              "    box-shadow: none;\n",
              "  }\n",
              "\n",
              "  .colab-df-spinner {\n",
              "    border: 2px solid var(--fill-color);\n",
              "    border-color: transparent;\n",
              "    border-bottom-color: var(--fill-color);\n",
              "    animation:\n",
              "      spin 1s steps(1) infinite;\n",
              "  }\n",
              "\n",
              "  @keyframes spin {\n",
              "    0% {\n",
              "      border-color: transparent;\n",
              "      border-bottom-color: var(--fill-color);\n",
              "      border-left-color: var(--fill-color);\n",
              "    }\n",
              "    20% {\n",
              "      border-color: transparent;\n",
              "      border-left-color: var(--fill-color);\n",
              "      border-top-color: var(--fill-color);\n",
              "    }\n",
              "    30% {\n",
              "      border-color: transparent;\n",
              "      border-left-color: var(--fill-color);\n",
              "      border-top-color: var(--fill-color);\n",
              "      border-right-color: var(--fill-color);\n",
              "    }\n",
              "    40% {\n",
              "      border-color: transparent;\n",
              "      border-right-color: var(--fill-color);\n",
              "      border-top-color: var(--fill-color);\n",
              "    }\n",
              "    60% {\n",
              "      border-color: transparent;\n",
              "      border-right-color: var(--fill-color);\n",
              "    }\n",
              "    80% {\n",
              "      border-color: transparent;\n",
              "      border-right-color: var(--fill-color);\n",
              "      border-bottom-color: var(--fill-color);\n",
              "    }\n",
              "    90% {\n",
              "      border-color: transparent;\n",
              "      border-bottom-color: var(--fill-color);\n",
              "    }\n",
              "  }\n",
              "</style>\n",
              "\n",
              "  <script>\n",
              "    async function quickchart(key) {\n",
              "      const quickchartButtonEl =\n",
              "        document.querySelector('#' + key + ' button');\n",
              "      quickchartButtonEl.disabled = true;  // To prevent multiple clicks.\n",
              "      quickchartButtonEl.classList.add('colab-df-spinner');\n",
              "      try {\n",
              "        const charts = await google.colab.kernel.invokeFunction(\n",
              "            'suggestCharts', [key], {});\n",
              "      } catch (error) {\n",
              "        console.error('Error during call to suggestCharts:', error);\n",
              "      }\n",
              "      quickchartButtonEl.classList.remove('colab-df-spinner');\n",
              "      quickchartButtonEl.classList.add('colab-df-quickchart-complete');\n",
              "    }\n",
              "    (() => {\n",
              "      let quickchartButtonEl =\n",
              "        document.querySelector('#df-c76c05f2-fd42-43e1-920b-4f0bab09a8e0 button');\n",
              "      quickchartButtonEl.style.display =\n",
              "        google.colab.kernel.accessAllowed ? 'block' : 'none';\n",
              "    })();\n",
              "  </script>\n",
              "</div>\n",
              "\n",
              "    </div>\n",
              "  </div>\n"
            ]
          },
          "metadata": {},
          "execution_count": 23
        }
      ]
    },
    {
      "cell_type": "code",
      "source": [
        "k = by_name.get_group('Indiana Jones')\n",
        "k['Emotion'].value_counts()"
      ],
      "metadata": {
        "colab": {
          "base_uri": "https://localhost:8080/"
        },
        "id": "PqScYkzbW1LE",
        "outputId": "0f4f55bc-b59b-47d6-f143-6da2e8e39692"
      },
      "execution_count": 24,
      "outputs": [
        {
          "output_type": "execute_result",
          "data": {
            "text/plain": [
              "Happiness    7\n",
              "Disgust      3\n",
              "Fear         3\n",
              "Sadness      2\n",
              "Surprise     2\n",
              "Name: Emotion, dtype: int64"
            ]
          },
          "metadata": {},
          "execution_count": 24
        }
      ]
    },
    {
      "cell_type": "code",
      "source": [
        "by_name.get_group('Arinthea').count()"
      ],
      "metadata": {
        "colab": {
          "base_uri": "https://localhost:8080/"
        },
        "id": "2Mt5xFfRUo2i",
        "outputId": "2004f21e-4d23-4da8-de0d-85ade2e3c326"
      },
      "execution_count": 25,
      "outputs": [
        {
          "output_type": "execute_result",
          "data": {
            "text/plain": [
              "Name         23\n",
              "Biography    23\n",
              "Query        23\n",
              "Response     23\n",
              "Emotion      23\n",
              "dtype: int64"
            ]
          },
          "metadata": {},
          "execution_count": 25
        }
      ]
    },
    {
      "cell_type": "code",
      "source": [
        "by_name_emotion = df_train.groupby(['Name', 'Emotion'])"
      ],
      "metadata": {
        "id": "raIaXShX6b3z"
      },
      "execution_count": null,
      "outputs": []
    },
    {
      "cell_type": "markdown",
      "source": [
        "### emotion stats"
      ],
      "metadata": {
        "id": "QhlfKbZ561Ie"
      }
    },
    {
      "cell_type": "code",
      "source": [
        "df_train['Emotion'].unique()"
      ],
      "metadata": {
        "colab": {
          "base_uri": "https://localhost:8080/"
        },
        "id": "SYVvWC-_646v",
        "outputId": "7003ab85-dc42-4419-8aea-686abdc90a59"
      },
      "execution_count": null,
      "outputs": [
        {
          "output_type": "execute_result",
          "data": {
            "text/plain": [
              "array(['Loyalty', 'Purpose', 'Neutral', 'Determination', 'Acceptance',\n",
              "       'Disgust', 'Fear', 'Friendship', 'Happiness', 'Confident',\n",
              "       'Confidence', 'Arrogance', 'Triumph', 'Thoughtfulness', 'Regret',\n",
              "       'Complicated', 'Playful', 'Anger', 'Grim', 'Nostalgia', 'Proud',\n",
              "       'Indifference', 'Resilient', 'Adaptability', 'Ambition',\n",
              "       'Amusement', 'Pragmatic', 'Solitude', 'Practicality',\n",
              "       'Self-control', 'Self-awareness', 'Surprise', 'Wisdom',\n",
              "       'Dedication', 'Cooperation', 'Cynical', 'Mischievous', 'Pride',\n",
              "       'Bravery', 'Morality', 'Resignation', 'Homesick', 'Rebellion',\n",
              "       'Resolute', 'Disgusted', 'Excitement', 'Sadness', 'Respect',\n",
              "       'Hunger', 'Serious', 'Lonely', 'Knowledgeable', 'Perseverance',\n",
              "       'Curiosity', 'Cynicism', 'Disappointment', 'Serenity', 'Confused',\n",
              "       'Heroism', 'Caution', 'Arrogant', 'Idealism', 'Hatred',\n",
              "       'Nonchalant', 'Hopeful', 'Angry', 'Calm', 'Benevolence',\n",
              "       'Conflict', 'Grateful', 'Pragmatism', 'Determined', 'Driven',\n",
              "       'Resolve', 'Satisfaction', 'Trust.', 'Boredom', 'Busy',\n",
              "       'Thoughtful', 'Betrayed', 'Encouragement', 'Familiarity',\n",
              "       'Moral Certainty', 'Humility', 'Irritation', 'Sentimental',\n",
              "       'Brave', 'Versatility', 'Happy', 'Conviction', 'Indignation',\n",
              "       'Longing', 'Warmth.', 'Disapproval', 'Adventure', 'Contempt',\n",
              "       'Resigned', 'Consideration', 'Relaxed', 'Empathetic', 'Love',\n",
              "       'Sad', 'Fond', 'Focus', 'Compassion', 'Passionate', 'Legacy',\n",
              "       'Determination.', 'Confusion', 'Respectful', 'Frustrated',\n",
              "       'Anxious', 'Outraged', 'Disdain', 'Impatience', 'Sincerity',\n",
              "       'Desperate', 'Awe', 'Sadistic', 'Enthusiasm', 'Humble', 'Duty',\n",
              "       'Skepticism', 'Faith', 'Helpful', 'Patriotism', 'Reverence',\n",
              "       'Fondness', 'Empathy', 'Cheerfulness', 'Disinterest', 'Impatient',\n",
              "       'Encouraging', 'Contentment', 'Optimism', 'Happiness.',\n",
              "       'Defensiveness', 'Witty', 'Cautious', 'Joy', 'Pain', 'Interest',\n",
              "       'Devotion', 'Concern', 'Nostalgic', 'Self-assured', 'Courage',\n",
              "       'Justice', 'Fear[d]', 'Vulnerable', 'Fearful', 'Expertise',\n",
              "       'Independence', 'Self-important', 'Detached', 'Adoration',\n",
              "       'Rational', 'Embarrassment', 'Wise', 'Altruism', 'Trusting',\n",
              "       'Transformation', 'Cool', 'Playfulness', 'Loyal', 'Brave.',\n",
              "       'Practical', 'Content', 'Professional', 'Inspiration',\n",
              "       'Ambivalence', 'Heartbroken', 'Distrustful', 'Frustration',\n",
              "       'Honesty', 'Musical', 'Efficiency', 'Patriotic', 'Hopefulness',\n",
              "       'Suspicion', 'Shyness', 'Wary', 'Self-loathing', 'Generosity',\n",
              "       'Resilience', 'Readiness', 'Optimistic', 'Self-reliant',\n",
              "       'Competitive', 'Distressed', 'Regretful', 'Composure',\n",
              "       'Homesickness', 'Hope', 'Mystery', 'Precision', 'Factual',\n",
              "       'Gratitude', 'Trust', 'Fearless', 'Excited', 'Approval',\n",
              "       'Amusement.', 'Wonder', 'Neutrality', 'Pacifism', 'Nervous',\n",
              "       'Cocky', 'Nostalgia.', 'Kindness', 'Seriousness', 'Friendly',\n",
              "       'Curious', 'Peaceful', 'Surprised', 'Vulnerability',\n",
              "       'Disapproving', 'Pity', 'Stoicism', 'Responsibility', 'Dedicated',\n",
              "       'determination', 'Loyalty.', 'Aloof', 'Fellowship', 'Pride.',\n",
              "       'Logical', 'Tolerance', 'Compassionate', 'Conflicted', 'Caution.',\n",
              "       'Tolerance.', 'Anticipation', 'Protective', 'Worry', 'Creativity',\n",
              "       'Noble', 'Camaraderie', 'Romantic', 'Isolated', 'Calmness',\n",
              "       'Sacrifice', 'Open-mindedness', 'Disdainful', 'Obsession',\n",
              "       'Affection', 'Resilience.', 'Reflective', 'Indifferent',\n",
              "       'Happiness and sadness', 'Righteousness', 'Powerful',\n",
              "       'Philosophical', 'Resolved', 'Justified', 'Vengeance', 'Saddened',\n",
              "       'Joyful', 'Curiosity.', 'Greed', 'Mystical', 'Focused',\n",
              "       'Nonconformity', 'Moral', 'Intimidation', 'Enchanted', 'Superior',\n",
              "       'Mystery.', 'Indulgent', 'Melancholy', 'Understanding'],\n",
              "      dtype=object)"
            ]
          },
          "metadata": {},
          "execution_count": 33
        }
      ]
    },
    {
      "cell_type": "code",
      "source": [
        "df_train['Emotion'].value_counts()"
      ],
      "metadata": {
        "colab": {
          "base_uri": "https://localhost:8080/"
        },
        "id": "ZKGI87HJ7Bxr",
        "outputId": "ddd3475b-46f8-4944-d6cd-3cffec95667b"
      },
      "execution_count": null,
      "outputs": [
        {
          "output_type": "execute_result",
          "data": {
            "text/plain": [
              "Neutral          178\n",
              "Happiness        131\n",
              "Determination    100\n",
              "Fear              89\n",
              "Sadness           84\n",
              "                ... \n",
              "Trust.             1\n",
              "Busy               1\n",
              "Distrustful        1\n",
              "Heartbroken        1\n",
              "Understanding      1\n",
              "Name: Emotion, Length: 271, dtype: int64"
            ]
          },
          "metadata": {},
          "execution_count": 34
        }
      ]
    },
    {
      "cell_type": "code",
      "source": [
        "len(df_train['Emotion'].unique())"
      ],
      "metadata": {
        "colab": {
          "base_uri": "https://localhost:8080/"
        },
        "id": "fMSzSwle8nhG",
        "outputId": "7c2261f4-1f22-4b57-eed1-a15220473b78"
      },
      "execution_count": null,
      "outputs": [
        {
          "output_type": "execute_result",
          "data": {
            "text/plain": [
              "271"
            ]
          },
          "metadata": {},
          "execution_count": 48
        }
      ]
    },
    {
      "cell_type": "code",
      "source": [
        "df_test['Emotion'].value_counts()"
      ],
      "metadata": {
        "colab": {
          "base_uri": "https://localhost:8080/"
        },
        "id": "9tA3qLtk7GhY",
        "outputId": "3e56e741-78f2-4df2-c788-2cef1dcb4604"
      },
      "execution_count": null,
      "outputs": [
        {
          "output_type": "execute_result",
          "data": {
            "text/plain": [
              "Happiness       24\n",
              "Neutral         17\n",
              "Fear            13\n",
              "Disgust          8\n",
              "Pride            7\n",
              "                ..\n",
              "Justified        1\n",
              "Adventurous      1\n",
              "Wariness         1\n",
              "Creativity       1\n",
              "Contemptuous     1\n",
              "Name: Emotion, Length: 79, dtype: int64"
            ]
          },
          "metadata": {},
          "execution_count": 35
        }
      ]
    },
    {
      "cell_type": "code",
      "source": [
        "len(df_test['Emotion'].unique())"
      ],
      "metadata": {
        "colab": {
          "base_uri": "https://localhost:8080/"
        },
        "id": "fuZ7z3zR8uAn",
        "outputId": "1e6208ad-7732-4d1a-dcf5-f9ae55293441"
      },
      "execution_count": null,
      "outputs": [
        {
          "output_type": "execute_result",
          "data": {
            "text/plain": [
              "79"
            ]
          },
          "metadata": {},
          "execution_count": 49
        }
      ]
    },
    {
      "cell_type": "code",
      "source": [
        "set(list(df_train['Emotion'].unique())) - set(list(df_test['Emotion'].unique()))"
      ],
      "metadata": {
        "colab": {
          "base_uri": "https://localhost:8080/"
        },
        "id": "UoosSdmJ7WkB",
        "outputId": "42e855a9-0ab9-44ae-bd13-24feb293a35c"
      },
      "execution_count": null,
      "outputs": [
        {
          "output_type": "execute_result",
          "data": {
            "text/plain": [
              "{'Acceptance',\n",
              " 'Adaptability',\n",
              " 'Adoration',\n",
              " 'Affection',\n",
              " 'Aloof',\n",
              " 'Altruism',\n",
              " 'Ambition',\n",
              " 'Ambivalence',\n",
              " 'Amusement.',\n",
              " 'Anticipation',\n",
              " 'Anxious',\n",
              " 'Approval',\n",
              " 'Arrogant',\n",
              " 'Awe',\n",
              " 'Benevolence',\n",
              " 'Betrayed',\n",
              " 'Boredom',\n",
              " 'Brave',\n",
              " 'Brave.',\n",
              " 'Bravery',\n",
              " 'Busy',\n",
              " 'Calm',\n",
              " 'Camaraderie',\n",
              " 'Caution.',\n",
              " 'Cautious',\n",
              " 'Cheerfulness',\n",
              " 'Cocky',\n",
              " 'Compassion',\n",
              " 'Compassionate',\n",
              " 'Competitive',\n",
              " 'Complicated',\n",
              " 'Composure',\n",
              " 'Conflict',\n",
              " 'Conflicted',\n",
              " 'Confused',\n",
              " 'Confusion',\n",
              " 'Consideration',\n",
              " 'Content',\n",
              " 'Cool',\n",
              " 'Cooperation',\n",
              " 'Courage',\n",
              " 'Curiosity',\n",
              " 'Curiosity.',\n",
              " 'Curious',\n",
              " 'Cynical',\n",
              " 'Cynicism',\n",
              " 'Dedicated',\n",
              " 'Dedication',\n",
              " 'Defensiveness',\n",
              " 'Desperate',\n",
              " 'Detached',\n",
              " 'Determination.',\n",
              " 'Devotion',\n",
              " 'Disappointment',\n",
              " 'Disapproving',\n",
              " 'Disdain',\n",
              " 'Disdainful',\n",
              " 'Disgusted',\n",
              " 'Disinterest',\n",
              " 'Distressed',\n",
              " 'Distrustful',\n",
              " 'Driven',\n",
              " 'Embarrassment',\n",
              " 'Empathetic',\n",
              " 'Enchanted',\n",
              " 'Encouragement',\n",
              " 'Excited',\n",
              " 'Expertise',\n",
              " 'Factual',\n",
              " 'Faith',\n",
              " 'Familiarity',\n",
              " 'Fear[d]',\n",
              " 'Fearful',\n",
              " 'Fearless',\n",
              " 'Fellowship',\n",
              " 'Fond',\n",
              " 'Fondness',\n",
              " 'Friendly',\n",
              " 'Friendship',\n",
              " 'Frustrated',\n",
              " 'Frustration',\n",
              " 'Generosity',\n",
              " 'Grateful',\n",
              " 'Gratitude',\n",
              " 'Grim',\n",
              " 'Happiness and sadness',\n",
              " 'Happiness.',\n",
              " 'Hatred',\n",
              " 'Heartbroken',\n",
              " 'Helpful',\n",
              " 'Heroism',\n",
              " 'Homesick',\n",
              " 'Homesickness',\n",
              " 'Honesty',\n",
              " 'Hope',\n",
              " 'Hopeful',\n",
              " 'Hopefulness',\n",
              " 'Humble',\n",
              " 'Humility',\n",
              " 'Hunger',\n",
              " 'Idealism',\n",
              " 'Impatience',\n",
              " 'Impatient',\n",
              " 'Independence',\n",
              " 'Indifferent',\n",
              " 'Indignation',\n",
              " 'Indulgent',\n",
              " 'Intimidation',\n",
              " 'Irritation',\n",
              " 'Isolated',\n",
              " 'Joyful',\n",
              " 'Justice',\n",
              " 'Kindness',\n",
              " 'Knowledgeable',\n",
              " 'Legacy',\n",
              " 'Logical',\n",
              " 'Lonely',\n",
              " 'Longing',\n",
              " 'Loyal',\n",
              " 'Loyalty.',\n",
              " 'Melancholy',\n",
              " 'Mischievous',\n",
              " 'Moral',\n",
              " 'Musical',\n",
              " 'Mystical',\n",
              " 'Nervous',\n",
              " 'Neutrality',\n",
              " 'Noble',\n",
              " 'Nonchalant',\n",
              " 'Nonconformity',\n",
              " 'Nostalgia.',\n",
              " 'Obsession',\n",
              " 'Open-mindedness',\n",
              " 'Optimism',\n",
              " 'Optimistic',\n",
              " 'Outraged',\n",
              " 'Pacifism',\n",
              " 'Pain',\n",
              " 'Patriotic',\n",
              " 'Patriotism',\n",
              " 'Peaceful',\n",
              " 'Perseverance',\n",
              " 'Philosophical',\n",
              " 'Pity',\n",
              " 'Playful',\n",
              " 'Powerful',\n",
              " 'Practical',\n",
              " 'Practicality',\n",
              " 'Pragmatic',\n",
              " 'Pragmatism',\n",
              " 'Precision',\n",
              " 'Pride.',\n",
              " 'Professional',\n",
              " 'Rational',\n",
              " 'Rebellion',\n",
              " 'Reflective',\n",
              " 'Regretful',\n",
              " 'Relaxed',\n",
              " 'Resignation',\n",
              " 'Resilience',\n",
              " 'Resilience.',\n",
              " 'Resolute',\n",
              " 'Resolve',\n",
              " 'Resolved',\n",
              " 'Respect',\n",
              " 'Reverence',\n",
              " 'Righteousness',\n",
              " 'Romantic',\n",
              " 'Sacrifice',\n",
              " 'Sad',\n",
              " 'Saddened',\n",
              " 'Sadistic',\n",
              " 'Self-assured',\n",
              " 'Self-awareness',\n",
              " 'Self-control',\n",
              " 'Self-important',\n",
              " 'Self-loathing',\n",
              " 'Self-reliant',\n",
              " 'Serious',\n",
              " 'Shyness',\n",
              " 'Sincerity',\n",
              " 'Solitude',\n",
              " 'Stoicism',\n",
              " 'Superior',\n",
              " 'Surprised',\n",
              " 'Suspicion',\n",
              " 'Thoughtful',\n",
              " 'Thoughtfulness',\n",
              " 'Tolerance',\n",
              " 'Tolerance.',\n",
              " 'Transformation',\n",
              " 'Triumph',\n",
              " 'Trust',\n",
              " 'Trust.',\n",
              " 'Trusting',\n",
              " 'Understanding',\n",
              " 'Vengeance',\n",
              " 'Versatility',\n",
              " 'Vulnerability',\n",
              " 'Vulnerable',\n",
              " 'Warmth.',\n",
              " 'Wary',\n",
              " 'Wise',\n",
              " 'Witty',\n",
              " 'Wonder',\n",
              " 'Worry',\n",
              " 'determination'}"
            ]
          },
          "metadata": {},
          "execution_count": 39
        }
      ]
    },
    {
      "cell_type": "code",
      "source": [
        "set(list(df_test['Emotion'].unique())) - set(list(df_train['Emotion'].unique()))"
      ],
      "metadata": {
        "colab": {
          "base_uri": "https://localhost:8080/"
        },
        "id": "kc8ZBIxy7tq2",
        "outputId": "469a97e6-2101-41d7-80d0-efc0305185cf"
      },
      "execution_count": null,
      "outputs": [
        {
          "output_type": "execute_result",
          "data": {
            "text/plain": [
              "{'Adventurous',\n",
              " 'Anxiety',\n",
              " 'Betrayal',\n",
              " 'Contemptuous',\n",
              " 'Control',\n",
              " 'Dedication.',\n",
              " 'Enjoyment',\n",
              " 'Loneliness',\n",
              " 'Mysterious',\n",
              " 'Peacefulness',\n",
              " 'Preparation',\n",
              " 'Ruthless',\n",
              " 'Triumphant',\n",
              " 'Vulnerability.',\n",
              " 'Wariness'}"
            ]
          },
          "metadata": {},
          "execution_count": 40
        }
      ]
    },
    {
      "cell_type": "code",
      "source": [
        "'Adventurous' in set(list(df_train['Emotion'].unique()))"
      ],
      "metadata": {
        "colab": {
          "base_uri": "https://localhost:8080/"
        },
        "id": "AZHry-7x7zxg",
        "outputId": "2616146e-b0b3-4a97-fe8b-e24681d8f6eb"
      },
      "execution_count": null,
      "outputs": [
        {
          "output_type": "execute_result",
          "data": {
            "text/plain": [
              "False"
            ]
          },
          "metadata": {},
          "execution_count": 46
        }
      ]
    },
    {
      "cell_type": "code",
      "source": [
        "'Adventurous' in set(list(df_test['Emotion'].unique()))"
      ],
      "metadata": {
        "colab": {
          "base_uri": "https://localhost:8080/"
        },
        "id": "qz3smHsI74ZI",
        "outputId": "f8239b48-af10-4eb3-f9e1-aec024b7108c"
      },
      "execution_count": null,
      "outputs": [
        {
          "output_type": "execute_result",
          "data": {
            "text/plain": [
              "True"
            ]
          },
          "metadata": {},
          "execution_count": 47
        }
      ]
    },
    {
      "cell_type": "code",
      "source": [
        "len(set(list(df_test['Emotion'].unique())) - set(list(df_train['Emotion'].unique())))"
      ],
      "metadata": {
        "colab": {
          "base_uri": "https://localhost:8080/"
        },
        "id": "b17Gdnvi86nC",
        "outputId": "b18cd011-e1cd-416f-af7a-926d721fb855"
      },
      "execution_count": null,
      "outputs": [
        {
          "output_type": "execute_result",
          "data": {
            "text/plain": [
              "15"
            ]
          },
          "metadata": {},
          "execution_count": 50
        }
      ]
    },
    {
      "cell_type": "code",
      "source": [
        "num_names = 0\n",
        "num_emotions = 0\n",
        "for name, _df in by_name:\n",
        "  num_emotions += _df['Emotion'].shape[0]\n",
        "  num_names += 1"
      ],
      "metadata": {
        "id": "6qrPq8og-Bbo"
      },
      "execution_count": null,
      "outputs": []
    },
    {
      "cell_type": "code",
      "source": [
        "print(num_emotions)\n",
        "print(num_names)"
      ],
      "metadata": {
        "colab": {
          "base_uri": "https://localhost:8080/"
        },
        "id": "CIkDWk8aEws1",
        "outputId": "44782c78-c7dd-4369-9208-60b01d990348"
      },
      "execution_count": null,
      "outputs": [
        {
          "output_type": "stream",
          "name": "stdout",
          "text": [
            "1723\n",
            "101\n"
          ]
        }
      ]
    },
    {
      "cell_type": "code",
      "source": [
        "num_emotions/num_names"
      ],
      "metadata": {
        "id": "Llv27GLHE1Or",
        "outputId": "e41eacca-c53f-4571-f0c9-9ab94a5cd6e2",
        "colab": {
          "base_uri": "https://localhost:8080/"
        }
      },
      "execution_count": null,
      "outputs": [
        {
          "output_type": "execute_result",
          "data": {
            "text/plain": [
              "17.059405940594058"
            ]
          },
          "metadata": {},
          "execution_count": 73
        }
      ]
    },
    {
      "cell_type": "markdown",
      "source": [
        "Group Stats"
      ],
      "metadata": {
        "id": "BddHULuqA6q6"
      }
    },
    {
      "cell_type": "code",
      "source": [
        "by_name"
      ],
      "metadata": {
        "colab": {
          "base_uri": "https://localhost:8080/"
        },
        "id": "Rg4ZTHirA8Wg",
        "outputId": "590b4215-df4c-4e89-c2d2-bbda3ccd7faf"
      },
      "execution_count": 26,
      "outputs": [
        {
          "output_type": "execute_result",
          "data": {
            "text/plain": [
              "<pandas.core.groupby.generic.DataFrameGroupBy object at 0x79ad88120a90>"
            ]
          },
          "metadata": {},
          "execution_count": 26
        }
      ]
    },
    {
      "cell_type": "code",
      "source": [
        "total_chars = 0\n",
        "total_queries = 0\n",
        "\n",
        "for name, group in by_name:\n",
        "  group = by_name.get_group(name)\n",
        "  total_chars += 1\n",
        "  total_queries += group[\"Query\"].count()\n",
        "avg = total_queries/total_chars\n",
        "print(avg)"
      ],
      "metadata": {
        "colab": {
          "base_uri": "https://localhost:8080/"
        },
        "id": "mA4sqbOkA-Ml",
        "outputId": "10a66293-4948-4923-c5d2-633e27b7bc91"
      },
      "execution_count": 37,
      "outputs": [
        {
          "output_type": "stream",
          "name": "stdout",
          "text": [
            "17.059405940594058\n"
          ]
        }
      ]
    },
    {
      "cell_type": "code",
      "source": [
        "init = False\n",
        "\n",
        "for name, group in by_name:\n",
        "\n",
        "  group = by_name.get_group(name)\n",
        "  total_chars += 1\n",
        "  query_cnt = group[\"Query\"].count()\n",
        "  total_queries += query_cnt\n",
        "\n",
        "  if not init:\n",
        "    min = (query_cnt, name)\n",
        "    max = (query_cnt, name)\n",
        "    init = True\n",
        "  else:\n",
        "    if query_cnt < min[0]:\n",
        "      min = (query_cnt, name)\n",
        "    if query_cnt > max[0]:\n",
        "      max = (query_cnt, name)\n",
        "\n",
        "print(min)\n",
        "print(max)"
      ],
      "metadata": {
        "colab": {
          "base_uri": "https://localhost:8080/"
        },
        "id": "FucQb89TDe3s",
        "outputId": "68a8044c-c8b7-4efd-d6dd-904252edf0c4"
      },
      "execution_count": 42,
      "outputs": [
        {
          "output_type": "stream",
          "name": "stdout",
          "text": [
            "(1, 'Lara Croft')\n",
            "(23, 'Aria Nightshade')\n"
          ]
        }
      ]
    },
    {
      "cell_type": "code",
      "source": [
        "by_name.get_group('Aria Nightshade')['Query'].count()"
      ],
      "metadata": {
        "colab": {
          "base_uri": "https://localhost:8080/"
        },
        "id": "iGoP_4miJxZD",
        "outputId": "76dd62cb-c532-453b-abe4-67d816a7ee40"
      },
      "execution_count": 75,
      "outputs": [
        {
          "output_type": "execute_result",
          "data": {
            "text/plain": [
              "23"
            ]
          },
          "metadata": {},
          "execution_count": 75
        }
      ]
    },
    {
      "cell_type": "code",
      "source": [
        "init = False\n",
        "less_than_four = 0\n",
        "chars = []\n",
        "\n",
        "for name, group in by_name:\n",
        "\n",
        "  group = by_name.get_group(name)\n",
        "\n",
        "  query_cnt = group[\"Query\"].count()\n",
        "\n",
        "  if query_cnt < 5:\n",
        "    less_than_four += 1\n",
        "    chars.append(name)\n",
        "\n",
        "print(chars)\n",
        "print(less_than_four)"
      ],
      "metadata": {
        "colab": {
          "base_uri": "https://localhost:8080/"
        },
        "id": "70EIu5ZoI4uC",
        "outputId": "a10cc7b6-2c39-4885-e7d1-a90c95388cc2"
      },
      "execution_count": 70,
      "outputs": [
        {
          "output_type": "stream",
          "name": "stdout",
          "text": [
            "['Lara Croft', 'Tony Stark']\n",
            "2\n"
          ]
        }
      ]
    },
    {
      "cell_type": "markdown",
      "source": [
        "Test Dataset"
      ],
      "metadata": {
        "id": "GkWb76CCGOxP"
      }
    },
    {
      "cell_type": "code",
      "source": [
        "df_test['Name'].unique()"
      ],
      "metadata": {
        "colab": {
          "base_uri": "https://localhost:8080/"
        },
        "id": "KaY9ALiDGQZ8",
        "outputId": "9646ba80-f1ef-4fe1-e3e8-6a99dd89f98b"
      },
      "execution_count": 43,
      "outputs": [
        {
          "output_type": "execute_result",
          "data": {
            "text/plain": [
              "array(['Naina Mathur', 'Zephyr', 'Arn, the Knight Templar', 'Arinthal',\n",
              "       'Tiger', 'Lyra Windrider', 'Arinon the Bold', 'Percy Jackson',\n",
              "       'Elsa', 'Casey Bowman', 'Thalia Windrider', 'Aragorn',\n",
              "       'Jack Bauer', 'Arcturus the Bounty Hunter', 'Mike Ross',\n",
              "       'Lady Kaelia', 'Faela', 'Arin', 'Scott McCall',\n",
              "       'Marcella Ravenwood', 'Althea', 'Thalassa', 'James Bond', 'Kaela',\n",
              "       'Vegeta', 'Vincenzo', 'Lyra Moonstone', 'Saitama', 'K2', 'Galahad',\n",
              "       'Wednesday Addams', 'Arinthea the Enchantress', 'Cloud Strife',\n",
              "       'Ben Tennyson', 'Adalyn the Huntress', 'Eryndor the Wise',\n",
              "       'Zara the Brave', 'Hiccup Horrendous Haddock III',\n",
              "       'Garrick Stonefist', 'Lyra Shadowmoon', 'Aiden Stone',\n",
              "       'Lyra Starweaver', 'Fjorn Frostbeard', 'Aria Nightshade',\n",
              "       'Monkey D. Luffy', 'Lyra Dawnstrider', 'Zuko', 'Agent 47',\n",
              "       'Alucard', 'Lady Hela', 'Lucifer Morningstar', 'Drogath',\n",
              "       'Barra the Brave', 'Lelouch Lamperouge', 'Alistair the Enchanter',\n",
              "       'Kiera Ravenwood', 'Light Yagami', 'Thorgar the Mighty',\n",
              "       'Elena Gilbert', 'Neo', 'Eadric Frostweaver', 'Thorgar Ironfist',\n",
              "       'Reaper', 'Ariel', 'Goku', 'Aric Blackwood', 'Indiana Jones',\n",
              "       'Jake Sully', 'Sonic the Hedgehog', 'Valtor the Fire Mage',\n",
              "       'Captain Jack Sparrow', 'Luna the Enchanter', 'Hermione Granger',\n",
              "       'Annabelle', 'Elara Moonwhisper', 'Michael \"Mike\" Harper',\n",
              "       'Kiera the Blade Dancer', 'Thorne', 'Ragnar Ironfist', 'Mario',\n",
              "       'Natsu Dragneel', 'Eira', 'Kaela the Enchantress', 'Sailor Moon'],\n",
              "      dtype=object)"
            ]
          },
          "metadata": {},
          "execution_count": 43
        }
      ]
    },
    {
      "cell_type": "code",
      "source": [
        "len(df_test['Name'].unique())"
      ],
      "metadata": {
        "colab": {
          "base_uri": "https://localhost:8080/"
        },
        "id": "_b3FrVioGz3R",
        "outputId": "11ce5ec4-cd39-425a-a724-15c759f17d58"
      },
      "execution_count": 44,
      "outputs": [
        {
          "output_type": "execute_result",
          "data": {
            "text/plain": [
              "84"
            ]
          },
          "metadata": {},
          "execution_count": 44
        }
      ]
    },
    {
      "cell_type": "code",
      "source": [
        "df_test['Name'].value_counts()"
      ],
      "metadata": {
        "colab": {
          "base_uri": "https://localhost:8080/"
        },
        "id": "-odpFdnJG2g1",
        "outputId": "3859abdb-56f2-4c24-9008-e03294f74b9d"
      },
      "execution_count": 46,
      "outputs": [
        {
          "output_type": "execute_result",
          "data": {
            "text/plain": [
              "Lyra Dawnstrider    5\n",
              "Vegeta              5\n",
              "Arinthal            5\n",
              "Althea              5\n",
              "Naina Mathur        4\n",
              "                   ..\n",
              "Arin                1\n",
              "Scott McCall        1\n",
              "Thalassa            1\n",
              "Kaela               1\n",
              "Sailor Moon         1\n",
              "Name: Name, Length: 84, dtype: int64"
            ]
          },
          "metadata": {},
          "execution_count": 46
        }
      ]
    },
    {
      "cell_type": "code",
      "source": [
        "train_characters = df_train[\"Name\"].to_list()"
      ],
      "metadata": {
        "id": "NMCOikQ5Ha7G"
      },
      "execution_count": 58,
      "outputs": []
    },
    {
      "cell_type": "code",
      "source": [
        "test_characters = df_test[\"Name\"].to_list()"
      ],
      "metadata": {
        "id": "U1TwfPBQHNsv"
      },
      "execution_count": 59,
      "outputs": []
    },
    {
      "cell_type": "code",
      "source": [
        "train_not_in_test = list(set(train_characters) - set(test_characters))"
      ],
      "metadata": {
        "id": "ffA1GwynHedM"
      },
      "execution_count": 60,
      "outputs": []
    },
    {
      "cell_type": "code",
      "source": [
        "len(train_not_in_test)"
      ],
      "metadata": {
        "colab": {
          "base_uri": "https://localhost:8080/"
        },
        "id": "FTkd_fEnIAvo",
        "outputId": "9973dab3-f7b2-4396-8f95-9e68db708137"
      },
      "execution_count": 61,
      "outputs": [
        {
          "output_type": "execute_result",
          "data": {
            "text/plain": [
              "17"
            ]
          },
          "metadata": {},
          "execution_count": 61
        }
      ]
    },
    {
      "cell_type": "code",
      "source": [
        "test_not_in_train = list(set(test_characters) - set(train_characters))"
      ],
      "metadata": {
        "id": "WGYbSucQIIqq"
      },
      "execution_count": 62,
      "outputs": []
    },
    {
      "cell_type": "code",
      "source": [
        "len(test_not_in_train)"
      ],
      "metadata": {
        "colab": {
          "base_uri": "https://localhost:8080/"
        },
        "id": "w3AAs4nsIO-1",
        "outputId": "609757ed-553d-4c79-f6cb-c04ca8083392"
      },
      "execution_count": 63,
      "outputs": [
        {
          "output_type": "execute_result",
          "data": {
            "text/plain": [
              "0"
            ]
          },
          "metadata": {},
          "execution_count": 63
        }
      ]
    },
    {
      "cell_type": "code",
      "source": [],
      "metadata": {
        "id": "3ZXIESjoI1uP"
      },
      "execution_count": null,
      "outputs": []
    }
  ]
}